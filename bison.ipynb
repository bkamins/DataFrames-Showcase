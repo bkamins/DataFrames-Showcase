{
 "cells": [
  {
   "cell_type": "markdown",
   "metadata": {},
   "source": [
    "# Working with DataFrames.jl v1.3.0\n",
    "\n",
    "# Part 2\n",
    "\n",
    "## Bogumił Kamiński"
   ]
  },
  {
   "cell_type": "markdown",
   "metadata": {},
   "source": [
    "In this part of the tutorial we will work with a data set taken from the paper:\n",
    "\n",
    "D. F. Lott, \"[Dominance relations and breeding rate in mature male American bison](https://onlinelibrary.wiley.com/doi/abs/10.1111/j.1439-0310.1979.tb00302.x)\", Zeitschrift Tierpsychologie, 1979, 49: 418-432\n",
    "\n",
    "You can find the description of the interpretation of the data [here](http://moreno.ss.uci.edu/data.html#bison).\n",
    "In short the data set stores information about dominance encounters and breeding behaviors of 26 males in a herd of American bison.\n",
    "\n",
    "The data set *bison.json* that we will work with is bundled with this file in a GitHub gist.\n",
    "\n",
    "Each line in *bison.json* is a JSON entry giving:\n",
    "* bison id `:id`\n",
    "* bison breeding success `:breeding`\n",
    "* a list of pairs giving domination relation between this bison and other bisons in form of pairs: other bison id and domination value\n",
    "\n",
    "Our objective is to read in this data into a `DataFrame` and then analyze if higher domination relation of a correlates with breeding success."
   ]
  },
  {
   "cell_type": "markdown",
   "metadata": {},
   "source": [
    "We start with loading the required packages."
   ]
  },
  {
   "cell_type": "code",
   "execution_count": 1,
   "metadata": {},
   "outputs": [],
   "source": [
    "using DataFrames\n",
    "using JSON3\n",
    "using Statistics"
   ]
  },
  {
   "cell_type": "markdown",
   "metadata": {},
   "source": [
    "and changing the number of columns printed:"
   ]
  },
  {
   "cell_type": "code",
   "execution_count": 2,
   "metadata": {},
   "outputs": [
    {
     "data": {
      "text/plain": [
       "500"
      ]
     },
     "execution_count": 2,
     "metadata": {},
     "output_type": "execute_result"
    }
   ],
   "source": [
    "ENV[\"COLUMNS\"] = 500"
   ]
  },
  {
   "cell_type": "markdown",
   "metadata": {},
   "source": [
    "As usual Before we start let us make sure that you have the right versions of packages installed.\n",
    "\n",
    "The output of the command below should be:\n",
    "```\n",
    "  [6e4b80f9] BenchmarkTools v1.2.0\n",
    "  [336ed68f] CSV v0.9.11\n",
    "  [8be319e6] Chain v0.4.8\n",
    "  [a93c6f00] DataFrames v1.3.0\n",
    "  [7073ff75] IJulia v1.23.2\n",
    "  [0f8b85d8] JSON3 v1.9.2\n",
    "  [91a5bcdd] Plots v1.25.0\n",
    "```"
   ]
  },
  {
   "cell_type": "code",
   "execution_count": 3,
   "metadata": {},
   "outputs": [
    {
     "name": "stdout",
     "output_type": "stream",
     "text": [
      "\u001b[32m\u001b[1m      Status\u001b[22m\u001b[39m `C:\\WORK\\dev\\DataFramesTutorials\\DataFrames-Showcase\\Project.toml`\n",
      " \u001b[90m [6e4b80f9] \u001b[39mBenchmarkTools v1.2.0\n",
      " \u001b[90m [336ed68f] \u001b[39mCSV v0.9.11\n",
      " \u001b[90m [8be319e6] \u001b[39mChain v0.4.8\n",
      " \u001b[90m [a93c6f00] \u001b[39mDataFrames v1.3.0\n",
      " \u001b[90m [7073ff75] \u001b[39mIJulia v1.23.2\n",
      " \u001b[90m [0f8b85d8] \u001b[39mJSON3 v1.9.2\n",
      " \u001b[90m [91a5bcdd] \u001b[39mPlots v1.25.0\n"
     ]
    }
   ],
   "source": [
    "] status"
   ]
  },
  {
   "cell_type": "markdown",
   "metadata": {},
   "source": [
    "Let us peek into the *bison.json* file:"
   ]
  },
  {
   "cell_type": "code",
   "execution_count": 4,
   "metadata": {},
   "outputs": [
    {
     "data": {
      "text/plain": [
       "26-element Vector{String}:\n",
       " \"{\\\"id\\\":\\\"1\\\", \\\"3\\\":8, \\\"4\\\":5, \\\"2\\\":2, \\\"6\\\":6, \\\"8\\\":11, \\\"9\\\":3, \\\"5\\\":21, \\\"10\\\":5, \\\"7\\\":7, \\\"12\\\":1, \\\"17\\\":3, \\\"18\\\":5, \\\"13\\\":2, \\\"14\\\":3, \\\"21\\\":4, \\\"19\\\":2, \\\"15\\\":1, \\\"20\\\":7, \\\"breeding\\\":4}\"\n",
       " \"{\\\"id\\\":\\\"3\\\", \\\"4\\\":4, \\\"6\\\":4, \\\"8\\\":4, \\\"9\\\":8, \\\"5\\\":12, \\\"10\\\":12, \\\"7\\\":3, \\\"12\\\":2, \\\"17\\\":2, \\\"18\\\":7, \\\"13\\\":5, \\\"14\\\":1, \\\"21\\\":3, \\\"19\\\":4, \\\"20\\\":5, \\\"16\\\":1, \\\"breeding\\\":2}\"\n",
       " \"{\\\"id\\\":\\\"4\\\", \\\"1\\\":1, \\\"3\\\":1, \\\"2\\\":3, \\\"6\\\":1, \\\"8\\\":4, \\\"9\\\":4, \\\"5\\\":8, \\\"10\\\":10, \\\"7\\\":1, \\\"17\\\":1, \\\"18\\\":4, \\\"13\\\":6, \\\"21\\\":2, \\\"19\\\":2, \\\"15\\\":3, \\\"11\\\":1, \\\"20\\\":4, \\\"22\\\":3, \\\"breeding\\\":3}\"\n",
       " \"{\\\"id\\\":\\\"26\\\", \\\"2\\\":7, \\\"25\\\":1, \\\"23\\\":2, \\\"10\\\":3, \\\"21\\\":1, \\\"19\\\":1, \\\"breeding\\\":1}\"\n",
       " \"{\\\"id\\\":\\\"2\\\", \\\"1\\\":1, \\\"3\\\":2, \\\"4\\\":3, \\\"26\\\":1, \\\"6\\\":1, \\\"8\\\":3, \\\"5\\\":3, \\\"10\\\":3, \\\"7\\\":2, \\\"12\\\":2, \\\"17\\\":1, \\\"18\\\":3, \\\"13\\\":2, \\\"14\\\":4, \\\"21\\\":1, \\\"19\\\":1, \\\"15\\\":1, \\\"20\\\":2, \\\"breeding\\\":1}\"\n",
       " \"{\\\"id\\\":\\\"25\\\", \\\"1\\\":2, \\\"24\\\":8, \\\"9\\\":12, \\\"23\\\":1, \\\"10\\\":7, \\\"14\\\":8, \\\"21\\\":3, \\\"19\\\":3, \\\"15\\\":2, \\\"breeding\\\":3}\"\n",
       " \"{\\\"id\\\":\\\"6\\\", \\\"1\\\":1, \\\"8\\\":5, \\\"9\\\":2, \\\"5\\\":6, \\\"10\\\":5, \\\"7\\\":1, \\\"12\\\":2, \\\"17\\\":1, \\\"18\\\":1, \\\"13\\\":3, \\\"14\\\":1, \\\"19\\\":1, \\\"15\\\":1, \\\"20\\\":4, \\\"breeding\\\":4}\"\n",
       " \"{\\\"id\\\":\\\"8\\\", \\\"1\\\":2, \\\"4\\\":1, \\\"2\\\":1, \\\"24\\\":5, \\\"9\\\":11, \\\"5\\\":3, \\\"23\\\":6, \\\"10\\\":6, \\\"17\\\":4, \\\"18\\\":2, \\\"13\\\":2, \\\"14\\\":1, \\\"19\\\":6, \\\"11\\\":1, \\\"20\\\":7, \\\"16\\\":1, \\\"22\\\":1, \\\"breeding\\\":1}\"\n",
       " \"{\\\"id\\\":\\\"24\\\", \\\"4\\\":1, \\\"8\\\":2, \\\"9\\\":2, \\\"23\\\":1, \\\"10\\\":2, \\\"17\\\":1, \\\"13\\\":1, \\\"14\\\":3, \\\"21\\\":3, \\\"19\\\":2, \\\"15\\\":2, \\\"20\\\":1, \\\"breeding\\\":4}\"\n",
       " \"{\\\"id\\\":\\\"9\\\", \\\"1\\\":4, \\\"4\\\":1, \\\"25\\\":1, \\\"6\\\":2, \\\"8\\\":3, \\\"24\\\":1, \\\"23\\\":2, \\\"10\\\":9, \\\"7\\\":1, \\\"17\\\":4, \\\"14\\\":2, \\\"21\\\":4, \\\"19\\\":4, \\\"15\\\":3, \\\"20\\\":3, \\\"16\\\":2, \\\"breeding\\\":1}\"\n",
       " \"{\\\"id\\\":\\\"5\\\", \\\"1\\\":1, \\\"3\\\":2, \\\"2\\\":1, \\\"6\\\":6, \\\"8\\\":4, \\\"10\\\":17, \\\"7\\\":3, \\\"17\\\":6, \\\"18\\\":5, \\\"13\\\":8, \\\"21\\\":2, \\\"19\\\":5, \\\"15\\\":2, \\\"11\\\":1, \\\"20\\\":4, \\\"22\\\":1, \\\"breeding\\\":3}\"\n",
       " \"{\\\"id\\\":\\\"23\\\", \\\"1\\\":2, \\\"2\\\":1, \\\"25\\\":3, \\\"8\\\":1, \\\"9\\\":2, \\\"10\\\":1, \\\"17\\\":1, \\\"13\\\":5, \\\"14\\\":3, \\\"21\\\":3, \\\"19\\\":1, \\\"20\\\":1, \\\"breeding\\\":3}\"\n",
       " \"{\\\"id\\\":\\\"10\\\", \\\"1\\\":1, \\\"3\\\":1, \\\"6\\\":1, \\\"8\\\":2, \\\"24\\\":1, \\\"9\\\":2, \\\"5\\\":1, \\\"7\\\":6, \\\"17\\\":3, \\\"18\\\":4, \\\"13\\\":4, \\\"14\\\":7, \\\"21\\\":6, \\\"19\\\":4, \\\"15\\\":5, \\\"20\\\":7, \\\"16\\\":2, \\\"breeding\\\":0}\"\n",
       " \"{\\\"id\\\":\\\"7\\\", \\\"1\\\":3, \\\"3\\\":2, \\\"8\\\":1, \\\"5\\\":2, \\\"12\\\":3, \\\"17\\\":1, \\\"18\\\":2, \\\"13\\\":2, \\\"14\\\":3, \\\"21\\\":1, \\\"19\\\":1, \\\"15\\\":1, \\\"20\\\":4, \\\"16\\\":1, \\\"22\\\":1, \\\"breeding\\\":1}\"\n",
       " \"{\\\"id\\\":\\\"12\\\", \\\"4\\\":1, \\\"6\\\":2, \\\"10\\\":3, \\\"18\\\":1, \\\"13\\\":2, \\\"21\\\":2, \\\"20\\\":4, \\\"breeding\\\":2}\"\n",
       " \"{\\\"id\\\":\\\"17\\\", \\\"1\\\":1, \\\"8\\\":2, \\\"9\\\":2, \\\"5\\\":2, \\\"10\\\":1, \\\"7\\\":1, \\\"18\\\":8, \\\"13\\\":2, \\\"14\\\":2, \\\"21\\\":2, \\\"19\\\":3, \\\"20\\\":1, \\\"breeding\\\":0}\"\n",
       " \"{\\\"id\\\":\\\"18\\\", \\\"1\\\":1, \\\"4\\\":1, \\\"6\\\":1, \\\"8\\\":5, \\\"9\\\":6, \\\"5\\\":3, \\\"10\\\":1, \\\"7\\\":1, \\\"17\\\":1, \\\"13\\\":1, \\\"14\\\":1, \\\"21\\\":1, \\\"19\\\":1, \\\"15\\\":1, \\\"20\\\":1, \\\"breeding\\\":0}\"\n",
       " \"{\\\"id\\\":\\\"13\\\", \\\"1\\\":1, \\\"6\\\":2, \\\"9\\\":1, \\\"5\\\":2, \\\"10\\\":2, \\\"7\\\":1, \\\"12\\\":2, \\\"17\\\":1, \\\"18\\\":1, \\\"14\\\":3, \\\"21\\\":1, \\\"19\\\":3, \\\"15\\\":1, \\\"11\\\":1, \\\"20\\\":12, \\\"16\\\":1, \\\"22\\\":1, \\\"breeding\\\":1}\"\n",
       " \"{\\\"id\\\":\\\"14\\\", \\\"1\\\":1, \\\"4\\\":1, \\\"23\\\":2, \\\"10\\\":1, \\\"12\\\":1, \\\"17\\\":4, \\\"21\\\":7, \\\"19\\\":3, \\\"16\\\":1, \\\"breeding\\\":0}\"\n",
       " \"{\\\"id\\\":\\\"21\\\", \\\"25\\\":7, \\\"24\\\":1, \\\"10\\\":2, \\\"7\\\":1, \\\"14\\\":1, \\\"19\\\":5, \\\"15\\\":2, \\\"11\\\":1, \\\"16\\\":1, \\\"breeding\\\":1}\"\n",
       " \"{\\\"id\\\":\\\"19\\\", \\\"4\\\":2, \\\"9\\\":2, \\\"5\\\":1, \\\"10\\\":1, \\\"7\\\":4, \\\"17\\\":1, \\\"13\\\":1, \\\"14\\\":1, \\\"21\\\":3, \\\"15\\\":5, \\\"11\\\":1, \\\"20\\\":3, \\\"breeding\\\":2}\"\n",
       " \"{\\\"id\\\":\\\"15\\\", \\\"10\\\":1, \\\"18\\\":1, \\\"13\\\":1, \\\"21\\\":2, \\\"20\\\":9, \\\"16\\\":2, \\\"breeding\\\":1}\"\n",
       " \"{\\\"id\\\":\\\"11\\\", \\\"3\\\":2, \\\"2\\\":1, \\\"5\\\":1, \\\"13\\\":4, \\\"16\\\":1, \\\"22\\\":9, \\\"breeding\\\":0}\"\n",
       " \"{\\\"id\\\":\\\"20\\\", \\\"6\\\":1, \\\"5\\\":1, \\\"7\\\":2, \\\"12\\\":3, \\\"17\\\":3, \\\"13\\\":1, \\\"14\\\":2, \\\"21\\\":2, \\\"19\\\":1, \\\"15\\\":1, \\\"breeding\\\":1}\"\n",
       " \"{\\\"id\\\":\\\"16\\\", \\\"3\\\":1, \\\"6\\\":2, \\\"8\\\":1, \\\"5\\\":1, \\\"10\\\":1, \\\"18\\\":1, \\\"breeding\\\":0}\"\n",
       " \"{\\\"id\\\":\\\"22\\\", \\\"10\\\":1, \\\"breeding\\\":0}\""
      ]
     },
     "execution_count": 4,
     "metadata": {},
     "output_type": "execute_result"
    }
   ],
   "source": [
    "readlines(\"bison.json\")"
   ]
  },
  {
   "cell_type": "markdown",
   "metadata": {},
   "source": [
    "Indeed we see that we have 26 lines in the file. We immediately notice that bison id is numeric, which might be a challenge if we want to use it as a column name (fortunately for DataFrames.jl v0.21 it is not a problem)."
   ]
  },
  {
   "cell_type": "markdown",
   "metadata": {},
   "source": [
    "First we populate the data frame with the data stored in the file:"
   ]
  },
  {
   "cell_type": "code",
   "execution_count": 5,
   "metadata": {},
   "outputs": [
    {
     "data": {
      "text/html": [
       "<div class=\"data-frame\"><p>0 rows × 0 columns</p><table class=\"data-frame\"><thead><tr><th></th></tr><tr><th></th></tr></thead><tbody></tbody></table></div>"
      ],
      "text/latex": [
       "\\begin{tabular}{r|}\n",
       "\t& \\\\\n",
       "\t\\hline\n",
       "\t& \\\\\n",
       "\t\\hline\n",
       "\\end{tabular}\n"
      ],
      "text/plain": [
       "\u001b[1m0×0 DataFrame\u001b[0m"
      ]
     },
     "execution_count": 5,
     "metadata": {},
     "output_type": "execute_result"
    }
   ],
   "source": [
    "df = DataFrame()"
   ]
  },
  {
   "cell_type": "code",
   "execution_count": 6,
   "metadata": {},
   "outputs": [],
   "source": [
    "foreach(JSON3.read.(readlines(\"bison.json\"))) do row\n",
    "    push!(df, row, cols=:union)\n",
    "end"
   ]
  },
  {
   "cell_type": "code",
   "execution_count": 7,
   "metadata": {},
   "outputs": [
    {
     "data": {
      "text/html": [
       "<div class=\"data-frame\"><p>26 rows × 28 columns</p><table class=\"data-frame\"><thead><tr><th></th><th>breeding</th><th>17</th><th>20</th><th>8</th><th>7</th><th>2</th><th>12</th><th>18</th><th>13</th><th>21</th><th>9</th><th>6</th><th>14</th><th>19</th><th>id</th><th>10</th><th>4</th><th>3</th><th>5</th><th>15</th><th>16</th><th>1</th><th>22</th><th>11</th><th>25</th><th>23</th><th>26</th><th>24</th></tr><tr><th></th><th title=\"Int64\">Int64</th><th title=\"Union{Missing, Int64}\">Int64?</th><th title=\"Union{Missing, Int64}\">Int64?</th><th title=\"Union{Missing, Int64}\">Int64?</th><th title=\"Union{Missing, Int64}\">Int64?</th><th title=\"Union{Missing, Int64}\">Int64?</th><th title=\"Union{Missing, Int64}\">Int64?</th><th title=\"Union{Missing, Int64}\">Int64?</th><th title=\"Union{Missing, Int64}\">Int64?</th><th title=\"Union{Missing, Int64}\">Int64?</th><th title=\"Union{Missing, Int64}\">Int64?</th><th title=\"Union{Missing, Int64}\">Int64?</th><th title=\"Union{Missing, Int64}\">Int64?</th><th title=\"Union{Missing, Int64}\">Int64?</th><th title=\"String\">String</th><th title=\"Union{Missing, Int64}\">Int64?</th><th title=\"Union{Missing, Int64}\">Int64?</th><th title=\"Union{Missing, Int64}\">Int64?</th><th title=\"Union{Missing, Int64}\">Int64?</th><th title=\"Union{Missing, Int64}\">Int64?</th><th title=\"Union{Missing, Int64}\">Int64?</th><th title=\"Union{Missing, Int64}\">Int64?</th><th title=\"Union{Missing, Int64}\">Int64?</th><th title=\"Union{Missing, Int64}\">Int64?</th><th title=\"Union{Missing, Int64}\">Int64?</th><th title=\"Union{Missing, Int64}\">Int64?</th><th title=\"Union{Missing, Int64}\">Int64?</th><th title=\"Union{Missing, Int64}\">Int64?</th></tr></thead><tbody><tr><th>1</th><td>4</td><td>3</td><td>7</td><td>11</td><td>7</td><td>2</td><td>1</td><td>5</td><td>2</td><td>4</td><td>3</td><td>6</td><td>3</td><td>2</td><td>1</td><td>5</td><td>5</td><td>8</td><td>21</td><td>1</td><td><em>missing</em></td><td><em>missing</em></td><td><em>missing</em></td><td><em>missing</em></td><td><em>missing</em></td><td><em>missing</em></td><td><em>missing</em></td><td><em>missing</em></td></tr><tr><th>2</th><td>2</td><td>2</td><td>5</td><td>4</td><td>3</td><td><em>missing</em></td><td>2</td><td>7</td><td>5</td><td>3</td><td>8</td><td>4</td><td>1</td><td>4</td><td>3</td><td>12</td><td>4</td><td><em>missing</em></td><td>12</td><td><em>missing</em></td><td>1</td><td><em>missing</em></td><td><em>missing</em></td><td><em>missing</em></td><td><em>missing</em></td><td><em>missing</em></td><td><em>missing</em></td><td><em>missing</em></td></tr><tr><th>3</th><td>3</td><td>1</td><td>4</td><td>4</td><td>1</td><td>3</td><td><em>missing</em></td><td>4</td><td>6</td><td>2</td><td>4</td><td>1</td><td><em>missing</em></td><td>2</td><td>4</td><td>10</td><td><em>missing</em></td><td>1</td><td>8</td><td>3</td><td><em>missing</em></td><td>1</td><td>3</td><td>1</td><td><em>missing</em></td><td><em>missing</em></td><td><em>missing</em></td><td><em>missing</em></td></tr><tr><th>4</th><td>1</td><td><em>missing</em></td><td><em>missing</em></td><td><em>missing</em></td><td><em>missing</em></td><td>7</td><td><em>missing</em></td><td><em>missing</em></td><td><em>missing</em></td><td>1</td><td><em>missing</em></td><td><em>missing</em></td><td><em>missing</em></td><td>1</td><td>26</td><td>3</td><td><em>missing</em></td><td><em>missing</em></td><td><em>missing</em></td><td><em>missing</em></td><td><em>missing</em></td><td><em>missing</em></td><td><em>missing</em></td><td><em>missing</em></td><td>1</td><td>2</td><td><em>missing</em></td><td><em>missing</em></td></tr><tr><th>5</th><td>1</td><td>1</td><td>2</td><td>3</td><td>2</td><td><em>missing</em></td><td>2</td><td>3</td><td>2</td><td>1</td><td><em>missing</em></td><td>1</td><td>4</td><td>1</td><td>2</td><td>3</td><td>3</td><td>2</td><td>3</td><td>1</td><td><em>missing</em></td><td>1</td><td><em>missing</em></td><td><em>missing</em></td><td><em>missing</em></td><td><em>missing</em></td><td>1</td><td><em>missing</em></td></tr><tr><th>6</th><td>3</td><td><em>missing</em></td><td><em>missing</em></td><td><em>missing</em></td><td><em>missing</em></td><td><em>missing</em></td><td><em>missing</em></td><td><em>missing</em></td><td><em>missing</em></td><td>3</td><td>12</td><td><em>missing</em></td><td>8</td><td>3</td><td>25</td><td>7</td><td><em>missing</em></td><td><em>missing</em></td><td><em>missing</em></td><td>2</td><td><em>missing</em></td><td>2</td><td><em>missing</em></td><td><em>missing</em></td><td><em>missing</em></td><td>1</td><td><em>missing</em></td><td>8</td></tr><tr><th>7</th><td>4</td><td>1</td><td>4</td><td>5</td><td>1</td><td><em>missing</em></td><td>2</td><td>1</td><td>3</td><td><em>missing</em></td><td>2</td><td><em>missing</em></td><td>1</td><td>1</td><td>6</td><td>5</td><td><em>missing</em></td><td><em>missing</em></td><td>6</td><td>1</td><td><em>missing</em></td><td>1</td><td><em>missing</em></td><td><em>missing</em></td><td><em>missing</em></td><td><em>missing</em></td><td><em>missing</em></td><td><em>missing</em></td></tr><tr><th>8</th><td>1</td><td>4</td><td>7</td><td><em>missing</em></td><td><em>missing</em></td><td>1</td><td><em>missing</em></td><td>2</td><td>2</td><td><em>missing</em></td><td>11</td><td><em>missing</em></td><td>1</td><td>6</td><td>8</td><td>6</td><td>1</td><td><em>missing</em></td><td>3</td><td><em>missing</em></td><td>1</td><td>2</td><td>1</td><td>1</td><td><em>missing</em></td><td>6</td><td><em>missing</em></td><td>5</td></tr><tr><th>9</th><td>4</td><td>1</td><td>1</td><td>2</td><td><em>missing</em></td><td><em>missing</em></td><td><em>missing</em></td><td><em>missing</em></td><td>1</td><td>3</td><td>2</td><td><em>missing</em></td><td>3</td><td>2</td><td>24</td><td>2</td><td>1</td><td><em>missing</em></td><td><em>missing</em></td><td>2</td><td><em>missing</em></td><td><em>missing</em></td><td><em>missing</em></td><td><em>missing</em></td><td><em>missing</em></td><td>1</td><td><em>missing</em></td><td><em>missing</em></td></tr><tr><th>10</th><td>1</td><td>4</td><td>3</td><td>3</td><td>1</td><td><em>missing</em></td><td><em>missing</em></td><td><em>missing</em></td><td><em>missing</em></td><td>4</td><td><em>missing</em></td><td>2</td><td>2</td><td>4</td><td>9</td><td>9</td><td>1</td><td><em>missing</em></td><td><em>missing</em></td><td>3</td><td>2</td><td>4</td><td><em>missing</em></td><td><em>missing</em></td><td>1</td><td>2</td><td><em>missing</em></td><td>1</td></tr><tr><th>11</th><td>3</td><td>6</td><td>4</td><td>4</td><td>3</td><td>1</td><td><em>missing</em></td><td>5</td><td>8</td><td>2</td><td><em>missing</em></td><td>6</td><td><em>missing</em></td><td>5</td><td>5</td><td>17</td><td><em>missing</em></td><td>2</td><td><em>missing</em></td><td>2</td><td><em>missing</em></td><td>1</td><td>1</td><td>1</td><td><em>missing</em></td><td><em>missing</em></td><td><em>missing</em></td><td><em>missing</em></td></tr><tr><th>12</th><td>3</td><td>1</td><td>1</td><td>1</td><td><em>missing</em></td><td>1</td><td><em>missing</em></td><td><em>missing</em></td><td>5</td><td>3</td><td>2</td><td><em>missing</em></td><td>3</td><td>1</td><td>23</td><td>1</td><td><em>missing</em></td><td><em>missing</em></td><td><em>missing</em></td><td><em>missing</em></td><td><em>missing</em></td><td>2</td><td><em>missing</em></td><td><em>missing</em></td><td>3</td><td><em>missing</em></td><td><em>missing</em></td><td><em>missing</em></td></tr><tr><th>13</th><td>0</td><td>3</td><td>7</td><td>2</td><td>6</td><td><em>missing</em></td><td><em>missing</em></td><td>4</td><td>4</td><td>6</td><td>2</td><td>1</td><td>7</td><td>4</td><td>10</td><td><em>missing</em></td><td><em>missing</em></td><td>1</td><td>1</td><td>5</td><td>2</td><td>1</td><td><em>missing</em></td><td><em>missing</em></td><td><em>missing</em></td><td><em>missing</em></td><td><em>missing</em></td><td>1</td></tr><tr><th>14</th><td>1</td><td>1</td><td>4</td><td>1</td><td><em>missing</em></td><td><em>missing</em></td><td>3</td><td>2</td><td>2</td><td>1</td><td><em>missing</em></td><td><em>missing</em></td><td>3</td><td>1</td><td>7</td><td><em>missing</em></td><td><em>missing</em></td><td>2</td><td>2</td><td>1</td><td>1</td><td>3</td><td>1</td><td><em>missing</em></td><td><em>missing</em></td><td><em>missing</em></td><td><em>missing</em></td><td><em>missing</em></td></tr><tr><th>15</th><td>2</td><td><em>missing</em></td><td>4</td><td><em>missing</em></td><td><em>missing</em></td><td><em>missing</em></td><td><em>missing</em></td><td>1</td><td>2</td><td>2</td><td><em>missing</em></td><td>2</td><td><em>missing</em></td><td><em>missing</em></td><td>12</td><td>3</td><td>1</td><td><em>missing</em></td><td><em>missing</em></td><td><em>missing</em></td><td><em>missing</em></td><td><em>missing</em></td><td><em>missing</em></td><td><em>missing</em></td><td><em>missing</em></td><td><em>missing</em></td><td><em>missing</em></td><td><em>missing</em></td></tr><tr><th>16</th><td>0</td><td><em>missing</em></td><td>1</td><td>2</td><td>1</td><td><em>missing</em></td><td><em>missing</em></td><td>8</td><td>2</td><td>2</td><td>2</td><td><em>missing</em></td><td>2</td><td>3</td><td>17</td><td>1</td><td><em>missing</em></td><td><em>missing</em></td><td>2</td><td><em>missing</em></td><td><em>missing</em></td><td>1</td><td><em>missing</em></td><td><em>missing</em></td><td><em>missing</em></td><td><em>missing</em></td><td><em>missing</em></td><td><em>missing</em></td></tr><tr><th>17</th><td>0</td><td>1</td><td>1</td><td>5</td><td>1</td><td><em>missing</em></td><td><em>missing</em></td><td><em>missing</em></td><td>1</td><td>1</td><td>6</td><td>1</td><td>1</td><td>1</td><td>18</td><td>1</td><td>1</td><td><em>missing</em></td><td>3</td><td>1</td><td><em>missing</em></td><td>1</td><td><em>missing</em></td><td><em>missing</em></td><td><em>missing</em></td><td><em>missing</em></td><td><em>missing</em></td><td><em>missing</em></td></tr><tr><th>18</th><td>1</td><td>1</td><td>12</td><td><em>missing</em></td><td>1</td><td><em>missing</em></td><td>2</td><td>1</td><td><em>missing</em></td><td>1</td><td>1</td><td>2</td><td>3</td><td>3</td><td>13</td><td>2</td><td><em>missing</em></td><td><em>missing</em></td><td>2</td><td>1</td><td>1</td><td>1</td><td>1</td><td>1</td><td><em>missing</em></td><td><em>missing</em></td><td><em>missing</em></td><td><em>missing</em></td></tr><tr><th>19</th><td>0</td><td>4</td><td><em>missing</em></td><td><em>missing</em></td><td><em>missing</em></td><td><em>missing</em></td><td>1</td><td><em>missing</em></td><td><em>missing</em></td><td>7</td><td><em>missing</em></td><td><em>missing</em></td><td><em>missing</em></td><td>3</td><td>14</td><td>1</td><td>1</td><td><em>missing</em></td><td><em>missing</em></td><td><em>missing</em></td><td>1</td><td>1</td><td><em>missing</em></td><td><em>missing</em></td><td><em>missing</em></td><td>2</td><td><em>missing</em></td><td><em>missing</em></td></tr><tr><th>20</th><td>1</td><td><em>missing</em></td><td><em>missing</em></td><td><em>missing</em></td><td>1</td><td><em>missing</em></td><td><em>missing</em></td><td><em>missing</em></td><td><em>missing</em></td><td><em>missing</em></td><td><em>missing</em></td><td><em>missing</em></td><td>1</td><td>5</td><td>21</td><td>2</td><td><em>missing</em></td><td><em>missing</em></td><td><em>missing</em></td><td>2</td><td>1</td><td><em>missing</em></td><td><em>missing</em></td><td>1</td><td>7</td><td><em>missing</em></td><td><em>missing</em></td><td>1</td></tr><tr><th>21</th><td>2</td><td>1</td><td>3</td><td><em>missing</em></td><td>4</td><td><em>missing</em></td><td><em>missing</em></td><td><em>missing</em></td><td>1</td><td>3</td><td>2</td><td><em>missing</em></td><td>1</td><td><em>missing</em></td><td>19</td><td>1</td><td>2</td><td><em>missing</em></td><td>1</td><td>5</td><td><em>missing</em></td><td><em>missing</em></td><td><em>missing</em></td><td>1</td><td><em>missing</em></td><td><em>missing</em></td><td><em>missing</em></td><td><em>missing</em></td></tr><tr><th>22</th><td>1</td><td><em>missing</em></td><td>9</td><td><em>missing</em></td><td><em>missing</em></td><td><em>missing</em></td><td><em>missing</em></td><td>1</td><td>1</td><td>2</td><td><em>missing</em></td><td><em>missing</em></td><td><em>missing</em></td><td><em>missing</em></td><td>15</td><td>1</td><td><em>missing</em></td><td><em>missing</em></td><td><em>missing</em></td><td><em>missing</em></td><td>2</td><td><em>missing</em></td><td><em>missing</em></td><td><em>missing</em></td><td><em>missing</em></td><td><em>missing</em></td><td><em>missing</em></td><td><em>missing</em></td></tr><tr><th>23</th><td>0</td><td><em>missing</em></td><td><em>missing</em></td><td><em>missing</em></td><td><em>missing</em></td><td>1</td><td><em>missing</em></td><td><em>missing</em></td><td>4</td><td><em>missing</em></td><td><em>missing</em></td><td><em>missing</em></td><td><em>missing</em></td><td><em>missing</em></td><td>11</td><td><em>missing</em></td><td><em>missing</em></td><td>2</td><td>1</td><td><em>missing</em></td><td>1</td><td><em>missing</em></td><td>9</td><td><em>missing</em></td><td><em>missing</em></td><td><em>missing</em></td><td><em>missing</em></td><td><em>missing</em></td></tr><tr><th>24</th><td>1</td><td>3</td><td><em>missing</em></td><td><em>missing</em></td><td>2</td><td><em>missing</em></td><td>3</td><td><em>missing</em></td><td>1</td><td>2</td><td><em>missing</em></td><td>1</td><td>2</td><td>1</td><td>20</td><td><em>missing</em></td><td><em>missing</em></td><td><em>missing</em></td><td>1</td><td>1</td><td><em>missing</em></td><td><em>missing</em></td><td><em>missing</em></td><td><em>missing</em></td><td><em>missing</em></td><td><em>missing</em></td><td><em>missing</em></td><td><em>missing</em></td></tr><tr><th>25</th><td>0</td><td><em>missing</em></td><td><em>missing</em></td><td>1</td><td><em>missing</em></td><td><em>missing</em></td><td><em>missing</em></td><td>1</td><td><em>missing</em></td><td><em>missing</em></td><td><em>missing</em></td><td>2</td><td><em>missing</em></td><td><em>missing</em></td><td>16</td><td>1</td><td><em>missing</em></td><td>1</td><td>1</td><td><em>missing</em></td><td><em>missing</em></td><td><em>missing</em></td><td><em>missing</em></td><td><em>missing</em></td><td><em>missing</em></td><td><em>missing</em></td><td><em>missing</em></td><td><em>missing</em></td></tr><tr><th>26</th><td>0</td><td><em>missing</em></td><td><em>missing</em></td><td><em>missing</em></td><td><em>missing</em></td><td><em>missing</em></td><td><em>missing</em></td><td><em>missing</em></td><td><em>missing</em></td><td><em>missing</em></td><td><em>missing</em></td><td><em>missing</em></td><td><em>missing</em></td><td><em>missing</em></td><td>22</td><td>1</td><td><em>missing</em></td><td><em>missing</em></td><td><em>missing</em></td><td><em>missing</em></td><td><em>missing</em></td><td><em>missing</em></td><td><em>missing</em></td><td><em>missing</em></td><td><em>missing</em></td><td><em>missing</em></td><td><em>missing</em></td><td><em>missing</em></td></tr></tbody></table></div>"
      ],
      "text/latex": [
       "\\begin{tabular}{r|cccccccccccccccccccccccccccc}\n",
       "\t& breeding & 17 & 20 & 8 & 7 & 2 & 12 & 18 & 13 & 21 & 9 & 6 & 14 & 19 & id & 10 & 4 & 3 & 5 & 15 & 16 & 1 & 22 & 11 & 25 & 23 & 26 & 24\\\\\n",
       "\t\\hline\n",
       "\t& Int64 & Int64? & Int64? & Int64? & Int64? & Int64? & Int64? & Int64? & Int64? & Int64? & Int64? & Int64? & Int64? & Int64? & String & Int64? & Int64? & Int64? & Int64? & Int64? & Int64? & Int64? & Int64? & Int64? & Int64? & Int64? & Int64? & Int64?\\\\\n",
       "\t\\hline\n",
       "\t1 & 4 & 3 & 7 & 11 & 7 & 2 & 1 & 5 & 2 & 4 & 3 & 6 & 3 & 2 & 1 & 5 & 5 & 8 & 21 & 1 & \\emph{missing} & \\emph{missing} & \\emph{missing} & \\emph{missing} & \\emph{missing} & \\emph{missing} & \\emph{missing} & \\emph{missing} \\\\\n",
       "\t2 & 2 & 2 & 5 & 4 & 3 & \\emph{missing} & 2 & 7 & 5 & 3 & 8 & 4 & 1 & 4 & 3 & 12 & 4 & \\emph{missing} & 12 & \\emph{missing} & 1 & \\emph{missing} & \\emph{missing} & \\emph{missing} & \\emph{missing} & \\emph{missing} & \\emph{missing} & \\emph{missing} \\\\\n",
       "\t3 & 3 & 1 & 4 & 4 & 1 & 3 & \\emph{missing} & 4 & 6 & 2 & 4 & 1 & \\emph{missing} & 2 & 4 & 10 & \\emph{missing} & 1 & 8 & 3 & \\emph{missing} & 1 & 3 & 1 & \\emph{missing} & \\emph{missing} & \\emph{missing} & \\emph{missing} \\\\\n",
       "\t4 & 1 & \\emph{missing} & \\emph{missing} & \\emph{missing} & \\emph{missing} & 7 & \\emph{missing} & \\emph{missing} & \\emph{missing} & 1 & \\emph{missing} & \\emph{missing} & \\emph{missing} & 1 & 26 & 3 & \\emph{missing} & \\emph{missing} & \\emph{missing} & \\emph{missing} & \\emph{missing} & \\emph{missing} & \\emph{missing} & \\emph{missing} & 1 & 2 & \\emph{missing} & \\emph{missing} \\\\\n",
       "\t5 & 1 & 1 & 2 & 3 & 2 & \\emph{missing} & 2 & 3 & 2 & 1 & \\emph{missing} & 1 & 4 & 1 & 2 & 3 & 3 & 2 & 3 & 1 & \\emph{missing} & 1 & \\emph{missing} & \\emph{missing} & \\emph{missing} & \\emph{missing} & 1 & \\emph{missing} \\\\\n",
       "\t6 & 3 & \\emph{missing} & \\emph{missing} & \\emph{missing} & \\emph{missing} & \\emph{missing} & \\emph{missing} & \\emph{missing} & \\emph{missing} & 3 & 12 & \\emph{missing} & 8 & 3 & 25 & 7 & \\emph{missing} & \\emph{missing} & \\emph{missing} & 2 & \\emph{missing} & 2 & \\emph{missing} & \\emph{missing} & \\emph{missing} & 1 & \\emph{missing} & 8 \\\\\n",
       "\t7 & 4 & 1 & 4 & 5 & 1 & \\emph{missing} & 2 & 1 & 3 & \\emph{missing} & 2 & \\emph{missing} & 1 & 1 & 6 & 5 & \\emph{missing} & \\emph{missing} & 6 & 1 & \\emph{missing} & 1 & \\emph{missing} & \\emph{missing} & \\emph{missing} & \\emph{missing} & \\emph{missing} & \\emph{missing} \\\\\n",
       "\t8 & 1 & 4 & 7 & \\emph{missing} & \\emph{missing} & 1 & \\emph{missing} & 2 & 2 & \\emph{missing} & 11 & \\emph{missing} & 1 & 6 & 8 & 6 & 1 & \\emph{missing} & 3 & \\emph{missing} & 1 & 2 & 1 & 1 & \\emph{missing} & 6 & \\emph{missing} & 5 \\\\\n",
       "\t9 & 4 & 1 & 1 & 2 & \\emph{missing} & \\emph{missing} & \\emph{missing} & \\emph{missing} & 1 & 3 & 2 & \\emph{missing} & 3 & 2 & 24 & 2 & 1 & \\emph{missing} & \\emph{missing} & 2 & \\emph{missing} & \\emph{missing} & \\emph{missing} & \\emph{missing} & \\emph{missing} & 1 & \\emph{missing} & \\emph{missing} \\\\\n",
       "\t10 & 1 & 4 & 3 & 3 & 1 & \\emph{missing} & \\emph{missing} & \\emph{missing} & \\emph{missing} & 4 & \\emph{missing} & 2 & 2 & 4 & 9 & 9 & 1 & \\emph{missing} & \\emph{missing} & 3 & 2 & 4 & \\emph{missing} & \\emph{missing} & 1 & 2 & \\emph{missing} & 1 \\\\\n",
       "\t11 & 3 & 6 & 4 & 4 & 3 & 1 & \\emph{missing} & 5 & 8 & 2 & \\emph{missing} & 6 & \\emph{missing} & 5 & 5 & 17 & \\emph{missing} & 2 & \\emph{missing} & 2 & \\emph{missing} & 1 & 1 & 1 & \\emph{missing} & \\emph{missing} & \\emph{missing} & \\emph{missing} \\\\\n",
       "\t12 & 3 & 1 & 1 & 1 & \\emph{missing} & 1 & \\emph{missing} & \\emph{missing} & 5 & 3 & 2 & \\emph{missing} & 3 & 1 & 23 & 1 & \\emph{missing} & \\emph{missing} & \\emph{missing} & \\emph{missing} & \\emph{missing} & 2 & \\emph{missing} & \\emph{missing} & 3 & \\emph{missing} & \\emph{missing} & \\emph{missing} \\\\\n",
       "\t13 & 0 & 3 & 7 & 2 & 6 & \\emph{missing} & \\emph{missing} & 4 & 4 & 6 & 2 & 1 & 7 & 4 & 10 & \\emph{missing} & \\emph{missing} & 1 & 1 & 5 & 2 & 1 & \\emph{missing} & \\emph{missing} & \\emph{missing} & \\emph{missing} & \\emph{missing} & 1 \\\\\n",
       "\t14 & 1 & 1 & 4 & 1 & \\emph{missing} & \\emph{missing} & 3 & 2 & 2 & 1 & \\emph{missing} & \\emph{missing} & 3 & 1 & 7 & \\emph{missing} & \\emph{missing} & 2 & 2 & 1 & 1 & 3 & 1 & \\emph{missing} & \\emph{missing} & \\emph{missing} & \\emph{missing} & \\emph{missing} \\\\\n",
       "\t15 & 2 & \\emph{missing} & 4 & \\emph{missing} & \\emph{missing} & \\emph{missing} & \\emph{missing} & 1 & 2 & 2 & \\emph{missing} & 2 & \\emph{missing} & \\emph{missing} & 12 & 3 & 1 & \\emph{missing} & \\emph{missing} & \\emph{missing} & \\emph{missing} & \\emph{missing} & \\emph{missing} & \\emph{missing} & \\emph{missing} & \\emph{missing} & \\emph{missing} & \\emph{missing} \\\\\n",
       "\t16 & 0 & \\emph{missing} & 1 & 2 & 1 & \\emph{missing} & \\emph{missing} & 8 & 2 & 2 & 2 & \\emph{missing} & 2 & 3 & 17 & 1 & \\emph{missing} & \\emph{missing} & 2 & \\emph{missing} & \\emph{missing} & 1 & \\emph{missing} & \\emph{missing} & \\emph{missing} & \\emph{missing} & \\emph{missing} & \\emph{missing} \\\\\n",
       "\t17 & 0 & 1 & 1 & 5 & 1 & \\emph{missing} & \\emph{missing} & \\emph{missing} & 1 & 1 & 6 & 1 & 1 & 1 & 18 & 1 & 1 & \\emph{missing} & 3 & 1 & \\emph{missing} & 1 & \\emph{missing} & \\emph{missing} & \\emph{missing} & \\emph{missing} & \\emph{missing} & \\emph{missing} \\\\\n",
       "\t18 & 1 & 1 & 12 & \\emph{missing} & 1 & \\emph{missing} & 2 & 1 & \\emph{missing} & 1 & 1 & 2 & 3 & 3 & 13 & 2 & \\emph{missing} & \\emph{missing} & 2 & 1 & 1 & 1 & 1 & 1 & \\emph{missing} & \\emph{missing} & \\emph{missing} & \\emph{missing} \\\\\n",
       "\t19 & 0 & 4 & \\emph{missing} & \\emph{missing} & \\emph{missing} & \\emph{missing} & 1 & \\emph{missing} & \\emph{missing} & 7 & \\emph{missing} & \\emph{missing} & \\emph{missing} & 3 & 14 & 1 & 1 & \\emph{missing} & \\emph{missing} & \\emph{missing} & 1 & 1 & \\emph{missing} & \\emph{missing} & \\emph{missing} & 2 & \\emph{missing} & \\emph{missing} \\\\\n",
       "\t20 & 1 & \\emph{missing} & \\emph{missing} & \\emph{missing} & 1 & \\emph{missing} & \\emph{missing} & \\emph{missing} & \\emph{missing} & \\emph{missing} & \\emph{missing} & \\emph{missing} & 1 & 5 & 21 & 2 & \\emph{missing} & \\emph{missing} & \\emph{missing} & 2 & 1 & \\emph{missing} & \\emph{missing} & 1 & 7 & \\emph{missing} & \\emph{missing} & 1 \\\\\n",
       "\t21 & 2 & 1 & 3 & \\emph{missing} & 4 & \\emph{missing} & \\emph{missing} & \\emph{missing} & 1 & 3 & 2 & \\emph{missing} & 1 & \\emph{missing} & 19 & 1 & 2 & \\emph{missing} & 1 & 5 & \\emph{missing} & \\emph{missing} & \\emph{missing} & 1 & \\emph{missing} & \\emph{missing} & \\emph{missing} & \\emph{missing} \\\\\n",
       "\t22 & 1 & \\emph{missing} & 9 & \\emph{missing} & \\emph{missing} & \\emph{missing} & \\emph{missing} & 1 & 1 & 2 & \\emph{missing} & \\emph{missing} & \\emph{missing} & \\emph{missing} & 15 & 1 & \\emph{missing} & \\emph{missing} & \\emph{missing} & \\emph{missing} & 2 & \\emph{missing} & \\emph{missing} & \\emph{missing} & \\emph{missing} & \\emph{missing} & \\emph{missing} & \\emph{missing} \\\\\n",
       "\t23 & 0 & \\emph{missing} & \\emph{missing} & \\emph{missing} & \\emph{missing} & 1 & \\emph{missing} & \\emph{missing} & 4 & \\emph{missing} & \\emph{missing} & \\emph{missing} & \\emph{missing} & \\emph{missing} & 11 & \\emph{missing} & \\emph{missing} & 2 & 1 & \\emph{missing} & 1 & \\emph{missing} & 9 & \\emph{missing} & \\emph{missing} & \\emph{missing} & \\emph{missing} & \\emph{missing} \\\\\n",
       "\t24 & 1 & 3 & \\emph{missing} & \\emph{missing} & 2 & \\emph{missing} & 3 & \\emph{missing} & 1 & 2 & \\emph{missing} & 1 & 2 & 1 & 20 & \\emph{missing} & \\emph{missing} & \\emph{missing} & 1 & 1 & \\emph{missing} & \\emph{missing} & \\emph{missing} & \\emph{missing} & \\emph{missing} & \\emph{missing} & \\emph{missing} & \\emph{missing} \\\\\n",
       "\t25 & 0 & \\emph{missing} & \\emph{missing} & 1 & \\emph{missing} & \\emph{missing} & \\emph{missing} & 1 & \\emph{missing} & \\emph{missing} & \\emph{missing} & 2 & \\emph{missing} & \\emph{missing} & 16 & 1 & \\emph{missing} & 1 & 1 & \\emph{missing} & \\emph{missing} & \\emph{missing} & \\emph{missing} & \\emph{missing} & \\emph{missing} & \\emph{missing} & \\emph{missing} & \\emph{missing} \\\\\n",
       "\t26 & 0 & \\emph{missing} & \\emph{missing} & \\emph{missing} & \\emph{missing} & \\emph{missing} & \\emph{missing} & \\emph{missing} & \\emph{missing} & \\emph{missing} & \\emph{missing} & \\emph{missing} & \\emph{missing} & \\emph{missing} & 22 & 1 & \\emph{missing} & \\emph{missing} & \\emph{missing} & \\emph{missing} & \\emph{missing} & \\emph{missing} & \\emph{missing} & \\emph{missing} & \\emph{missing} & \\emph{missing} & \\emph{missing} & \\emph{missing} \\\\\n",
       "\\end{tabular}\n"
      ],
      "text/plain": [
       "\u001b[1m26×28 DataFrame\u001b[0m\n",
       "\u001b[1m Row \u001b[0m│\u001b[1m breeding \u001b[0m\u001b[1m 17      \u001b[0m\u001b[1m 20      \u001b[0m\u001b[1m 8       \u001b[0m\u001b[1m 7       \u001b[0m\u001b[1m 2       \u001b[0m\u001b[1m 12      \u001b[0m\u001b[1m 18      \u001b[0m\u001b[1m 13      \u001b[0m\u001b[1m 21      \u001b[0m\u001b[1m 9       \u001b[0m\u001b[1m 6       \u001b[0m\u001b[1m 14      \u001b[0m\u001b[1m 19      \u001b[0m\u001b[1m id     \u001b[0m\u001b[1m 10      \u001b[0m\u001b[1m 4       \u001b[0m\u001b[1m 3       \u001b[0m\u001b[1m 5       \u001b[0m\u001b[1m 15      \u001b[0m\u001b[1m 16      \u001b[0m\u001b[1m 1       \u001b[0m\u001b[1m 22      \u001b[0m\u001b[1m 11      \u001b[0m\u001b[1m 25      \u001b[0m\u001b[1m 23      \u001b[0m\u001b[1m 26      \u001b[0m\u001b[1m 24      \u001b[0m\n",
       "\u001b[1m     \u001b[0m│\u001b[90m Int64    \u001b[0m\u001b[90m Int64?  \u001b[0m\u001b[90m Int64?  \u001b[0m\u001b[90m Int64?  \u001b[0m\u001b[90m Int64?  \u001b[0m\u001b[90m Int64?  \u001b[0m\u001b[90m Int64?  \u001b[0m\u001b[90m Int64?  \u001b[0m\u001b[90m Int64?  \u001b[0m\u001b[90m Int64?  \u001b[0m\u001b[90m Int64?  \u001b[0m\u001b[90m Int64?  \u001b[0m\u001b[90m Int64?  \u001b[0m\u001b[90m Int64?  \u001b[0m\u001b[90m String \u001b[0m\u001b[90m Int64?  \u001b[0m\u001b[90m Int64?  \u001b[0m\u001b[90m Int64?  \u001b[0m\u001b[90m Int64?  \u001b[0m\u001b[90m Int64?  \u001b[0m\u001b[90m Int64?  \u001b[0m\u001b[90m Int64?  \u001b[0m\u001b[90m Int64?  \u001b[0m\u001b[90m Int64?  \u001b[0m\u001b[90m Int64?  \u001b[0m\u001b[90m Int64?  \u001b[0m\u001b[90m Int64?  \u001b[0m\u001b[90m Int64?  \u001b[0m\n",
       "─────┼────────────────────────────────────────────────────────────────────────────────────────────────────────────────────────────────────────────────────────────────────────────────────────────────────────────────────────────────────────────────────────────\n",
       "   1 │        4        3        7       11        7        2        1        5        2        4        3        6        3        2  1             5        5        8       21        1 \u001b[90m missing \u001b[0m\u001b[90m missing \u001b[0m\u001b[90m missing \u001b[0m\u001b[90m missing \u001b[0m\u001b[90m missing \u001b[0m\u001b[90m missing \u001b[0m\u001b[90m missing \u001b[0m\u001b[90m missing \u001b[0m\n",
       "   2 │        2        2        5        4        3 \u001b[90m missing \u001b[0m       2        7        5        3        8        4        1        4  3            12        4 \u001b[90m missing \u001b[0m      12 \u001b[90m missing \u001b[0m       1 \u001b[90m missing \u001b[0m\u001b[90m missing \u001b[0m\u001b[90m missing \u001b[0m\u001b[90m missing \u001b[0m\u001b[90m missing \u001b[0m\u001b[90m missing \u001b[0m\u001b[90m missing \u001b[0m\n",
       "   3 │        3        1        4        4        1        3 \u001b[90m missing \u001b[0m       4        6        2        4        1 \u001b[90m missing \u001b[0m       2  4            10 \u001b[90m missing \u001b[0m       1        8        3 \u001b[90m missing \u001b[0m       1        3        1 \u001b[90m missing \u001b[0m\u001b[90m missing \u001b[0m\u001b[90m missing \u001b[0m\u001b[90m missing \u001b[0m\n",
       "   4 │        1 \u001b[90m missing \u001b[0m\u001b[90m missing \u001b[0m\u001b[90m missing \u001b[0m\u001b[90m missing \u001b[0m       7 \u001b[90m missing \u001b[0m\u001b[90m missing \u001b[0m\u001b[90m missing \u001b[0m       1 \u001b[90m missing \u001b[0m\u001b[90m missing \u001b[0m\u001b[90m missing \u001b[0m       1  26            3 \u001b[90m missing \u001b[0m\u001b[90m missing \u001b[0m\u001b[90m missing \u001b[0m\u001b[90m missing \u001b[0m\u001b[90m missing \u001b[0m\u001b[90m missing \u001b[0m\u001b[90m missing \u001b[0m\u001b[90m missing \u001b[0m       1        2 \u001b[90m missing \u001b[0m\u001b[90m missing \u001b[0m\n",
       "   5 │        1        1        2        3        2 \u001b[90m missing \u001b[0m       2        3        2        1 \u001b[90m missing \u001b[0m       1        4        1  2             3        3        2        3        1 \u001b[90m missing \u001b[0m       1 \u001b[90m missing \u001b[0m\u001b[90m missing \u001b[0m\u001b[90m missing \u001b[0m\u001b[90m missing \u001b[0m       1 \u001b[90m missing \u001b[0m\n",
       "   6 │        3 \u001b[90m missing \u001b[0m\u001b[90m missing \u001b[0m\u001b[90m missing \u001b[0m\u001b[90m missing \u001b[0m\u001b[90m missing \u001b[0m\u001b[90m missing \u001b[0m\u001b[90m missing \u001b[0m\u001b[90m missing \u001b[0m       3       12 \u001b[90m missing \u001b[0m       8        3  25            7 \u001b[90m missing \u001b[0m\u001b[90m missing \u001b[0m\u001b[90m missing \u001b[0m       2 \u001b[90m missing \u001b[0m       2 \u001b[90m missing \u001b[0m\u001b[90m missing \u001b[0m\u001b[90m missing \u001b[0m       1 \u001b[90m missing \u001b[0m       8\n",
       "   7 │        4        1        4        5        1 \u001b[90m missing \u001b[0m       2        1        3 \u001b[90m missing \u001b[0m       2 \u001b[90m missing \u001b[0m       1        1  6             5 \u001b[90m missing \u001b[0m\u001b[90m missing \u001b[0m       6        1 \u001b[90m missing \u001b[0m       1 \u001b[90m missing \u001b[0m\u001b[90m missing \u001b[0m\u001b[90m missing \u001b[0m\u001b[90m missing \u001b[0m\u001b[90m missing \u001b[0m\u001b[90m missing \u001b[0m\n",
       "   8 │        1        4        7 \u001b[90m missing \u001b[0m\u001b[90m missing \u001b[0m       1 \u001b[90m missing \u001b[0m       2        2 \u001b[90m missing \u001b[0m      11 \u001b[90m missing \u001b[0m       1        6  8             6        1 \u001b[90m missing \u001b[0m       3 \u001b[90m missing \u001b[0m       1        2        1        1 \u001b[90m missing \u001b[0m       6 \u001b[90m missing \u001b[0m       5\n",
       "   9 │        4        1        1        2 \u001b[90m missing \u001b[0m\u001b[90m missing \u001b[0m\u001b[90m missing \u001b[0m\u001b[90m missing \u001b[0m       1        3        2 \u001b[90m missing \u001b[0m       3        2  24            2        1 \u001b[90m missing \u001b[0m\u001b[90m missing \u001b[0m       2 \u001b[90m missing \u001b[0m\u001b[90m missing \u001b[0m\u001b[90m missing \u001b[0m\u001b[90m missing \u001b[0m\u001b[90m missing \u001b[0m       1 \u001b[90m missing \u001b[0m\u001b[90m missing \u001b[0m\n",
       "  10 │        1        4        3        3        1 \u001b[90m missing \u001b[0m\u001b[90m missing \u001b[0m\u001b[90m missing \u001b[0m\u001b[90m missing \u001b[0m       4 \u001b[90m missing \u001b[0m       2        2        4  9             9        1 \u001b[90m missing \u001b[0m\u001b[90m missing \u001b[0m       3        2        4 \u001b[90m missing \u001b[0m\u001b[90m missing \u001b[0m       1        2 \u001b[90m missing \u001b[0m       1\n",
       "  11 │        3        6        4        4        3        1 \u001b[90m missing \u001b[0m       5        8        2 \u001b[90m missing \u001b[0m       6 \u001b[90m missing \u001b[0m       5  5            17 \u001b[90m missing \u001b[0m       2 \u001b[90m missing \u001b[0m       2 \u001b[90m missing \u001b[0m       1        1        1 \u001b[90m missing \u001b[0m\u001b[90m missing \u001b[0m\u001b[90m missing \u001b[0m\u001b[90m missing \u001b[0m\n",
       "  ⋮  │    ⋮         ⋮        ⋮        ⋮        ⋮        ⋮        ⋮        ⋮        ⋮        ⋮        ⋮        ⋮        ⋮        ⋮       ⋮        ⋮        ⋮        ⋮        ⋮        ⋮        ⋮        ⋮        ⋮        ⋮        ⋮        ⋮        ⋮        ⋮\n",
       "  17 │        0        1        1        5        1 \u001b[90m missing \u001b[0m\u001b[90m missing \u001b[0m\u001b[90m missing \u001b[0m       1        1        6        1        1        1  18            1        1 \u001b[90m missing \u001b[0m       3        1 \u001b[90m missing \u001b[0m       1 \u001b[90m missing \u001b[0m\u001b[90m missing \u001b[0m\u001b[90m missing \u001b[0m\u001b[90m missing \u001b[0m\u001b[90m missing \u001b[0m\u001b[90m missing \u001b[0m\n",
       "  18 │        1        1       12 \u001b[90m missing \u001b[0m       1 \u001b[90m missing \u001b[0m       2        1 \u001b[90m missing \u001b[0m       1        1        2        3        3  13            2 \u001b[90m missing \u001b[0m\u001b[90m missing \u001b[0m       2        1        1        1        1        1 \u001b[90m missing \u001b[0m\u001b[90m missing \u001b[0m\u001b[90m missing \u001b[0m\u001b[90m missing \u001b[0m\n",
       "  19 │        0        4 \u001b[90m missing \u001b[0m\u001b[90m missing \u001b[0m\u001b[90m missing \u001b[0m\u001b[90m missing \u001b[0m       1 \u001b[90m missing \u001b[0m\u001b[90m missing \u001b[0m       7 \u001b[90m missing \u001b[0m\u001b[90m missing \u001b[0m\u001b[90m missing \u001b[0m       3  14            1        1 \u001b[90m missing \u001b[0m\u001b[90m missing \u001b[0m\u001b[90m missing \u001b[0m       1        1 \u001b[90m missing \u001b[0m\u001b[90m missing \u001b[0m\u001b[90m missing \u001b[0m       2 \u001b[90m missing \u001b[0m\u001b[90m missing \u001b[0m\n",
       "  20 │        1 \u001b[90m missing \u001b[0m\u001b[90m missing \u001b[0m\u001b[90m missing \u001b[0m       1 \u001b[90m missing \u001b[0m\u001b[90m missing \u001b[0m\u001b[90m missing \u001b[0m\u001b[90m missing \u001b[0m\u001b[90m missing \u001b[0m\u001b[90m missing \u001b[0m\u001b[90m missing \u001b[0m       1        5  21            2 \u001b[90m missing \u001b[0m\u001b[90m missing \u001b[0m\u001b[90m missing \u001b[0m       2        1 \u001b[90m missing \u001b[0m\u001b[90m missing \u001b[0m       1        7 \u001b[90m missing \u001b[0m\u001b[90m missing \u001b[0m       1\n",
       "  21 │        2        1        3 \u001b[90m missing \u001b[0m       4 \u001b[90m missing \u001b[0m\u001b[90m missing \u001b[0m\u001b[90m missing \u001b[0m       1        3        2 \u001b[90m missing \u001b[0m       1 \u001b[90m missing \u001b[0m 19            1        2 \u001b[90m missing \u001b[0m       1        5 \u001b[90m missing \u001b[0m\u001b[90m missing \u001b[0m\u001b[90m missing \u001b[0m       1 \u001b[90m missing \u001b[0m\u001b[90m missing \u001b[0m\u001b[90m missing \u001b[0m\u001b[90m missing \u001b[0m\n",
       "  22 │        1 \u001b[90m missing \u001b[0m       9 \u001b[90m missing \u001b[0m\u001b[90m missing \u001b[0m\u001b[90m missing \u001b[0m\u001b[90m missing \u001b[0m       1        1        2 \u001b[90m missing \u001b[0m\u001b[90m missing \u001b[0m\u001b[90m missing \u001b[0m\u001b[90m missing \u001b[0m 15            1 \u001b[90m missing \u001b[0m\u001b[90m missing \u001b[0m\u001b[90m missing \u001b[0m\u001b[90m missing \u001b[0m       2 \u001b[90m missing \u001b[0m\u001b[90m missing \u001b[0m\u001b[90m missing \u001b[0m\u001b[90m missing \u001b[0m\u001b[90m missing \u001b[0m\u001b[90m missing \u001b[0m\u001b[90m missing \u001b[0m\n",
       "  23 │        0 \u001b[90m missing \u001b[0m\u001b[90m missing \u001b[0m\u001b[90m missing \u001b[0m\u001b[90m missing \u001b[0m       1 \u001b[90m missing \u001b[0m\u001b[90m missing \u001b[0m       4 \u001b[90m missing \u001b[0m\u001b[90m missing \u001b[0m\u001b[90m missing \u001b[0m\u001b[90m missing \u001b[0m\u001b[90m missing \u001b[0m 11     \u001b[90m missing \u001b[0m\u001b[90m missing \u001b[0m       2        1 \u001b[90m missing \u001b[0m       1 \u001b[90m missing \u001b[0m       9 \u001b[90m missing \u001b[0m\u001b[90m missing \u001b[0m\u001b[90m missing \u001b[0m\u001b[90m missing \u001b[0m\u001b[90m missing \u001b[0m\n",
       "  24 │        1        3 \u001b[90m missing \u001b[0m\u001b[90m missing \u001b[0m       2 \u001b[90m missing \u001b[0m       3 \u001b[90m missing \u001b[0m       1        2 \u001b[90m missing \u001b[0m       1        2        1  20     \u001b[90m missing \u001b[0m\u001b[90m missing \u001b[0m\u001b[90m missing \u001b[0m       1        1 \u001b[90m missing \u001b[0m\u001b[90m missing \u001b[0m\u001b[90m missing \u001b[0m\u001b[90m missing \u001b[0m\u001b[90m missing \u001b[0m\u001b[90m missing \u001b[0m\u001b[90m missing \u001b[0m\u001b[90m missing \u001b[0m\n",
       "  25 │        0 \u001b[90m missing \u001b[0m\u001b[90m missing \u001b[0m       1 \u001b[90m missing \u001b[0m\u001b[90m missing \u001b[0m\u001b[90m missing \u001b[0m       1 \u001b[90m missing \u001b[0m\u001b[90m missing \u001b[0m\u001b[90m missing \u001b[0m       2 \u001b[90m missing \u001b[0m\u001b[90m missing \u001b[0m 16            1 \u001b[90m missing \u001b[0m       1        1 \u001b[90m missing \u001b[0m\u001b[90m missing \u001b[0m\u001b[90m missing \u001b[0m\u001b[90m missing \u001b[0m\u001b[90m missing \u001b[0m\u001b[90m missing \u001b[0m\u001b[90m missing \u001b[0m\u001b[90m missing \u001b[0m\u001b[90m missing \u001b[0m\n",
       "  26 │        0 \u001b[90m missing \u001b[0m\u001b[90m missing \u001b[0m\u001b[90m missing \u001b[0m\u001b[90m missing \u001b[0m\u001b[90m missing \u001b[0m\u001b[90m missing \u001b[0m\u001b[90m missing \u001b[0m\u001b[90m missing \u001b[0m\u001b[90m missing \u001b[0m\u001b[90m missing \u001b[0m\u001b[90m missing \u001b[0m\u001b[90m missing \u001b[0m\u001b[90m missing \u001b[0m 22            1 \u001b[90m missing \u001b[0m\u001b[90m missing \u001b[0m\u001b[90m missing \u001b[0m\u001b[90m missing \u001b[0m\u001b[90m missing \u001b[0m\u001b[90m missing \u001b[0m\u001b[90m missing \u001b[0m\u001b[90m missing \u001b[0m\u001b[90m missing \u001b[0m\u001b[90m missing \u001b[0m\u001b[90m missing \u001b[0m\u001b[90m missing \u001b[0m\n",
       "\u001b[36m                                                                                                                                                                                                                                                    5 rows omitted\u001b[0m"
      ]
     },
     "execution_count": 7,
     "metadata": {},
     "output_type": "execute_result"
    }
   ],
   "source": [
    "df"
   ]
  },
  {
   "cell_type": "markdown",
   "metadata": {},
   "source": [
    "First note that we have used `cols=:union` in the `push!` command when piping the JSON data into `df` data frame. If we do this then by default:\n",
    "* new columns are automatically added (i.e. if the next JSON contains the column that was not present in the data frame already it will be added and previously existing rows are filled with `missing` for this column), you see this case e.g. in column with name `\"26\"` (last column of `df`)\n",
    "* if some JSON does not have some column then again it is not a problem, simply `missing` will be put in respective column in the corresponding row, you see this case e.g. in column with name `\"17\"` in row 4\n",
    "* columns automatically get promoted to an appropriate type (in this case columns containing missing values were promoted in this way)\n",
    "\n",
    "So as you can see with `push!` you can add data to a data frame without knowing its schema upfront. The same functionality is provided by `append!` and `vcat`."
   ]
  },
  {
   "cell_type": "markdown",
   "metadata": {},
   "source": [
    "We note that the order of columns of our data frame is not very nice. This is due to the fact that JSON3 does not give guarantees on ordering of columns. Fortunately this is easily fixed:"
   ]
  },
  {
   "cell_type": "code",
   "execution_count": 8,
   "metadata": {},
   "outputs": [
    {
     "data": {
      "text/html": [
       "<div class=\"data-frame\"><p>26 rows × 28 columns</p><table class=\"data-frame\"><thead><tr><th></th><th>id</th><th>breeding</th><th>1</th><th>2</th><th>3</th><th>4</th><th>5</th><th>6</th><th>7</th><th>8</th><th>9</th><th>10</th><th>11</th><th>12</th><th>13</th><th>14</th><th>15</th><th>16</th><th>17</th><th>18</th><th>19</th><th>20</th><th>21</th><th>22</th><th>23</th><th>24</th><th>25</th><th>26</th></tr><tr><th></th><th title=\"String\">String</th><th title=\"Int64\">Int64</th><th title=\"Union{Missing, Int64}\">Int64?</th><th title=\"Union{Missing, Int64}\">Int64?</th><th title=\"Union{Missing, Int64}\">Int64?</th><th title=\"Union{Missing, Int64}\">Int64?</th><th title=\"Union{Missing, Int64}\">Int64?</th><th title=\"Union{Missing, Int64}\">Int64?</th><th title=\"Union{Missing, Int64}\">Int64?</th><th title=\"Union{Missing, Int64}\">Int64?</th><th title=\"Union{Missing, Int64}\">Int64?</th><th title=\"Union{Missing, Int64}\">Int64?</th><th title=\"Union{Missing, Int64}\">Int64?</th><th title=\"Union{Missing, Int64}\">Int64?</th><th title=\"Union{Missing, Int64}\">Int64?</th><th title=\"Union{Missing, Int64}\">Int64?</th><th title=\"Union{Missing, Int64}\">Int64?</th><th title=\"Union{Missing, Int64}\">Int64?</th><th title=\"Union{Missing, Int64}\">Int64?</th><th title=\"Union{Missing, Int64}\">Int64?</th><th title=\"Union{Missing, Int64}\">Int64?</th><th title=\"Union{Missing, Int64}\">Int64?</th><th title=\"Union{Missing, Int64}\">Int64?</th><th title=\"Union{Missing, Int64}\">Int64?</th><th title=\"Union{Missing, Int64}\">Int64?</th><th title=\"Union{Missing, Int64}\">Int64?</th><th title=\"Union{Missing, Int64}\">Int64?</th><th title=\"Union{Missing, Int64}\">Int64?</th></tr></thead><tbody><tr><th>1</th><td>1</td><td>4</td><td><em>missing</em></td><td>2</td><td>8</td><td>5</td><td>21</td><td>6</td><td>7</td><td>11</td><td>3</td><td>5</td><td><em>missing</em></td><td>1</td><td>2</td><td>3</td><td>1</td><td><em>missing</em></td><td>3</td><td>5</td><td>2</td><td>7</td><td>4</td><td><em>missing</em></td><td><em>missing</em></td><td><em>missing</em></td><td><em>missing</em></td><td><em>missing</em></td></tr><tr><th>2</th><td>3</td><td>2</td><td><em>missing</em></td><td><em>missing</em></td><td><em>missing</em></td><td>4</td><td>12</td><td>4</td><td>3</td><td>4</td><td>8</td><td>12</td><td><em>missing</em></td><td>2</td><td>5</td><td>1</td><td><em>missing</em></td><td>1</td><td>2</td><td>7</td><td>4</td><td>5</td><td>3</td><td><em>missing</em></td><td><em>missing</em></td><td><em>missing</em></td><td><em>missing</em></td><td><em>missing</em></td></tr><tr><th>3</th><td>4</td><td>3</td><td>1</td><td>3</td><td>1</td><td><em>missing</em></td><td>8</td><td>1</td><td>1</td><td>4</td><td>4</td><td>10</td><td>1</td><td><em>missing</em></td><td>6</td><td><em>missing</em></td><td>3</td><td><em>missing</em></td><td>1</td><td>4</td><td>2</td><td>4</td><td>2</td><td>3</td><td><em>missing</em></td><td><em>missing</em></td><td><em>missing</em></td><td><em>missing</em></td></tr><tr><th>4</th><td>26</td><td>1</td><td><em>missing</em></td><td>7</td><td><em>missing</em></td><td><em>missing</em></td><td><em>missing</em></td><td><em>missing</em></td><td><em>missing</em></td><td><em>missing</em></td><td><em>missing</em></td><td>3</td><td><em>missing</em></td><td><em>missing</em></td><td><em>missing</em></td><td><em>missing</em></td><td><em>missing</em></td><td><em>missing</em></td><td><em>missing</em></td><td><em>missing</em></td><td>1</td><td><em>missing</em></td><td>1</td><td><em>missing</em></td><td>2</td><td><em>missing</em></td><td>1</td><td><em>missing</em></td></tr><tr><th>5</th><td>2</td><td>1</td><td>1</td><td><em>missing</em></td><td>2</td><td>3</td><td>3</td><td>1</td><td>2</td><td>3</td><td><em>missing</em></td><td>3</td><td><em>missing</em></td><td>2</td><td>2</td><td>4</td><td>1</td><td><em>missing</em></td><td>1</td><td>3</td><td>1</td><td>2</td><td>1</td><td><em>missing</em></td><td><em>missing</em></td><td><em>missing</em></td><td><em>missing</em></td><td>1</td></tr><tr><th>6</th><td>25</td><td>3</td><td>2</td><td><em>missing</em></td><td><em>missing</em></td><td><em>missing</em></td><td><em>missing</em></td><td><em>missing</em></td><td><em>missing</em></td><td><em>missing</em></td><td>12</td><td>7</td><td><em>missing</em></td><td><em>missing</em></td><td><em>missing</em></td><td>8</td><td>2</td><td><em>missing</em></td><td><em>missing</em></td><td><em>missing</em></td><td>3</td><td><em>missing</em></td><td>3</td><td><em>missing</em></td><td>1</td><td>8</td><td><em>missing</em></td><td><em>missing</em></td></tr><tr><th>7</th><td>6</td><td>4</td><td>1</td><td><em>missing</em></td><td><em>missing</em></td><td><em>missing</em></td><td>6</td><td><em>missing</em></td><td>1</td><td>5</td><td>2</td><td>5</td><td><em>missing</em></td><td>2</td><td>3</td><td>1</td><td>1</td><td><em>missing</em></td><td>1</td><td>1</td><td>1</td><td>4</td><td><em>missing</em></td><td><em>missing</em></td><td><em>missing</em></td><td><em>missing</em></td><td><em>missing</em></td><td><em>missing</em></td></tr><tr><th>8</th><td>8</td><td>1</td><td>2</td><td>1</td><td><em>missing</em></td><td>1</td><td>3</td><td><em>missing</em></td><td><em>missing</em></td><td><em>missing</em></td><td>11</td><td>6</td><td>1</td><td><em>missing</em></td><td>2</td><td>1</td><td><em>missing</em></td><td>1</td><td>4</td><td>2</td><td>6</td><td>7</td><td><em>missing</em></td><td>1</td><td>6</td><td>5</td><td><em>missing</em></td><td><em>missing</em></td></tr><tr><th>9</th><td>24</td><td>4</td><td><em>missing</em></td><td><em>missing</em></td><td><em>missing</em></td><td>1</td><td><em>missing</em></td><td><em>missing</em></td><td><em>missing</em></td><td>2</td><td>2</td><td>2</td><td><em>missing</em></td><td><em>missing</em></td><td>1</td><td>3</td><td>2</td><td><em>missing</em></td><td>1</td><td><em>missing</em></td><td>2</td><td>1</td><td>3</td><td><em>missing</em></td><td>1</td><td><em>missing</em></td><td><em>missing</em></td><td><em>missing</em></td></tr><tr><th>10</th><td>9</td><td>1</td><td>4</td><td><em>missing</em></td><td><em>missing</em></td><td>1</td><td><em>missing</em></td><td>2</td><td>1</td><td>3</td><td><em>missing</em></td><td>9</td><td><em>missing</em></td><td><em>missing</em></td><td><em>missing</em></td><td>2</td><td>3</td><td>2</td><td>4</td><td><em>missing</em></td><td>4</td><td>3</td><td>4</td><td><em>missing</em></td><td>2</td><td>1</td><td>1</td><td><em>missing</em></td></tr><tr><th>11</th><td>5</td><td>3</td><td>1</td><td>1</td><td>2</td><td><em>missing</em></td><td><em>missing</em></td><td>6</td><td>3</td><td>4</td><td><em>missing</em></td><td>17</td><td>1</td><td><em>missing</em></td><td>8</td><td><em>missing</em></td><td>2</td><td><em>missing</em></td><td>6</td><td>5</td><td>5</td><td>4</td><td>2</td><td>1</td><td><em>missing</em></td><td><em>missing</em></td><td><em>missing</em></td><td><em>missing</em></td></tr><tr><th>12</th><td>23</td><td>3</td><td>2</td><td>1</td><td><em>missing</em></td><td><em>missing</em></td><td><em>missing</em></td><td><em>missing</em></td><td><em>missing</em></td><td>1</td><td>2</td><td>1</td><td><em>missing</em></td><td><em>missing</em></td><td>5</td><td>3</td><td><em>missing</em></td><td><em>missing</em></td><td>1</td><td><em>missing</em></td><td>1</td><td>1</td><td>3</td><td><em>missing</em></td><td><em>missing</em></td><td><em>missing</em></td><td>3</td><td><em>missing</em></td></tr><tr><th>13</th><td>10</td><td>0</td><td>1</td><td><em>missing</em></td><td>1</td><td><em>missing</em></td><td>1</td><td>1</td><td>6</td><td>2</td><td>2</td><td><em>missing</em></td><td><em>missing</em></td><td><em>missing</em></td><td>4</td><td>7</td><td>5</td><td>2</td><td>3</td><td>4</td><td>4</td><td>7</td><td>6</td><td><em>missing</em></td><td><em>missing</em></td><td>1</td><td><em>missing</em></td><td><em>missing</em></td></tr><tr><th>14</th><td>7</td><td>1</td><td>3</td><td><em>missing</em></td><td>2</td><td><em>missing</em></td><td>2</td><td><em>missing</em></td><td><em>missing</em></td><td>1</td><td><em>missing</em></td><td><em>missing</em></td><td><em>missing</em></td><td>3</td><td>2</td><td>3</td><td>1</td><td>1</td><td>1</td><td>2</td><td>1</td><td>4</td><td>1</td><td>1</td><td><em>missing</em></td><td><em>missing</em></td><td><em>missing</em></td><td><em>missing</em></td></tr><tr><th>15</th><td>12</td><td>2</td><td><em>missing</em></td><td><em>missing</em></td><td><em>missing</em></td><td>1</td><td><em>missing</em></td><td>2</td><td><em>missing</em></td><td><em>missing</em></td><td><em>missing</em></td><td>3</td><td><em>missing</em></td><td><em>missing</em></td><td>2</td><td><em>missing</em></td><td><em>missing</em></td><td><em>missing</em></td><td><em>missing</em></td><td>1</td><td><em>missing</em></td><td>4</td><td>2</td><td><em>missing</em></td><td><em>missing</em></td><td><em>missing</em></td><td><em>missing</em></td><td><em>missing</em></td></tr><tr><th>16</th><td>17</td><td>0</td><td>1</td><td><em>missing</em></td><td><em>missing</em></td><td><em>missing</em></td><td>2</td><td><em>missing</em></td><td>1</td><td>2</td><td>2</td><td>1</td><td><em>missing</em></td><td><em>missing</em></td><td>2</td><td>2</td><td><em>missing</em></td><td><em>missing</em></td><td><em>missing</em></td><td>8</td><td>3</td><td>1</td><td>2</td><td><em>missing</em></td><td><em>missing</em></td><td><em>missing</em></td><td><em>missing</em></td><td><em>missing</em></td></tr><tr><th>17</th><td>18</td><td>0</td><td>1</td><td><em>missing</em></td><td><em>missing</em></td><td>1</td><td>3</td><td>1</td><td>1</td><td>5</td><td>6</td><td>1</td><td><em>missing</em></td><td><em>missing</em></td><td>1</td><td>1</td><td>1</td><td><em>missing</em></td><td>1</td><td><em>missing</em></td><td>1</td><td>1</td><td>1</td><td><em>missing</em></td><td><em>missing</em></td><td><em>missing</em></td><td><em>missing</em></td><td><em>missing</em></td></tr><tr><th>18</th><td>13</td><td>1</td><td>1</td><td><em>missing</em></td><td><em>missing</em></td><td><em>missing</em></td><td>2</td><td>2</td><td>1</td><td><em>missing</em></td><td>1</td><td>2</td><td>1</td><td>2</td><td><em>missing</em></td><td>3</td><td>1</td><td>1</td><td>1</td><td>1</td><td>3</td><td>12</td><td>1</td><td>1</td><td><em>missing</em></td><td><em>missing</em></td><td><em>missing</em></td><td><em>missing</em></td></tr><tr><th>19</th><td>14</td><td>0</td><td>1</td><td><em>missing</em></td><td><em>missing</em></td><td>1</td><td><em>missing</em></td><td><em>missing</em></td><td><em>missing</em></td><td><em>missing</em></td><td><em>missing</em></td><td>1</td><td><em>missing</em></td><td>1</td><td><em>missing</em></td><td><em>missing</em></td><td><em>missing</em></td><td>1</td><td>4</td><td><em>missing</em></td><td>3</td><td><em>missing</em></td><td>7</td><td><em>missing</em></td><td>2</td><td><em>missing</em></td><td><em>missing</em></td><td><em>missing</em></td></tr><tr><th>20</th><td>21</td><td>1</td><td><em>missing</em></td><td><em>missing</em></td><td><em>missing</em></td><td><em>missing</em></td><td><em>missing</em></td><td><em>missing</em></td><td>1</td><td><em>missing</em></td><td><em>missing</em></td><td>2</td><td>1</td><td><em>missing</em></td><td><em>missing</em></td><td>1</td><td>2</td><td>1</td><td><em>missing</em></td><td><em>missing</em></td><td>5</td><td><em>missing</em></td><td><em>missing</em></td><td><em>missing</em></td><td><em>missing</em></td><td>1</td><td>7</td><td><em>missing</em></td></tr><tr><th>21</th><td>19</td><td>2</td><td><em>missing</em></td><td><em>missing</em></td><td><em>missing</em></td><td>2</td><td>1</td><td><em>missing</em></td><td>4</td><td><em>missing</em></td><td>2</td><td>1</td><td>1</td><td><em>missing</em></td><td>1</td><td>1</td><td>5</td><td><em>missing</em></td><td>1</td><td><em>missing</em></td><td><em>missing</em></td><td>3</td><td>3</td><td><em>missing</em></td><td><em>missing</em></td><td><em>missing</em></td><td><em>missing</em></td><td><em>missing</em></td></tr><tr><th>22</th><td>15</td><td>1</td><td><em>missing</em></td><td><em>missing</em></td><td><em>missing</em></td><td><em>missing</em></td><td><em>missing</em></td><td><em>missing</em></td><td><em>missing</em></td><td><em>missing</em></td><td><em>missing</em></td><td>1</td><td><em>missing</em></td><td><em>missing</em></td><td>1</td><td><em>missing</em></td><td><em>missing</em></td><td>2</td><td><em>missing</em></td><td>1</td><td><em>missing</em></td><td>9</td><td>2</td><td><em>missing</em></td><td><em>missing</em></td><td><em>missing</em></td><td><em>missing</em></td><td><em>missing</em></td></tr><tr><th>23</th><td>11</td><td>0</td><td><em>missing</em></td><td>1</td><td>2</td><td><em>missing</em></td><td>1</td><td><em>missing</em></td><td><em>missing</em></td><td><em>missing</em></td><td><em>missing</em></td><td><em>missing</em></td><td><em>missing</em></td><td><em>missing</em></td><td>4</td><td><em>missing</em></td><td><em>missing</em></td><td>1</td><td><em>missing</em></td><td><em>missing</em></td><td><em>missing</em></td><td><em>missing</em></td><td><em>missing</em></td><td>9</td><td><em>missing</em></td><td><em>missing</em></td><td><em>missing</em></td><td><em>missing</em></td></tr><tr><th>24</th><td>20</td><td>1</td><td><em>missing</em></td><td><em>missing</em></td><td><em>missing</em></td><td><em>missing</em></td><td>1</td><td>1</td><td>2</td><td><em>missing</em></td><td><em>missing</em></td><td><em>missing</em></td><td><em>missing</em></td><td>3</td><td>1</td><td>2</td><td>1</td><td><em>missing</em></td><td>3</td><td><em>missing</em></td><td>1</td><td><em>missing</em></td><td>2</td><td><em>missing</em></td><td><em>missing</em></td><td><em>missing</em></td><td><em>missing</em></td><td><em>missing</em></td></tr><tr><th>25</th><td>16</td><td>0</td><td><em>missing</em></td><td><em>missing</em></td><td>1</td><td><em>missing</em></td><td>1</td><td>2</td><td><em>missing</em></td><td>1</td><td><em>missing</em></td><td>1</td><td><em>missing</em></td><td><em>missing</em></td><td><em>missing</em></td><td><em>missing</em></td><td><em>missing</em></td><td><em>missing</em></td><td><em>missing</em></td><td>1</td><td><em>missing</em></td><td><em>missing</em></td><td><em>missing</em></td><td><em>missing</em></td><td><em>missing</em></td><td><em>missing</em></td><td><em>missing</em></td><td><em>missing</em></td></tr><tr><th>26</th><td>22</td><td>0</td><td><em>missing</em></td><td><em>missing</em></td><td><em>missing</em></td><td><em>missing</em></td><td><em>missing</em></td><td><em>missing</em></td><td><em>missing</em></td><td><em>missing</em></td><td><em>missing</em></td><td>1</td><td><em>missing</em></td><td><em>missing</em></td><td><em>missing</em></td><td><em>missing</em></td><td><em>missing</em></td><td><em>missing</em></td><td><em>missing</em></td><td><em>missing</em></td><td><em>missing</em></td><td><em>missing</em></td><td><em>missing</em></td><td><em>missing</em></td><td><em>missing</em></td><td><em>missing</em></td><td><em>missing</em></td><td><em>missing</em></td></tr></tbody></table></div>"
      ],
      "text/latex": [
       "\\begin{tabular}{r|cccccccccccccccccccccccccccc}\n",
       "\t& id & breeding & 1 & 2 & 3 & 4 & 5 & 6 & 7 & 8 & 9 & 10 & 11 & 12 & 13 & 14 & 15 & 16 & 17 & 18 & 19 & 20 & 21 & 22 & 23 & 24 & 25 & 26\\\\\n",
       "\t\\hline\n",
       "\t& String & Int64 & Int64? & Int64? & Int64? & Int64? & Int64? & Int64? & Int64? & Int64? & Int64? & Int64? & Int64? & Int64? & Int64? & Int64? & Int64? & Int64? & Int64? & Int64? & Int64? & Int64? & Int64? & Int64? & Int64? & Int64? & Int64? & Int64?\\\\\n",
       "\t\\hline\n",
       "\t1 & 1 & 4 & \\emph{missing} & 2 & 8 & 5 & 21 & 6 & 7 & 11 & 3 & 5 & \\emph{missing} & 1 & 2 & 3 & 1 & \\emph{missing} & 3 & 5 & 2 & 7 & 4 & \\emph{missing} & \\emph{missing} & \\emph{missing} & \\emph{missing} & \\emph{missing} \\\\\n",
       "\t2 & 3 & 2 & \\emph{missing} & \\emph{missing} & \\emph{missing} & 4 & 12 & 4 & 3 & 4 & 8 & 12 & \\emph{missing} & 2 & 5 & 1 & \\emph{missing} & 1 & 2 & 7 & 4 & 5 & 3 & \\emph{missing} & \\emph{missing} & \\emph{missing} & \\emph{missing} & \\emph{missing} \\\\\n",
       "\t3 & 4 & 3 & 1 & 3 & 1 & \\emph{missing} & 8 & 1 & 1 & 4 & 4 & 10 & 1 & \\emph{missing} & 6 & \\emph{missing} & 3 & \\emph{missing} & 1 & 4 & 2 & 4 & 2 & 3 & \\emph{missing} & \\emph{missing} & \\emph{missing} & \\emph{missing} \\\\\n",
       "\t4 & 26 & 1 & \\emph{missing} & 7 & \\emph{missing} & \\emph{missing} & \\emph{missing} & \\emph{missing} & \\emph{missing} & \\emph{missing} & \\emph{missing} & 3 & \\emph{missing} & \\emph{missing} & \\emph{missing} & \\emph{missing} & \\emph{missing} & \\emph{missing} & \\emph{missing} & \\emph{missing} & 1 & \\emph{missing} & 1 & \\emph{missing} & 2 & \\emph{missing} & 1 & \\emph{missing} \\\\\n",
       "\t5 & 2 & 1 & 1 & \\emph{missing} & 2 & 3 & 3 & 1 & 2 & 3 & \\emph{missing} & 3 & \\emph{missing} & 2 & 2 & 4 & 1 & \\emph{missing} & 1 & 3 & 1 & 2 & 1 & \\emph{missing} & \\emph{missing} & \\emph{missing} & \\emph{missing} & 1 \\\\\n",
       "\t6 & 25 & 3 & 2 & \\emph{missing} & \\emph{missing} & \\emph{missing} & \\emph{missing} & \\emph{missing} & \\emph{missing} & \\emph{missing} & 12 & 7 & \\emph{missing} & \\emph{missing} & \\emph{missing} & 8 & 2 & \\emph{missing} & \\emph{missing} & \\emph{missing} & 3 & \\emph{missing} & 3 & \\emph{missing} & 1 & 8 & \\emph{missing} & \\emph{missing} \\\\\n",
       "\t7 & 6 & 4 & 1 & \\emph{missing} & \\emph{missing} & \\emph{missing} & 6 & \\emph{missing} & 1 & 5 & 2 & 5 & \\emph{missing} & 2 & 3 & 1 & 1 & \\emph{missing} & 1 & 1 & 1 & 4 & \\emph{missing} & \\emph{missing} & \\emph{missing} & \\emph{missing} & \\emph{missing} & \\emph{missing} \\\\\n",
       "\t8 & 8 & 1 & 2 & 1 & \\emph{missing} & 1 & 3 & \\emph{missing} & \\emph{missing} & \\emph{missing} & 11 & 6 & 1 & \\emph{missing} & 2 & 1 & \\emph{missing} & 1 & 4 & 2 & 6 & 7 & \\emph{missing} & 1 & 6 & 5 & \\emph{missing} & \\emph{missing} \\\\\n",
       "\t9 & 24 & 4 & \\emph{missing} & \\emph{missing} & \\emph{missing} & 1 & \\emph{missing} & \\emph{missing} & \\emph{missing} & 2 & 2 & 2 & \\emph{missing} & \\emph{missing} & 1 & 3 & 2 & \\emph{missing} & 1 & \\emph{missing} & 2 & 1 & 3 & \\emph{missing} & 1 & \\emph{missing} & \\emph{missing} & \\emph{missing} \\\\\n",
       "\t10 & 9 & 1 & 4 & \\emph{missing} & \\emph{missing} & 1 & \\emph{missing} & 2 & 1 & 3 & \\emph{missing} & 9 & \\emph{missing} & \\emph{missing} & \\emph{missing} & 2 & 3 & 2 & 4 & \\emph{missing} & 4 & 3 & 4 & \\emph{missing} & 2 & 1 & 1 & \\emph{missing} \\\\\n",
       "\t11 & 5 & 3 & 1 & 1 & 2 & \\emph{missing} & \\emph{missing} & 6 & 3 & 4 & \\emph{missing} & 17 & 1 & \\emph{missing} & 8 & \\emph{missing} & 2 & \\emph{missing} & 6 & 5 & 5 & 4 & 2 & 1 & \\emph{missing} & \\emph{missing} & \\emph{missing} & \\emph{missing} \\\\\n",
       "\t12 & 23 & 3 & 2 & 1 & \\emph{missing} & \\emph{missing} & \\emph{missing} & \\emph{missing} & \\emph{missing} & 1 & 2 & 1 & \\emph{missing} & \\emph{missing} & 5 & 3 & \\emph{missing} & \\emph{missing} & 1 & \\emph{missing} & 1 & 1 & 3 & \\emph{missing} & \\emph{missing} & \\emph{missing} & 3 & \\emph{missing} \\\\\n",
       "\t13 & 10 & 0 & 1 & \\emph{missing} & 1 & \\emph{missing} & 1 & 1 & 6 & 2 & 2 & \\emph{missing} & \\emph{missing} & \\emph{missing} & 4 & 7 & 5 & 2 & 3 & 4 & 4 & 7 & 6 & \\emph{missing} & \\emph{missing} & 1 & \\emph{missing} & \\emph{missing} \\\\\n",
       "\t14 & 7 & 1 & 3 & \\emph{missing} & 2 & \\emph{missing} & 2 & \\emph{missing} & \\emph{missing} & 1 & \\emph{missing} & \\emph{missing} & \\emph{missing} & 3 & 2 & 3 & 1 & 1 & 1 & 2 & 1 & 4 & 1 & 1 & \\emph{missing} & \\emph{missing} & \\emph{missing} & \\emph{missing} \\\\\n",
       "\t15 & 12 & 2 & \\emph{missing} & \\emph{missing} & \\emph{missing} & 1 & \\emph{missing} & 2 & \\emph{missing} & \\emph{missing} & \\emph{missing} & 3 & \\emph{missing} & \\emph{missing} & 2 & \\emph{missing} & \\emph{missing} & \\emph{missing} & \\emph{missing} & 1 & \\emph{missing} & 4 & 2 & \\emph{missing} & \\emph{missing} & \\emph{missing} & \\emph{missing} & \\emph{missing} \\\\\n",
       "\t16 & 17 & 0 & 1 & \\emph{missing} & \\emph{missing} & \\emph{missing} & 2 & \\emph{missing} & 1 & 2 & 2 & 1 & \\emph{missing} & \\emph{missing} & 2 & 2 & \\emph{missing} & \\emph{missing} & \\emph{missing} & 8 & 3 & 1 & 2 & \\emph{missing} & \\emph{missing} & \\emph{missing} & \\emph{missing} & \\emph{missing} \\\\\n",
       "\t17 & 18 & 0 & 1 & \\emph{missing} & \\emph{missing} & 1 & 3 & 1 & 1 & 5 & 6 & 1 & \\emph{missing} & \\emph{missing} & 1 & 1 & 1 & \\emph{missing} & 1 & \\emph{missing} & 1 & 1 & 1 & \\emph{missing} & \\emph{missing} & \\emph{missing} & \\emph{missing} & \\emph{missing} \\\\\n",
       "\t18 & 13 & 1 & 1 & \\emph{missing} & \\emph{missing} & \\emph{missing} & 2 & 2 & 1 & \\emph{missing} & 1 & 2 & 1 & 2 & \\emph{missing} & 3 & 1 & 1 & 1 & 1 & 3 & 12 & 1 & 1 & \\emph{missing} & \\emph{missing} & \\emph{missing} & \\emph{missing} \\\\\n",
       "\t19 & 14 & 0 & 1 & \\emph{missing} & \\emph{missing} & 1 & \\emph{missing} & \\emph{missing} & \\emph{missing} & \\emph{missing} & \\emph{missing} & 1 & \\emph{missing} & 1 & \\emph{missing} & \\emph{missing} & \\emph{missing} & 1 & 4 & \\emph{missing} & 3 & \\emph{missing} & 7 & \\emph{missing} & 2 & \\emph{missing} & \\emph{missing} & \\emph{missing} \\\\\n",
       "\t20 & 21 & 1 & \\emph{missing} & \\emph{missing} & \\emph{missing} & \\emph{missing} & \\emph{missing} & \\emph{missing} & 1 & \\emph{missing} & \\emph{missing} & 2 & 1 & \\emph{missing} & \\emph{missing} & 1 & 2 & 1 & \\emph{missing} & \\emph{missing} & 5 & \\emph{missing} & \\emph{missing} & \\emph{missing} & \\emph{missing} & 1 & 7 & \\emph{missing} \\\\\n",
       "\t21 & 19 & 2 & \\emph{missing} & \\emph{missing} & \\emph{missing} & 2 & 1 & \\emph{missing} & 4 & \\emph{missing} & 2 & 1 & 1 & \\emph{missing} & 1 & 1 & 5 & \\emph{missing} & 1 & \\emph{missing} & \\emph{missing} & 3 & 3 & \\emph{missing} & \\emph{missing} & \\emph{missing} & \\emph{missing} & \\emph{missing} \\\\\n",
       "\t22 & 15 & 1 & \\emph{missing} & \\emph{missing} & \\emph{missing} & \\emph{missing} & \\emph{missing} & \\emph{missing} & \\emph{missing} & \\emph{missing} & \\emph{missing} & 1 & \\emph{missing} & \\emph{missing} & 1 & \\emph{missing} & \\emph{missing} & 2 & \\emph{missing} & 1 & \\emph{missing} & 9 & 2 & \\emph{missing} & \\emph{missing} & \\emph{missing} & \\emph{missing} & \\emph{missing} \\\\\n",
       "\t23 & 11 & 0 & \\emph{missing} & 1 & 2 & \\emph{missing} & 1 & \\emph{missing} & \\emph{missing} & \\emph{missing} & \\emph{missing} & \\emph{missing} & \\emph{missing} & \\emph{missing} & 4 & \\emph{missing} & \\emph{missing} & 1 & \\emph{missing} & \\emph{missing} & \\emph{missing} & \\emph{missing} & \\emph{missing} & 9 & \\emph{missing} & \\emph{missing} & \\emph{missing} & \\emph{missing} \\\\\n",
       "\t24 & 20 & 1 & \\emph{missing} & \\emph{missing} & \\emph{missing} & \\emph{missing} & 1 & 1 & 2 & \\emph{missing} & \\emph{missing} & \\emph{missing} & \\emph{missing} & 3 & 1 & 2 & 1 & \\emph{missing} & 3 & \\emph{missing} & 1 & \\emph{missing} & 2 & \\emph{missing} & \\emph{missing} & \\emph{missing} & \\emph{missing} & \\emph{missing} \\\\\n",
       "\t25 & 16 & 0 & \\emph{missing} & \\emph{missing} & 1 & \\emph{missing} & 1 & 2 & \\emph{missing} & 1 & \\emph{missing} & 1 & \\emph{missing} & \\emph{missing} & \\emph{missing} & \\emph{missing} & \\emph{missing} & \\emph{missing} & \\emph{missing} & 1 & \\emph{missing} & \\emph{missing} & \\emph{missing} & \\emph{missing} & \\emph{missing} & \\emph{missing} & \\emph{missing} & \\emph{missing} \\\\\n",
       "\t26 & 22 & 0 & \\emph{missing} & \\emph{missing} & \\emph{missing} & \\emph{missing} & \\emph{missing} & \\emph{missing} & \\emph{missing} & \\emph{missing} & \\emph{missing} & 1 & \\emph{missing} & \\emph{missing} & \\emph{missing} & \\emph{missing} & \\emph{missing} & \\emph{missing} & \\emph{missing} & \\emph{missing} & \\emph{missing} & \\emph{missing} & \\emph{missing} & \\emph{missing} & \\emph{missing} & \\emph{missing} & \\emph{missing} & \\emph{missing} \\\\\n",
       "\\end{tabular}\n"
      ],
      "text/plain": [
       "\u001b[1m26×28 DataFrame\u001b[0m\n",
       "\u001b[1m Row \u001b[0m│\u001b[1m id     \u001b[0m\u001b[1m breeding \u001b[0m\u001b[1m 1       \u001b[0m\u001b[1m 2       \u001b[0m\u001b[1m 3       \u001b[0m\u001b[1m 4       \u001b[0m\u001b[1m 5       \u001b[0m\u001b[1m 6       \u001b[0m\u001b[1m 7       \u001b[0m\u001b[1m 8       \u001b[0m\u001b[1m 9       \u001b[0m\u001b[1m 10      \u001b[0m\u001b[1m 11      \u001b[0m\u001b[1m 12      \u001b[0m\u001b[1m 13      \u001b[0m\u001b[1m 14      \u001b[0m\u001b[1m 15      \u001b[0m\u001b[1m 16      \u001b[0m\u001b[1m 17      \u001b[0m\u001b[1m 18      \u001b[0m\u001b[1m 19      \u001b[0m\u001b[1m 20      \u001b[0m\u001b[1m 21      \u001b[0m\u001b[1m 22      \u001b[0m\u001b[1m 23      \u001b[0m\u001b[1m 24      \u001b[0m\u001b[1m 25      \u001b[0m\u001b[1m 26      \u001b[0m\n",
       "\u001b[1m     \u001b[0m│\u001b[90m String \u001b[0m\u001b[90m Int64    \u001b[0m\u001b[90m Int64?  \u001b[0m\u001b[90m Int64?  \u001b[0m\u001b[90m Int64?  \u001b[0m\u001b[90m Int64?  \u001b[0m\u001b[90m Int64?  \u001b[0m\u001b[90m Int64?  \u001b[0m\u001b[90m Int64?  \u001b[0m\u001b[90m Int64?  \u001b[0m\u001b[90m Int64?  \u001b[0m\u001b[90m Int64?  \u001b[0m\u001b[90m Int64?  \u001b[0m\u001b[90m Int64?  \u001b[0m\u001b[90m Int64?  \u001b[0m\u001b[90m Int64?  \u001b[0m\u001b[90m Int64?  \u001b[0m\u001b[90m Int64?  \u001b[0m\u001b[90m Int64?  \u001b[0m\u001b[90m Int64?  \u001b[0m\u001b[90m Int64?  \u001b[0m\u001b[90m Int64?  \u001b[0m\u001b[90m Int64?  \u001b[0m\u001b[90m Int64?  \u001b[0m\u001b[90m Int64?  \u001b[0m\u001b[90m Int64?  \u001b[0m\u001b[90m Int64?  \u001b[0m\u001b[90m Int64?  \u001b[0m\n",
       "─────┼────────────────────────────────────────────────────────────────────────────────────────────────────────────────────────────────────────────────────────────────────────────────────────────────────────────────────────────────────────────────────────────\n",
       "   1 │ 1              4 \u001b[90m missing \u001b[0m       2        8        5       21        6        7       11        3        5 \u001b[90m missing \u001b[0m       1        2        3        1 \u001b[90m missing \u001b[0m       3        5        2        7        4 \u001b[90m missing \u001b[0m\u001b[90m missing \u001b[0m\u001b[90m missing \u001b[0m\u001b[90m missing \u001b[0m\u001b[90m missing \u001b[0m\n",
       "   2 │ 3              2 \u001b[90m missing \u001b[0m\u001b[90m missing \u001b[0m\u001b[90m missing \u001b[0m       4       12        4        3        4        8       12 \u001b[90m missing \u001b[0m       2        5        1 \u001b[90m missing \u001b[0m       1        2        7        4        5        3 \u001b[90m missing \u001b[0m\u001b[90m missing \u001b[0m\u001b[90m missing \u001b[0m\u001b[90m missing \u001b[0m\u001b[90m missing \u001b[0m\n",
       "   3 │ 4              3        1        3        1 \u001b[90m missing \u001b[0m       8        1        1        4        4       10        1 \u001b[90m missing \u001b[0m       6 \u001b[90m missing \u001b[0m       3 \u001b[90m missing \u001b[0m       1        4        2        4        2        3 \u001b[90m missing \u001b[0m\u001b[90m missing \u001b[0m\u001b[90m missing \u001b[0m\u001b[90m missing \u001b[0m\n",
       "   4 │ 26             1 \u001b[90m missing \u001b[0m       7 \u001b[90m missing \u001b[0m\u001b[90m missing \u001b[0m\u001b[90m missing \u001b[0m\u001b[90m missing \u001b[0m\u001b[90m missing \u001b[0m\u001b[90m missing \u001b[0m\u001b[90m missing \u001b[0m       3 \u001b[90m missing \u001b[0m\u001b[90m missing \u001b[0m\u001b[90m missing \u001b[0m\u001b[90m missing \u001b[0m\u001b[90m missing \u001b[0m\u001b[90m missing \u001b[0m\u001b[90m missing \u001b[0m\u001b[90m missing \u001b[0m       1 \u001b[90m missing \u001b[0m       1 \u001b[90m missing \u001b[0m       2 \u001b[90m missing \u001b[0m       1 \u001b[90m missing \u001b[0m\n",
       "   5 │ 2              1        1 \u001b[90m missing \u001b[0m       2        3        3        1        2        3 \u001b[90m missing \u001b[0m       3 \u001b[90m missing \u001b[0m       2        2        4        1 \u001b[90m missing \u001b[0m       1        3        1        2        1 \u001b[90m missing \u001b[0m\u001b[90m missing \u001b[0m\u001b[90m missing \u001b[0m\u001b[90m missing \u001b[0m       1\n",
       "   6 │ 25             3        2 \u001b[90m missing \u001b[0m\u001b[90m missing \u001b[0m\u001b[90m missing \u001b[0m\u001b[90m missing \u001b[0m\u001b[90m missing \u001b[0m\u001b[90m missing \u001b[0m\u001b[90m missing \u001b[0m      12        7 \u001b[90m missing \u001b[0m\u001b[90m missing \u001b[0m\u001b[90m missing \u001b[0m       8        2 \u001b[90m missing \u001b[0m\u001b[90m missing \u001b[0m\u001b[90m missing \u001b[0m       3 \u001b[90m missing \u001b[0m       3 \u001b[90m missing \u001b[0m       1        8 \u001b[90m missing \u001b[0m\u001b[90m missing \u001b[0m\n",
       "   7 │ 6              4        1 \u001b[90m missing \u001b[0m\u001b[90m missing \u001b[0m\u001b[90m missing \u001b[0m       6 \u001b[90m missing \u001b[0m       1        5        2        5 \u001b[90m missing \u001b[0m       2        3        1        1 \u001b[90m missing \u001b[0m       1        1        1        4 \u001b[90m missing \u001b[0m\u001b[90m missing \u001b[0m\u001b[90m missing \u001b[0m\u001b[90m missing \u001b[0m\u001b[90m missing \u001b[0m\u001b[90m missing \u001b[0m\n",
       "   8 │ 8              1        2        1 \u001b[90m missing \u001b[0m       1        3 \u001b[90m missing \u001b[0m\u001b[90m missing \u001b[0m\u001b[90m missing \u001b[0m      11        6        1 \u001b[90m missing \u001b[0m       2        1 \u001b[90m missing \u001b[0m       1        4        2        6        7 \u001b[90m missing \u001b[0m       1        6        5 \u001b[90m missing \u001b[0m\u001b[90m missing \u001b[0m\n",
       "   9 │ 24             4 \u001b[90m missing \u001b[0m\u001b[90m missing \u001b[0m\u001b[90m missing \u001b[0m       1 \u001b[90m missing \u001b[0m\u001b[90m missing \u001b[0m\u001b[90m missing \u001b[0m       2        2        2 \u001b[90m missing \u001b[0m\u001b[90m missing \u001b[0m       1        3        2 \u001b[90m missing \u001b[0m       1 \u001b[90m missing \u001b[0m       2        1        3 \u001b[90m missing \u001b[0m       1 \u001b[90m missing \u001b[0m\u001b[90m missing \u001b[0m\u001b[90m missing \u001b[0m\n",
       "  10 │ 9              1        4 \u001b[90m missing \u001b[0m\u001b[90m missing \u001b[0m       1 \u001b[90m missing \u001b[0m       2        1        3 \u001b[90m missing \u001b[0m       9 \u001b[90m missing \u001b[0m\u001b[90m missing \u001b[0m\u001b[90m missing \u001b[0m       2        3        2        4 \u001b[90m missing \u001b[0m       4        3        4 \u001b[90m missing \u001b[0m       2        1        1 \u001b[90m missing \u001b[0m\n",
       "  11 │ 5              3        1        1        2 \u001b[90m missing \u001b[0m\u001b[90m missing \u001b[0m       6        3        4 \u001b[90m missing \u001b[0m      17        1 \u001b[90m missing \u001b[0m       8 \u001b[90m missing \u001b[0m       2 \u001b[90m missing \u001b[0m       6        5        5        4        2        1 \u001b[90m missing \u001b[0m\u001b[90m missing \u001b[0m\u001b[90m missing \u001b[0m\u001b[90m missing \u001b[0m\n",
       "  ⋮  │   ⋮        ⋮         ⋮        ⋮        ⋮        ⋮        ⋮        ⋮        ⋮        ⋮        ⋮        ⋮        ⋮        ⋮        ⋮        ⋮        ⋮        ⋮        ⋮        ⋮        ⋮        ⋮        ⋮        ⋮        ⋮        ⋮        ⋮        ⋮\n",
       "  17 │ 18             0        1 \u001b[90m missing \u001b[0m\u001b[90m missing \u001b[0m       1        3        1        1        5        6        1 \u001b[90m missing \u001b[0m\u001b[90m missing \u001b[0m       1        1        1 \u001b[90m missing \u001b[0m       1 \u001b[90m missing \u001b[0m       1        1        1 \u001b[90m missing \u001b[0m\u001b[90m missing \u001b[0m\u001b[90m missing \u001b[0m\u001b[90m missing \u001b[0m\u001b[90m missing \u001b[0m\n",
       "  18 │ 13             1        1 \u001b[90m missing \u001b[0m\u001b[90m missing \u001b[0m\u001b[90m missing \u001b[0m       2        2        1 \u001b[90m missing \u001b[0m       1        2        1        2 \u001b[90m missing \u001b[0m       3        1        1        1        1        3       12        1        1 \u001b[90m missing \u001b[0m\u001b[90m missing \u001b[0m\u001b[90m missing \u001b[0m\u001b[90m missing \u001b[0m\n",
       "  19 │ 14             0        1 \u001b[90m missing \u001b[0m\u001b[90m missing \u001b[0m       1 \u001b[90m missing \u001b[0m\u001b[90m missing \u001b[0m\u001b[90m missing \u001b[0m\u001b[90m missing \u001b[0m\u001b[90m missing \u001b[0m       1 \u001b[90m missing \u001b[0m       1 \u001b[90m missing \u001b[0m\u001b[90m missing \u001b[0m\u001b[90m missing \u001b[0m       1        4 \u001b[90m missing \u001b[0m       3 \u001b[90m missing \u001b[0m       7 \u001b[90m missing \u001b[0m       2 \u001b[90m missing \u001b[0m\u001b[90m missing \u001b[0m\u001b[90m missing \u001b[0m\n",
       "  20 │ 21             1 \u001b[90m missing \u001b[0m\u001b[90m missing \u001b[0m\u001b[90m missing \u001b[0m\u001b[90m missing \u001b[0m\u001b[90m missing \u001b[0m\u001b[90m missing \u001b[0m       1 \u001b[90m missing \u001b[0m\u001b[90m missing \u001b[0m       2        1 \u001b[90m missing \u001b[0m\u001b[90m missing \u001b[0m       1        2        1 \u001b[90m missing \u001b[0m\u001b[90m missing \u001b[0m       5 \u001b[90m missing \u001b[0m\u001b[90m missing \u001b[0m\u001b[90m missing \u001b[0m\u001b[90m missing \u001b[0m       1        7 \u001b[90m missing \u001b[0m\n",
       "  21 │ 19             2 \u001b[90m missing \u001b[0m\u001b[90m missing \u001b[0m\u001b[90m missing \u001b[0m       2        1 \u001b[90m missing \u001b[0m       4 \u001b[90m missing \u001b[0m       2        1        1 \u001b[90m missing \u001b[0m       1        1        5 \u001b[90m missing \u001b[0m       1 \u001b[90m missing \u001b[0m\u001b[90m missing \u001b[0m       3        3 \u001b[90m missing \u001b[0m\u001b[90m missing \u001b[0m\u001b[90m missing \u001b[0m\u001b[90m missing \u001b[0m\u001b[90m missing \u001b[0m\n",
       "  22 │ 15             1 \u001b[90m missing \u001b[0m\u001b[90m missing \u001b[0m\u001b[90m missing \u001b[0m\u001b[90m missing \u001b[0m\u001b[90m missing \u001b[0m\u001b[90m missing \u001b[0m\u001b[90m missing \u001b[0m\u001b[90m missing \u001b[0m\u001b[90m missing \u001b[0m       1 \u001b[90m missing \u001b[0m\u001b[90m missing \u001b[0m       1 \u001b[90m missing \u001b[0m\u001b[90m missing \u001b[0m       2 \u001b[90m missing \u001b[0m       1 \u001b[90m missing \u001b[0m       9        2 \u001b[90m missing \u001b[0m\u001b[90m missing \u001b[0m\u001b[90m missing \u001b[0m\u001b[90m missing \u001b[0m\u001b[90m missing \u001b[0m\n",
       "  23 │ 11             0 \u001b[90m missing \u001b[0m       1        2 \u001b[90m missing \u001b[0m       1 \u001b[90m missing \u001b[0m\u001b[90m missing \u001b[0m\u001b[90m missing \u001b[0m\u001b[90m missing \u001b[0m\u001b[90m missing \u001b[0m\u001b[90m missing \u001b[0m\u001b[90m missing \u001b[0m       4 \u001b[90m missing \u001b[0m\u001b[90m missing \u001b[0m       1 \u001b[90m missing \u001b[0m\u001b[90m missing \u001b[0m\u001b[90m missing \u001b[0m\u001b[90m missing \u001b[0m\u001b[90m missing \u001b[0m       9 \u001b[90m missing \u001b[0m\u001b[90m missing \u001b[0m\u001b[90m missing \u001b[0m\u001b[90m missing \u001b[0m\n",
       "  24 │ 20             1 \u001b[90m missing \u001b[0m\u001b[90m missing \u001b[0m\u001b[90m missing \u001b[0m\u001b[90m missing \u001b[0m       1        1        2 \u001b[90m missing \u001b[0m\u001b[90m missing \u001b[0m\u001b[90m missing \u001b[0m\u001b[90m missing \u001b[0m       3        1        2        1 \u001b[90m missing \u001b[0m       3 \u001b[90m missing \u001b[0m       1 \u001b[90m missing \u001b[0m       2 \u001b[90m missing \u001b[0m\u001b[90m missing \u001b[0m\u001b[90m missing \u001b[0m\u001b[90m missing \u001b[0m\u001b[90m missing \u001b[0m\n",
       "  25 │ 16             0 \u001b[90m missing \u001b[0m\u001b[90m missing \u001b[0m       1 \u001b[90m missing \u001b[0m       1        2 \u001b[90m missing \u001b[0m       1 \u001b[90m missing \u001b[0m       1 \u001b[90m missing \u001b[0m\u001b[90m missing \u001b[0m\u001b[90m missing \u001b[0m\u001b[90m missing \u001b[0m\u001b[90m missing \u001b[0m\u001b[90m missing \u001b[0m\u001b[90m missing \u001b[0m       1 \u001b[90m missing \u001b[0m\u001b[90m missing \u001b[0m\u001b[90m missing \u001b[0m\u001b[90m missing \u001b[0m\u001b[90m missing \u001b[0m\u001b[90m missing \u001b[0m\u001b[90m missing \u001b[0m\u001b[90m missing \u001b[0m\n",
       "  26 │ 22             0 \u001b[90m missing \u001b[0m\u001b[90m missing \u001b[0m\u001b[90m missing \u001b[0m\u001b[90m missing \u001b[0m\u001b[90m missing \u001b[0m\u001b[90m missing \u001b[0m\u001b[90m missing \u001b[0m\u001b[90m missing \u001b[0m\u001b[90m missing \u001b[0m       1 \u001b[90m missing \u001b[0m\u001b[90m missing \u001b[0m\u001b[90m missing \u001b[0m\u001b[90m missing \u001b[0m\u001b[90m missing \u001b[0m\u001b[90m missing \u001b[0m\u001b[90m missing \u001b[0m\u001b[90m missing \u001b[0m\u001b[90m missing \u001b[0m\u001b[90m missing \u001b[0m\u001b[90m missing \u001b[0m\u001b[90m missing \u001b[0m\u001b[90m missing \u001b[0m\u001b[90m missing \u001b[0m\u001b[90m missing \u001b[0m\u001b[90m missing \u001b[0m\n",
       "\u001b[36m                                                                                                                                                                                                                                                    5 rows omitted\u001b[0m"
      ]
     },
     "execution_count": 8,
     "metadata": {},
     "output_type": "execute_result"
    }
   ],
   "source": [
    "select!(df, :id, :breeding, sort(names(df, r\"\\d\"), by=x -> parse(Int, x)))"
   ]
  },
  {
   "cell_type": "markdown",
   "metadata": {},
   "source": [
    "Again, note how expressive DataFrames.jl is. With `names(df, r\"\\d\")` we selected all column names that contain a digit as strings, and then we have sorted them using their numeric value.\n",
    "\n",
    "The same selection could have been written as `names(df, Not([:id, :breeding]))`. If we wanted to be more cautious with our regex we could have written `names(df, r\"^\\d+$\")`. In this case all variants we described give exactly the same result."
   ]
  },
  {
   "cell_type": "markdown",
   "metadata": {},
   "source": [
    "Before we move forward let me highlight that it is very easy to access the columns with non-standard names (like strings consisting of numbers) in the following way:"
   ]
  },
  {
   "cell_type": "code",
   "execution_count": 9,
   "metadata": {},
   "outputs": [
    {
     "data": {
      "text/plain": [
       "26-element Vector{Union{Missing, Int64}}:\n",
       "  missing\n",
       "  missing\n",
       " 1\n",
       "  missing\n",
       " 1\n",
       " 2\n",
       " 1\n",
       " 2\n",
       "  missing\n",
       " 4\n",
       " 1\n",
       " 2\n",
       " 1\n",
       " 3\n",
       "  missing\n",
       " 1\n",
       " 1\n",
       " 1\n",
       " 1\n",
       "  missing\n",
       "  missing\n",
       "  missing\n",
       "  missing\n",
       "  missing\n",
       "  missing\n",
       "  missing"
      ]
     },
     "execution_count": 9,
     "metadata": {},
     "output_type": "execute_result"
    }
   ],
   "source": [
    "df.\"1\""
   ]
  },
  {
   "cell_type": "markdown",
   "metadata": {},
   "source": [
    "or e.g.:"
   ]
  },
  {
   "cell_type": "code",
   "execution_count": 10,
   "metadata": {},
   "outputs": [
    {
     "data": {
      "text/plain": [
       "26-element Vector{Union{Missing, Int64}}:\n",
       "  missing\n",
       "  missing\n",
       " 1\n",
       "  missing\n",
       " 1\n",
       " 2\n",
       " 1\n",
       " 2\n",
       "  missing\n",
       " 4\n",
       " 1\n",
       " 2\n",
       " 1\n",
       " 3\n",
       "  missing\n",
       " 1\n",
       " 1\n",
       " 1\n",
       " 1\n",
       "  missing\n",
       "  missing\n",
       "  missing\n",
       "  missing\n",
       "  missing\n",
       "  missing\n",
       "  missing"
      ]
     },
     "execution_count": 10,
     "metadata": {},
     "output_type": "execute_result"
    }
   ],
   "source": [
    "df[:, \"1\"]"
   ]
  },
  {
   "cell_type": "markdown",
   "metadata": {},
   "source": [
    "Now for each bison let us calculate an aggregate of domination values:"
   ]
  },
  {
   "cell_type": "code",
   "execution_count": 11,
   "metadata": {},
   "outputs": [
    {
     "data": {
      "text/html": [
       "<div class=\"data-frame\"><p>26 rows × 2 columns</p><table class=\"data-frame\"><thead><tr><th></th><th>breeding</th><th>score</th></tr><tr><th></th><th title=\"Int64\">Int64</th><th title=\"Int64\">Int64</th></tr></thead><tbody><tr><th>1</th><td>4</td><td>96</td></tr><tr><th>2</th><td>2</td><td>77</td></tr><tr><th>3</th><td>3</td><td>59</td></tr><tr><th>4</th><td>1</td><td>15</td></tr><tr><th>5</th><td>1</td><td>36</td></tr><tr><th>6</th><td>3</td><td>46</td></tr><tr><th>7</th><td>4</td><td>34</td></tr><tr><th>8</th><td>1</td><td>60</td></tr><tr><th>9</th><td>4</td><td>21</td></tr><tr><th>10</th><td>1</td><td>46</td></tr><tr><th>11</th><td>3</td><td>68</td></tr><tr><th>12</th><td>3</td><td>24</td></tr><tr><th>13</th><td>0</td><td>57</td></tr><tr><th>14</th><td>1</td><td>28</td></tr><tr><th>15</th><td>2</td><td>15</td></tr><tr><th>16</th><td>0</td><td>27</td></tr><tr><th>17</th><td>0</td><td>26</td></tr><tr><th>18</th><td>1</td><td>36</td></tr><tr><th>19</th><td>0</td><td>21</td></tr><tr><th>20</th><td>1</td><td>21</td></tr><tr><th>21</th><td>2</td><td>25</td></tr><tr><th>22</th><td>1</td><td>16</td></tr><tr><th>23</th><td>0</td><td>18</td></tr><tr><th>24</th><td>1</td><td>17</td></tr><tr><th>25</th><td>0</td><td>7</td></tr><tr><th>26</th><td>0</td><td>1</td></tr></tbody></table></div>"
      ],
      "text/latex": [
       "\\begin{tabular}{r|cc}\n",
       "\t& breeding & score\\\\\n",
       "\t\\hline\n",
       "\t& Int64 & Int64\\\\\n",
       "\t\\hline\n",
       "\t1 & 4 & 96 \\\\\n",
       "\t2 & 2 & 77 \\\\\n",
       "\t3 & 3 & 59 \\\\\n",
       "\t4 & 1 & 15 \\\\\n",
       "\t5 & 1 & 36 \\\\\n",
       "\t6 & 3 & 46 \\\\\n",
       "\t7 & 4 & 34 \\\\\n",
       "\t8 & 1 & 60 \\\\\n",
       "\t9 & 4 & 21 \\\\\n",
       "\t10 & 1 & 46 \\\\\n",
       "\t11 & 3 & 68 \\\\\n",
       "\t12 & 3 & 24 \\\\\n",
       "\t13 & 0 & 57 \\\\\n",
       "\t14 & 1 & 28 \\\\\n",
       "\t15 & 2 & 15 \\\\\n",
       "\t16 & 0 & 27 \\\\\n",
       "\t17 & 0 & 26 \\\\\n",
       "\t18 & 1 & 36 \\\\\n",
       "\t19 & 0 & 21 \\\\\n",
       "\t20 & 1 & 21 \\\\\n",
       "\t21 & 2 & 25 \\\\\n",
       "\t22 & 1 & 16 \\\\\n",
       "\t23 & 0 & 18 \\\\\n",
       "\t24 & 1 & 17 \\\\\n",
       "\t25 & 0 & 7 \\\\\n",
       "\t26 & 0 & 1 \\\\\n",
       "\\end{tabular}\n"
      ],
      "text/plain": [
       "\u001b[1m26×2 DataFrame\u001b[0m\n",
       "\u001b[1m Row \u001b[0m│\u001b[1m breeding \u001b[0m\u001b[1m score \u001b[0m\n",
       "\u001b[1m     \u001b[0m│\u001b[90m Int64    \u001b[0m\u001b[90m Int64 \u001b[0m\n",
       "─────┼─────────────────\n",
       "   1 │        4     96\n",
       "   2 │        2     77\n",
       "   3 │        3     59\n",
       "   4 │        1     15\n",
       "   5 │        1     36\n",
       "   6 │        3     46\n",
       "   7 │        4     34\n",
       "   8 │        1     60\n",
       "   9 │        4     21\n",
       "  10 │        1     46\n",
       "  11 │        3     68\n",
       "  ⋮  │    ⋮        ⋮\n",
       "  17 │        0     26\n",
       "  18 │        1     36\n",
       "  19 │        0     21\n",
       "  20 │        1     21\n",
       "  21 │        2     25\n",
       "  22 │        1     16\n",
       "  23 │        0     18\n",
       "  24 │        1     17\n",
       "  25 │        0      7\n",
       "  26 │        0      1\n",
       "\u001b[36m         5 rows omitted\u001b[0m"
      ]
     },
     "execution_count": 11,
     "metadata": {},
     "output_type": "execute_result"
    }
   ],
   "source": [
    "df2 = select(df, :breeding, AsTable(r\"\\d\") => ByRow(sum∘skipmissing) => :score)"
   ]
  },
  {
   "cell_type": "markdown",
   "metadata": {},
   "source": [
    "a similar way to achieve this would be to replace `missing` with `0` using `coalesce` on `df` and then just use `+` on whole columns:"
   ]
  },
  {
   "cell_type": "code",
   "execution_count": 12,
   "metadata": {},
   "outputs": [
    {
     "data": {
      "text/html": [
       "<div class=\"data-frame\"><p>26 rows × 2 columns</p><table class=\"data-frame\"><thead><tr><th></th><th>breeding</th><th>score</th></tr><tr><th></th><th title=\"Int64\">Int64</th><th title=\"Int64\">Int64</th></tr></thead><tbody><tr><th>1</th><td>4</td><td>96</td></tr><tr><th>2</th><td>2</td><td>77</td></tr><tr><th>3</th><td>3</td><td>59</td></tr><tr><th>4</th><td>1</td><td>15</td></tr><tr><th>5</th><td>1</td><td>36</td></tr><tr><th>6</th><td>3</td><td>46</td></tr><tr><th>7</th><td>4</td><td>34</td></tr><tr><th>8</th><td>1</td><td>60</td></tr><tr><th>9</th><td>4</td><td>21</td></tr><tr><th>10</th><td>1</td><td>46</td></tr><tr><th>11</th><td>3</td><td>68</td></tr><tr><th>12</th><td>3</td><td>24</td></tr><tr><th>13</th><td>0</td><td>57</td></tr><tr><th>14</th><td>1</td><td>28</td></tr><tr><th>15</th><td>2</td><td>15</td></tr><tr><th>16</th><td>0</td><td>27</td></tr><tr><th>17</th><td>0</td><td>26</td></tr><tr><th>18</th><td>1</td><td>36</td></tr><tr><th>19</th><td>0</td><td>21</td></tr><tr><th>20</th><td>1</td><td>21</td></tr><tr><th>21</th><td>2</td><td>25</td></tr><tr><th>22</th><td>1</td><td>16</td></tr><tr><th>23</th><td>0</td><td>18</td></tr><tr><th>24</th><td>1</td><td>17</td></tr><tr><th>25</th><td>0</td><td>7</td></tr><tr><th>26</th><td>0</td><td>1</td></tr></tbody></table></div>"
      ],
      "text/latex": [
       "\\begin{tabular}{r|cc}\n",
       "\t& breeding & score\\\\\n",
       "\t\\hline\n",
       "\t& Int64 & Int64\\\\\n",
       "\t\\hline\n",
       "\t1 & 4 & 96 \\\\\n",
       "\t2 & 2 & 77 \\\\\n",
       "\t3 & 3 & 59 \\\\\n",
       "\t4 & 1 & 15 \\\\\n",
       "\t5 & 1 & 36 \\\\\n",
       "\t6 & 3 & 46 \\\\\n",
       "\t7 & 4 & 34 \\\\\n",
       "\t8 & 1 & 60 \\\\\n",
       "\t9 & 4 & 21 \\\\\n",
       "\t10 & 1 & 46 \\\\\n",
       "\t11 & 3 & 68 \\\\\n",
       "\t12 & 3 & 24 \\\\\n",
       "\t13 & 0 & 57 \\\\\n",
       "\t14 & 1 & 28 \\\\\n",
       "\t15 & 2 & 15 \\\\\n",
       "\t16 & 0 & 27 \\\\\n",
       "\t17 & 0 & 26 \\\\\n",
       "\t18 & 1 & 36 \\\\\n",
       "\t19 & 0 & 21 \\\\\n",
       "\t20 & 1 & 21 \\\\\n",
       "\t21 & 2 & 25 \\\\\n",
       "\t22 & 1 & 16 \\\\\n",
       "\t23 & 0 & 18 \\\\\n",
       "\t24 & 1 & 17 \\\\\n",
       "\t25 & 0 & 7 \\\\\n",
       "\t26 & 0 & 1 \\\\\n",
       "\\end{tabular}\n"
      ],
      "text/plain": [
       "\u001b[1m26×2 DataFrame\u001b[0m\n",
       "\u001b[1m Row \u001b[0m│\u001b[1m breeding \u001b[0m\u001b[1m score \u001b[0m\n",
       "\u001b[1m     \u001b[0m│\u001b[90m Int64    \u001b[0m\u001b[90m Int64 \u001b[0m\n",
       "─────┼─────────────────\n",
       "   1 │        4     96\n",
       "   2 │        2     77\n",
       "   3 │        3     59\n",
       "   4 │        1     15\n",
       "   5 │        1     36\n",
       "   6 │        3     46\n",
       "   7 │        4     34\n",
       "   8 │        1     60\n",
       "   9 │        4     21\n",
       "  10 │        1     46\n",
       "  11 │        3     68\n",
       "  ⋮  │    ⋮        ⋮\n",
       "  17 │        0     26\n",
       "  18 │        1     36\n",
       "  19 │        0     21\n",
       "  20 │        1     21\n",
       "  21 │        2     25\n",
       "  22 │        1     16\n",
       "  23 │        0     18\n",
       "  24 │        1     17\n",
       "  25 │        0      7\n",
       "  26 │        0      1\n",
       "\u001b[36m         5 rows omitted\u001b[0m"
      ]
     },
     "execution_count": 12,
     "metadata": {},
     "output_type": "execute_result"
    }
   ],
   "source": [
    "select(coalesce.(df, 0), :breeding, r\"\\d\" => (+) => :score)"
   ]
  },
  {
   "cell_type": "markdown",
   "metadata": {},
   "source": [
    "We finish by aggregating `:score` column by `:breeding` column:"
   ]
  },
  {
   "cell_type": "code",
   "execution_count": 13,
   "metadata": {},
   "outputs": [
    {
     "data": {
      "text/html": [
       "<div class=\"data-frame\"><p>5 rows × 6 columns</p><table class=\"data-frame\"><thead><tr><th></th><th>breeding</th><th>score_mean</th><th>score_std</th><th>score_minimum</th><th>score_median</th><th>score_maximum</th></tr><tr><th></th><th title=\"Int64\">Int64</th><th title=\"Float64\">Float64</th><th title=\"Float64\">Float64</th><th title=\"Int64\">Int64</th><th title=\"Float64\">Float64</th><th title=\"Int64\">Int64</th></tr></thead><tbody><tr><th>1</th><td>0</td><td>22.4286</td><td>18.0172</td><td>1</td><td>21.0</td><td>57</td></tr><tr><th>2</th><td>1</td><td>30.5556</td><td>15.4119</td><td>15</td><td>28.0</td><td>60</td></tr><tr><th>3</th><td>2</td><td>39.0</td><td>33.2866</td><td>15</td><td>25.0</td><td>77</td></tr><tr><th>4</th><td>3</td><td>49.25</td><td>19.1028</td><td>24</td><td>52.5</td><td>68</td></tr><tr><th>5</th><td>4</td><td>50.3333</td><td>40.0791</td><td>21</td><td>34.0</td><td>96</td></tr></tbody></table></div>"
      ],
      "text/latex": [
       "\\begin{tabular}{r|cccccc}\n",
       "\t& breeding & score\\_mean & score\\_std & score\\_minimum & score\\_median & score\\_maximum\\\\\n",
       "\t\\hline\n",
       "\t& Int64 & Float64 & Float64 & Int64 & Float64 & Int64\\\\\n",
       "\t\\hline\n",
       "\t1 & 0 & 22.4286 & 18.0172 & 1 & 21.0 & 57 \\\\\n",
       "\t2 & 1 & 30.5556 & 15.4119 & 15 & 28.0 & 60 \\\\\n",
       "\t3 & 2 & 39.0 & 33.2866 & 15 & 25.0 & 77 \\\\\n",
       "\t4 & 3 & 49.25 & 19.1028 & 24 & 52.5 & 68 \\\\\n",
       "\t5 & 4 & 50.3333 & 40.0791 & 21 & 34.0 & 96 \\\\\n",
       "\\end{tabular}\n"
      ],
      "text/plain": [
       "\u001b[1m5×6 DataFrame\u001b[0m\n",
       "\u001b[1m Row \u001b[0m│\u001b[1m breeding \u001b[0m\u001b[1m score_mean \u001b[0m\u001b[1m score_std \u001b[0m\u001b[1m score_minimum \u001b[0m\u001b[1m score_median \u001b[0m\u001b[1m score_maximum \u001b[0m\n",
       "\u001b[1m     \u001b[0m│\u001b[90m Int64    \u001b[0m\u001b[90m Float64    \u001b[0m\u001b[90m Float64   \u001b[0m\u001b[90m Int64         \u001b[0m\u001b[90m Float64      \u001b[0m\u001b[90m Int64         \u001b[0m\n",
       "─────┼─────────────────────────────────────────────────────────────────────────────\n",
       "   1 │        0     22.4286    18.0172              1          21.0             57\n",
       "   2 │        1     30.5556    15.4119             15          28.0             60\n",
       "   3 │        2     39.0       33.2866             15          25.0             77\n",
       "   4 │        3     49.25      19.1028             24          52.5             68\n",
       "   5 │        4     50.3333    40.0791             21          34.0             96"
      ]
     },
     "execution_count": 13,
     "metadata": {},
     "output_type": "execute_result"
    }
   ],
   "source": [
    "combine(groupby(df2, :breeding, sort=true), :score .=> [mean, std, minimum, median, maximum])"
   ]
  },
  {
   "cell_type": "markdown",
   "metadata": {},
   "source": [
    "Note that it is very easy to apply multiple transformations at the same time using broadcasting."
   ]
  },
  {
   "cell_type": "markdown",
   "metadata": {},
   "source": [
    "Looking at the data indeed it seems that `:breeding` and `:score` are positively correlated."
   ]
  }
 ],
 "metadata": {
  "@webio": {
   "lastCommId": null,
   "lastKernelId": null
  },
  "kernelspec": {
   "display_name": "Julia 1.7.0",
   "language": "julia",
   "name": "julia-1.7"
  },
  "language_info": {
   "file_extension": ".jl",
   "mimetype": "application/julia",
   "name": "julia",
   "version": "1.7.0"
  }
 },
 "nbformat": 4,
 "nbformat_minor": 4
}

{
 "cells": [
  {
   "cell_type": "markdown",
   "metadata": {},
   "source": [
    "# Working with DataFrames.jl v1.5.0\n",
    "\n",
    "# Part 1\n",
    "\n",
    "## Bogumił Kamiński"
   ]
  },
  {
   "cell_type": "markdown",
   "metadata": {},
   "source": [
    "In this part of the tutorial we will use the *Airports2.csv* file that is available for download here: https://www.kaggle.com/flashgordon/usa-airport-dataset. Therefore before starting it please be sure to download it and and have it un-zipped in your working directory.\n",
    "\n",
    "Our objective is to show selected features of v1.5.0 release of the DataFrames.jl package.\n",
    "\n",
    "This tutorial is not meant to be a replacement of a documentation - it just shows some practical application examples. If you want to know all the details of the discussed functionalities please refer to docstrings of the functions we show."
   ]
  },
  {
   "cell_type": "markdown",
   "metadata": {},
   "source": [
    "As usual in Julia, for every project you should have *Project.toml* and *Manifest.toml* files that specify the dependencies. They are bundled with this file in a GitHub gist.\n",
    "\n",
    "If you do not have much experience with project dependencies and want to understand more about managing them I recommend you to read https://bkamins.github.io/julialang/2020/05/18/project-workflow.html.\n",
    "\n",
    "This tutorial was developed under Julia 1.9.0."
   ]
  },
  {
   "cell_type": "markdown",
   "metadata": {},
   "source": [
    "Before we start let us make sure that you have the right versions of packages installed.\n",
    "\n",
    "The output of the command below should be:\n",
    "```\n",
    "  [6e4b80f9] BenchmarkTools v1.3.2\n",
    "  [336ed68f] CSV v0.10.9\n",
    "  [8be319e6] Chain v0.5.0\n",
    "  [a93c6f00] DataFrames v1.5.0\n",
    "  [7073ff75] IJulia v1.24.0\n",
    "  [0f8b85d8] JSON3 v1.12.0\n",
    "  [91a5bcdd] Plots v1.38.5\n",
    "```"
   ]
  },
  {
   "cell_type": "code",
   "execution_count": null,
   "metadata": {},
   "outputs": [],
   "source": [
    "] status"
   ]
  },
  {
   "cell_type": "markdown",
   "metadata": {},
   "source": [
    "We start with loading the required packages and reading in the CSV file to a `DataFrame`:"
   ]
  },
  {
   "cell_type": "code",
   "execution_count": null,
   "metadata": {},
   "outputs": [],
   "source": [
    "using BenchmarkTools\n",
    "using CSV\n",
    "using DataFrames\n",
    "using Dates\n",
    "using Chain\n",
    "using Plots"
   ]
  },
  {
   "cell_type": "code",
   "execution_count": null,
   "metadata": {
    "scrolled": false
   },
   "outputs": [],
   "source": [
    "df = CSV.read(\"Airports2.csv\", DataFrame, missingstring=\"NA\")"
   ]
  },
  {
   "cell_type": "markdown",
   "metadata": {},
   "source": [
    "Our data frame contains the following columns:\n",
    "\n",
    "1. `:Origin_airport`: Three letter airport code of the origin airport\n",
    "2. `:Destination_airport`: Three letter airport code of the destination airport\n",
    "3. `:Origin_city`: Origin city name\n",
    "4. `:Destination_city`: Destination city name\n",
    "5. `:Passengers`: Number of passengers transported from origin to destination\n",
    "6. `:Seats`: Number of seats available on flights from origin to destination\n",
    "7. `:Flights`: Number of flights between origin and destination (multiple records for one month, many with flights > 1)\n",
    "8. `:Distance`: Distance (to nearest mile) flown between origin and destination\n",
    "9. `:Fly_date`: The date (yyyymm) of flight\n",
    "10. `:Origin_population`: Origin city's population as reported by US Census\n",
    "11. `:Destination_population`: Destination city's population as reported by US Census\n",
    "\n",
    "Let us first investigate its metadata"
   ]
  },
  {
   "cell_type": "code",
   "execution_count": null,
   "metadata": {},
   "outputs": [],
   "source": [
    "size(df)"
   ]
  },
  {
   "cell_type": "code",
   "execution_count": null,
   "metadata": {},
   "outputs": [],
   "source": [
    "nrow(df)"
   ]
  },
  {
   "cell_type": "code",
   "execution_count": null,
   "metadata": {},
   "outputs": [],
   "source": [
    "ncol(df)"
   ]
  },
  {
   "cell_type": "code",
   "execution_count": null,
   "metadata": {},
   "outputs": [],
   "source": [
    "names(df)"
   ]
  },
  {
   "cell_type": "code",
   "execution_count": null,
   "metadata": {},
   "outputs": [],
   "source": [
    "propertynames(df)"
   ]
  },
  {
   "cell_type": "markdown",
   "metadata": {},
   "source": [
    "An important thing to note is that the `names` function returns a vector of `String`s and the `propertynames` function returns a vector of `Symbol`s.\n",
    "\n",
    "In DataFrames.jl both strings and `Symbol`s can be used for column indexing."
   ]
  },
  {
   "cell_type": "markdown",
   "metadata": {},
   "source": [
    "Let us now get some summary statistics of our data set using the `describe` function:"
   ]
  },
  {
   "cell_type": "code",
   "execution_count": null,
   "metadata": {},
   "outputs": [],
   "source": [
    "describe(df)"
   ]
  },
  {
   "cell_type": "markdown",
   "metadata": {},
   "source": [
    "In particular note that CSV.jl correctly idenfitied `:Fly_date` column as being a `Date` type."
   ]
  },
  {
   "cell_type": "markdown",
   "metadata": {},
   "source": [
    "When we investigate the summary statistics we note that there are flights that potentially have `0` passengers, `0` seats, or `0` flights.\n",
    "\n",
    "In practice if you get such data it is good to investigate it, as it shows some potential data quality issues.\n",
    "\n",
    "So, let us investigate it:"
   ]
  },
  {
   "cell_type": "code",
   "execution_count": null,
   "metadata": {},
   "outputs": [],
   "source": [
    "@chain df begin\n",
    "    select(:Passengers, :Seats, :Flights)\n",
    "    mapcols(ByRow(>(0)), _)  # or: mapcols(ByRow( x -> x > 0 ), _ )\n",
    "    groupby(:, sort=true)\n",
    "    combine(nrow, proprow)\n",
    "end"
   ]
  },
  {
   "cell_type": "markdown",
   "metadata": {},
   "source": [
    "Before interpreting the results let us dissect the code:\n",
    "1. `@chain` is a macro from Chain.jl package, that makes it easy to chain function calls and makes `_` a placeholder for a value returned by a function that was earlier in the chain (you can read about the details here: https://github.com/jkrumbiegel/Chain.jl). Often, we don't even need to placeholder `_` - particularly in a DataFrames.jl context, where we give the result of an operation *as first argument* to the next operation.\n",
    "2. `select` creates a new data frame that keeps only three columns that we are interested in\n",
    "3. the `mapcols` statement applies a function to all columns. In this case, use `ByRow(>(0))`, which is basically the function `>(0)` wrapped in the `ByRow` helper function - which applies a function *to each row*. Notice that we could also have written `ByRow( x -> x > 0 )` if we found that easier to read. This line will transform each column of our data frame to have the `Bool` element type (check the output above!). On each row and for each column we will have a value `true` if an entry is greater than `0` and `false` otherwise. In this way we are able to easily idenfity rows with `0` entries, as they are most interesting for us\n",
    "4. `groupby` groups our data frame by all columns (indicated by the `:` selector) - i.e. we want to group this data by lumping together all the rows where `Passengers` is `true`, `Seats` is `true`, `Flights` is `true`, and so on. Finally we tell DataFrames.jl that the gorups should be sorted.\n",
    "5. finally `combine` just counts the number and proportion of rows in each group"
   ]
  },
  {
   "cell_type": "markdown",
   "metadata": {},
   "source": [
    "Now going to our results - some of entries can be explained, like `0` passenges, but some seats and some flights (I guess it means that just no one took some flight).\n",
    "\n",
    "However cases like some passengers, but `0` seats and `0` flights are probably a mistake in data (we have 7 rows that have this combination of values).\n",
    "\n",
    "Let us try to find these 7 rows in two ways:"
   ]
  },
  {
   "cell_type": "code",
   "execution_count": null,
   "metadata": {},
   "outputs": [],
   "source": [
    "filter(row -> row.Passengers > 0 && row.Seats == 0 && row.Flights == 0, df)"
   ]
  },
  {
   "cell_type": "code",
   "execution_count": null,
   "metadata": {},
   "outputs": [],
   "source": [
    "subset(df, :Passengers => ByRow(>(0)), :Seats => ByRow(==(0)), :Flights  => ByRow(==(0)))"
   ]
  },
  {
   "cell_type": "markdown",
   "metadata": {},
   "source": [
    "Let us compare the timing of both options:"
   ]
  },
  {
   "cell_type": "code",
   "execution_count": null,
   "metadata": {},
   "outputs": [],
   "source": [
    "@time filter(row -> row.Passengers > 0 && row.Seats == 0 && row.Flights == 0, df);"
   ]
  },
  {
   "cell_type": "code",
   "execution_count": null,
   "metadata": {},
   "outputs": [],
   "source": [
    "@time subset(df, :Passengers => ByRow(>(0)), :Seats => ByRow(==(0)), :Flights  => ByRow(==(0)));"
   ]
  },
  {
   "cell_type": "markdown",
   "metadata": {},
   "source": [
    "Now let us move to another analysis.\n",
    "\n",
    "We want to get an information about the occupancy of each flight. It can be calculated as ratio of the number of passengers and number of seats time number of flights. The problem is that if there are `0` seats or flights we would be dividing by `0` and get a `NaN` result. We prefer to get a `missing` value in this case. Therefore first define a helper function:"
   ]
  },
  {
   "cell_type": "code",
   "execution_count": null,
   "metadata": {},
   "outputs": [],
   "source": [
    "function get_occupied(passengers, seats, flights)\n",
    "    if seats == 0 || flights == 0\n",
    "        return missing\n",
    "    else\n",
    "        return passengers / (seats * flights)\n",
    "    end\n",
    "end"
   ]
  },
  {
   "cell_type": "markdown",
   "metadata": {},
   "source": [
    "and now we use it to add a new column to our data frame. Additionally we create three new columns:\n",
    "1. `:ost`: state of the origin city\n",
    "2. `:dst`: state of the destination city\n",
    "3. `:year`: year of flight"
   ]
  },
  {
   "cell_type": "code",
   "execution_count": null,
   "metadata": {
    "scrolled": false
   },
   "outputs": [],
   "source": [
    "df2 = transform(df,\n",
    "                [:Passengers, :Seats, :Flights] => ByRow(get_occupied) => :occupied,\n",
    "                [:Origin_city, :Destination_city] .=> ByRow(x -> last(x, 2)) .=> [:ost, :dst],\n",
    "                :Fly_date => ByRow(year) => :year)"
   ]
  },
  {
   "cell_type": "markdown",
   "metadata": {},
   "source": [
    "Notice again that in the computation we used `ByRow` wrapper that instructs DataFrames.jl to apply the function for each row of the passed data.\n",
    "\n",
    "It is instructive to disect this pipeline step by step. When we said\n",
    "\n",
    "```julia\n",
    "[:Passengers, :Seats, :Flights] => ByRow(get_occupied) => :occupied\n",
    "```\n",
    "\n",
    "remember that the `get_occupied` function required 3 input arguments. The initial `[:Passengers, :Seats, :Flights]` selector makes sure we pass the required 3 columns, and in the correct order. Finally, having `ByRow(get_occupied) => :occupied` means that our function returns a single output *vector*, and we supply a single name, `:occupied` for it.\n",
    "\n",
    "In the next statement, we wrote \n",
    "\n",
    "```julia\n",
    "[:Origin_city, :Destination_city] .=> ByRow(x -> last(x, 2)) .=> [:ost, :dst]\n",
    "```\n",
    "\n",
    "which looks similar, but has a crucial difference: the `Pair` operator `=>` is being *broadcasted* this time (note the `.` in front of the `=>`)! In simple words, here we will apply our transformation *to each input column*, outputting as well 2 columns (ensured by the second `.=>`). One noteworthy feature of DataFrames.jl is that the so-written components of a data pipeline are valid julia code (and *not* part of a package-specific DSL). For instance, you can evaluate this line in the REPL to investigate the transformation we are building in this step:\n",
    "\n",
    "```julia\n",
    "julia> [:Origin_city, :Destination_city] .=> ByRow(x -> last(x, 2)) .=> [:ost, :dst]\n",
    "2-element Vector{Pair{Symbol, Pair{ByRow{var\"#5#6\"}, Symbol}}}:\n",
    "      :Origin_city => (ByRow{var\"#5#6\"}(var\"#5#6\"()) => :ost)\n",
    " :Destination_city => (ByRow{var\"#5#6\"}(var\"#5#6\"()) => :dst)\n",
    "\n",
    "```\n",
    "\n",
    "If the central part (the anonymous function with `ByRow` etc) looks confusing, consider this example, which is the essence of what's going on:\n",
    "\n",
    "```julia\n",
    "julia> [:x1, :x2] .=> [\"op1\", \"op2\"]\n",
    "2-element Vector{Pair{Symbol, String}}:\n",
    " :x1 => \"op1\"\n",
    " :x2 => \"op2\"\n",
    "```\n",
    "\n",
    "This also illustrates that the comma in the output column names array is of crucial importance (i.e. it should be `[:ost, :dst]` and not `[:ost :dst]`). The reason being simply that the julia broadcasting rules would expand the expression into the second dimension, i.e. \n",
    "\n",
    "```julia\n",
    "julia> [:x1, :x2] .=> [\"op1\" \"op2\"]\n",
    "2×2 Matrix{Pair{Symbol, String}}:\n",
    " :x1=>\"op1\"  :x1=>\"op2\"\n",
    " :x2=>\"op1\"  :x2=>\"op2\"\n",
    "```\n",
    "\n",
    "which is not what we want in this instance.\n",
    "\n",
    "Here is an alternative way to compute `:occupied` without using `ByRow`, but instead using standard broadcasting:"
   ]
  },
  {
   "cell_type": "code",
   "execution_count": null,
   "metadata": {},
   "outputs": [],
   "source": [
    "get_occupied2(passengers, seats, flights) =\n",
    "    @. ifelse((seats == 0) || (flights == 0), missing, passengers / (seats * flights))"
   ]
  },
  {
   "cell_type": "code",
   "execution_count": null,
   "metadata": {
    "scrolled": false
   },
   "outputs": [],
   "source": [
    "df2′ = select(df, [:Passengers, :Seats, :Flights] => get_occupied2 => :occupied);"
   ]
  },
  {
   "cell_type": "markdown",
   "metadata": {},
   "source": [
    "First we check if both methods produced the same result:"
   ]
  },
  {
   "cell_type": "code",
   "execution_count": null,
   "metadata": {},
   "outputs": [],
   "source": [
    "isequal(df2.occupied, df2′.occupied)"
   ]
  },
  {
   "cell_type": "markdown",
   "metadata": {},
   "source": [
    "The second thing we can do is compare the performance of both options:"
   ]
  },
  {
   "cell_type": "code",
   "execution_count": null,
   "metadata": {},
   "outputs": [],
   "source": [
    "@benchmark select($df, [:Passengers, :Seats, :Flights] => ByRow(get_occupied) => :occupied)"
   ]
  },
  {
   "cell_type": "code",
   "execution_count": null,
   "metadata": {},
   "outputs": [],
   "source": [
    "@benchmark select($df, [:Passengers, :Seats, :Flights] => get_occupied2 => :occupied)"
   ]
  },
  {
   "cell_type": "markdown",
   "metadata": {},
   "source": [
    "As you can see DataFrames.jl does a decent job in this case - the option with `ByRow` is a tad faster than the broadcasting approach."
   ]
  },
  {
   "cell_type": "markdown",
   "metadata": {},
   "source": [
    "A crucial value of piping with `@chain` is that it composes also with functions outside of DataFrames.jl package.\n",
    "\n",
    "Here is a simple example in which we will plot the total number of passengers that flew by year:"
   ]
  },
  {
   "cell_type": "code",
   "execution_count": null,
   "metadata": {
    "scrolled": false
   },
   "outputs": [],
   "source": [
    "@chain df2 begin\n",
    "    groupby(:year, sort=true)\n",
    "    combine(:Passengers => sum)\n",
    "    plot(_.year, _.Passengers_sum ./ 10^6, legend=nothing,\n",
    "         xlab=\"year\", ylab=\"passengers (in millions)\")\n",
    "end"
   ]
  },
  {
   "cell_type": "markdown",
   "metadata": {},
   "source": [
    "I particular note that `_` notation from Chain.jl package allows you to write any valid code you could use on the passed value. In our case `plot` is passed a `DataFrame`, so we e.g. write `_.year` to get a `:year` column from it."
   ]
  },
  {
   "cell_type": "markdown",
   "metadata": {},
   "source": [
    "In the following example we will want to find pairs of origin-destination states that have the highest occupancy:"
   ]
  },
  {
   "cell_type": "code",
   "execution_count": null,
   "metadata": {
    "scrolled": true
   },
   "outputs": [],
   "source": [
    "df3 = @chain df2 begin\n",
    "    groupby([:ost, :dst])\n",
    "    combine(:occupied => mean∘skipmissing => :occupied, :Passengers => sum)\n",
    "    filter!(:occupied => isfinite, _)\n",
    "    sort!(:occupied, rev=true)\n",
    "end"
   ]
  },
  {
   "cell_type": "markdown",
   "metadata": {},
   "source": [
    "In the above code note two things: we use `filter!` and `sort!` functions to process the data frame returned by `combine` in place (which reduces the number of allocations we make).\n",
    "\n",
    "Additionally note that when we aggregate `:occupied` column in `combine` using `mean∘skipmissing` then for some origin-destination state combinations we get zero observations, which produce `NaN`, so we filter them out using `isfinite` predicate."
   ]
  },
  {
   "cell_type": "markdown",
   "metadata": {},
   "source": [
    "Just to make sure what happens when we apply `mean∘skipmissing` to a vector containing only missing values consider the following simple example:"
   ]
  },
  {
   "cell_type": "code",
   "execution_count": null,
   "metadata": {},
   "outputs": [],
   "source": [
    "@chain DataFrame(g=[1,1,2,2], v=[1,2,missing, missing]) begin\n",
    "    groupby(:g)\n",
    "    combine(:v => mean∘skipmissing)\n",
    "end"
   ]
  },
  {
   "cell_type": "markdown",
   "metadata": {},
   "source": [
    "As a final example let us consider the following case. Assume that you want to query the `df3` data frame by `:ost` and `:dst` columns very often.\n",
    "\n",
    "The simplest way to do it is to use `subset` as we have already discussed:"
   ]
  },
  {
   "cell_type": "code",
   "execution_count": null,
   "metadata": {},
   "outputs": [],
   "source": [
    "subset(df3, :ost => ByRow(==(\"NE\")), :dst => ByRow(==(\"AK\")))"
   ]
  },
  {
   "cell_type": "markdown",
   "metadata": {},
   "source": [
    "Now let us use a bit different technique. We `groupby` the `df3` data frame first:"
   ]
  },
  {
   "cell_type": "code",
   "execution_count": null,
   "metadata": {},
   "outputs": [],
   "source": [
    "gdf3 = groupby(df3, [:ost, :dst])"
   ]
  },
  {
   "cell_type": "markdown",
   "metadata": {},
   "source": [
    "Now we can easiliy query it by group values (here we show such indexing by `Tuple` or `NamedTuple`):"
   ]
  },
  {
   "cell_type": "code",
   "execution_count": null,
   "metadata": {},
   "outputs": [],
   "source": [
    "gdf3[(\"NE\", \"AK\")]"
   ]
  },
  {
   "cell_type": "code",
   "execution_count": null,
   "metadata": {},
   "outputs": [],
   "source": [
    "gdf3[(ost=\"NE\", dst=\"AK\")]"
   ]
  },
  {
   "cell_type": "markdown",
   "metadata": {},
   "source": [
    "Note that you can use `keys` on `GroupedDataFrame`:"
   ]
  },
  {
   "cell_type": "code",
   "execution_count": null,
   "metadata": {},
   "outputs": [],
   "source": [
    "keys(gdf3)"
   ]
  },
  {
   "cell_type": "markdown",
   "metadata": {},
   "source": [
    "In this way we got only the origin-destination state combinations that are actually present in our `GroupedDataFrame`."
   ]
  },
  {
   "cell_type": "markdown",
   "metadata": {},
   "source": [
    "The ability to query a `GroupedDataFrame` by grouping columns fast makes it a very useful way to add an index to a data frame."
   ]
  },
  {
   "cell_type": "markdown",
   "metadata": {},
   "source": [
    "It is also fast"
   ]
  },
  {
   "cell_type": "code",
   "execution_count": null,
   "metadata": {},
   "outputs": [],
   "source": [
    "@benchmark subset(df3, :ost => ByRow(==(\"NE\")), :dst => ByRow(==(\"AK\")))"
   ]
  },
  {
   "cell_type": "code",
   "execution_count": null,
   "metadata": {},
   "outputs": [],
   "source": [
    "@benchmark gdf3[(\"NE\", \"AK\")]"
   ]
  }
 ],
 "metadata": {
  "@webio": {
   "lastCommId": null,
   "lastKernelId": null
  },
  "kernelspec": {
   "display_name": "Julia 1.8.5",
   "language": "julia",
   "name": "julia-1.8"
  },
  "language_info": {
   "file_extension": ".jl",
   "mimetype": "application/julia",
   "name": "julia",
   "version": "1.8.5"
  }
 },
 "nbformat": 4,
 "nbformat_minor": 4
}

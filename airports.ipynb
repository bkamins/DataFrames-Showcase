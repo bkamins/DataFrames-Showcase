{
 "cells": [
  {
   "cell_type": "markdown",
   "metadata": {},
   "source": [
    "# Working with DataFrames.jl v1.1.1\n",
    "\n",
    "# Part 1\n",
    "\n",
    "## Bogumił Kamiński"
   ]
  },
  {
   "cell_type": "markdown",
   "metadata": {},
   "source": [
    "In this part of the tutorial we will use the *airports2.csv* file that is available for download here: https://www.kaggle.com/flashgordon/usa-airport-dataset. Therefore before starting it please be sure to download it and and have it un-zipped in your working directory.\n",
    "\n",
    "Our objective is to show selected features of v1.1.1 release of the DataFrames.jl package.\n",
    "\n",
    "This tutorial is not meant to be a replacement of a documentation - it just shows some practical application examples. If you want to know all the details of the discussed functionalities please refer to docstrings of the functions we show."
   ]
  },
  {
   "cell_type": "markdown",
   "metadata": {},
   "source": [
    "As usual in Julia, for every project you should have *Project.toml* and *Manifest.toml* files that specify the dependencies. They are bundled with this file in a GitHub gist.\n",
    "\n",
    "If you do not have much experience with project dependencies and want to understand more about managing them I recommend you to read https://bkamins.github.io/julialang/2020/05/18/project-workflow.html.\n",
    "\n",
    "This tutorial was developed under Julia 1.6.0."
   ]
  },
  {
   "cell_type": "markdown",
   "metadata": {},
   "source": [
    "Before we start let us make sure that you have the right versions of packages installed.\n",
    "\n",
    "The output of the command below should be:\n",
    "```\n",
    "  [6e4b80f9] BenchmarkTools v0.7.0\n",
    "  [336ed68f] CSV v0.8.4\n",
    "  [8be319e6] Chain v0.4.6\n",
    "  [a93c6f00] DataFrames v1.1.1\n",
    "  [7073ff75] IJulia v1.23.2\n",
    "  [0f8b85d8] JSON3 v1.8.1\n",
    "  [91a5bcdd] Plots v1.13.2\n",
    "```"
   ]
  },
  {
   "cell_type": "code",
   "execution_count": 1,
   "metadata": {},
   "outputs": [
    {
     "name": "stdout",
     "output_type": "stream",
     "text": [
      "\u001b[32m\u001b[1m      Status\u001b[22m\u001b[39m `D:\\DataFrames-Showcase\\Project.toml`\n",
      " \u001b[90m [6e4b80f9] \u001b[39m\u001b[37mBenchmarkTools v0.7.0\u001b[39m\n",
      " \u001b[90m [336ed68f] \u001b[39m\u001b[37mCSV v0.8.4\u001b[39m\n",
      " \u001b[90m [8be319e6] \u001b[39m\u001b[37mChain v0.4.6\u001b[39m\n",
      " \u001b[90m [a93c6f00] \u001b[39m\u001b[37mDataFrames v1.1.1\u001b[39m\n",
      " \u001b[90m [7073ff75] \u001b[39m\u001b[37mIJulia v1.23.2\u001b[39m\n",
      " \u001b[90m [0f8b85d8] \u001b[39m\u001b[37mJSON3 v1.8.1\u001b[39m\n",
      " \u001b[90m [91a5bcdd] \u001b[39m\u001b[37mPlots v1.13.2\u001b[39m\n"
     ]
    }
   ],
   "source": [
    "] status"
   ]
  },
  {
   "cell_type": "markdown",
   "metadata": {},
   "source": [
    "We start with loading the required packages and reading in the CSV file to a `DataFrame`:"
   ]
  },
  {
   "cell_type": "code",
   "execution_count": 2,
   "metadata": {},
   "outputs": [],
   "source": [
    "using BenchmarkTools\n",
    "using CSV\n",
    "using DataFrames\n",
    "using Dates\n",
    "using Chain\n",
    "using Plots"
   ]
  },
  {
   "cell_type": "code",
   "execution_count": 3,
   "metadata": {
    "scrolled": true
   },
   "outputs": [
    {
     "data": {
      "text/html": [
       "<table class=\"data-frame\"><thead><tr><th></th><th>Origin_airport</th><th>Destination_airport</th><th>Origin_city</th><th>Destination_city</th><th>Passengers</th></tr><tr><th></th><th>String</th><th>String</th><th>String</th><th>String</th><th>Int64</th></tr></thead><tbody><p>3,606,803 rows × 15 columns (omitted printing of 10 columns)</p><tr><th>1</th><td>MHK</td><td>AMW</td><td>Manhattan, KS</td><td>Ames, IA</td><td>21</td></tr><tr><th>2</th><td>EUG</td><td>RDM</td><td>Eugene, OR</td><td>Bend, OR</td><td>41</td></tr><tr><th>3</th><td>EUG</td><td>RDM</td><td>Eugene, OR</td><td>Bend, OR</td><td>88</td></tr><tr><th>4</th><td>EUG</td><td>RDM</td><td>Eugene, OR</td><td>Bend, OR</td><td>11</td></tr><tr><th>5</th><td>MFR</td><td>RDM</td><td>Medford, OR</td><td>Bend, OR</td><td>0</td></tr><tr><th>6</th><td>MFR</td><td>RDM</td><td>Medford, OR</td><td>Bend, OR</td><td>11</td></tr><tr><th>7</th><td>MFR</td><td>RDM</td><td>Medford, OR</td><td>Bend, OR</td><td>2</td></tr><tr><th>8</th><td>MFR</td><td>RDM</td><td>Medford, OR</td><td>Bend, OR</td><td>7</td></tr><tr><th>9</th><td>MFR</td><td>RDM</td><td>Medford, OR</td><td>Bend, OR</td><td>7</td></tr><tr><th>10</th><td>SEA</td><td>RDM</td><td>Seattle, WA</td><td>Bend, OR</td><td>8</td></tr><tr><th>11</th><td>SEA</td><td>RDM</td><td>Seattle, WA</td><td>Bend, OR</td><td>453</td></tr><tr><th>12</th><td>SEA</td><td>RDM</td><td>Seattle, WA</td><td>Bend, OR</td><td>784</td></tr><tr><th>13</th><td>SEA</td><td>RDM</td><td>Seattle, WA</td><td>Bend, OR</td><td>749</td></tr><tr><th>14</th><td>SEA</td><td>RDM</td><td>Seattle, WA</td><td>Bend, OR</td><td>11</td></tr><tr><th>15</th><td>PDX</td><td>RDM</td><td>Portland, OR</td><td>Bend, OR</td><td>349</td></tr><tr><th>16</th><td>PDX</td><td>RDM</td><td>Portland, OR</td><td>Bend, OR</td><td>1376</td></tr><tr><th>17</th><td>PDX</td><td>RDM</td><td>Portland, OR</td><td>Bend, OR</td><td>444</td></tr><tr><th>18</th><td>PDX</td><td>RDM</td><td>Portland, OR</td><td>Bend, OR</td><td>1949</td></tr><tr><th>19</th><td>PDX</td><td>RDM</td><td>Portland, OR</td><td>Bend, OR</td><td>381</td></tr><tr><th>20</th><td>PDX</td><td>RDM</td><td>Portland, OR</td><td>Bend, OR</td><td>1559</td></tr><tr><th>21</th><td>PDX</td><td>RDM</td><td>Portland, OR</td><td>Bend, OR</td><td>1852</td></tr><tr><th>22</th><td>PDX</td><td>RDM</td><td>Portland, OR</td><td>Bend, OR</td><td>483</td></tr><tr><th>23</th><td>PDX</td><td>RDM</td><td>Portland, OR</td><td>Bend, OR</td><td>1965</td></tr><tr><th>24</th><td>PDX</td><td>RDM</td><td>Portland, OR</td><td>Bend, OR</td><td>494</td></tr><tr><th>25</th><td>PDX</td><td>RDM</td><td>Portland, OR</td><td>Bend, OR</td><td>459</td></tr><tr><th>26</th><td>PDX</td><td>RDM</td><td>Portland, OR</td><td>Bend, OR</td><td>553</td></tr><tr><th>27</th><td>PDX</td><td>RDM</td><td>Portland, OR</td><td>Bend, OR</td><td>1887</td></tr><tr><th>28</th><td>PDX</td><td>RDM</td><td>Portland, OR</td><td>Bend, OR</td><td>773</td></tr><tr><th>29</th><td>PDX</td><td>RDM</td><td>Portland, OR</td><td>Bend, OR</td><td>1800</td></tr><tr><th>30</th><td>PDX</td><td>RDM</td><td>Portland, OR</td><td>Bend, OR</td><td>1173</td></tr><tr><th>&vellip;</th><td>&vellip;</td><td>&vellip;</td><td>&vellip;</td><td>&vellip;</td><td>&vellip;</td></tr></tbody></table>"
      ],
      "text/latex": [
       "\\begin{tabular}{r|cccccc}\n",
       "\t& Origin\\_airport & Destination\\_airport & Origin\\_city & Destination\\_city & Passengers & \\\\\n",
       "\t\\hline\n",
       "\t& String & String & String & String & Int64 & \\\\\n",
       "\t\\hline\n",
       "\t1 & MHK & AMW & Manhattan, KS & Ames, IA & 21 & $\\dots$ \\\\\n",
       "\t2 & EUG & RDM & Eugene, OR & Bend, OR & 41 & $\\dots$ \\\\\n",
       "\t3 & EUG & RDM & Eugene, OR & Bend, OR & 88 & $\\dots$ \\\\\n",
       "\t4 & EUG & RDM & Eugene, OR & Bend, OR & 11 & $\\dots$ \\\\\n",
       "\t5 & MFR & RDM & Medford, OR & Bend, OR & 0 & $\\dots$ \\\\\n",
       "\t6 & MFR & RDM & Medford, OR & Bend, OR & 11 & $\\dots$ \\\\\n",
       "\t7 & MFR & RDM & Medford, OR & Bend, OR & 2 & $\\dots$ \\\\\n",
       "\t8 & MFR & RDM & Medford, OR & Bend, OR & 7 & $\\dots$ \\\\\n",
       "\t9 & MFR & RDM & Medford, OR & Bend, OR & 7 & $\\dots$ \\\\\n",
       "\t10 & SEA & RDM & Seattle, WA & Bend, OR & 8 & $\\dots$ \\\\\n",
       "\t11 & SEA & RDM & Seattle, WA & Bend, OR & 453 & $\\dots$ \\\\\n",
       "\t12 & SEA & RDM & Seattle, WA & Bend, OR & 784 & $\\dots$ \\\\\n",
       "\t13 & SEA & RDM & Seattle, WA & Bend, OR & 749 & $\\dots$ \\\\\n",
       "\t14 & SEA & RDM & Seattle, WA & Bend, OR & 11 & $\\dots$ \\\\\n",
       "\t15 & PDX & RDM & Portland, OR & Bend, OR & 349 & $\\dots$ \\\\\n",
       "\t16 & PDX & RDM & Portland, OR & Bend, OR & 1376 & $\\dots$ \\\\\n",
       "\t17 & PDX & RDM & Portland, OR & Bend, OR & 444 & $\\dots$ \\\\\n",
       "\t18 & PDX & RDM & Portland, OR & Bend, OR & 1949 & $\\dots$ \\\\\n",
       "\t19 & PDX & RDM & Portland, OR & Bend, OR & 381 & $\\dots$ \\\\\n",
       "\t20 & PDX & RDM & Portland, OR & Bend, OR & 1559 & $\\dots$ \\\\\n",
       "\t21 & PDX & RDM & Portland, OR & Bend, OR & 1852 & $\\dots$ \\\\\n",
       "\t22 & PDX & RDM & Portland, OR & Bend, OR & 483 & $\\dots$ \\\\\n",
       "\t23 & PDX & RDM & Portland, OR & Bend, OR & 1965 & $\\dots$ \\\\\n",
       "\t24 & PDX & RDM & Portland, OR & Bend, OR & 494 & $\\dots$ \\\\\n",
       "\t25 & PDX & RDM & Portland, OR & Bend, OR & 459 & $\\dots$ \\\\\n",
       "\t26 & PDX & RDM & Portland, OR & Bend, OR & 553 & $\\dots$ \\\\\n",
       "\t27 & PDX & RDM & Portland, OR & Bend, OR & 1887 & $\\dots$ \\\\\n",
       "\t28 & PDX & RDM & Portland, OR & Bend, OR & 773 & $\\dots$ \\\\\n",
       "\t29 & PDX & RDM & Portland, OR & Bend, OR & 1800 & $\\dots$ \\\\\n",
       "\t30 & PDX & RDM & Portland, OR & Bend, OR & 1173 & $\\dots$ \\\\\n",
       "\t$\\dots$ & $\\dots$ & $\\dots$ & $\\dots$ & $\\dots$ & $\\dots$ &  \\\\\n",
       "\\end{tabular}\n"
      ],
      "text/plain": [
       "\u001b[1m3606803×15 DataFrame\u001b[0m\n",
       "\u001b[1m     Row \u001b[0m│\u001b[1m Origin_airport \u001b[0m\u001b[1m Destination_airport \u001b[0m\u001b[1m Origin_city        \u001b[0m\u001b[1m Destinatio\u001b[0m ⋯\n",
       "\u001b[1m         \u001b[0m│\u001b[90m String         \u001b[0m\u001b[90m String              \u001b[0m\u001b[90m String             \u001b[0m\u001b[90m String    \u001b[0m ⋯\n",
       "─────────┼──────────────────────────────────────────────────────────────────────\n",
       "       1 │ MHK             AMW                  Manhattan, KS       Ames, IA   ⋯\n",
       "       2 │ EUG             RDM                  Eugene, OR          Bend, OR\n",
       "       3 │ EUG             RDM                  Eugene, OR          Bend, OR\n",
       "       4 │ EUG             RDM                  Eugene, OR          Bend, OR\n",
       "       5 │ MFR             RDM                  Medford, OR         Bend, OR   ⋯\n",
       "       6 │ MFR             RDM                  Medford, OR         Bend, OR\n",
       "       7 │ MFR             RDM                  Medford, OR         Bend, OR\n",
       "       8 │ MFR             RDM                  Medford, OR         Bend, OR\n",
       "       9 │ MFR             RDM                  Medford, OR         Bend, OR   ⋯\n",
       "      10 │ SEA             RDM                  Seattle, WA         Bend, OR\n",
       "      11 │ SEA             RDM                  Seattle, WA         Bend, OR\n",
       "    ⋮    │       ⋮                  ⋮                   ⋮                      ⋱\n",
       " 3606794 │ STL             TBN                  St. Louis, MO       Fort Leona\n",
       " 3606795 │ STL             TBN                  St. Louis, MO       Fort Leona ⋯\n",
       " 3606796 │ STL             TBN                  St. Louis, MO       Fort Leona\n",
       " 3606797 │ STL             TBN                  St. Louis, MO       Fort Leona\n",
       " 3606798 │ STL             TBN                  St. Louis, MO       Fort Leona\n",
       " 3606799 │ STL             TBN                  St. Louis, MO       Fort Leona ⋯\n",
       " 3606800 │ STL             TBN                  St. Louis, MO       Fort Leona\n",
       " 3606801 │ STL             TBN                  St. Louis, MO       Fort Leona\n",
       " 3606802 │ CGI             TBN                  Cape Girardeau, MO  Fort Leona\n",
       " 3606803 │ FWA             OH1                  Fort Wayne, IN      Washington ⋯\n",
       "\u001b[36m                                             12 columns and 3606782 rows omitted\u001b[0m"
      ]
     },
     "execution_count": 3,
     "metadata": {},
     "output_type": "execute_result"
    }
   ],
   "source": [
    "df = CSV.read(\"Airports2.csv\", DataFrame)"
   ]
  },
  {
   "cell_type": "markdown",
   "metadata": {},
   "source": [
    "Before we move on let us change the display settings to allow for printing wider outupt and reduce the numbe of lines printed."
   ]
  },
  {
   "cell_type": "code",
   "execution_count": 4,
   "metadata": {},
   "outputs": [
    {
     "data": {
      "text/plain": [
       "20"
      ]
     },
     "execution_count": 4,
     "metadata": {},
     "output_type": "execute_result"
    }
   ],
   "source": [
    "ENV[\"LINES\"] = 20 # lines are counted in number of rows printed"
   ]
  },
  {
   "cell_type": "code",
   "execution_count": 5,
   "metadata": {},
   "outputs": [
    {
     "data": {
      "text/plain": [
       "1000"
      ]
     },
     "execution_count": 5,
     "metadata": {},
     "output_type": "execute_result"
    }
   ],
   "source": [
    "ENV[\"COLUMNS\"] = 1000 # columns are counted in characters"
   ]
  },
  {
   "cell_type": "markdown",
   "metadata": {},
   "source": [
    "After these changes Jupyter Notebook shoud show us all columns of the data frame we have just loaded. Let us check it."
   ]
  },
  {
   "cell_type": "code",
   "execution_count": 6,
   "metadata": {
    "scrolled": true
   },
   "outputs": [
    {
     "data": {
      "text/html": [
       "<table class=\"data-frame\"><thead><tr><th></th><th>Origin_airport</th><th>Destination_airport</th><th>Origin_city</th><th>Destination_city</th><th>Passengers</th><th>Seats</th><th>Flights</th><th>Distance</th><th>Fly_date</th><th>Origin_population</th><th>Destination_population</th><th>Org_airport_lat</th><th>Org_airport_long</th><th>Dest_airport_lat</th><th>Dest_airport_long</th></tr><tr><th></th><th>String</th><th>String</th><th>String</th><th>String</th><th>Int64</th><th>Int64</th><th>Int64</th><th>Int64</th><th>Date</th><th>Int64</th><th>Int64</th><th>String</th><th>String</th><th>String</th><th>String</th></tr></thead><tbody><p>3,606,803 rows × 15 columns</p><tr><th>1</th><td>MHK</td><td>AMW</td><td>Manhattan, KS</td><td>Ames, IA</td><td>21</td><td>30</td><td>1</td><td>254</td><td>2008-10-01</td><td>122049</td><td>86219</td><td>39.140998840332</td><td>-96.6707992553711</td><td>NA</td><td>NA</td></tr><tr><th>2</th><td>EUG</td><td>RDM</td><td>Eugene, OR</td><td>Bend, OR</td><td>41</td><td>396</td><td>22</td><td>103</td><td>1990-11-01</td><td>284093</td><td>76034</td><td>44.1245994567871</td><td>-123.21199798584</td><td>44.2541008</td><td>-121.1500015</td></tr><tr><th>3</th><td>EUG</td><td>RDM</td><td>Eugene, OR</td><td>Bend, OR</td><td>88</td><td>342</td><td>19</td><td>103</td><td>1990-12-01</td><td>284093</td><td>76034</td><td>44.1245994567871</td><td>-123.21199798584</td><td>44.2541008</td><td>-121.1500015</td></tr><tr><th>4</th><td>EUG</td><td>RDM</td><td>Eugene, OR</td><td>Bend, OR</td><td>11</td><td>72</td><td>4</td><td>103</td><td>1990-10-01</td><td>284093</td><td>76034</td><td>44.1245994567871</td><td>-123.21199798584</td><td>44.2541008</td><td>-121.1500015</td></tr><tr><th>5</th><td>MFR</td><td>RDM</td><td>Medford, OR</td><td>Bend, OR</td><td>0</td><td>18</td><td>1</td><td>156</td><td>1990-02-01</td><td>147300</td><td>76034</td><td>42.3741989135742</td><td>-122.873001098633</td><td>44.2541008</td><td>-121.1500015</td></tr><tr><th>6</th><td>MFR</td><td>RDM</td><td>Medford, OR</td><td>Bend, OR</td><td>11</td><td>18</td><td>1</td><td>156</td><td>1990-03-01</td><td>147300</td><td>76034</td><td>42.3741989135742</td><td>-122.873001098633</td><td>44.2541008</td><td>-121.1500015</td></tr><tr><th>7</th><td>MFR</td><td>RDM</td><td>Medford, OR</td><td>Bend, OR</td><td>2</td><td>72</td><td>4</td><td>156</td><td>1990-01-01</td><td>147300</td><td>76034</td><td>42.3741989135742</td><td>-122.873001098633</td><td>44.2541008</td><td>-121.1500015</td></tr><tr><th>8</th><td>MFR</td><td>RDM</td><td>Medford, OR</td><td>Bend, OR</td><td>7</td><td>18</td><td>1</td><td>156</td><td>1990-09-01</td><td>147300</td><td>76034</td><td>42.3741989135742</td><td>-122.873001098633</td><td>44.2541008</td><td>-121.1500015</td></tr><tr><th>9</th><td>MFR</td><td>RDM</td><td>Medford, OR</td><td>Bend, OR</td><td>7</td><td>36</td><td>2</td><td>156</td><td>1990-11-01</td><td>147300</td><td>76034</td><td>42.3741989135742</td><td>-122.873001098633</td><td>44.2541008</td><td>-121.1500015</td></tr><tr><th>10</th><td>SEA</td><td>RDM</td><td>Seattle, WA</td><td>Bend, OR</td><td>8</td><td>18</td><td>1</td><td>228</td><td>1990-02-01</td><td>5154164</td><td>76034</td><td>47.4490013122559</td><td>-122.30899810791</td><td>44.2541008</td><td>-121.1500015</td></tr><tr><th>11</th><td>SEA</td><td>RDM</td><td>Seattle, WA</td><td>Bend, OR</td><td>453</td><td>3128</td><td>23</td><td>228</td><td>1990-01-01</td><td>5154164</td><td>76034</td><td>47.4490013122559</td><td>-122.30899810791</td><td>44.2541008</td><td>-121.1500015</td></tr><tr><th>12</th><td>SEA</td><td>RDM</td><td>Seattle, WA</td><td>Bend, OR</td><td>784</td><td>2720</td><td>20</td><td>228</td><td>1990-02-01</td><td>5154164</td><td>76034</td><td>47.4490013122559</td><td>-122.30899810791</td><td>44.2541008</td><td>-121.1500015</td></tr><tr><th>13</th><td>SEA</td><td>RDM</td><td>Seattle, WA</td><td>Bend, OR</td><td>749</td><td>2992</td><td>22</td><td>228</td><td>1990-03-01</td><td>5154164</td><td>76034</td><td>47.4490013122559</td><td>-122.30899810791</td><td>44.2541008</td><td>-121.1500015</td></tr><tr><th>14</th><td>SEA</td><td>RDM</td><td>Seattle, WA</td><td>Bend, OR</td><td>11</td><td>18</td><td>1</td><td>228</td><td>1990-04-01</td><td>5154164</td><td>76034</td><td>47.4490013122559</td><td>-122.30899810791</td><td>44.2541008</td><td>-121.1500015</td></tr><tr><th>15</th><td>PDX</td><td>RDM</td><td>Portland, OR</td><td>Bend, OR</td><td>349</td><td>851</td><td>23</td><td>116</td><td>1990-01-01</td><td>1534762</td><td>76034</td><td>45.58869934</td><td>-122.5979996</td><td>44.2541008</td><td>-121.1500015</td></tr><tr><th>16</th><td>PDX</td><td>RDM</td><td>Portland, OR</td><td>Bend, OR</td><td>1376</td><td>2898</td><td>161</td><td>116</td><td>1990-01-01</td><td>1534762</td><td>76034</td><td>45.58869934</td><td>-122.5979996</td><td>44.2541008</td><td>-121.1500015</td></tr><tr><th>17</th><td>PDX</td><td>RDM</td><td>Portland, OR</td><td>Bend, OR</td><td>444</td><td>1110</td><td>30</td><td>116</td><td>1990-10-01</td><td>1534762</td><td>76034</td><td>45.58869934</td><td>-122.5979996</td><td>44.2541008</td><td>-121.1500015</td></tr><tr><th>18</th><td>PDX</td><td>RDM</td><td>Portland, OR</td><td>Bend, OR</td><td>1949</td><td>3261</td><td>187</td><td>116</td><td>1990-06-01</td><td>1534762</td><td>76034</td><td>45.58869934</td><td>-122.5979996</td><td>44.2541008</td><td>-121.1500015</td></tr><tr><th>19</th><td>PDX</td><td>RDM</td><td>Portland, OR</td><td>Bend, OR</td><td>381</td><td>814</td><td>22</td><td>116</td><td>1990-02-01</td><td>1534762</td><td>76034</td><td>45.58869934</td><td>-122.5979996</td><td>44.2541008</td><td>-121.1500015</td></tr><tr><th>20</th><td>PDX</td><td>RDM</td><td>Portland, OR</td><td>Bend, OR</td><td>1559</td><td>2772</td><td>154</td><td>116</td><td>1990-02-01</td><td>1534762</td><td>76034</td><td>45.58869934</td><td>-122.5979996</td><td>44.2541008</td><td>-121.1500015</td></tr><tr><th>&vellip;</th><td>&vellip;</td><td>&vellip;</td><td>&vellip;</td><td>&vellip;</td><td>&vellip;</td><td>&vellip;</td><td>&vellip;</td><td>&vellip;</td><td>&vellip;</td><td>&vellip;</td><td>&vellip;</td><td>&vellip;</td><td>&vellip;</td><td>&vellip;</td><td>&vellip;</td></tr></tbody></table>"
      ],
      "text/latex": [
       "\\begin{tabular}{r|ccccccccccccccc}\n",
       "\t& Origin\\_airport & Destination\\_airport & Origin\\_city & Destination\\_city & Passengers & Seats & Flights & Distance & Fly\\_date & Origin\\_population & Destination\\_population & Org\\_airport\\_lat & Org\\_airport\\_long & Dest\\_airport\\_lat & Dest\\_airport\\_long\\\\\n",
       "\t\\hline\n",
       "\t& String & String & String & String & Int64 & Int64 & Int64 & Int64 & Date & Int64 & Int64 & String & String & String & String\\\\\n",
       "\t\\hline\n",
       "\t1 & MHK & AMW & Manhattan, KS & Ames, IA & 21 & 30 & 1 & 254 & 2008-10-01 & 122049 & 86219 & 39.140998840332 & -96.6707992553711 & NA & NA \\\\\n",
       "\t2 & EUG & RDM & Eugene, OR & Bend, OR & 41 & 396 & 22 & 103 & 1990-11-01 & 284093 & 76034 & 44.1245994567871 & -123.21199798584 & 44.2541008 & -121.1500015 \\\\\n",
       "\t3 & EUG & RDM & Eugene, OR & Bend, OR & 88 & 342 & 19 & 103 & 1990-12-01 & 284093 & 76034 & 44.1245994567871 & -123.21199798584 & 44.2541008 & -121.1500015 \\\\\n",
       "\t4 & EUG & RDM & Eugene, OR & Bend, OR & 11 & 72 & 4 & 103 & 1990-10-01 & 284093 & 76034 & 44.1245994567871 & -123.21199798584 & 44.2541008 & -121.1500015 \\\\\n",
       "\t5 & MFR & RDM & Medford, OR & Bend, OR & 0 & 18 & 1 & 156 & 1990-02-01 & 147300 & 76034 & 42.3741989135742 & -122.873001098633 & 44.2541008 & -121.1500015 \\\\\n",
       "\t6 & MFR & RDM & Medford, OR & Bend, OR & 11 & 18 & 1 & 156 & 1990-03-01 & 147300 & 76034 & 42.3741989135742 & -122.873001098633 & 44.2541008 & -121.1500015 \\\\\n",
       "\t7 & MFR & RDM & Medford, OR & Bend, OR & 2 & 72 & 4 & 156 & 1990-01-01 & 147300 & 76034 & 42.3741989135742 & -122.873001098633 & 44.2541008 & -121.1500015 \\\\\n",
       "\t8 & MFR & RDM & Medford, OR & Bend, OR & 7 & 18 & 1 & 156 & 1990-09-01 & 147300 & 76034 & 42.3741989135742 & -122.873001098633 & 44.2541008 & -121.1500015 \\\\\n",
       "\t9 & MFR & RDM & Medford, OR & Bend, OR & 7 & 36 & 2 & 156 & 1990-11-01 & 147300 & 76034 & 42.3741989135742 & -122.873001098633 & 44.2541008 & -121.1500015 \\\\\n",
       "\t10 & SEA & RDM & Seattle, WA & Bend, OR & 8 & 18 & 1 & 228 & 1990-02-01 & 5154164 & 76034 & 47.4490013122559 & -122.30899810791 & 44.2541008 & -121.1500015 \\\\\n",
       "\t11 & SEA & RDM & Seattle, WA & Bend, OR & 453 & 3128 & 23 & 228 & 1990-01-01 & 5154164 & 76034 & 47.4490013122559 & -122.30899810791 & 44.2541008 & -121.1500015 \\\\\n",
       "\t12 & SEA & RDM & Seattle, WA & Bend, OR & 784 & 2720 & 20 & 228 & 1990-02-01 & 5154164 & 76034 & 47.4490013122559 & -122.30899810791 & 44.2541008 & -121.1500015 \\\\\n",
       "\t13 & SEA & RDM & Seattle, WA & Bend, OR & 749 & 2992 & 22 & 228 & 1990-03-01 & 5154164 & 76034 & 47.4490013122559 & -122.30899810791 & 44.2541008 & -121.1500015 \\\\\n",
       "\t14 & SEA & RDM & Seattle, WA & Bend, OR & 11 & 18 & 1 & 228 & 1990-04-01 & 5154164 & 76034 & 47.4490013122559 & -122.30899810791 & 44.2541008 & -121.1500015 \\\\\n",
       "\t15 & PDX & RDM & Portland, OR & Bend, OR & 349 & 851 & 23 & 116 & 1990-01-01 & 1534762 & 76034 & 45.58869934 & -122.5979996 & 44.2541008 & -121.1500015 \\\\\n",
       "\t16 & PDX & RDM & Portland, OR & Bend, OR & 1376 & 2898 & 161 & 116 & 1990-01-01 & 1534762 & 76034 & 45.58869934 & -122.5979996 & 44.2541008 & -121.1500015 \\\\\n",
       "\t17 & PDX & RDM & Portland, OR & Bend, OR & 444 & 1110 & 30 & 116 & 1990-10-01 & 1534762 & 76034 & 45.58869934 & -122.5979996 & 44.2541008 & -121.1500015 \\\\\n",
       "\t18 & PDX & RDM & Portland, OR & Bend, OR & 1949 & 3261 & 187 & 116 & 1990-06-01 & 1534762 & 76034 & 45.58869934 & -122.5979996 & 44.2541008 & -121.1500015 \\\\\n",
       "\t19 & PDX & RDM & Portland, OR & Bend, OR & 381 & 814 & 22 & 116 & 1990-02-01 & 1534762 & 76034 & 45.58869934 & -122.5979996 & 44.2541008 & -121.1500015 \\\\\n",
       "\t20 & PDX & RDM & Portland, OR & Bend, OR & 1559 & 2772 & 154 & 116 & 1990-02-01 & 1534762 & 76034 & 45.58869934 & -122.5979996 & 44.2541008 & -121.1500015 \\\\\n",
       "\t$\\dots$ & $\\dots$ & $\\dots$ & $\\dots$ & $\\dots$ & $\\dots$ & $\\dots$ & $\\dots$ & $\\dots$ & $\\dots$ & $\\dots$ & $\\dots$ & $\\dots$ & $\\dots$ & $\\dots$ & $\\dots$ \\\\\n",
       "\\end{tabular}\n"
      ],
      "text/plain": [
       "\u001b[1m3606803×15 DataFrame\u001b[0m\n",
       "\u001b[1m     Row \u001b[0m│\u001b[1m Origin_airport \u001b[0m\u001b[1m Destination_airport \u001b[0m\u001b[1m Origin_city        \u001b[0m\u001b[1m Destination_city           \u001b[0m\u001b[1m Passengers \u001b[0m\u001b[1m Seats \u001b[0m\u001b[1m Flights \u001b[0m\u001b[1m Distance \u001b[0m\u001b[1m Fly_date   \u001b[0m\u001b[1m Origin_population \u001b[0m\u001b[1m Destination_population \u001b[0m\u001b[1m Org_airport_lat  \u001b[0m\u001b[1m Org_airport_long  \u001b[0m\u001b[1m Dest_airport_lat \u001b[0m\u001b[1m Dest_airport_long \u001b[0m\n",
       "\u001b[1m         \u001b[0m│\u001b[90m String         \u001b[0m\u001b[90m String              \u001b[0m\u001b[90m String             \u001b[0m\u001b[90m String                     \u001b[0m\u001b[90m Int64      \u001b[0m\u001b[90m Int64 \u001b[0m\u001b[90m Int64   \u001b[0m\u001b[90m Int64    \u001b[0m\u001b[90m Date       \u001b[0m\u001b[90m Int64             \u001b[0m\u001b[90m Int64                  \u001b[0m\u001b[90m String           \u001b[0m\u001b[90m String            \u001b[0m\u001b[90m String           \u001b[0m\u001b[90m String            \u001b[0m\n",
       "─────────┼────────────────────────────────────────────────────────────────────────────────────────────────────────────────────────────────────────────────────────────────────────────────────────────────────────────────────────────────────────────────────────────\n",
       "       1 │ MHK             AMW                  Manhattan, KS       Ames, IA                            21     30        1       254  2008-10-01             122049                   86219  39.140998840332   -96.6707992553711  NA                NA\n",
       "       2 │ EUG             RDM                  Eugene, OR          Bend, OR                            41    396       22       103  1990-11-01             284093                   76034  44.1245994567871  -123.21199798584   44.2541008        -121.1500015\n",
       "       3 │ EUG             RDM                  Eugene, OR          Bend, OR                            88    342       19       103  1990-12-01             284093                   76034  44.1245994567871  -123.21199798584   44.2541008        -121.1500015\n",
       "       4 │ EUG             RDM                  Eugene, OR          Bend, OR                            11     72        4       103  1990-10-01             284093                   76034  44.1245994567871  -123.21199798584   44.2541008        -121.1500015\n",
       "       5 │ MFR             RDM                  Medford, OR         Bend, OR                             0     18        1       156  1990-02-01             147300                   76034  42.3741989135742  -122.873001098633  44.2541008        -121.1500015\n",
       "       6 │ MFR             RDM                  Medford, OR         Bend, OR                            11     18        1       156  1990-03-01             147300                   76034  42.3741989135742  -122.873001098633  44.2541008        -121.1500015\n",
       "    ⋮    │       ⋮                  ⋮                   ⋮                       ⋮                   ⋮         ⋮       ⋮        ⋮          ⋮               ⋮                    ⋮                    ⋮                  ⋮                 ⋮                  ⋮\n",
       " 3606799 │ STL             TBN                  St. Louis, MO       Fort Leonard Wood, MO              281    969       51       119  2009-02-01            2828990                   46457  38.7486991882324  -90.370002746582   37.74160004       -92.14070129\n",
       " 3606800 │ STL             TBN                  St. Louis, MO       Fort Leonard Wood, MO              245   1026       54       119  2009-11-01            2828990                   46457  38.7486991882324  -90.370002746582   37.74160004       -92.14070129\n",
       " 3606801 │ STL             TBN                  St. Louis, MO       Fort Leonard Wood, MO              363   1273       67       119  2009-08-01            2828990                   46457  38.7486991882324  -90.370002746582   37.74160004       -92.14070129\n",
       " 3606802 │ CGI             TBN                  Cape Girardeau, MO  Fort Leonard Wood, MO                2     19        1       146  2009-08-01              93712                   46457  37.2252998352051  -89.57080078125    37.74160004       -92.14070129\n",
       " 3606803 │ FWA             OH1                  Fort Wayne, IN      Washington Court House, OH           0      0        1       135  2003-09-01             398574                   28133  40.97850037       -85.19509888       NA                NA\n",
       "\u001b[36m                                                                                                                                                                                                                                                  3606792 rows omitted\u001b[0m"
      ]
     },
     "execution_count": 6,
     "metadata": {},
     "output_type": "execute_result"
    }
   ],
   "source": [
    "df"
   ]
  },
  {
   "cell_type": "markdown",
   "metadata": {},
   "source": [
    "Our data frame contains the following columns:\n",
    "\n",
    "1. `:Origin_airport`: Three letter airport code of the origin airport\n",
    "2. `:Destination_airport`: Three letter airport code of the destination airport\n",
    "3. `:Origin_city`: Origin city name\n",
    "4. `:Destination_city`: Destination city name\n",
    "5. `:Passengers`: Number of passengers transported from origin to destination\n",
    "6. `:Seats`: Number of seats available on flights from origin to destination\n",
    "7. `:Flights`: Number of flights between origin and destination (multiple records for one month, many with flights > 1)\n",
    "8. `:Distance`: Distance (to nearest mile) flown between origin and destination\n",
    "9. `:Fly_date`: The date (yyyymm) of flight\n",
    "10. `:Origin_population`: Origin city's population as reported by US Census\n",
    "11. `:Destination_population`: Destination city's population as reported by US Census\n",
    "\n",
    "Let us first investigate its metadata"
   ]
  },
  {
   "cell_type": "code",
   "execution_count": 7,
   "metadata": {},
   "outputs": [
    {
     "data": {
      "text/plain": [
       "(3606803, 15)"
      ]
     },
     "execution_count": 7,
     "metadata": {},
     "output_type": "execute_result"
    }
   ],
   "source": [
    "size(df)"
   ]
  },
  {
   "cell_type": "code",
   "execution_count": 8,
   "metadata": {},
   "outputs": [
    {
     "data": {
      "text/plain": [
       "3606803"
      ]
     },
     "execution_count": 8,
     "metadata": {},
     "output_type": "execute_result"
    }
   ],
   "source": [
    "nrow(df)"
   ]
  },
  {
   "cell_type": "code",
   "execution_count": 9,
   "metadata": {},
   "outputs": [
    {
     "data": {
      "text/plain": [
       "15"
      ]
     },
     "execution_count": 9,
     "metadata": {},
     "output_type": "execute_result"
    }
   ],
   "source": [
    "ncol(df)"
   ]
  },
  {
   "cell_type": "code",
   "execution_count": 10,
   "metadata": {},
   "outputs": [
    {
     "data": {
      "text/plain": [
       "15-element Vector{String}:\n",
       " \"Origin_airport\"\n",
       " \"Destination_airport\"\n",
       " \"Origin_city\"\n",
       " \"Destination_city\"\n",
       " \"Passengers\"\n",
       " \"Seats\"\n",
       " \"Flights\"\n",
       " \"Distance\"\n",
       " \"Fly_date\"\n",
       " \"Origin_population\"\n",
       " \"Destination_population\"\n",
       " \"Org_airport_lat\"\n",
       " \"Org_airport_long\"\n",
       " \"Dest_airport_lat\"\n",
       " \"Dest_airport_long\""
      ]
     },
     "execution_count": 10,
     "metadata": {},
     "output_type": "execute_result"
    }
   ],
   "source": [
    "names(df)"
   ]
  },
  {
   "cell_type": "code",
   "execution_count": 11,
   "metadata": {},
   "outputs": [
    {
     "data": {
      "text/plain": [
       "15-element Vector{Symbol}:\n",
       " :Origin_airport\n",
       " :Destination_airport\n",
       " :Origin_city\n",
       " :Destination_city\n",
       " :Passengers\n",
       " :Seats\n",
       " :Flights\n",
       " :Distance\n",
       " :Fly_date\n",
       " :Origin_population\n",
       " :Destination_population\n",
       " :Org_airport_lat\n",
       " :Org_airport_long\n",
       " :Dest_airport_lat\n",
       " :Dest_airport_long"
      ]
     },
     "execution_count": 11,
     "metadata": {},
     "output_type": "execute_result"
    }
   ],
   "source": [
    "propertynames(df)"
   ]
  },
  {
   "cell_type": "markdown",
   "metadata": {},
   "source": [
    "An important thing to note is that the `names` function returns a vector of `String`s and the `propertynames` function returns a vector of `Symbol`s.\n",
    "\n",
    "In DataFrames.jl both strings and `Symbol`s can be used for column indexing."
   ]
  },
  {
   "cell_type": "markdown",
   "metadata": {},
   "source": [
    "Let us now get some summary statistics of our data set using the `describe` function:"
   ]
  },
  {
   "cell_type": "code",
   "execution_count": 12,
   "metadata": {},
   "outputs": [
    {
     "data": {
      "text/html": [
       "<table class=\"data-frame\"><thead><tr><th></th><th>variable</th><th>mean</th><th>min</th><th>median</th><th>max</th><th>nmissing</th><th>eltype</th></tr><tr><th></th><th>Symbol</th><th>Union…</th><th>Any</th><th>Union…</th><th>Any</th><th>Int64</th><th>DataType</th></tr></thead><tbody><p>15 rows × 7 columns</p><tr><th>1</th><td>Origin_airport</td><td></td><td>1B1</td><td></td><td>ZZV</td><td>0</td><td>String</td></tr><tr><th>2</th><td>Destination_airport</td><td></td><td>1B1</td><td></td><td>ZZV</td><td>0</td><td>String</td></tr><tr><th>3</th><td>Origin_city</td><td></td><td>Aberdeen, SD</td><td></td><td>Zanesville, OH</td><td>0</td><td>String</td></tr><tr><th>4</th><td>Destination_city</td><td></td><td>Aberdeen, SD</td><td></td><td>Zanesville, OH</td><td>0</td><td>String</td></tr><tr><th>5</th><td>Passengers</td><td>2688.91</td><td>0</td><td>1118.0</td><td>89597</td><td>0</td><td>Int64</td></tr><tr><th>6</th><td>Seats</td><td>4048.3</td><td>0</td><td>1998.0</td><td>147062</td><td>0</td><td>Int64</td></tr><tr><th>7</th><td>Flights</td><td>37.2289</td><td>0</td><td>25.0</td><td>1128</td><td>0</td><td>Int64</td></tr><tr><th>8</th><td>Distance</td><td>697.319</td><td>0</td><td>519.0</td><td>5095</td><td>0</td><td>Int64</td></tr><tr><th>9</th><td>Fly_date</td><td></td><td>1990-01-01</td><td></td><td>2009-12-01</td><td>0</td><td>Date</td></tr><tr><th>10</th><td>Origin_population</td><td>5.8715e6</td><td>13005</td><td>2.40019e6</td><td>38139592</td><td>0</td><td>Int64</td></tr><tr><th>11</th><td>Destination_population</td><td>5.89798e6</td><td>12887</td><td>2.40019e6</td><td>38139592</td><td>0</td><td>Int64</td></tr><tr><th>12</th><td>Org_airport_lat</td><td></td><td>19.721399307251</td><td></td><td>NA</td><td>0</td><td>String</td></tr><tr><th>13</th><td>Org_airport_long</td><td></td><td>-100.2860031</td><td></td><td>NA</td><td>0</td><td>String</td></tr><tr><th>14</th><td>Dest_airport_lat</td><td></td><td>19.721399307251</td><td></td><td>NA</td><td>0</td><td>String</td></tr><tr><th>15</th><td>Dest_airport_long</td><td></td><td>-100.2860031</td><td></td><td>NA</td><td>0</td><td>String</td></tr></tbody></table>"
      ],
      "text/latex": [
       "\\begin{tabular}{r|ccccccc}\n",
       "\t& variable & mean & min & median & max & nmissing & eltype\\\\\n",
       "\t\\hline\n",
       "\t& Symbol & Union… & Any & Union… & Any & Int64 & DataType\\\\\n",
       "\t\\hline\n",
       "\t1 & Origin\\_airport &  & 1B1 &  & ZZV & 0 & String \\\\\n",
       "\t2 & Destination\\_airport &  & 1B1 &  & ZZV & 0 & String \\\\\n",
       "\t3 & Origin\\_city &  & Aberdeen, SD &  & Zanesville, OH & 0 & String \\\\\n",
       "\t4 & Destination\\_city &  & Aberdeen, SD &  & Zanesville, OH & 0 & String \\\\\n",
       "\t5 & Passengers & 2688.91 & 0 & 1118.0 & 89597 & 0 & Int64 \\\\\n",
       "\t6 & Seats & 4048.3 & 0 & 1998.0 & 147062 & 0 & Int64 \\\\\n",
       "\t7 & Flights & 37.2289 & 0 & 25.0 & 1128 & 0 & Int64 \\\\\n",
       "\t8 & Distance & 697.319 & 0 & 519.0 & 5095 & 0 & Int64 \\\\\n",
       "\t9 & Fly\\_date &  & 1990-01-01 &  & 2009-12-01 & 0 & Date \\\\\n",
       "\t10 & Origin\\_population & 5.8715e6 & 13005 & 2.40019e6 & 38139592 & 0 & Int64 \\\\\n",
       "\t11 & Destination\\_population & 5.89798e6 & 12887 & 2.40019e6 & 38139592 & 0 & Int64 \\\\\n",
       "\t12 & Org\\_airport\\_lat &  & 19.721399307251 &  & NA & 0 & String \\\\\n",
       "\t13 & Org\\_airport\\_long &  & -100.2860031 &  & NA & 0 & String \\\\\n",
       "\t14 & Dest\\_airport\\_lat &  & 19.721399307251 &  & NA & 0 & String \\\\\n",
       "\t15 & Dest\\_airport\\_long &  & -100.2860031 &  & NA & 0 & String \\\\\n",
       "\\end{tabular}\n"
      ],
      "text/plain": [
       "\u001b[1m15×7 DataFrame\u001b[0m\n",
       "\u001b[1m Row \u001b[0m│\u001b[1m variable               \u001b[0m\u001b[1m mean      \u001b[0m\u001b[1m min             \u001b[0m\u001b[1m median    \u001b[0m\u001b[1m max            \u001b[0m\u001b[1m nmissing \u001b[0m\u001b[1m eltype   \u001b[0m\n",
       "\u001b[1m     \u001b[0m│\u001b[90m Symbol                 \u001b[0m\u001b[90m Union…    \u001b[0m\u001b[90m Any             \u001b[0m\u001b[90m Union…    \u001b[0m\u001b[90m Any            \u001b[0m\u001b[90m Int64    \u001b[0m\u001b[90m DataType \u001b[0m\n",
       "─────┼───────────────────────────────────────────────────────────────────────────────────────────────────\n",
       "   1 │ Origin_airport         \u001b[90m           \u001b[0m 1B1             \u001b[90m           \u001b[0m ZZV                    0  String\n",
       "   2 │ Destination_airport    \u001b[90m           \u001b[0m 1B1             \u001b[90m           \u001b[0m ZZV                    0  String\n",
       "   3 │ Origin_city            \u001b[90m           \u001b[0m Aberdeen, SD    \u001b[90m           \u001b[0m Zanesville, OH         0  String\n",
       "   4 │ Destination_city       \u001b[90m           \u001b[0m Aberdeen, SD    \u001b[90m           \u001b[0m Zanesville, OH         0  String\n",
       "   5 │ Passengers              2688.91    0                1118.0     89597                  0  Int64\n",
       "   6 │ Seats                   4048.3     0                1998.0     147062                 0  Int64\n",
       "  ⋮  │           ⋮                 ⋮             ⋮             ⋮            ⋮            ⋮         ⋮\n",
       "  11 │ Destination_population  5.89798e6  12887            2.40019e6  38139592               0  Int64\n",
       "  12 │ Org_airport_lat        \u001b[90m           \u001b[0m 19.721399307251 \u001b[90m           \u001b[0m NA                     0  String\n",
       "  13 │ Org_airport_long       \u001b[90m           \u001b[0m -100.2860031    \u001b[90m           \u001b[0m NA                     0  String\n",
       "  14 │ Dest_airport_lat       \u001b[90m           \u001b[0m 19.721399307251 \u001b[90m           \u001b[0m NA                     0  String\n",
       "  15 │ Dest_airport_long      \u001b[90m           \u001b[0m -100.2860031    \u001b[90m           \u001b[0m NA                     0  String\n",
       "\u001b[36m                                                                                           4 rows omitted\u001b[0m"
      ]
     },
     "execution_count": 12,
     "metadata": {},
     "output_type": "execute_result"
    }
   ],
   "source": [
    "describe(df)"
   ]
  },
  {
   "cell_type": "markdown",
   "metadata": {},
   "source": [
    "In particular note that CSV.jl correctly idenfitied `:Fly_date` column as being a `Date` type."
   ]
  },
  {
   "cell_type": "markdown",
   "metadata": {},
   "source": [
    "When we investigate the summary statistics we note that there are flights that potentially have `0` passengers, `0` seats, or `0` flights.\n",
    "\n",
    "In parctice if you get such data it is good to investigate it, as it shows some potential data quality issues.\n",
    "\n",
    "Let us investigate into it (with a first deep-dive into new features of DataFrames.jl available since 0.21 release)."
   ]
  },
  {
   "cell_type": "code",
   "execution_count": 13,
   "metadata": {},
   "outputs": [
    {
     "data": {
      "text/html": [
       "<table class=\"data-frame\"><thead><tr><th></th><th>Passengers</th><th>Seats</th><th>Flights</th><th>nrow</th></tr><tr><th></th><th>Bool</th><th>Bool</th><th>Bool</th><th>Int64</th></tr></thead><tbody><p>8 rows × 4 columns</p><tr><th>1</th><td>0</td><td>0</td><td>0</td><td>11239</td></tr><tr><th>2</th><td>0</td><td>0</td><td>1</td><td>322787</td></tr><tr><th>3</th><td>0</td><td>1</td><td>0</td><td>94</td></tr><tr><th>4</th><td>0</td><td>1</td><td>1</td><td>51772</td></tr><tr><th>5</th><td>1</td><td>0</td><td>0</td><td>7</td></tr><tr><th>6</th><td>1</td><td>0</td><td>1</td><td>3</td></tr><tr><th>7</th><td>1</td><td>1</td><td>0</td><td>56</td></tr><tr><th>8</th><td>1</td><td>1</td><td>1</td><td>3220845</td></tr></tbody></table>"
      ],
      "text/latex": [
       "\\begin{tabular}{r|cccc}\n",
       "\t& Passengers & Seats & Flights & nrow\\\\\n",
       "\t\\hline\n",
       "\t& Bool & Bool & Bool & Int64\\\\\n",
       "\t\\hline\n",
       "\t1 & 0 & 0 & 0 & 11239 \\\\\n",
       "\t2 & 0 & 0 & 1 & 322787 \\\\\n",
       "\t3 & 0 & 1 & 0 & 94 \\\\\n",
       "\t4 & 0 & 1 & 1 & 51772 \\\\\n",
       "\t5 & 1 & 0 & 0 & 7 \\\\\n",
       "\t6 & 1 & 0 & 1 & 3 \\\\\n",
       "\t7 & 1 & 1 & 0 & 56 \\\\\n",
       "\t8 & 1 & 1 & 1 & 3220845 \\\\\n",
       "\\end{tabular}\n"
      ],
      "text/plain": [
       "\u001b[1m8×4 DataFrame\u001b[0m\n",
       "\u001b[1m Row \u001b[0m│\u001b[1m Passengers \u001b[0m\u001b[1m Seats \u001b[0m\u001b[1m Flights \u001b[0m\u001b[1m nrow    \u001b[0m\n",
       "\u001b[1m     \u001b[0m│\u001b[90m Bool       \u001b[0m\u001b[90m Bool  \u001b[0m\u001b[90m Bool    \u001b[0m\u001b[90m Int64   \u001b[0m\n",
       "─────┼─────────────────────────────────────\n",
       "   1 │      false  false    false    11239\n",
       "   2 │      false  false     true   322787\n",
       "   3 │      false   true    false       94\n",
       "   4 │      false   true     true    51772\n",
       "   5 │       true  false    false        7\n",
       "   6 │       true  false     true        3\n",
       "   7 │       true   true    false       56\n",
       "   8 │       true   true     true  3220845"
      ]
     },
     "execution_count": 13,
     "metadata": {},
     "output_type": "execute_result"
    }
   ],
   "source": [
    "@chain df begin\n",
    "    select(:Passengers, :Seats, :Flights)\n",
    "    mapcols(ByRow(>(0)), _)\n",
    "    groupby(:, sort=true)\n",
    "    combine(nrow)\n",
    "end"
   ]
  },
  {
   "cell_type": "markdown",
   "metadata": {},
   "source": [
    "Before interpreting the results let us dissect the code:\n",
    "1. `@chain` is a macro from Pipe.jl package, that makes it easy to chain function calls and makes `_` a placeholder for a value returned by a function that was earlier in the chain (you can read about the details here: https://github.com/jkrumbiegel/Chain.jl)\n",
    "2. `select` creates a new data frame that keeps only three columns that we are interested in\n",
    "3. `mapcols` transforms each column of our data frame to have `Bool` element; it will have a value `true` if an entry is greater than `0` and `false` otherwise. In this way we are able to easily idenfity rows with `0` entries, as they are most interesting for us\n",
    "4. `groupby` groups our data frame by all columns and tells DataFrames.jl that the gorups should be sorted\n",
    "5. finally `combine` just counts the number of rows in each group"
   ]
  },
  {
   "cell_type": "markdown",
   "metadata": {},
   "source": [
    "Now going to our results - some of entries can be explained, like `0` passenges, but some seats and some flights (I guess it means that just no one took some flight).\n",
    "\n",
    "However cases like some passengers, but `0` seats and `0` flights are probably a mistake in data (we have 7 rows that have this combination of values).\n",
    "\n",
    "Let us try to find these 7 rows in two ways:"
   ]
  },
  {
   "cell_type": "code",
   "execution_count": 14,
   "metadata": {},
   "outputs": [
    {
     "data": {
      "text/html": [
       "<table class=\"data-frame\"><thead><tr><th></th><th>Origin_airport</th><th>Destination_airport</th><th>Origin_city</th><th>Destination_city</th><th>Passengers</th><th>Seats</th><th>Flights</th><th>Distance</th><th>Fly_date</th><th>Origin_population</th><th>Destination_population</th><th>Org_airport_lat</th><th>Org_airport_long</th><th>Dest_airport_lat</th><th>Dest_airport_long</th></tr><tr><th></th><th>String</th><th>String</th><th>String</th><th>String</th><th>Int64</th><th>Int64</th><th>Int64</th><th>Int64</th><th>Date</th><th>Int64</th><th>Int64</th><th>String</th><th>String</th><th>String</th><th>String</th></tr></thead><tbody><p>7 rows × 15 columns</p><tr><th>1</th><td>ABR</td><td>PIR</td><td>Aberdeen, SD</td><td>Pierre, SD</td><td>11</td><td>0</td><td>0</td><td>117</td><td>1997-11-01</td><td>39903</td><td>18289</td><td>45.4491004943848</td><td>-98.4217987060547</td><td>44.38270187</td><td>-100.2860031</td></tr><tr><th>2</th><td>IAD</td><td>BKW</td><td>Washington, DC</td><td>Beckley, WV</td><td>2</td><td>0</td><td>0</td><td>215</td><td>2002-12-01</td><td>10029142</td><td>78851</td><td>38.94449997</td><td>-77.45580292</td><td>37.7873001099</td><td>-81.1241989136</td></tr><tr><th>3</th><td>IAD</td><td>BKW</td><td>Washington, DC</td><td>Beckley, WV</td><td>1</td><td>0</td><td>0</td><td>215</td><td>2003-02-01</td><td>10172752</td><td>78587</td><td>38.94449997</td><td>-77.45580292</td><td>37.7873001099</td><td>-81.1241989136</td></tr><tr><th>4</th><td>IAD</td><td>BKW</td><td>Washington, DC</td><td>Beckley, WV</td><td>2</td><td>0</td><td>0</td><td>215</td><td>2003-03-01</td><td>10172752</td><td>78587</td><td>38.94449997</td><td>-77.45580292</td><td>37.7873001099</td><td>-81.1241989136</td></tr><tr><th>5</th><td>BOS</td><td>LAS</td><td>Boston, MA</td><td>Las Vegas, NV</td><td>9</td><td>0</td><td>0</td><td>2381</td><td>1993-06-01</td><td>8260582</td><td>877917</td><td>42.36429977</td><td>-71.00520325</td><td>36.08010101</td><td>-115.1520004</td></tr><tr><th>6</th><td>BKW</td><td>IAD</td><td>Beckley, WV</td><td>Washington, DC</td><td>7</td><td>0</td><td>0</td><td>215</td><td>2002-12-01</td><td>78851</td><td>10029142</td><td>37.7873001099</td><td>-81.1241989136</td><td>38.94449997</td><td>-77.45580292</td></tr><tr><th>7</th><td>CMI</td><td>BMI</td><td>Champaign, IL</td><td>Bloomington, IL</td><td>6</td><td>0</td><td>0</td><td>46</td><td>1997-11-01</td><td>201107</td><td>141699</td><td>40.03919983</td><td>-88.27809906</td><td>40.47710037</td><td>-88.91590118</td></tr></tbody></table>"
      ],
      "text/latex": [
       "\\begin{tabular}{r|ccccccccccccccc}\n",
       "\t& Origin\\_airport & Destination\\_airport & Origin\\_city & Destination\\_city & Passengers & Seats & Flights & Distance & Fly\\_date & Origin\\_population & Destination\\_population & Org\\_airport\\_lat & Org\\_airport\\_long & Dest\\_airport\\_lat & Dest\\_airport\\_long\\\\\n",
       "\t\\hline\n",
       "\t& String & String & String & String & Int64 & Int64 & Int64 & Int64 & Date & Int64 & Int64 & String & String & String & String\\\\\n",
       "\t\\hline\n",
       "\t1 & ABR & PIR & Aberdeen, SD & Pierre, SD & 11 & 0 & 0 & 117 & 1997-11-01 & 39903 & 18289 & 45.4491004943848 & -98.4217987060547 & 44.38270187 & -100.2860031 \\\\\n",
       "\t2 & IAD & BKW & Washington, DC & Beckley, WV & 2 & 0 & 0 & 215 & 2002-12-01 & 10029142 & 78851 & 38.94449997 & -77.45580292 & 37.7873001099 & -81.1241989136 \\\\\n",
       "\t3 & IAD & BKW & Washington, DC & Beckley, WV & 1 & 0 & 0 & 215 & 2003-02-01 & 10172752 & 78587 & 38.94449997 & -77.45580292 & 37.7873001099 & -81.1241989136 \\\\\n",
       "\t4 & IAD & BKW & Washington, DC & Beckley, WV & 2 & 0 & 0 & 215 & 2003-03-01 & 10172752 & 78587 & 38.94449997 & -77.45580292 & 37.7873001099 & -81.1241989136 \\\\\n",
       "\t5 & BOS & LAS & Boston, MA & Las Vegas, NV & 9 & 0 & 0 & 2381 & 1993-06-01 & 8260582 & 877917 & 42.36429977 & -71.00520325 & 36.08010101 & -115.1520004 \\\\\n",
       "\t6 & BKW & IAD & Beckley, WV & Washington, DC & 7 & 0 & 0 & 215 & 2002-12-01 & 78851 & 10029142 & 37.7873001099 & -81.1241989136 & 38.94449997 & -77.45580292 \\\\\n",
       "\t7 & CMI & BMI & Champaign, IL & Bloomington, IL & 6 & 0 & 0 & 46 & 1997-11-01 & 201107 & 141699 & 40.03919983 & -88.27809906 & 40.47710037 & -88.91590118 \\\\\n",
       "\\end{tabular}\n"
      ],
      "text/plain": [
       "\u001b[1m7×15 DataFrame\u001b[0m\n",
       "\u001b[1m Row \u001b[0m│\u001b[1m Origin_airport \u001b[0m\u001b[1m Destination_airport \u001b[0m\u001b[1m Origin_city    \u001b[0m\u001b[1m Destination_city \u001b[0m\u001b[1m Passengers \u001b[0m\u001b[1m Seats \u001b[0m\u001b[1m Flights \u001b[0m\u001b[1m Distance \u001b[0m\u001b[1m Fly_date   \u001b[0m\u001b[1m Origin_population \u001b[0m\u001b[1m Destination_population \u001b[0m\u001b[1m Org_airport_lat  \u001b[0m\u001b[1m Org_airport_long  \u001b[0m\u001b[1m Dest_airport_lat \u001b[0m\u001b[1m Dest_airport_long \u001b[0m\n",
       "\u001b[1m     \u001b[0m│\u001b[90m String         \u001b[0m\u001b[90m String              \u001b[0m\u001b[90m String         \u001b[0m\u001b[90m String           \u001b[0m\u001b[90m Int64      \u001b[0m\u001b[90m Int64 \u001b[0m\u001b[90m Int64   \u001b[0m\u001b[90m Int64    \u001b[0m\u001b[90m Date       \u001b[0m\u001b[90m Int64             \u001b[0m\u001b[90m Int64                  \u001b[0m\u001b[90m String           \u001b[0m\u001b[90m String            \u001b[0m\u001b[90m String           \u001b[0m\u001b[90m String            \u001b[0m\n",
       "─────┼──────────────────────────────────────────────────────────────────────────────────────────────────────────────────────────────────────────────────────────────────────────────────────────────────────────────────────────────────────────────\n",
       "   1 │ ABR             PIR                  Aberdeen, SD    Pierre, SD                11      0        0       117  1997-11-01              39903                   18289  45.4491004943848  -98.4217987060547  44.38270187       -100.2860031\n",
       "   2 │ IAD             BKW                  Washington, DC  Beckley, WV                2      0        0       215  2002-12-01           10029142                   78851  38.94449997       -77.45580292       37.7873001099     -81.1241989136\n",
       "   3 │ IAD             BKW                  Washington, DC  Beckley, WV                1      0        0       215  2003-02-01           10172752                   78587  38.94449997       -77.45580292       37.7873001099     -81.1241989136\n",
       "   4 │ IAD             BKW                  Washington, DC  Beckley, WV                2      0        0       215  2003-03-01           10172752                   78587  38.94449997       -77.45580292       37.7873001099     -81.1241989136\n",
       "   5 │ BOS             LAS                  Boston, MA      Las Vegas, NV              9      0        0      2381  1993-06-01            8260582                  877917  42.36429977       -71.00520325       36.08010101       -115.1520004\n",
       "   6 │ BKW             IAD                  Beckley, WV     Washington, DC             7      0        0       215  2002-12-01              78851                10029142  37.7873001099     -81.1241989136     38.94449997       -77.45580292\n",
       "   7 │ CMI             BMI                  Champaign, IL   Bloomington, IL            6      0        0        46  1997-11-01             201107                  141699  40.03919983       -88.27809906       40.47710037       -88.91590118"
      ]
     },
     "execution_count": 14,
     "metadata": {},
     "output_type": "execute_result"
    }
   ],
   "source": [
    "filter(row -> row.Passengers > 0 && row.Seats == 0 && row.Flights == 0, df)"
   ]
  },
  {
   "cell_type": "code",
   "execution_count": 15,
   "metadata": {},
   "outputs": [
    {
     "data": {
      "text/html": [
       "<table class=\"data-frame\"><thead><tr><th></th><th>Origin_airport</th><th>Destination_airport</th><th>Origin_city</th><th>Destination_city</th><th>Passengers</th><th>Seats</th><th>Flights</th><th>Distance</th><th>Fly_date</th><th>Origin_population</th><th>Destination_population</th><th>Org_airport_lat</th><th>Org_airport_long</th><th>Dest_airport_lat</th><th>Dest_airport_long</th></tr><tr><th></th><th>String</th><th>String</th><th>String</th><th>String</th><th>Int64</th><th>Int64</th><th>Int64</th><th>Int64</th><th>Date</th><th>Int64</th><th>Int64</th><th>String</th><th>String</th><th>String</th><th>String</th></tr></thead><tbody><p>7 rows × 15 columns</p><tr><th>1</th><td>ABR</td><td>PIR</td><td>Aberdeen, SD</td><td>Pierre, SD</td><td>11</td><td>0</td><td>0</td><td>117</td><td>1997-11-01</td><td>39903</td><td>18289</td><td>45.4491004943848</td><td>-98.4217987060547</td><td>44.38270187</td><td>-100.2860031</td></tr><tr><th>2</th><td>IAD</td><td>BKW</td><td>Washington, DC</td><td>Beckley, WV</td><td>2</td><td>0</td><td>0</td><td>215</td><td>2002-12-01</td><td>10029142</td><td>78851</td><td>38.94449997</td><td>-77.45580292</td><td>37.7873001099</td><td>-81.1241989136</td></tr><tr><th>3</th><td>IAD</td><td>BKW</td><td>Washington, DC</td><td>Beckley, WV</td><td>1</td><td>0</td><td>0</td><td>215</td><td>2003-02-01</td><td>10172752</td><td>78587</td><td>38.94449997</td><td>-77.45580292</td><td>37.7873001099</td><td>-81.1241989136</td></tr><tr><th>4</th><td>IAD</td><td>BKW</td><td>Washington, DC</td><td>Beckley, WV</td><td>2</td><td>0</td><td>0</td><td>215</td><td>2003-03-01</td><td>10172752</td><td>78587</td><td>38.94449997</td><td>-77.45580292</td><td>37.7873001099</td><td>-81.1241989136</td></tr><tr><th>5</th><td>BOS</td><td>LAS</td><td>Boston, MA</td><td>Las Vegas, NV</td><td>9</td><td>0</td><td>0</td><td>2381</td><td>1993-06-01</td><td>8260582</td><td>877917</td><td>42.36429977</td><td>-71.00520325</td><td>36.08010101</td><td>-115.1520004</td></tr><tr><th>6</th><td>BKW</td><td>IAD</td><td>Beckley, WV</td><td>Washington, DC</td><td>7</td><td>0</td><td>0</td><td>215</td><td>2002-12-01</td><td>78851</td><td>10029142</td><td>37.7873001099</td><td>-81.1241989136</td><td>38.94449997</td><td>-77.45580292</td></tr><tr><th>7</th><td>CMI</td><td>BMI</td><td>Champaign, IL</td><td>Bloomington, IL</td><td>6</td><td>0</td><td>0</td><td>46</td><td>1997-11-01</td><td>201107</td><td>141699</td><td>40.03919983</td><td>-88.27809906</td><td>40.47710037</td><td>-88.91590118</td></tr></tbody></table>"
      ],
      "text/latex": [
       "\\begin{tabular}{r|ccccccccccccccc}\n",
       "\t& Origin\\_airport & Destination\\_airport & Origin\\_city & Destination\\_city & Passengers & Seats & Flights & Distance & Fly\\_date & Origin\\_population & Destination\\_population & Org\\_airport\\_lat & Org\\_airport\\_long & Dest\\_airport\\_lat & Dest\\_airport\\_long\\\\\n",
       "\t\\hline\n",
       "\t& String & String & String & String & Int64 & Int64 & Int64 & Int64 & Date & Int64 & Int64 & String & String & String & String\\\\\n",
       "\t\\hline\n",
       "\t1 & ABR & PIR & Aberdeen, SD & Pierre, SD & 11 & 0 & 0 & 117 & 1997-11-01 & 39903 & 18289 & 45.4491004943848 & -98.4217987060547 & 44.38270187 & -100.2860031 \\\\\n",
       "\t2 & IAD & BKW & Washington, DC & Beckley, WV & 2 & 0 & 0 & 215 & 2002-12-01 & 10029142 & 78851 & 38.94449997 & -77.45580292 & 37.7873001099 & -81.1241989136 \\\\\n",
       "\t3 & IAD & BKW & Washington, DC & Beckley, WV & 1 & 0 & 0 & 215 & 2003-02-01 & 10172752 & 78587 & 38.94449997 & -77.45580292 & 37.7873001099 & -81.1241989136 \\\\\n",
       "\t4 & IAD & BKW & Washington, DC & Beckley, WV & 2 & 0 & 0 & 215 & 2003-03-01 & 10172752 & 78587 & 38.94449997 & -77.45580292 & 37.7873001099 & -81.1241989136 \\\\\n",
       "\t5 & BOS & LAS & Boston, MA & Las Vegas, NV & 9 & 0 & 0 & 2381 & 1993-06-01 & 8260582 & 877917 & 42.36429977 & -71.00520325 & 36.08010101 & -115.1520004 \\\\\n",
       "\t6 & BKW & IAD & Beckley, WV & Washington, DC & 7 & 0 & 0 & 215 & 2002-12-01 & 78851 & 10029142 & 37.7873001099 & -81.1241989136 & 38.94449997 & -77.45580292 \\\\\n",
       "\t7 & CMI & BMI & Champaign, IL & Bloomington, IL & 6 & 0 & 0 & 46 & 1997-11-01 & 201107 & 141699 & 40.03919983 & -88.27809906 & 40.47710037 & -88.91590118 \\\\\n",
       "\\end{tabular}\n"
      ],
      "text/plain": [
       "\u001b[1m7×15 DataFrame\u001b[0m\n",
       "\u001b[1m Row \u001b[0m│\u001b[1m Origin_airport \u001b[0m\u001b[1m Destination_airport \u001b[0m\u001b[1m Origin_city    \u001b[0m\u001b[1m Destination_city \u001b[0m\u001b[1m Passengers \u001b[0m\u001b[1m Seats \u001b[0m\u001b[1m Flights \u001b[0m\u001b[1m Distance \u001b[0m\u001b[1m Fly_date   \u001b[0m\u001b[1m Origin_population \u001b[0m\u001b[1m Destination_population \u001b[0m\u001b[1m Org_airport_lat  \u001b[0m\u001b[1m Org_airport_long  \u001b[0m\u001b[1m Dest_airport_lat \u001b[0m\u001b[1m Dest_airport_long \u001b[0m\n",
       "\u001b[1m     \u001b[0m│\u001b[90m String         \u001b[0m\u001b[90m String              \u001b[0m\u001b[90m String         \u001b[0m\u001b[90m String           \u001b[0m\u001b[90m Int64      \u001b[0m\u001b[90m Int64 \u001b[0m\u001b[90m Int64   \u001b[0m\u001b[90m Int64    \u001b[0m\u001b[90m Date       \u001b[0m\u001b[90m Int64             \u001b[0m\u001b[90m Int64                  \u001b[0m\u001b[90m String           \u001b[0m\u001b[90m String            \u001b[0m\u001b[90m String           \u001b[0m\u001b[90m String            \u001b[0m\n",
       "─────┼──────────────────────────────────────────────────────────────────────────────────────────────────────────────────────────────────────────────────────────────────────────────────────────────────────────────────────────────────────────────\n",
       "   1 │ ABR             PIR                  Aberdeen, SD    Pierre, SD                11      0        0       117  1997-11-01              39903                   18289  45.4491004943848  -98.4217987060547  44.38270187       -100.2860031\n",
       "   2 │ IAD             BKW                  Washington, DC  Beckley, WV                2      0        0       215  2002-12-01           10029142                   78851  38.94449997       -77.45580292       37.7873001099     -81.1241989136\n",
       "   3 │ IAD             BKW                  Washington, DC  Beckley, WV                1      0        0       215  2003-02-01           10172752                   78587  38.94449997       -77.45580292       37.7873001099     -81.1241989136\n",
       "   4 │ IAD             BKW                  Washington, DC  Beckley, WV                2      0        0       215  2003-03-01           10172752                   78587  38.94449997       -77.45580292       37.7873001099     -81.1241989136\n",
       "   5 │ BOS             LAS                  Boston, MA      Las Vegas, NV              9      0        0      2381  1993-06-01            8260582                  877917  42.36429977       -71.00520325       36.08010101       -115.1520004\n",
       "   6 │ BKW             IAD                  Beckley, WV     Washington, DC             7      0        0       215  2002-12-01              78851                10029142  37.7873001099     -81.1241989136     38.94449997       -77.45580292\n",
       "   7 │ CMI             BMI                  Champaign, IL   Bloomington, IL            6      0        0        46  1997-11-01             201107                  141699  40.03919983       -88.27809906       40.47710037       -88.91590118"
      ]
     },
     "execution_count": 15,
     "metadata": {},
     "output_type": "execute_result"
    }
   ],
   "source": [
    "subset(df, :Passengers => ByRow(>(0)), :Seats => ByRow(==(0)), :Flights  => ByRow(==(0)))"
   ]
  },
  {
   "cell_type": "markdown",
   "metadata": {},
   "source": [
    "Let us compare the timing of both options:"
   ]
  },
  {
   "cell_type": "code",
   "execution_count": 16,
   "metadata": {},
   "outputs": [
    {
     "name": "stdout",
     "output_type": "stream",
     "text": [
      "  0.930423 seconds (18.43 M allocations: 295.490 MiB, 10.18% gc time, 11.19% compilation time)\n"
     ]
    }
   ],
   "source": [
    "@time filter(row -> row.Passengers > 0 && row.Seats == 0 && row.Flights == 0, df);"
   ]
  },
  {
   "cell_type": "code",
   "execution_count": 17,
   "metadata": {},
   "outputs": [
    {
     "name": "stdout",
     "output_type": "stream",
     "text": [
      "  0.013042 seconds (380 allocations: 10.774 MiB)\n"
     ]
    }
   ],
   "source": [
    "@time subset(df, :Passengers => ByRow(>(0)), :Seats => ByRow(==(0)), :Flights  => ByRow(==(0)));"
   ]
  },
  {
   "cell_type": "markdown",
   "metadata": {},
   "source": [
    "Now let us move to another analysis.\n",
    "\n",
    "We want to get an information about the occupancy of each flight. It can be calculated as ratio of the number of passengers and number of seats time number of flights. The problem is that if there are `0` seats or flights we would be dividing by `0` and get a `NaN` result. We prefer to get a `missing` value in this case. Therefore first define a helper function:"
   ]
  },
  {
   "cell_type": "code",
   "execution_count": 18,
   "metadata": {},
   "outputs": [
    {
     "data": {
      "text/plain": [
       "get_occupied (generic function with 1 method)"
      ]
     },
     "execution_count": 18,
     "metadata": {},
     "output_type": "execute_result"
    }
   ],
   "source": [
    "function get_occupied(passengers, seats, flights)\n",
    "    if seats == 0 || flights == 0\n",
    "        return missing\n",
    "    else\n",
    "        return passengers / (seats * flights)\n",
    "    end\n",
    "end"
   ]
  },
  {
   "cell_type": "markdown",
   "metadata": {},
   "source": [
    "and now we use it to add a new column to our data frame. Additionally we create three new columns:\n",
    "1. `:ost`: state of the origin city\n",
    "2. `:dst`: state of the destination city\n",
    "3. `:year`: year of flight"
   ]
  },
  {
   "cell_type": "code",
   "execution_count": 19,
   "metadata": {
    "scrolled": true
   },
   "outputs": [
    {
     "data": {
      "text/html": [
       "<table class=\"data-frame\"><thead><tr><th></th><th>Origin_airport</th><th>Destination_airport</th><th>Origin_city</th><th>Destination_city</th><th>Passengers</th><th>Seats</th><th>Flights</th><th>Distance</th><th>Fly_date</th><th>Origin_population</th><th>Destination_population</th><th>Org_airport_lat</th><th>Org_airport_long</th><th>Dest_airport_lat</th><th>Dest_airport_long</th><th>occupied</th><th>ost</th><th>dst</th><th>year</th></tr><tr><th></th><th>String</th><th>String</th><th>String</th><th>String</th><th>Int64</th><th>Int64</th><th>Int64</th><th>Int64</th><th>Date</th><th>Int64</th><th>Int64</th><th>String</th><th>String</th><th>String</th><th>String</th><th>Float64?</th><th>String</th><th>String</th><th>Int64</th></tr></thead><tbody><p>3,606,803 rows × 19 columns</p><tr><th>1</th><td>MHK</td><td>AMW</td><td>Manhattan, KS</td><td>Ames, IA</td><td>21</td><td>30</td><td>1</td><td>254</td><td>2008-10-01</td><td>122049</td><td>86219</td><td>39.140998840332</td><td>-96.6707992553711</td><td>NA</td><td>NA</td><td>0.7</td><td>KS</td><td>IA</td><td>2008</td></tr><tr><th>2</th><td>EUG</td><td>RDM</td><td>Eugene, OR</td><td>Bend, OR</td><td>41</td><td>396</td><td>22</td><td>103</td><td>1990-11-01</td><td>284093</td><td>76034</td><td>44.1245994567871</td><td>-123.21199798584</td><td>44.2541008</td><td>-121.1500015</td><td>0.00470615</td><td>OR</td><td>OR</td><td>1990</td></tr><tr><th>3</th><td>EUG</td><td>RDM</td><td>Eugene, OR</td><td>Bend, OR</td><td>88</td><td>342</td><td>19</td><td>103</td><td>1990-12-01</td><td>284093</td><td>76034</td><td>44.1245994567871</td><td>-123.21199798584</td><td>44.2541008</td><td>-121.1500015</td><td>0.0135426</td><td>OR</td><td>OR</td><td>1990</td></tr><tr><th>4</th><td>EUG</td><td>RDM</td><td>Eugene, OR</td><td>Bend, OR</td><td>11</td><td>72</td><td>4</td><td>103</td><td>1990-10-01</td><td>284093</td><td>76034</td><td>44.1245994567871</td><td>-123.21199798584</td><td>44.2541008</td><td>-121.1500015</td><td>0.0381944</td><td>OR</td><td>OR</td><td>1990</td></tr><tr><th>5</th><td>MFR</td><td>RDM</td><td>Medford, OR</td><td>Bend, OR</td><td>0</td><td>18</td><td>1</td><td>156</td><td>1990-02-01</td><td>147300</td><td>76034</td><td>42.3741989135742</td><td>-122.873001098633</td><td>44.2541008</td><td>-121.1500015</td><td>0.0</td><td>OR</td><td>OR</td><td>1990</td></tr><tr><th>6</th><td>MFR</td><td>RDM</td><td>Medford, OR</td><td>Bend, OR</td><td>11</td><td>18</td><td>1</td><td>156</td><td>1990-03-01</td><td>147300</td><td>76034</td><td>42.3741989135742</td><td>-122.873001098633</td><td>44.2541008</td><td>-121.1500015</td><td>0.611111</td><td>OR</td><td>OR</td><td>1990</td></tr><tr><th>7</th><td>MFR</td><td>RDM</td><td>Medford, OR</td><td>Bend, OR</td><td>2</td><td>72</td><td>4</td><td>156</td><td>1990-01-01</td><td>147300</td><td>76034</td><td>42.3741989135742</td><td>-122.873001098633</td><td>44.2541008</td><td>-121.1500015</td><td>0.00694444</td><td>OR</td><td>OR</td><td>1990</td></tr><tr><th>8</th><td>MFR</td><td>RDM</td><td>Medford, OR</td><td>Bend, OR</td><td>7</td><td>18</td><td>1</td><td>156</td><td>1990-09-01</td><td>147300</td><td>76034</td><td>42.3741989135742</td><td>-122.873001098633</td><td>44.2541008</td><td>-121.1500015</td><td>0.388889</td><td>OR</td><td>OR</td><td>1990</td></tr><tr><th>9</th><td>MFR</td><td>RDM</td><td>Medford, OR</td><td>Bend, OR</td><td>7</td><td>36</td><td>2</td><td>156</td><td>1990-11-01</td><td>147300</td><td>76034</td><td>42.3741989135742</td><td>-122.873001098633</td><td>44.2541008</td><td>-121.1500015</td><td>0.0972222</td><td>OR</td><td>OR</td><td>1990</td></tr><tr><th>10</th><td>SEA</td><td>RDM</td><td>Seattle, WA</td><td>Bend, OR</td><td>8</td><td>18</td><td>1</td><td>228</td><td>1990-02-01</td><td>5154164</td><td>76034</td><td>47.4490013122559</td><td>-122.30899810791</td><td>44.2541008</td><td>-121.1500015</td><td>0.444444</td><td>WA</td><td>OR</td><td>1990</td></tr><tr><th>11</th><td>SEA</td><td>RDM</td><td>Seattle, WA</td><td>Bend, OR</td><td>453</td><td>3128</td><td>23</td><td>228</td><td>1990-01-01</td><td>5154164</td><td>76034</td><td>47.4490013122559</td><td>-122.30899810791</td><td>44.2541008</td><td>-121.1500015</td><td>0.00629656</td><td>WA</td><td>OR</td><td>1990</td></tr><tr><th>12</th><td>SEA</td><td>RDM</td><td>Seattle, WA</td><td>Bend, OR</td><td>784</td><td>2720</td><td>20</td><td>228</td><td>1990-02-01</td><td>5154164</td><td>76034</td><td>47.4490013122559</td><td>-122.30899810791</td><td>44.2541008</td><td>-121.1500015</td><td>0.0144118</td><td>WA</td><td>OR</td><td>1990</td></tr><tr><th>13</th><td>SEA</td><td>RDM</td><td>Seattle, WA</td><td>Bend, OR</td><td>749</td><td>2992</td><td>22</td><td>228</td><td>1990-03-01</td><td>5154164</td><td>76034</td><td>47.4490013122559</td><td>-122.30899810791</td><td>44.2541008</td><td>-121.1500015</td><td>0.0113788</td><td>WA</td><td>OR</td><td>1990</td></tr><tr><th>14</th><td>SEA</td><td>RDM</td><td>Seattle, WA</td><td>Bend, OR</td><td>11</td><td>18</td><td>1</td><td>228</td><td>1990-04-01</td><td>5154164</td><td>76034</td><td>47.4490013122559</td><td>-122.30899810791</td><td>44.2541008</td><td>-121.1500015</td><td>0.611111</td><td>WA</td><td>OR</td><td>1990</td></tr><tr><th>15</th><td>PDX</td><td>RDM</td><td>Portland, OR</td><td>Bend, OR</td><td>349</td><td>851</td><td>23</td><td>116</td><td>1990-01-01</td><td>1534762</td><td>76034</td><td>45.58869934</td><td>-122.5979996</td><td>44.2541008</td><td>-121.1500015</td><td>0.0178307</td><td>OR</td><td>OR</td><td>1990</td></tr><tr><th>16</th><td>PDX</td><td>RDM</td><td>Portland, OR</td><td>Bend, OR</td><td>1376</td><td>2898</td><td>161</td><td>116</td><td>1990-01-01</td><td>1534762</td><td>76034</td><td>45.58869934</td><td>-122.5979996</td><td>44.2541008</td><td>-121.1500015</td><td>0.00294913</td><td>OR</td><td>OR</td><td>1990</td></tr><tr><th>17</th><td>PDX</td><td>RDM</td><td>Portland, OR</td><td>Bend, OR</td><td>444</td><td>1110</td><td>30</td><td>116</td><td>1990-10-01</td><td>1534762</td><td>76034</td><td>45.58869934</td><td>-122.5979996</td><td>44.2541008</td><td>-121.1500015</td><td>0.0133333</td><td>OR</td><td>OR</td><td>1990</td></tr><tr><th>18</th><td>PDX</td><td>RDM</td><td>Portland, OR</td><td>Bend, OR</td><td>1949</td><td>3261</td><td>187</td><td>116</td><td>1990-06-01</td><td>1534762</td><td>76034</td><td>45.58869934</td><td>-122.5979996</td><td>44.2541008</td><td>-121.1500015</td><td>0.00319609</td><td>OR</td><td>OR</td><td>1990</td></tr><tr><th>19</th><td>PDX</td><td>RDM</td><td>Portland, OR</td><td>Bend, OR</td><td>381</td><td>814</td><td>22</td><td>116</td><td>1990-02-01</td><td>1534762</td><td>76034</td><td>45.58869934</td><td>-122.5979996</td><td>44.2541008</td><td>-121.1500015</td><td>0.0212754</td><td>OR</td><td>OR</td><td>1990</td></tr><tr><th>20</th><td>PDX</td><td>RDM</td><td>Portland, OR</td><td>Bend, OR</td><td>1559</td><td>2772</td><td>154</td><td>116</td><td>1990-02-01</td><td>1534762</td><td>76034</td><td>45.58869934</td><td>-122.5979996</td><td>44.2541008</td><td>-121.1500015</td><td>0.00365201</td><td>OR</td><td>OR</td><td>1990</td></tr><tr><th>&vellip;</th><td>&vellip;</td><td>&vellip;</td><td>&vellip;</td><td>&vellip;</td><td>&vellip;</td><td>&vellip;</td><td>&vellip;</td><td>&vellip;</td><td>&vellip;</td><td>&vellip;</td><td>&vellip;</td><td>&vellip;</td><td>&vellip;</td><td>&vellip;</td><td>&vellip;</td><td>&vellip;</td><td>&vellip;</td><td>&vellip;</td><td>&vellip;</td></tr></tbody></table>"
      ],
      "text/latex": [
       "\\begin{tabular}{r|ccccccccccccccccccc}\n",
       "\t& Origin\\_airport & Destination\\_airport & Origin\\_city & Destination\\_city & Passengers & Seats & Flights & Distance & Fly\\_date & Origin\\_population & Destination\\_population & Org\\_airport\\_lat & Org\\_airport\\_long & Dest\\_airport\\_lat & Dest\\_airport\\_long & occupied & ost & dst & year\\\\\n",
       "\t\\hline\n",
       "\t& String & String & String & String & Int64 & Int64 & Int64 & Int64 & Date & Int64 & Int64 & String & String & String & String & Float64? & String & String & Int64\\\\\n",
       "\t\\hline\n",
       "\t1 & MHK & AMW & Manhattan, KS & Ames, IA & 21 & 30 & 1 & 254 & 2008-10-01 & 122049 & 86219 & 39.140998840332 & -96.6707992553711 & NA & NA & 0.7 & KS & IA & 2008 \\\\\n",
       "\t2 & EUG & RDM & Eugene, OR & Bend, OR & 41 & 396 & 22 & 103 & 1990-11-01 & 284093 & 76034 & 44.1245994567871 & -123.21199798584 & 44.2541008 & -121.1500015 & 0.00470615 & OR & OR & 1990 \\\\\n",
       "\t3 & EUG & RDM & Eugene, OR & Bend, OR & 88 & 342 & 19 & 103 & 1990-12-01 & 284093 & 76034 & 44.1245994567871 & -123.21199798584 & 44.2541008 & -121.1500015 & 0.0135426 & OR & OR & 1990 \\\\\n",
       "\t4 & EUG & RDM & Eugene, OR & Bend, OR & 11 & 72 & 4 & 103 & 1990-10-01 & 284093 & 76034 & 44.1245994567871 & -123.21199798584 & 44.2541008 & -121.1500015 & 0.0381944 & OR & OR & 1990 \\\\\n",
       "\t5 & MFR & RDM & Medford, OR & Bend, OR & 0 & 18 & 1 & 156 & 1990-02-01 & 147300 & 76034 & 42.3741989135742 & -122.873001098633 & 44.2541008 & -121.1500015 & 0.0 & OR & OR & 1990 \\\\\n",
       "\t6 & MFR & RDM & Medford, OR & Bend, OR & 11 & 18 & 1 & 156 & 1990-03-01 & 147300 & 76034 & 42.3741989135742 & -122.873001098633 & 44.2541008 & -121.1500015 & 0.611111 & OR & OR & 1990 \\\\\n",
       "\t7 & MFR & RDM & Medford, OR & Bend, OR & 2 & 72 & 4 & 156 & 1990-01-01 & 147300 & 76034 & 42.3741989135742 & -122.873001098633 & 44.2541008 & -121.1500015 & 0.00694444 & OR & OR & 1990 \\\\\n",
       "\t8 & MFR & RDM & Medford, OR & Bend, OR & 7 & 18 & 1 & 156 & 1990-09-01 & 147300 & 76034 & 42.3741989135742 & -122.873001098633 & 44.2541008 & -121.1500015 & 0.388889 & OR & OR & 1990 \\\\\n",
       "\t9 & MFR & RDM & Medford, OR & Bend, OR & 7 & 36 & 2 & 156 & 1990-11-01 & 147300 & 76034 & 42.3741989135742 & -122.873001098633 & 44.2541008 & -121.1500015 & 0.0972222 & OR & OR & 1990 \\\\\n",
       "\t10 & SEA & RDM & Seattle, WA & Bend, OR & 8 & 18 & 1 & 228 & 1990-02-01 & 5154164 & 76034 & 47.4490013122559 & -122.30899810791 & 44.2541008 & -121.1500015 & 0.444444 & WA & OR & 1990 \\\\\n",
       "\t11 & SEA & RDM & Seattle, WA & Bend, OR & 453 & 3128 & 23 & 228 & 1990-01-01 & 5154164 & 76034 & 47.4490013122559 & -122.30899810791 & 44.2541008 & -121.1500015 & 0.00629656 & WA & OR & 1990 \\\\\n",
       "\t12 & SEA & RDM & Seattle, WA & Bend, OR & 784 & 2720 & 20 & 228 & 1990-02-01 & 5154164 & 76034 & 47.4490013122559 & -122.30899810791 & 44.2541008 & -121.1500015 & 0.0144118 & WA & OR & 1990 \\\\\n",
       "\t13 & SEA & RDM & Seattle, WA & Bend, OR & 749 & 2992 & 22 & 228 & 1990-03-01 & 5154164 & 76034 & 47.4490013122559 & -122.30899810791 & 44.2541008 & -121.1500015 & 0.0113788 & WA & OR & 1990 \\\\\n",
       "\t14 & SEA & RDM & Seattle, WA & Bend, OR & 11 & 18 & 1 & 228 & 1990-04-01 & 5154164 & 76034 & 47.4490013122559 & -122.30899810791 & 44.2541008 & -121.1500015 & 0.611111 & WA & OR & 1990 \\\\\n",
       "\t15 & PDX & RDM & Portland, OR & Bend, OR & 349 & 851 & 23 & 116 & 1990-01-01 & 1534762 & 76034 & 45.58869934 & -122.5979996 & 44.2541008 & -121.1500015 & 0.0178307 & OR & OR & 1990 \\\\\n",
       "\t16 & PDX & RDM & Portland, OR & Bend, OR & 1376 & 2898 & 161 & 116 & 1990-01-01 & 1534762 & 76034 & 45.58869934 & -122.5979996 & 44.2541008 & -121.1500015 & 0.00294913 & OR & OR & 1990 \\\\\n",
       "\t17 & PDX & RDM & Portland, OR & Bend, OR & 444 & 1110 & 30 & 116 & 1990-10-01 & 1534762 & 76034 & 45.58869934 & -122.5979996 & 44.2541008 & -121.1500015 & 0.0133333 & OR & OR & 1990 \\\\\n",
       "\t18 & PDX & RDM & Portland, OR & Bend, OR & 1949 & 3261 & 187 & 116 & 1990-06-01 & 1534762 & 76034 & 45.58869934 & -122.5979996 & 44.2541008 & -121.1500015 & 0.00319609 & OR & OR & 1990 \\\\\n",
       "\t19 & PDX & RDM & Portland, OR & Bend, OR & 381 & 814 & 22 & 116 & 1990-02-01 & 1534762 & 76034 & 45.58869934 & -122.5979996 & 44.2541008 & -121.1500015 & 0.0212754 & OR & OR & 1990 \\\\\n",
       "\t20 & PDX & RDM & Portland, OR & Bend, OR & 1559 & 2772 & 154 & 116 & 1990-02-01 & 1534762 & 76034 & 45.58869934 & -122.5979996 & 44.2541008 & -121.1500015 & 0.00365201 & OR & OR & 1990 \\\\\n",
       "\t$\\dots$ & $\\dots$ & $\\dots$ & $\\dots$ & $\\dots$ & $\\dots$ & $\\dots$ & $\\dots$ & $\\dots$ & $\\dots$ & $\\dots$ & $\\dots$ & $\\dots$ & $\\dots$ & $\\dots$ & $\\dots$ & $\\dots$ & $\\dots$ & $\\dots$ & $\\dots$ \\\\\n",
       "\\end{tabular}\n"
      ],
      "text/plain": [
       "\u001b[1m3606803×19 DataFrame\u001b[0m\n",
       "\u001b[1m     Row \u001b[0m│\u001b[1m Origin_airport \u001b[0m\u001b[1m Destination_airport \u001b[0m\u001b[1m Origin_city        \u001b[0m\u001b[1m Destination_city           \u001b[0m\u001b[1m Passengers \u001b[0m\u001b[1m Seats \u001b[0m\u001b[1m Flights \u001b[0m\u001b[1m Distance \u001b[0m\u001b[1m Fly_date   \u001b[0m\u001b[1m Origin_population \u001b[0m\u001b[1m Destination_population \u001b[0m\u001b[1m Org_airport_lat  \u001b[0m\u001b[1m Org_airport_long  \u001b[0m\u001b[1m Dest_airport_lat \u001b[0m\u001b[1m Dest_airport_long \u001b[0m\u001b[1m occupied         \u001b[0m\u001b[1m ost    \u001b[0m\u001b[1m dst    \u001b[0m\u001b[1m year  \u001b[0m\n",
       "\u001b[1m         \u001b[0m│\u001b[90m String         \u001b[0m\u001b[90m String              \u001b[0m\u001b[90m String             \u001b[0m\u001b[90m String                     \u001b[0m\u001b[90m Int64      \u001b[0m\u001b[90m Int64 \u001b[0m\u001b[90m Int64   \u001b[0m\u001b[90m Int64    \u001b[0m\u001b[90m Date       \u001b[0m\u001b[90m Int64             \u001b[0m\u001b[90m Int64                  \u001b[0m\u001b[90m String           \u001b[0m\u001b[90m String            \u001b[0m\u001b[90m String           \u001b[0m\u001b[90m String            \u001b[0m\u001b[90m Float64?         \u001b[0m\u001b[90m String \u001b[0m\u001b[90m String \u001b[0m\u001b[90m Int64 \u001b[0m\n",
       "─────────┼─────────────────────────────────────────────────────────────────────────────────────────────────────────────────────────────────────────────────────────────────────────────────────────────────────────────────────────────────────────────────────────────────────────────────────────────────────\n",
       "       1 │ MHK             AMW                  Manhattan, KS       Ames, IA                            21     30        1       254  2008-10-01             122049                   86219  39.140998840332   -96.6707992553711  NA                NA                       0.7         KS      IA       2008\n",
       "       2 │ EUG             RDM                  Eugene, OR          Bend, OR                            41    396       22       103  1990-11-01             284093                   76034  44.1245994567871  -123.21199798584   44.2541008        -121.1500015             0.00470615  OR      OR       1990\n",
       "       3 │ EUG             RDM                  Eugene, OR          Bend, OR                            88    342       19       103  1990-12-01             284093                   76034  44.1245994567871  -123.21199798584   44.2541008        -121.1500015             0.0135426   OR      OR       1990\n",
       "       4 │ EUG             RDM                  Eugene, OR          Bend, OR                            11     72        4       103  1990-10-01             284093                   76034  44.1245994567871  -123.21199798584   44.2541008        -121.1500015             0.0381944   OR      OR       1990\n",
       "       5 │ MFR             RDM                  Medford, OR         Bend, OR                             0     18        1       156  1990-02-01             147300                   76034  42.3741989135742  -122.873001098633  44.2541008        -121.1500015             0.0         OR      OR       1990\n",
       "       6 │ MFR             RDM                  Medford, OR         Bend, OR                            11     18        1       156  1990-03-01             147300                   76034  42.3741989135742  -122.873001098633  44.2541008        -121.1500015             0.611111    OR      OR       1990\n",
       "    ⋮    │       ⋮                  ⋮                   ⋮                       ⋮                   ⋮         ⋮       ⋮        ⋮          ⋮               ⋮                    ⋮                    ⋮                  ⋮                 ⋮                  ⋮                 ⋮            ⋮       ⋮       ⋮\n",
       " 3606799 │ STL             TBN                  St. Louis, MO       Fort Leonard Wood, MO              281    969       51       119  2009-02-01            2828990                   46457  38.7486991882324  -90.370002746582   37.74160004       -92.14070129             0.00568607  MO      MO       2009\n",
       " 3606800 │ STL             TBN                  St. Louis, MO       Fort Leonard Wood, MO              245   1026       54       119  2009-11-01            2828990                   46457  38.7486991882324  -90.370002746582   37.74160004       -92.14070129             0.00442206  MO      MO       2009\n",
       " 3606801 │ STL             TBN                  St. Louis, MO       Fort Leonard Wood, MO              363   1273       67       119  2009-08-01            2828990                   46457  38.7486991882324  -90.370002746582   37.74160004       -92.14070129             0.00425602  MO      MO       2009\n",
       " 3606802 │ CGI             TBN                  Cape Girardeau, MO  Fort Leonard Wood, MO                2     19        1       146  2009-08-01              93712                   46457  37.2252998352051  -89.57080078125    37.74160004       -92.14070129             0.105263    MO      MO       2009\n",
       " 3606803 │ FWA             OH1                  Fort Wayne, IN      Washington Court House, OH           0      0        1       135  2003-09-01             398574                   28133  40.97850037       -85.19509888       NA                NA                \u001b[90m missing          \u001b[0m IN      OH       2003\n",
       "\u001b[36m                                                                                                                                                                                                                                                                                           3606792 rows omitted\u001b[0m"
      ]
     },
     "execution_count": 19,
     "metadata": {},
     "output_type": "execute_result"
    }
   ],
   "source": [
    "df2 = transform(df,\n",
    "                [:Passengers, :Seats, :Flights] => ByRow(get_occupied) => :occupied,\n",
    "                [:Origin_city, :Destination_city] .=> ByRow(x -> last(x, 2)) .=> [:ost, :dst],\n",
    "                :Fly_date => ByRow(year) => :year)"
   ]
  },
  {
   "cell_type": "markdown",
   "metadata": {},
   "source": [
    "Note that in the computation we used `ByRow` wrapper that instructs DataFrames.jl to apply the function for each row of the passed data.\n",
    "\n",
    "Here is an alternative way to compute `:occupied` without using `ByRow`, but instead using standard broadcasting:"
   ]
  },
  {
   "cell_type": "code",
   "execution_count": 20,
   "metadata": {},
   "outputs": [
    {
     "data": {
      "text/plain": [
       "get_occupied2 (generic function with 1 method)"
      ]
     },
     "execution_count": 20,
     "metadata": {},
     "output_type": "execute_result"
    }
   ],
   "source": [
    "get_occupied2(passengers, seats, flights) =\n",
    "    @. ifelse((seats == 0) | (flights == 0), missing, passengers / (seats * flights))"
   ]
  },
  {
   "cell_type": "code",
   "execution_count": 21,
   "metadata": {
    "scrolled": true
   },
   "outputs": [
    {
     "data": {
      "text/html": [
       "<table class=\"data-frame\"><thead><tr><th></th><th>occupied</th></tr><tr><th></th><th>Float64?</th></tr></thead><tbody><p>3,606,803 rows × 1 columns</p><tr><th>1</th><td>0.7</td></tr><tr><th>2</th><td>0.00470615</td></tr><tr><th>3</th><td>0.0135426</td></tr><tr><th>4</th><td>0.0381944</td></tr><tr><th>5</th><td>0.0</td></tr><tr><th>6</th><td>0.611111</td></tr><tr><th>7</th><td>0.00694444</td></tr><tr><th>8</th><td>0.388889</td></tr><tr><th>9</th><td>0.0972222</td></tr><tr><th>10</th><td>0.444444</td></tr><tr><th>11</th><td>0.00629656</td></tr><tr><th>12</th><td>0.0144118</td></tr><tr><th>13</th><td>0.0113788</td></tr><tr><th>14</th><td>0.611111</td></tr><tr><th>15</th><td>0.0178307</td></tr><tr><th>16</th><td>0.00294913</td></tr><tr><th>17</th><td>0.0133333</td></tr><tr><th>18</th><td>0.00319609</td></tr><tr><th>19</th><td>0.0212754</td></tr><tr><th>20</th><td>0.00365201</td></tr><tr><th>&vellip;</th><td>&vellip;</td></tr></tbody></table>"
      ],
      "text/latex": [
       "\\begin{tabular}{r|c}\n",
       "\t& occupied\\\\\n",
       "\t\\hline\n",
       "\t& Float64?\\\\\n",
       "\t\\hline\n",
       "\t1 & 0.7 \\\\\n",
       "\t2 & 0.00470615 \\\\\n",
       "\t3 & 0.0135426 \\\\\n",
       "\t4 & 0.0381944 \\\\\n",
       "\t5 & 0.0 \\\\\n",
       "\t6 & 0.611111 \\\\\n",
       "\t7 & 0.00694444 \\\\\n",
       "\t8 & 0.388889 \\\\\n",
       "\t9 & 0.0972222 \\\\\n",
       "\t10 & 0.444444 \\\\\n",
       "\t11 & 0.00629656 \\\\\n",
       "\t12 & 0.0144118 \\\\\n",
       "\t13 & 0.0113788 \\\\\n",
       "\t14 & 0.611111 \\\\\n",
       "\t15 & 0.0178307 \\\\\n",
       "\t16 & 0.00294913 \\\\\n",
       "\t17 & 0.0133333 \\\\\n",
       "\t18 & 0.00319609 \\\\\n",
       "\t19 & 0.0212754 \\\\\n",
       "\t20 & 0.00365201 \\\\\n",
       "\t$\\dots$ & $\\dots$ \\\\\n",
       "\\end{tabular}\n"
      ],
      "text/plain": [
       "\u001b[1m3606803×1 DataFrame\u001b[0m\n",
       "\u001b[1m     Row \u001b[0m│\u001b[1m occupied         \u001b[0m\n",
       "\u001b[1m         \u001b[0m│\u001b[90m Float64?         \u001b[0m\n",
       "─────────┼──────────────────\n",
       "       1 │       0.7\n",
       "       2 │       0.00470615\n",
       "       3 │       0.0135426\n",
       "       4 │       0.0381944\n",
       "       5 │       0.0\n",
       "       6 │       0.611111\n",
       "    ⋮    │        ⋮\n",
       " 3606799 │       0.00568607\n",
       " 3606800 │       0.00442206\n",
       " 3606801 │       0.00425602\n",
       " 3606802 │       0.105263\n",
       " 3606803 │\u001b[90m missing          \u001b[0m\n",
       "\u001b[36m        3606792 rows omitted\u001b[0m"
      ]
     },
     "execution_count": 21,
     "metadata": {},
     "output_type": "execute_result"
    }
   ],
   "source": [
    "df2′ = select(df, [:Passengers, :Seats, :Flights] => get_occupied2 => :occupied)"
   ]
  },
  {
   "cell_type": "markdown",
   "metadata": {},
   "source": [
    "First we check if both methods produced the same result:"
   ]
  },
  {
   "cell_type": "code",
   "execution_count": 22,
   "metadata": {},
   "outputs": [
    {
     "data": {
      "text/plain": [
       "true"
      ]
     },
     "execution_count": 22,
     "metadata": {},
     "output_type": "execute_result"
    }
   ],
   "source": [
    "isequal(df2.occupied, df2′.occupied)"
   ]
  },
  {
   "cell_type": "markdown",
   "metadata": {},
   "source": [
    "The second thing we can do is compare the performance of both options:"
   ]
  },
  {
   "cell_type": "code",
   "execution_count": 23,
   "metadata": {},
   "outputs": [
    {
     "data": {
      "text/plain": [
       "BenchmarkTools.Trial: \n",
       "  memory estimate:  58.48 MiB\n",
       "  allocs estimate:  131\n",
       "  --------------\n",
       "  minimum time:     16.133 ms (0.00% GC)\n",
       "  median time:      17.250 ms (0.00% GC)\n",
       "  mean time:        18.948 ms (8.25% GC)\n",
       "  maximum time:     48.400 ms (64.15% GC)\n",
       "  --------------\n",
       "  samples:          264\n",
       "  evals/sample:     1"
      ]
     },
     "execution_count": 23,
     "metadata": {},
     "output_type": "execute_result"
    }
   ],
   "source": [
    "@benchmark select($df, [:Passengers, :Seats, :Flights] => ByRow(get_occupied) => :occupied)"
   ]
  },
  {
   "cell_type": "code",
   "execution_count": 24,
   "metadata": {},
   "outputs": [
    {
     "data": {
      "text/plain": [
       "BenchmarkTools.Trial: \n",
       "  memory estimate:  58.48 MiB\n",
       "  allocs estimate:  136\n",
       "  --------------\n",
       "  minimum time:     16.361 ms (0.00% GC)\n",
       "  median time:      17.495 ms (0.00% GC)\n",
       "  mean time:        19.452 ms (8.17% GC)\n",
       "  maximum time:     46.979 ms (55.53% GC)\n",
       "  --------------\n",
       "  samples:          257\n",
       "  evals/sample:     1"
      ]
     },
     "execution_count": 24,
     "metadata": {},
     "output_type": "execute_result"
    }
   ],
   "source": [
    "@benchmark select($df, [:Passengers, :Seats, :Flights] => get_occupied2 => :occupied)"
   ]
  },
  {
   "cell_type": "markdown",
   "metadata": {},
   "source": [
    "As you can see DataFrames.jl does a decent job in this case - the option with `ByRow` is a tad faster than the broadcasting approach."
   ]
  },
  {
   "cell_type": "markdown",
   "metadata": {},
   "source": [
    "A crucial value of piping with `@chain` is that it composes also with functions outside of DataFrames.jl package.\n",
    "\n",
    "Here is a simple example in which we will plot the total number of passengers that flew by year:"
   ]
  },
  {
   "cell_type": "code",
   "execution_count": 25,
   "metadata": {
    "scrolled": false
   },
   "outputs": [
    {
     "data": {
      "image/svg+xml": [
       "<?xml version=\"1.0\" encoding=\"utf-8\"?>\n",
       "<svg xmlns=\"http://www.w3.org/2000/svg\" xmlns:xlink=\"http://www.w3.org/1999/xlink\" width=\"600\" height=\"400\" viewBox=\"0 0 2400 1600\">\n",
       "<defs>\n",
       "  <clipPath id=\"clip290\">\n",
       "    <rect x=\"0\" y=\"0\" width=\"2400\" height=\"1600\"/>\n",
       "  </clipPath>\n",
       "</defs>\n",
       "<path clip-path=\"url(#clip290)\" d=\"\n",
       "M0 1600 L2400 1600 L2400 0 L0 0  Z\n",
       "  \" fill=\"#ffffff\" fill-rule=\"evenodd\" fill-opacity=\"1\"/>\n",
       "<defs>\n",
       "  <clipPath id=\"clip291\">\n",
       "    <rect x=\"480\" y=\"0\" width=\"1681\" height=\"1600\"/>\n",
       "  </clipPath>\n",
       "</defs>\n",
       "<path clip-path=\"url(#clip290)\" d=\"\n",
       "M235.283 1423.18 L2352.76 1423.18 L2352.76 47.2441 L235.283 47.2441  Z\n",
       "  \" fill=\"#ffffff\" fill-rule=\"evenodd\" fill-opacity=\"1\"/>\n",
       "<defs>\n",
       "  <clipPath id=\"clip292\">\n",
       "    <rect x=\"235\" y=\"47\" width=\"2118\" height=\"1377\"/>\n",
       "  </clipPath>\n",
       "</defs>\n",
       "<polyline clip-path=\"url(#clip292)\" style=\"stroke:#000000; stroke-width:2; stroke-opacity:0.1; fill:none\" points=\"\n",
       "  295.211,1423.18 295.211,47.2441 \n",
       "  \"/>\n",
       "<polyline clip-path=\"url(#clip292)\" style=\"stroke:#000000; stroke-width:2; stroke-opacity:0.1; fill:none\" points=\"\n",
       "  820.9,1423.18 820.9,47.2441 \n",
       "  \"/>\n",
       "<polyline clip-path=\"url(#clip292)\" style=\"stroke:#000000; stroke-width:2; stroke-opacity:0.1; fill:none\" points=\"\n",
       "  1346.59,1423.18 1346.59,47.2441 \n",
       "  \"/>\n",
       "<polyline clip-path=\"url(#clip292)\" style=\"stroke:#000000; stroke-width:2; stroke-opacity:0.1; fill:none\" points=\"\n",
       "  1872.28,1423.18 1872.28,47.2441 \n",
       "  \"/>\n",
       "<polyline clip-path=\"url(#clip290)\" style=\"stroke:#000000; stroke-width:4; stroke-opacity:1; fill:none\" points=\"\n",
       "  235.283,1423.18 2352.76,1423.18 \n",
       "  \"/>\n",
       "<polyline clip-path=\"url(#clip290)\" style=\"stroke:#000000; stroke-width:4; stroke-opacity:1; fill:none\" points=\"\n",
       "  295.211,1423.18 295.211,1406.67 \n",
       "  \"/>\n",
       "<polyline clip-path=\"url(#clip290)\" style=\"stroke:#000000; stroke-width:4; stroke-opacity:1; fill:none\" points=\"\n",
       "  820.9,1423.18 820.9,1406.67 \n",
       "  \"/>\n",
       "<polyline clip-path=\"url(#clip290)\" style=\"stroke:#000000; stroke-width:4; stroke-opacity:1; fill:none\" points=\"\n",
       "  1346.59,1423.18 1346.59,1406.67 \n",
       "  \"/>\n",
       "<polyline clip-path=\"url(#clip290)\" style=\"stroke:#000000; stroke-width:4; stroke-opacity:1; fill:none\" points=\"\n",
       "  1872.28,1423.18 1872.28,1406.67 \n",
       "  \"/>\n",
       "<path clip-path=\"url(#clip290)\" d=\"M 0 0 M239.737 1479.92 L247.376 1479.92 L247.376 1453.55 L239.066 1455.22 L239.066 1450.96 L247.33 1449.29 L252.006 1449.29 L252.006 1479.92 L259.644 1479.92 L259.644 1483.85 L239.737 1483.85 L239.737 1479.92 Z\" fill=\"#000000\" fill-rule=\"evenodd\" fill-opacity=\"1\" /><path clip-path=\"url(#clip290)\" d=\"M 0 0 M269.228 1483.13 L269.228 1478.88 Q270.987 1479.71 272.792 1480.15 Q274.598 1480.59 276.334 1480.59 Q280.964 1480.59 283.394 1477.49 Q285.848 1474.36 286.195 1468.02 Q284.853 1470.01 282.792 1471.07 Q280.732 1472.14 278.232 1472.14 Q273.047 1472.14 270.015 1469.01 Q267.005 1465.87 267.005 1460.43 Q267.005 1455.1 270.154 1451.88 Q273.302 1448.67 278.533 1448.67 Q284.529 1448.67 287.677 1453.27 Q290.848 1457.86 290.848 1466.61 Q290.848 1474.78 286.959 1479.66 Q283.093 1484.52 276.542 1484.52 Q274.783 1484.52 272.978 1484.18 Q271.172 1483.83 269.228 1483.13 M278.533 1468.48 Q281.681 1468.48 283.51 1466.33 Q285.362 1464.18 285.362 1460.43 Q285.362 1456.7 283.51 1454.55 Q281.681 1452.37 278.533 1452.37 Q275.385 1452.37 273.533 1454.55 Q271.705 1456.7 271.705 1460.43 Q271.705 1464.18 273.533 1466.33 Q275.385 1468.48 278.533 1468.48 Z\" fill=\"#000000\" fill-rule=\"evenodd\" fill-opacity=\"1\" /><path clip-path=\"url(#clip290)\" d=\"M 0 0 M299.39 1483.13 L299.39 1478.88 Q301.149 1479.71 302.954 1480.15 Q304.76 1480.59 306.496 1480.59 Q311.126 1480.59 313.556 1477.49 Q316.01 1474.36 316.357 1468.02 Q315.014 1470.01 312.954 1471.07 Q310.894 1472.14 308.394 1472.14 Q303.209 1472.14 300.177 1469.01 Q297.167 1465.87 297.167 1460.43 Q297.167 1455.1 300.315 1451.88 Q303.464 1448.67 308.695 1448.67 Q314.69 1448.67 317.839 1453.27 Q321.01 1457.86 321.01 1466.61 Q321.01 1474.78 317.121 1479.66 Q313.255 1484.52 306.704 1484.52 Q304.945 1484.52 303.14 1484.18 Q301.334 1483.83 299.39 1483.13 M308.695 1468.48 Q311.843 1468.48 313.672 1466.33 Q315.524 1464.18 315.524 1460.43 Q315.524 1456.7 313.672 1454.55 Q311.843 1452.37 308.695 1452.37 Q305.547 1452.37 303.695 1454.55 Q301.866 1456.7 301.866 1460.43 Q301.866 1464.18 303.695 1466.33 Q305.547 1468.48 308.695 1468.48 Z\" fill=\"#000000\" fill-rule=\"evenodd\" fill-opacity=\"1\" /><path clip-path=\"url(#clip290)\" d=\"M 0 0 M339.412 1452.37 Q335.801 1452.37 333.973 1455.94 Q332.167 1459.48 332.167 1466.61 Q332.167 1473.71 333.973 1477.28 Q335.801 1480.82 339.412 1480.82 Q343.047 1480.82 344.852 1477.28 Q346.681 1473.71 346.681 1466.61 Q346.681 1459.48 344.852 1455.94 Q343.047 1452.37 339.412 1452.37 M339.412 1448.67 Q345.223 1448.67 348.278 1453.27 Q351.357 1457.86 351.357 1466.61 Q351.357 1475.33 348.278 1479.94 Q345.223 1484.52 339.412 1484.52 Q333.602 1484.52 330.524 1479.94 Q327.468 1475.33 327.468 1466.61 Q327.468 1457.86 330.524 1453.27 Q333.602 1448.67 339.412 1448.67 Z\" fill=\"#000000\" fill-rule=\"evenodd\" fill-opacity=\"1\" /><path clip-path=\"url(#clip290)\" d=\"M 0 0 M765.923 1479.92 L773.562 1479.92 L773.562 1453.55 L765.252 1455.22 L765.252 1450.96 L773.516 1449.29 L778.192 1449.29 L778.192 1479.92 L785.831 1479.92 L785.831 1483.85 L765.923 1483.85 L765.923 1479.92 Z\" fill=\"#000000\" fill-rule=\"evenodd\" fill-opacity=\"1\" /><path clip-path=\"url(#clip290)\" d=\"M 0 0 M795.414 1483.13 L795.414 1478.88 Q797.173 1479.71 798.979 1480.15 Q800.784 1480.59 802.52 1480.59 Q807.15 1480.59 809.58 1477.49 Q812.034 1474.36 812.381 1468.02 Q811.039 1470.01 808.979 1471.07 Q806.918 1472.14 804.418 1472.14 Q799.233 1472.14 796.201 1469.01 Q793.192 1465.87 793.192 1460.43 Q793.192 1455.1 796.34 1451.88 Q799.488 1448.67 804.719 1448.67 Q810.715 1448.67 813.863 1453.27 Q817.034 1457.86 817.034 1466.61 Q817.034 1474.78 813.145 1479.66 Q809.279 1484.52 802.729 1484.52 Q800.969 1484.52 799.164 1484.18 Q797.358 1483.83 795.414 1483.13 M804.719 1468.48 Q807.867 1468.48 809.696 1466.33 Q811.548 1464.18 811.548 1460.43 Q811.548 1456.7 809.696 1454.55 Q807.867 1452.37 804.719 1452.37 Q801.571 1452.37 799.719 1454.55 Q797.891 1456.7 797.891 1460.43 Q797.891 1464.18 799.719 1466.33 Q801.571 1468.48 804.719 1468.48 Z\" fill=\"#000000\" fill-rule=\"evenodd\" fill-opacity=\"1\" /><path clip-path=\"url(#clip290)\" d=\"M 0 0 M825.576 1483.13 L825.576 1478.88 Q827.335 1479.71 829.14 1480.15 Q830.946 1480.59 832.682 1480.59 Q837.312 1480.59 839.742 1477.49 Q842.196 1474.36 842.543 1468.02 Q841.201 1470.01 839.14 1471.07 Q837.08 1472.14 834.58 1472.14 Q829.395 1472.14 826.363 1469.01 Q823.353 1465.87 823.353 1460.43 Q823.353 1455.1 826.502 1451.88 Q829.65 1448.67 834.881 1448.67 Q840.877 1448.67 844.025 1453.27 Q847.196 1457.86 847.196 1466.61 Q847.196 1474.78 843.307 1479.66 Q839.441 1484.52 832.89 1484.52 Q831.131 1484.52 829.326 1484.18 Q827.52 1483.83 825.576 1483.13 M834.881 1468.48 Q838.029 1468.48 839.858 1466.33 Q841.71 1464.18 841.71 1460.43 Q841.71 1456.7 839.858 1454.55 Q838.029 1452.37 834.881 1452.37 Q831.733 1452.37 829.881 1454.55 Q828.053 1456.7 828.053 1460.43 Q828.053 1464.18 829.881 1466.33 Q831.733 1468.48 834.881 1468.48 Z\" fill=\"#000000\" fill-rule=\"evenodd\" fill-opacity=\"1\" /><path clip-path=\"url(#clip290)\" d=\"M 0 0 M855.645 1449.29 L874.001 1449.29 L874.001 1453.23 L859.927 1453.23 L859.927 1461.7 Q860.946 1461.35 861.964 1461.19 Q862.983 1461 864.001 1461 Q869.788 1461 873.168 1464.18 Q876.548 1467.35 876.548 1472.76 Q876.548 1478.34 873.075 1481.44 Q869.603 1484.52 863.284 1484.52 Q861.108 1484.52 858.839 1484.15 Q856.594 1483.78 854.187 1483.04 L854.187 1478.34 Q856.27 1479.48 858.492 1480.03 Q860.714 1480.59 863.191 1480.59 Q867.196 1480.59 869.534 1478.48 Q871.872 1476.38 871.872 1472.76 Q871.872 1469.15 869.534 1467.05 Q867.196 1464.94 863.191 1464.94 Q861.316 1464.94 859.441 1465.36 Q857.589 1465.77 855.645 1466.65 L855.645 1449.29 Z\" fill=\"#000000\" fill-rule=\"evenodd\" fill-opacity=\"1\" /><path clip-path=\"url(#clip290)\" d=\"M 0 0 M1295.2 1479.92 L1311.52 1479.92 L1311.52 1483.85 L1289.57 1483.85 L1289.57 1479.92 Q1292.24 1477.16 1296.82 1472.53 Q1301.43 1467.88 1302.61 1466.54 Q1304.85 1464.01 1305.73 1462.28 Q1306.63 1460.52 1306.63 1458.83 Q1306.63 1456.07 1304.69 1454.34 Q1302.77 1452.6 1299.67 1452.6 Q1297.47 1452.6 1295.01 1453.37 Q1292.58 1454.13 1289.81 1455.68 L1289.81 1450.96 Q1292.63 1449.82 1295.08 1449.25 Q1297.54 1448.67 1299.57 1448.67 Q1304.94 1448.67 1308.14 1451.35 Q1311.33 1454.04 1311.33 1458.53 Q1311.33 1460.66 1310.52 1462.58 Q1309.74 1464.48 1307.63 1467.07 Q1307.05 1467.74 1303.95 1470.96 Q1300.85 1474.15 1295.2 1479.92 Z\" fill=\"#000000\" fill-rule=\"evenodd\" fill-opacity=\"1\" /><path clip-path=\"url(#clip290)\" d=\"M 0 0 M1331.33 1452.37 Q1327.72 1452.37 1325.89 1455.94 Q1324.09 1459.48 1324.09 1466.61 Q1324.09 1473.71 1325.89 1477.28 Q1327.72 1480.82 1331.33 1480.82 Q1334.97 1480.82 1336.77 1477.28 Q1338.6 1473.71 1338.6 1466.61 Q1338.6 1459.48 1336.77 1455.94 Q1334.97 1452.37 1331.33 1452.37 M1331.33 1448.67 Q1337.14 1448.67 1340.2 1453.27 Q1343.28 1457.86 1343.28 1466.61 Q1343.28 1475.33 1340.2 1479.94 Q1337.14 1484.52 1331.33 1484.52 Q1325.52 1484.52 1322.44 1479.94 Q1319.39 1475.33 1319.39 1466.61 Q1319.39 1457.86 1322.44 1453.27 Q1325.52 1448.67 1331.33 1448.67 Z\" fill=\"#000000\" fill-rule=\"evenodd\" fill-opacity=\"1\" /><path clip-path=\"url(#clip290)\" d=\"M 0 0 M1361.5 1452.37 Q1357.88 1452.37 1356.06 1455.94 Q1354.25 1459.48 1354.25 1466.61 Q1354.25 1473.71 1356.06 1477.28 Q1357.88 1480.82 1361.5 1480.82 Q1365.13 1480.82 1366.94 1477.28 Q1368.76 1473.71 1368.76 1466.61 Q1368.76 1459.48 1366.94 1455.94 Q1365.13 1452.37 1361.5 1452.37 M1361.5 1448.67 Q1367.31 1448.67 1370.36 1453.27 Q1373.44 1457.86 1373.44 1466.61 Q1373.44 1475.33 1370.36 1479.94 Q1367.31 1484.52 1361.5 1484.52 Q1355.69 1484.52 1352.61 1479.94 Q1349.55 1475.33 1349.55 1466.61 Q1349.55 1457.86 1352.61 1453.27 Q1355.69 1448.67 1361.5 1448.67 Z\" fill=\"#000000\" fill-rule=\"evenodd\" fill-opacity=\"1\" /><path clip-path=\"url(#clip290)\" d=\"M 0 0 M1391.66 1452.37 Q1388.05 1452.37 1386.22 1455.94 Q1384.41 1459.48 1384.41 1466.61 Q1384.41 1473.71 1386.22 1477.28 Q1388.05 1480.82 1391.66 1480.82 Q1395.29 1480.82 1397.1 1477.28 Q1398.93 1473.71 1398.93 1466.61 Q1398.93 1459.48 1397.1 1455.94 Q1395.29 1452.37 1391.66 1452.37 M1391.66 1448.67 Q1397.47 1448.67 1400.52 1453.27 Q1403.6 1457.86 1403.6 1466.61 Q1403.6 1475.33 1400.52 1479.94 Q1397.47 1484.52 1391.66 1484.52 Q1385.85 1484.52 1382.77 1479.94 Q1379.71 1475.33 1379.71 1466.61 Q1379.71 1457.86 1382.77 1453.27 Q1385.85 1448.67 1391.66 1448.67 Z\" fill=\"#000000\" fill-rule=\"evenodd\" fill-opacity=\"1\" /><path clip-path=\"url(#clip290)\" d=\"M 0 0 M1821.39 1479.92 L1837.71 1479.92 L1837.71 1483.85 L1815.76 1483.85 L1815.76 1479.92 Q1818.42 1477.16 1823.01 1472.53 Q1827.61 1467.88 1828.79 1466.54 Q1831.04 1464.01 1831.92 1462.28 Q1832.82 1460.52 1832.82 1458.83 Q1832.82 1456.07 1830.88 1454.34 Q1828.96 1452.6 1825.85 1452.6 Q1823.65 1452.6 1821.2 1453.37 Q1818.77 1454.13 1815.99 1455.68 L1815.99 1450.96 Q1818.82 1449.82 1821.27 1449.25 Q1823.72 1448.67 1825.76 1448.67 Q1831.13 1448.67 1834.33 1451.35 Q1837.52 1454.04 1837.52 1458.53 Q1837.52 1460.66 1836.71 1462.58 Q1835.92 1464.48 1833.82 1467.07 Q1833.24 1467.74 1830.14 1470.96 Q1827.03 1474.15 1821.39 1479.92 Z\" fill=\"#000000\" fill-rule=\"evenodd\" fill-opacity=\"1\" /><path clip-path=\"url(#clip290)\" d=\"M 0 0 M1857.52 1452.37 Q1853.91 1452.37 1852.08 1455.94 Q1850.27 1459.48 1850.27 1466.61 Q1850.27 1473.71 1852.08 1477.28 Q1853.91 1480.82 1857.52 1480.82 Q1861.15 1480.82 1862.96 1477.28 Q1864.79 1473.71 1864.79 1466.61 Q1864.79 1459.48 1862.96 1455.94 Q1861.15 1452.37 1857.52 1452.37 M1857.52 1448.67 Q1863.33 1448.67 1866.39 1453.27 Q1869.46 1457.86 1869.46 1466.61 Q1869.46 1475.33 1866.39 1479.94 Q1863.33 1484.52 1857.52 1484.52 Q1851.71 1484.52 1848.63 1479.94 Q1845.58 1475.33 1845.58 1466.61 Q1845.58 1457.86 1848.63 1453.27 Q1851.71 1448.67 1857.52 1448.67 Z\" fill=\"#000000\" fill-rule=\"evenodd\" fill-opacity=\"1\" /><path clip-path=\"url(#clip290)\" d=\"M 0 0 M1887.68 1452.37 Q1884.07 1452.37 1882.24 1455.94 Q1880.44 1459.48 1880.44 1466.61 Q1880.44 1473.71 1882.24 1477.28 Q1884.07 1480.82 1887.68 1480.82 Q1891.32 1480.82 1893.12 1477.28 Q1894.95 1473.71 1894.95 1466.61 Q1894.95 1459.48 1893.12 1455.94 Q1891.32 1452.37 1887.68 1452.37 M1887.68 1448.67 Q1893.49 1448.67 1896.55 1453.27 Q1899.63 1457.86 1899.63 1466.61 Q1899.63 1475.33 1896.55 1479.94 Q1893.49 1484.52 1887.68 1484.52 Q1881.87 1484.52 1878.79 1479.94 Q1875.74 1475.33 1875.74 1466.61 Q1875.74 1457.86 1878.79 1453.27 Q1881.87 1448.67 1887.68 1448.67 Z\" fill=\"#000000\" fill-rule=\"evenodd\" fill-opacity=\"1\" /><path clip-path=\"url(#clip290)\" d=\"M 0 0 M1907.89 1449.29 L1926.25 1449.29 L1926.25 1453.23 L1912.17 1453.23 L1912.17 1461.7 Q1913.19 1461.35 1914.21 1461.19 Q1915.23 1461 1916.25 1461 Q1922.03 1461 1925.41 1464.18 Q1928.79 1467.35 1928.79 1472.76 Q1928.79 1478.34 1925.32 1481.44 Q1921.85 1484.52 1915.53 1484.52 Q1913.35 1484.52 1911.08 1484.15 Q1908.84 1483.78 1906.43 1483.04 L1906.43 1478.34 Q1908.51 1479.48 1910.74 1480.03 Q1912.96 1480.59 1915.44 1480.59 Q1919.44 1480.59 1921.78 1478.48 Q1924.12 1476.38 1924.12 1472.76 Q1924.12 1469.15 1921.78 1467.05 Q1919.44 1464.94 1915.44 1464.94 Q1913.56 1464.94 1911.69 1465.36 Q1909.83 1465.77 1907.89 1466.65 L1907.89 1449.29 Z\" fill=\"#000000\" fill-rule=\"evenodd\" fill-opacity=\"1\" /><path clip-path=\"url(#clip290)\" d=\"M 0 0 M1241.31 1571.35 Q1238.83 1577.72 1236.47 1579.66 Q1234.12 1581.6 1230.17 1581.6 L1225.49 1581.6 L1225.49 1576.7 L1228.93 1576.7 Q1231.35 1576.7 1232.69 1575.56 Q1234.02 1574.41 1235.65 1570.14 L1236.7 1567.47 L1222.28 1532.4 L1228.48 1532.4 L1239.62 1560.28 L1250.76 1532.4 L1256.97 1532.4 L1241.31 1571.35 Z\" fill=\"#000000\" fill-rule=\"evenodd\" fill-opacity=\"1\" /><path clip-path=\"url(#clip290)\" d=\"M 0 0 M1295.55 1548.76 L1295.55 1551.62 L1268.62 1551.62 Q1269 1557.67 1272.25 1560.85 Q1275.53 1564 1281.35 1564 Q1284.73 1564 1287.88 1563.17 Q1291.06 1562.35 1294.18 1560.69 L1294.18 1566.23 Q1291.03 1567.57 1287.72 1568.27 Q1284.41 1568.97 1281 1568.97 Q1272.47 1568.97 1267.47 1564 Q1262.51 1559.04 1262.51 1550.57 Q1262.51 1541.82 1267.22 1536.69 Q1271.96 1531.54 1279.98 1531.54 Q1287.18 1531.54 1291.35 1536.18 Q1295.55 1540.8 1295.55 1548.76 M1289.69 1547.04 Q1289.63 1542.23 1286.99 1539.37 Q1284.38 1536.5 1280.05 1536.5 Q1275.15 1536.5 1272.19 1539.27 Q1269.26 1542.04 1268.81 1547.07 L1289.69 1547.04 Z\" fill=\"#000000\" fill-rule=\"evenodd\" fill-opacity=\"1\" /><path clip-path=\"url(#clip290)\" d=\"M 0 0 M1321.36 1550.12 Q1314.26 1550.12 1311.53 1551.75 Q1308.79 1553.37 1308.79 1557.29 Q1308.79 1560.4 1310.82 1562.25 Q1312.89 1564.07 1316.43 1564.07 Q1321.3 1564.07 1324.22 1560.63 Q1327.18 1557.16 1327.18 1551.43 L1327.18 1550.12 L1321.36 1550.12 M1333.04 1547.71 L1333.04 1568.04 L1327.18 1568.04 L1327.18 1562.63 Q1325.18 1565.88 1322.19 1567.44 Q1319.2 1568.97 1314.87 1568.97 Q1309.39 1568.97 1306.15 1565.91 Q1302.93 1562.82 1302.93 1557.67 Q1302.93 1551.65 1306.94 1548.6 Q1310.98 1545.54 1318.97 1545.54 L1327.18 1545.54 L1327.18 1544.97 Q1327.18 1540.93 1324.51 1538.73 Q1321.87 1536.5 1317.06 1536.5 Q1314.01 1536.5 1311.11 1537.23 Q1308.21 1537.97 1305.54 1539.43 L1305.54 1534.02 Q1308.76 1532.78 1311.78 1532.17 Q1314.8 1531.54 1317.67 1531.54 Q1325.4 1531.54 1329.22 1535.55 Q1333.04 1539.56 1333.04 1547.71 Z\" fill=\"#000000\" fill-rule=\"evenodd\" fill-opacity=\"1\" /><path clip-path=\"url(#clip290)\" d=\"M 0 0 M1365.76 1537.87 Q1364.77 1537.3 1363.6 1537.04 Q1362.45 1536.76 1361.05 1536.76 Q1356.09 1536.76 1353.41 1540 Q1350.77 1543.22 1350.77 1549.27 L1350.77 1568.04 L1344.88 1568.04 L1344.88 1532.4 L1350.77 1532.4 L1350.77 1537.93 Q1352.62 1534.69 1355.58 1533.13 Q1358.54 1531.54 1362.77 1531.54 Q1363.37 1531.54 1364.11 1531.63 Q1364.84 1531.7 1365.73 1531.85 L1365.76 1537.87 Z\" fill=\"#000000\" fill-rule=\"evenodd\" fill-opacity=\"1\" /><polyline clip-path=\"url(#clip292)\" style=\"stroke:#000000; stroke-width:2; stroke-opacity:0.1; fill:none\" points=\"\n",
       "  235.283,1180.83 2352.76,1180.83 \n",
       "  \"/>\n",
       "<polyline clip-path=\"url(#clip292)\" style=\"stroke:#000000; stroke-width:2; stroke-opacity:0.1; fill:none\" points=\"\n",
       "  235.283,875.502 2352.76,875.502 \n",
       "  \"/>\n",
       "<polyline clip-path=\"url(#clip292)\" style=\"stroke:#000000; stroke-width:2; stroke-opacity:0.1; fill:none\" points=\"\n",
       "  235.283,570.175 2352.76,570.175 \n",
       "  \"/>\n",
       "<polyline clip-path=\"url(#clip292)\" style=\"stroke:#000000; stroke-width:2; stroke-opacity:0.1; fill:none\" points=\"\n",
       "  235.283,264.848 2352.76,264.848 \n",
       "  \"/>\n",
       "<polyline clip-path=\"url(#clip290)\" style=\"stroke:#000000; stroke-width:4; stroke-opacity:1; fill:none\" points=\"\n",
       "  235.283,1423.18 235.283,47.2441 \n",
       "  \"/>\n",
       "<polyline clip-path=\"url(#clip290)\" style=\"stroke:#000000; stroke-width:4; stroke-opacity:1; fill:none\" points=\"\n",
       "  235.283,1180.83 260.693,1180.83 \n",
       "  \"/>\n",
       "<polyline clip-path=\"url(#clip290)\" style=\"stroke:#000000; stroke-width:4; stroke-opacity:1; fill:none\" points=\"\n",
       "  235.283,875.502 260.693,875.502 \n",
       "  \"/>\n",
       "<polyline clip-path=\"url(#clip290)\" style=\"stroke:#000000; stroke-width:4; stroke-opacity:1; fill:none\" points=\"\n",
       "  235.283,570.175 260.693,570.175 \n",
       "  \"/>\n",
       "<polyline clip-path=\"url(#clip290)\" style=\"stroke:#000000; stroke-width:4; stroke-opacity:1; fill:none\" points=\"\n",
       "  235.283,264.848 260.693,264.848 \n",
       "  \"/>\n",
       "<path clip-path=\"url(#clip290)\" d=\"M 0 0 M129.862 1167.62 L118.056 1186.07 L129.862 1186.07 L129.862 1167.62 M128.635 1163.55 L134.515 1163.55 L134.515 1186.07 L139.445 1186.07 L139.445 1189.96 L134.515 1189.96 L134.515 1198.11 L129.862 1198.11 L129.862 1189.96 L114.26 1189.96 L114.26 1185.45 L128.635 1163.55 Z\" fill=\"#000000\" fill-rule=\"evenodd\" fill-opacity=\"1\" /><path clip-path=\"url(#clip290)\" d=\"M 0 0 M157.177 1166.63 Q153.566 1166.63 151.737 1170.19 Q149.931 1173.73 149.931 1180.86 Q149.931 1187.97 151.737 1191.53 Q153.566 1195.08 157.177 1195.08 Q160.811 1195.08 162.616 1191.53 Q164.445 1187.97 164.445 1180.86 Q164.445 1173.73 162.616 1170.19 Q160.811 1166.63 157.177 1166.63 M157.177 1162.92 Q162.987 1162.92 166.042 1167.53 Q169.121 1172.11 169.121 1180.86 Q169.121 1189.59 166.042 1194.2 Q162.987 1198.78 157.177 1198.78 Q151.366 1198.78 148.288 1194.2 Q145.232 1189.59 145.232 1180.86 Q145.232 1172.11 148.288 1167.53 Q151.366 1162.92 157.177 1162.92 Z\" fill=\"#000000\" fill-rule=\"evenodd\" fill-opacity=\"1\" /><path clip-path=\"url(#clip290)\" d=\"M 0 0 M187.338 1166.63 Q183.727 1166.63 181.899 1170.19 Q180.093 1173.73 180.093 1180.86 Q180.093 1187.97 181.899 1191.53 Q183.727 1195.08 187.338 1195.08 Q190.973 1195.08 192.778 1191.53 Q194.607 1187.97 194.607 1180.86 Q194.607 1173.73 192.778 1170.19 Q190.973 1166.63 187.338 1166.63 M187.338 1162.92 Q193.149 1162.92 196.204 1167.53 Q199.283 1172.11 199.283 1180.86 Q199.283 1189.59 196.204 1194.2 Q193.149 1198.78 187.338 1198.78 Q181.528 1198.78 178.45 1194.2 Q175.394 1189.59 175.394 1180.86 Q175.394 1172.11 178.45 1167.53 Q181.528 1162.92 187.338 1162.92 Z\" fill=\"#000000\" fill-rule=\"evenodd\" fill-opacity=\"1\" /><path clip-path=\"url(#clip290)\" d=\"M 0 0 M129.862 862.296 L118.056 880.745 L129.862 880.745 L129.862 862.296 M128.635 858.222 L134.515 858.222 L134.515 880.745 L139.445 880.745 L139.445 884.634 L134.515 884.634 L134.515 892.782 L129.862 892.782 L129.862 884.634 L114.26 884.634 L114.26 880.12 L128.635 858.222 Z\" fill=\"#000000\" fill-rule=\"evenodd\" fill-opacity=\"1\" /><path clip-path=\"url(#clip290)\" d=\"M 0 0 M147.223 858.222 L165.579 858.222 L165.579 862.157 L151.505 862.157 L151.505 870.629 Q152.524 870.282 153.542 870.12 Q154.561 869.935 155.579 869.935 Q161.366 869.935 164.746 873.106 Q168.126 876.277 168.126 881.694 Q168.126 887.273 164.653 890.375 Q161.181 893.453 154.862 893.453 Q152.686 893.453 150.417 893.083 Q148.172 892.712 145.765 891.972 L145.765 887.273 Q147.848 888.407 150.07 888.962 Q152.292 889.518 154.769 889.518 Q158.774 889.518 161.112 887.412 Q163.45 885.305 163.45 881.694 Q163.45 878.083 161.112 875.976 Q158.774 873.87 154.769 873.87 Q152.894 873.87 151.019 874.287 Q149.167 874.703 147.223 875.583 L147.223 858.222 Z\" fill=\"#000000\" fill-rule=\"evenodd\" fill-opacity=\"1\" /><path clip-path=\"url(#clip290)\" d=\"M 0 0 M187.338 861.301 Q183.727 861.301 181.899 864.865 Q180.093 868.407 180.093 875.537 Q180.093 882.643 181.899 886.208 Q183.727 889.75 187.338 889.75 Q190.973 889.75 192.778 886.208 Q194.607 882.643 194.607 875.537 Q194.607 868.407 192.778 864.865 Q190.973 861.301 187.338 861.301 M187.338 857.597 Q193.149 857.597 196.204 862.203 Q199.283 866.787 199.283 875.537 Q199.283 884.263 196.204 888.87 Q193.149 893.453 187.338 893.453 Q181.528 893.453 178.45 888.87 Q175.394 884.263 175.394 875.537 Q175.394 866.787 178.45 862.203 Q181.528 857.597 187.338 857.597 Z\" fill=\"#000000\" fill-rule=\"evenodd\" fill-opacity=\"1\" /><path clip-path=\"url(#clip290)\" d=\"M 0 0 M117.061 552.895 L135.417 552.895 L135.417 556.83 L121.343 556.83 L121.343 565.302 Q122.362 564.955 123.38 564.793 Q124.399 564.608 125.418 564.608 Q131.205 564.608 134.584 567.779 Q137.964 570.95 137.964 576.367 Q137.964 581.946 134.492 585.047 Q131.019 588.126 124.7 588.126 Q122.524 588.126 120.255 587.756 Q118.01 587.385 115.603 586.645 L115.603 581.946 Q117.686 583.08 119.908 583.635 Q122.13 584.191 124.607 584.191 Q128.612 584.191 130.95 582.084 Q133.288 579.978 133.288 576.367 Q133.288 572.756 130.95 570.649 Q128.612 568.543 124.607 568.543 Q122.732 568.543 120.857 568.96 Q119.006 569.376 117.061 570.256 L117.061 552.895 Z\" fill=\"#000000\" fill-rule=\"evenodd\" fill-opacity=\"1\" /><path clip-path=\"url(#clip290)\" d=\"M 0 0 M157.177 555.974 Q153.566 555.974 151.737 559.538 Q149.931 563.08 149.931 570.21 Q149.931 577.316 151.737 580.881 Q153.566 584.422 157.177 584.422 Q160.811 584.422 162.616 580.881 Q164.445 577.316 164.445 570.21 Q164.445 563.08 162.616 559.538 Q160.811 555.974 157.177 555.974 M157.177 552.27 Q162.987 552.27 166.042 556.876 Q169.121 561.46 169.121 570.21 Q169.121 578.936 166.042 583.543 Q162.987 588.126 157.177 588.126 Q151.366 588.126 148.288 583.543 Q145.232 578.936 145.232 570.21 Q145.232 561.46 148.288 556.876 Q151.366 552.27 157.177 552.27 Z\" fill=\"#000000\" fill-rule=\"evenodd\" fill-opacity=\"1\" /><path clip-path=\"url(#clip290)\" d=\"M 0 0 M187.338 555.974 Q183.727 555.974 181.899 559.538 Q180.093 563.08 180.093 570.21 Q180.093 577.316 181.899 580.881 Q183.727 584.422 187.338 584.422 Q190.973 584.422 192.778 580.881 Q194.607 577.316 194.607 570.21 Q194.607 563.08 192.778 559.538 Q190.973 555.974 187.338 555.974 M187.338 552.27 Q193.149 552.27 196.204 556.876 Q199.283 561.46 199.283 570.21 Q199.283 578.936 196.204 583.543 Q193.149 588.126 187.338 588.126 Q181.528 588.126 178.45 583.543 Q175.394 578.936 175.394 570.21 Q175.394 561.46 178.45 556.876 Q181.528 552.27 187.338 552.27 Z\" fill=\"#000000\" fill-rule=\"evenodd\" fill-opacity=\"1\" /><path clip-path=\"url(#clip290)\" d=\"M 0 0 M117.061 247.568 L135.417 247.568 L135.417 251.503 L121.343 251.503 L121.343 259.975 Q122.362 259.628 123.38 259.466 Q124.399 259.281 125.418 259.281 Q131.205 259.281 134.584 262.452 Q137.964 265.623 137.964 271.04 Q137.964 276.618 134.492 279.72 Q131.019 282.799 124.7 282.799 Q122.524 282.799 120.255 282.429 Q118.01 282.058 115.603 281.318 L115.603 276.618 Q117.686 277.753 119.908 278.308 Q122.13 278.864 124.607 278.864 Q128.612 278.864 130.95 276.757 Q133.288 274.651 133.288 271.04 Q133.288 267.429 130.95 265.322 Q128.612 263.216 124.607 263.216 Q122.732 263.216 120.857 263.632 Q119.006 264.049 117.061 264.929 L117.061 247.568 Z\" fill=\"#000000\" fill-rule=\"evenodd\" fill-opacity=\"1\" /><path clip-path=\"url(#clip290)\" d=\"M 0 0 M147.223 247.568 L165.579 247.568 L165.579 251.503 L151.505 251.503 L151.505 259.975 Q152.524 259.628 153.542 259.466 Q154.561 259.281 155.579 259.281 Q161.366 259.281 164.746 262.452 Q168.126 265.623 168.126 271.04 Q168.126 276.618 164.653 279.72 Q161.181 282.799 154.862 282.799 Q152.686 282.799 150.417 282.429 Q148.172 282.058 145.765 281.318 L145.765 276.618 Q147.848 277.753 150.07 278.308 Q152.292 278.864 154.769 278.864 Q158.774 278.864 161.112 276.757 Q163.45 274.651 163.45 271.04 Q163.45 267.429 161.112 265.322 Q158.774 263.216 154.769 263.216 Q152.894 263.216 151.019 263.632 Q149.167 264.049 147.223 264.929 L147.223 247.568 Z\" fill=\"#000000\" fill-rule=\"evenodd\" fill-opacity=\"1\" /><path clip-path=\"url(#clip290)\" d=\"M 0 0 M187.338 250.646 Q183.727 250.646 181.899 254.211 Q180.093 257.753 180.093 264.882 Q180.093 271.989 181.899 275.554 Q183.727 279.095 187.338 279.095 Q190.973 279.095 192.778 275.554 Q194.607 271.989 194.607 264.882 Q194.607 257.753 192.778 254.211 Q190.973 250.646 187.338 250.646 M187.338 246.943 Q193.149 246.943 196.204 251.549 Q199.283 256.132 199.283 264.882 Q199.283 273.609 196.204 278.216 Q193.149 282.799 187.338 282.799 Q181.528 282.799 178.45 278.216 Q175.394 273.609 175.394 264.882 Q175.394 256.132 178.45 251.549 Q181.528 246.943 187.338 246.943 Z\" fill=\"#000000\" fill-rule=\"evenodd\" fill-opacity=\"1\" /><path clip-path=\"url(#clip290)\" d=\"M 0 0 M58.657 1111.43 L77.5631 1111.43 L77.5631 1117.31 L28.3562 1117.31 L28.3562 1111.43 L33.7671 1111.43 Q30.5842 1109.58 29.0564 1106.78 Q27.4968 1103.95 27.4968 1100.03 Q27.4968 1093.54 32.6531 1089.5 Q37.8093 1085.42 46.212 1085.42 Q54.6147 1085.42 59.771 1089.5 Q64.9272 1093.54 64.9272 1100.03 Q64.9272 1103.95 63.3994 1106.78 Q61.8398 1109.58 58.657 1111.43 M46.212 1091.5 Q39.7508 1091.5 36.0905 1094.17 Q32.3984 1096.82 32.3984 1101.46 Q32.3984 1106.11 36.0905 1108.78 Q39.7508 1111.43 46.212 1111.43 Q52.6732 1111.43 56.3653 1108.78 Q60.0256 1106.11 60.0256 1101.46 Q60.0256 1096.82 56.3653 1094.17 Q52.6732 1091.5 46.212 1091.5 Z\" fill=\"#000000\" fill-rule=\"evenodd\" fill-opacity=\"1\" /><path clip-path=\"url(#clip290)\" d=\"M 0 0 M46.0847 1059.51 Q46.0847 1066.61 47.7079 1069.35 Q49.3312 1072.09 53.2461 1072.09 Q56.3653 1072.09 58.2114 1070.05 Q60.0256 1067.98 60.0256 1064.45 Q60.0256 1059.58 56.5881 1056.65 Q53.1188 1053.69 47.3897 1053.69 L46.0847 1053.69 L46.0847 1059.51 M43.6657 1047.83 L64.0042 1047.83 L64.0042 1053.69 L58.5933 1053.69 Q61.8398 1055.69 63.3994 1058.69 Q64.9272 1061.68 64.9272 1066.01 Q64.9272 1071.48 61.8716 1074.73 Q58.7843 1077.94 53.6281 1077.94 Q47.6125 1077.94 44.5569 1073.93 Q41.5014 1069.89 41.5014 1061.9 L41.5014 1053.69 L40.9285 1053.69 Q36.8862 1053.69 34.6901 1056.36 Q32.4621 1059 32.4621 1063.81 Q32.4621 1066.87 33.1941 1069.76 Q33.9262 1072.66 35.3903 1075.33 L29.9795 1075.33 Q28.7381 1072.12 28.1334 1069.09 Q27.4968 1066.07 27.4968 1063.21 Q27.4968 1055.47 31.5072 1051.65 Q35.5176 1047.83 43.6657 1047.83 Z\" fill=\"#000000\" fill-rule=\"evenodd\" fill-opacity=\"1\" /><path clip-path=\"url(#clip290)\" d=\"M 0 0 M29.4065 1013.04 L34.9447 1013.04 Q33.6716 1015.53 33.035 1018.2 Q32.3984 1020.87 32.3984 1023.74 Q32.3984 1028.1 33.7352 1030.29 Q35.072 1032.46 37.7456 1032.46 Q39.7826 1032.46 40.9603 1030.9 Q42.1061 1029.34 43.1565 1024.63 L43.6021 1022.62 Q44.9389 1016.39 47.3897 1013.78 Q49.8086 1011.13 54.1691 1011.13 Q59.1344 1011.13 62.0308 1015.08 Q64.9272 1019 64.9272 1025.87 Q64.9272 1028.73 64.3543 1031.85 Q63.8132 1034.94 62.6992 1038.38 L56.6518 1038.38 Q58.3387 1035.13 59.198 1031.98 Q60.0256 1028.83 60.0256 1025.74 Q60.0256 1021.61 58.6251 1019.38 Q57.1929 1017.15 54.6147 1017.15 Q52.2276 1017.15 50.9545 1018.77 Q49.6813 1020.36 48.5037 1025.81 L48.0262 1027.84 Q46.8804 1033.29 44.5251 1035.71 Q42.138 1038.12 38.0002 1038.12 Q32.9713 1038.12 30.2341 1034.56 Q27.4968 1030.99 27.4968 1024.44 Q27.4968 1021.19 27.9743 1018.33 Q28.4517 1015.46 29.4065 1013.04 Z\" fill=\"#000000\" fill-rule=\"evenodd\" fill-opacity=\"1\" /><path clip-path=\"url(#clip290)\" d=\"M 0 0 M29.4065 979.082 L34.9447 979.082 Q33.6716 981.565 33.035 984.238 Q32.3984 986.912 32.3984 989.777 Q32.3984 994.137 33.7352 996.333 Q35.072 998.498 37.7456 998.498 Q39.7826 998.498 40.9603 996.938 Q42.1061 995.378 43.1565 990.668 L43.6021 988.663 Q44.9389 982.424 47.3897 979.814 Q49.8086 977.172 54.1691 977.172 Q59.1344 977.172 62.0308 981.119 Q64.9272 985.034 64.9272 991.909 Q64.9272 994.774 64.3543 997.893 Q63.8132 1000.98 62.6992 1004.42 L56.6518 1004.42 Q58.3387 1001.17 59.198 998.02 Q60.0256 994.869 60.0256 991.782 Q60.0256 987.644 58.6251 985.416 Q57.1929 983.188 54.6147 983.188 Q52.2276 983.188 50.9545 984.811 Q49.6813 986.403 48.5037 991.845 L48.0262 993.882 Q46.8804 999.325 44.5251 1001.74 Q42.138 1004.16 38.0002 1004.16 Q32.9713 1004.16 30.2341 1000.6 Q27.4968 997.033 27.4968 990.477 Q27.4968 987.23 27.9743 984.366 Q28.4517 981.501 29.4065 979.082 Z\" fill=\"#000000\" fill-rule=\"evenodd\" fill-opacity=\"1\" /><path clip-path=\"url(#clip290)\" d=\"M 0 0 M44.7161 937.355 L47.5806 937.355 L47.5806 964.282 Q53.6281 963.9 56.8109 960.653 Q59.9619 957.375 59.9619 951.551 Q59.9619 948.177 59.1344 945.026 Q58.3069 941.843 56.6518 938.724 L62.1899 938.724 Q63.5267 941.875 64.227 945.185 Q64.9272 948.495 64.9272 951.901 Q64.9272 960.431 59.9619 965.428 Q54.9967 970.393 46.5303 970.393 Q37.7774 970.393 32.6531 965.682 Q27.4968 960.94 27.4968 952.919 Q27.4968 945.726 32.1438 941.556 Q36.7589 937.355 44.7161 937.355 M42.9973 943.211 Q38.1912 943.275 35.3266 945.917 Q32.4621 948.527 32.4621 952.855 Q32.4621 957.757 35.2312 960.717 Q38.0002 963.645 43.0292 964.091 L42.9973 943.211 Z\" fill=\"#000000\" fill-rule=\"evenodd\" fill-opacity=\"1\" /><path clip-path=\"url(#clip290)\" d=\"M 0 0 M42.4881 898.11 L64.0042 898.11 L64.0042 903.967 L42.679 903.967 Q37.6183 903.967 35.1038 905.94 Q32.5894 907.914 32.5894 911.86 Q32.5894 916.603 35.6131 919.34 Q38.6368 922.077 43.8567 922.077 L64.0042 922.077 L64.0042 927.966 L28.3562 927.966 L28.3562 922.077 L33.8944 922.077 Q30.6797 919.977 29.0883 917.144 Q27.4968 914.279 27.4968 910.555 Q27.4968 904.412 31.3163 901.261 Q35.1038 898.11 42.4881 898.11 Z\" fill=\"#000000\" fill-rule=\"evenodd\" fill-opacity=\"1\" /><path clip-path=\"url(#clip290)\" d=\"M 0 0 M45.7664 862.972 Q39.4007 862.972 35.8996 865.613 Q32.3984 868.223 32.3984 872.966 Q32.3984 877.676 35.8996 880.318 Q39.4007 882.928 45.7664 882.928 Q52.1003 882.928 55.6014 880.318 Q59.1026 877.676 59.1026 872.966 Q59.1026 868.223 55.6014 865.613 Q52.1003 862.972 45.7664 862.972 M59.58 857.115 Q68.683 857.115 73.1071 861.157 Q77.5631 865.2 77.5631 873.539 Q77.5631 876.626 77.0857 879.363 Q76.6401 882.101 75.6852 884.679 L69.9879 884.679 Q71.3884 882.101 72.0568 879.586 Q72.7252 877.072 72.7252 874.462 Q72.7252 868.701 69.7015 865.836 Q66.7096 862.972 60.6303 862.972 L57.7339 862.972 Q60.885 864.786 62.4446 867.619 Q64.0042 870.451 64.0042 874.398 Q64.0042 880.955 59.0071 884.965 Q54.01 888.976 45.7664 888.976 Q37.491 888.976 32.4939 884.965 Q27.4968 880.955 27.4968 874.398 Q27.4968 870.451 29.0564 867.619 Q30.616 864.786 33.7671 862.972 L28.3562 862.972 L28.3562 857.115 L59.58 857.115 Z\" fill=\"#000000\" fill-rule=\"evenodd\" fill-opacity=\"1\" /><path clip-path=\"url(#clip290)\" d=\"M 0 0 M44.7161 814.561 L47.5806 814.561 L47.5806 841.487 Q53.6281 841.105 56.8109 837.859 Q59.9619 834.581 59.9619 828.756 Q59.9619 825.382 59.1344 822.231 Q58.3069 819.048 56.6518 815.929 L62.1899 815.929 Q63.5267 819.08 64.227 822.39 Q64.9272 825.7 64.9272 829.106 Q64.9272 837.636 59.9619 842.633 Q54.9967 847.599 46.5303 847.599 Q37.7774 847.599 32.6531 842.888 Q27.4968 838.145 27.4968 830.125 Q27.4968 822.931 32.1438 818.762 Q36.7589 814.561 44.7161 814.561 M42.9973 820.417 Q38.1912 820.481 35.3266 823.122 Q32.4621 825.732 32.4621 830.061 Q32.4621 834.963 35.2312 837.923 Q38.0002 840.851 43.0292 841.296 L42.9973 820.417 Z\" fill=\"#000000\" fill-rule=\"evenodd\" fill-opacity=\"1\" /><path clip-path=\"url(#clip290)\" d=\"M 0 0 M33.8307 784.292 Q33.2578 785.278 33.0032 786.456 Q32.7167 787.602 32.7167 789.002 Q32.7167 793.967 35.9632 796.641 Q39.1779 799.283 45.2253 799.283 L64.0042 799.283 L64.0042 805.171 L28.3562 805.171 L28.3562 799.283 L33.8944 799.283 Q30.6479 797.437 29.0883 794.477 Q27.4968 791.517 27.4968 787.283 Q27.4968 786.679 27.5923 785.947 Q27.656 785.215 27.8151 784.323 L33.8307 784.292 Z\" fill=\"#000000\" fill-rule=\"evenodd\" fill-opacity=\"1\" /><path clip-path=\"url(#clip290)\" d=\"M 0 0 M29.4065 755.423 L34.9447 755.423 Q33.6716 757.906 33.035 760.579 Q32.3984 763.253 32.3984 766.117 Q32.3984 770.478 33.7352 772.674 Q35.072 774.838 37.7456 774.838 Q39.7826 774.838 40.9603 773.279 Q42.1061 771.719 43.1565 767.009 L43.6021 765.003 Q44.9389 758.765 47.3897 756.155 Q49.8086 753.513 54.1691 753.513 Q59.1344 753.513 62.0308 757.46 Q64.9272 761.375 64.9272 768.25 Q64.9272 771.115 64.3543 774.234 Q63.8132 777.321 62.6992 780.759 L56.6518 780.759 Q58.3387 777.512 59.198 774.361 Q60.0256 771.21 60.0256 768.123 Q60.0256 763.985 58.6251 761.757 Q57.1929 759.529 54.6147 759.529 Q52.2276 759.529 50.9545 761.152 Q49.6813 762.744 48.5037 768.186 L48.0262 770.223 Q46.8804 775.666 44.5251 778.085 Q42.138 780.504 38.0002 780.504 Q32.9713 780.504 30.2341 776.939 Q27.4968 773.374 27.4968 766.818 Q27.4968 763.571 27.9743 760.707 Q28.4517 757.842 29.4065 755.423 Z\" fill=\"#000000\" fill-rule=\"evenodd\" fill-opacity=\"1\" /><path clip-path=\"url(#clip290)\" d=\"M 0 0 M14.5426 709.399 Q21.8632 713.664 29.0246 715.733 Q36.186 717.802 43.5384 717.802 Q50.8908 717.802 58.1159 715.733 Q65.3091 713.632 72.5979 709.399 L72.5979 714.492 Q65.1182 719.266 57.8931 721.653 Q50.668 724.008 43.5384 724.008 Q36.4406 724.008 29.2474 721.653 Q22.0542 719.298 14.5426 714.492 L14.5426 709.399 Z\" fill=\"#000000\" fill-rule=\"evenodd\" fill-opacity=\"1\" /><path clip-path=\"url(#clip290)\" d=\"M 0 0 M28.3562 698.036 L28.3562 692.18 L64.0042 692.18 L64.0042 698.036 L28.3562 698.036 M14.479 698.036 L14.479 692.18 L21.895 692.18 L21.895 698.036 L14.479 698.036 Z\" fill=\"#000000\" fill-rule=\"evenodd\" fill-opacity=\"1\" /><path clip-path=\"url(#clip290)\" d=\"M 0 0 M42.4881 650.293 L64.0042 650.293 L64.0042 656.15 L42.679 656.15 Q37.6183 656.15 35.1038 658.123 Q32.5894 660.097 32.5894 664.043 Q32.5894 668.786 35.6131 671.523 Q38.6368 674.26 43.8567 674.26 L64.0042 674.26 L64.0042 680.149 L28.3562 680.149 L28.3562 674.26 L33.8944 674.26 Q30.6797 672.16 29.0883 669.327 Q27.4968 666.462 27.4968 662.738 Q27.4968 656.595 31.3163 653.444 Q35.1038 650.293 42.4881 650.293 Z\" fill=\"#000000\" fill-rule=\"evenodd\" fill-opacity=\"1\" /><path clip-path=\"url(#clip290)\" d=\"M 0 0 M35.1993 590.138 Q31.2526 587.941 29.3747 584.886 Q27.4968 581.83 27.4968 577.693 Q27.4968 572.123 31.4117 569.099 Q35.2948 566.075 42.4881 566.075 L64.0042 566.075 L64.0042 571.963 L42.679 571.963 Q37.5546 571.963 35.072 573.778 Q32.5894 575.592 32.5894 579.316 Q32.5894 583.867 35.6131 586.509 Q38.6368 589.151 43.8567 589.151 L64.0042 589.151 L64.0042 595.039 L42.679 595.039 Q37.5228 595.039 35.072 596.853 Q32.5894 598.668 32.5894 602.455 Q32.5894 606.943 35.6449 609.585 Q38.6686 612.227 43.8567 612.227 L64.0042 612.227 L64.0042 618.115 L28.3562 618.115 L28.3562 612.227 L33.8944 612.227 Q30.616 610.221 29.0564 607.42 Q27.4968 604.619 27.4968 600.768 Q27.4968 596.885 29.4702 594.18 Q31.4436 591.442 35.1993 590.138 Z\" fill=\"#000000\" fill-rule=\"evenodd\" fill-opacity=\"1\" /><path clip-path=\"url(#clip290)\" d=\"M 0 0 M28.3562 554.394 L28.3562 548.538 L64.0042 548.538 L64.0042 554.394 L28.3562 554.394 M14.479 554.394 L14.479 548.538 L21.895 548.538 L21.895 554.394 L14.479 554.394 Z\" fill=\"#000000\" fill-rule=\"evenodd\" fill-opacity=\"1\" /><path clip-path=\"url(#clip290)\" d=\"M 0 0 M14.479 536.284 L14.479 530.427 L64.0042 530.427 L64.0042 536.284 L14.479 536.284 Z\" fill=\"#000000\" fill-rule=\"evenodd\" fill-opacity=\"1\" /><path clip-path=\"url(#clip290)\" d=\"M 0 0 M14.479 518.173 L14.479 512.317 L64.0042 512.317 L64.0042 518.173 L14.479 518.173 Z\" fill=\"#000000\" fill-rule=\"evenodd\" fill-opacity=\"1\" /><path clip-path=\"url(#clip290)\" d=\"M 0 0 M28.3562 500.063 L28.3562 494.206 L64.0042 494.206 L64.0042 500.063 L28.3562 500.063 M14.479 500.063 L14.479 494.206 L21.895 494.206 L21.895 500.063 L14.479 500.063 Z\" fill=\"#000000\" fill-rule=\"evenodd\" fill-opacity=\"1\" /><path clip-path=\"url(#clip290)\" d=\"M 0 0 M32.4621 468.139 Q32.4621 472.849 36.1542 475.587 Q39.8145 478.324 46.212 478.324 Q52.6095 478.324 56.3017 475.618 Q59.9619 472.881 59.9619 468.139 Q59.9619 463.46 56.2698 460.723 Q52.5777 457.985 46.212 457.985 Q39.8781 457.985 36.186 460.723 Q32.4621 463.46 32.4621 468.139 M27.4968 468.139 Q27.4968 460.5 32.4621 456.139 Q37.4273 451.779 46.212 451.779 Q54.9649 451.779 59.9619 456.139 Q64.9272 460.5 64.9272 468.139 Q64.9272 475.809 59.9619 480.17 Q54.9649 484.499 46.212 484.499 Q37.4273 484.499 32.4621 480.17 Q27.4968 475.809 27.4968 468.139 Z\" fill=\"#000000\" fill-rule=\"evenodd\" fill-opacity=\"1\" /><path clip-path=\"url(#clip290)\" d=\"M 0 0 M42.4881 412.439 L64.0042 412.439 L64.0042 418.295 L42.679 418.295 Q37.6183 418.295 35.1038 420.269 Q32.5894 422.242 32.5894 426.189 Q32.5894 430.931 35.6131 433.668 Q38.6368 436.406 43.8567 436.406 L64.0042 436.406 L64.0042 442.294 L28.3562 442.294 L28.3562 436.406 L33.8944 436.406 Q30.6797 434.305 29.0883 431.472 Q27.4968 428.608 27.4968 424.884 Q27.4968 418.741 31.3163 415.59 Q35.1038 412.439 42.4881 412.439 Z\" fill=\"#000000\" fill-rule=\"evenodd\" fill-opacity=\"1\" /><path clip-path=\"url(#clip290)\" d=\"M 0 0 M29.4065 378.032 L34.9447 378.032 Q33.6716 380.515 33.035 383.188 Q32.3984 385.862 32.3984 388.727 Q32.3984 393.087 33.7352 395.283 Q35.072 397.448 37.7456 397.448 Q39.7826 397.448 40.9603 395.888 Q42.1061 394.328 43.1565 389.618 L43.6021 387.613 Q44.9389 381.374 47.3897 378.764 Q49.8086 376.122 54.1691 376.122 Q59.1344 376.122 62.0308 380.069 Q64.9272 383.984 64.9272 390.859 Q64.9272 393.724 64.3543 396.843 Q63.8132 399.93 62.6992 403.368 L56.6518 403.368 Q58.3387 400.121 59.198 396.97 Q60.0256 393.819 60.0256 390.732 Q60.0256 386.594 58.6251 384.366 Q57.1929 382.138 54.6147 382.138 Q52.2276 382.138 50.9545 383.761 Q49.6813 385.353 48.5037 390.795 L48.0262 392.832 Q46.8804 398.275 44.5251 400.694 Q42.138 403.113 38.0002 403.113 Q32.9713 403.113 30.2341 399.548 Q27.4968 395.983 27.4968 389.427 Q27.4968 386.18 27.9743 383.316 Q28.4517 380.451 29.4065 378.032 Z\" fill=\"#000000\" fill-rule=\"evenodd\" fill-opacity=\"1\" /><path clip-path=\"url(#clip290)\" d=\"M 0 0 M14.5426 367.72 L14.5426 362.627 Q22.0542 357.853 29.2474 355.498 Q36.4406 353.11 43.5384 353.11 Q50.668 353.11 57.8931 355.498 Q65.1182 357.853 72.5979 362.627 L72.5979 367.72 Q65.3091 363.487 58.1159 361.418 Q50.8908 359.317 43.5384 359.317 Q36.186 359.317 29.0246 361.418 Q21.8632 363.487 14.5426 367.72 Z\" fill=\"#000000\" fill-rule=\"evenodd\" fill-opacity=\"1\" /><polyline clip-path=\"url(#clip292)\" style=\"stroke:#009af9; stroke-width:4; stroke-opacity:1; fill:none\" points=\"\n",
       "  295.211,1361.56 400.349,1384.24 505.487,1282.67 610.624,1235.2 715.762,1021.26 820.9,926.145 926.037,766.281 1031.18,680.523 1136.31,619.531 1241.45,500.933 \n",
       "  1346.59,362.815 1451.73,588.435 1556.86,655.492 1662,515.283 1767.14,286.407 1872.28,153.664 1977.41,174.914 2082.55,86.1857 2187.69,234.323 2292.83,409.561 \n",
       "  \n",
       "  \"/>\n",
       "</svg>\n"
      ]
     },
     "execution_count": 25,
     "metadata": {},
     "output_type": "execute_result"
    }
   ],
   "source": [
    "@chain df2 begin\n",
    "    groupby(:year, sort=true)\n",
    "    combine(:Passengers => sum)\n",
    "    plot(_.year, _.Passengers_sum ./ 10^6, legend=nothing,\n",
    "         xlab=\"year\", ylab=\"passengers (in millions)\")\n",
    "end"
   ]
  },
  {
   "cell_type": "markdown",
   "metadata": {},
   "source": [
    "I particular note that `_` notation from Chain.jl package allows you to write any valid code you could use on the passed value. In our case `plot` is passed a `DataFrame`, so we e.g. write `_.year` to get a `:year` column from it."
   ]
  },
  {
   "cell_type": "markdown",
   "metadata": {},
   "source": [
    "In the following example we will want to find pairs of origin-destination states that have the highest occupancy:"
   ]
  },
  {
   "cell_type": "code",
   "execution_count": 26,
   "metadata": {
    "scrolled": true
   },
   "outputs": [
    {
     "data": {
      "text/html": [
       "<table class=\"data-frame\"><thead><tr><th></th><th>ost</th><th>dst</th><th>occupied</th><th>Passengers_sum</th></tr><tr><th></th><th>String</th><th>String</th><th>Float64</th><th>Int64</th></tr></thead><tbody><p>2,369 rows × 4 columns</p><tr><th>1</th><td>NE</td><td>AK</td><td>1.0</td><td>180</td></tr><tr><th>2</th><td>MD</td><td>ID</td><td>1.0</td><td>150</td></tr><tr><th>3</th><td>ID</td><td>AR</td><td>1.0</td><td>124</td></tr><tr><th>4</th><td>ID</td><td>MS</td><td>1.0</td><td>181</td></tr><tr><th>5</th><td>ND</td><td>RI</td><td>1.0</td><td>50</td></tr><tr><th>6</th><td>WY</td><td>NY</td><td>0.991935</td><td>123</td></tr><tr><th>7</th><td>OR</td><td>RI</td><td>0.991935</td><td>123</td></tr><tr><th>8</th><td>WV</td><td>NE</td><td>0.984615</td><td>176</td></tr><tr><th>9</th><td>KS</td><td>ID</td><td>0.983871</td><td>122</td></tr><tr><th>10</th><td>AK</td><td>TN</td><td>0.981723</td><td>376</td></tr><tr><th>11</th><td>NM</td><td>KY</td><td>0.979204</td><td>285</td></tr><tr><th>12</th><td>HI</td><td>NE</td><td>0.977472</td><td>1327</td></tr><tr><th>13</th><td>PA</td><td>HI</td><td>0.974296</td><td>699</td></tr><tr><th>14</th><td>SD</td><td>MS</td><td>0.971098</td><td>168</td></tr><tr><th>15</th><td>WV</td><td>NV</td><td>0.970803</td><td>133</td></tr><tr><th>16</th><td>MI</td><td>ID</td><td>0.966667</td><td>145</td></tr><tr><th>17</th><td>MS</td><td>SD</td><td>0.965318</td><td>167</td></tr><tr><th>18</th><td>MD</td><td>HI</td><td>0.963899</td><td>267</td></tr><tr><th>19</th><td>MT</td><td>OK</td><td>0.959677</td><td>164</td></tr><tr><th>20</th><td>OR</td><td>VA</td><td>0.955169</td><td>653</td></tr><tr><th>&vellip;</th><td>&vellip;</td><td>&vellip;</td><td>&vellip;</td><td>&vellip;</td></tr></tbody></table>"
      ],
      "text/latex": [
       "\\begin{tabular}{r|cccc}\n",
       "\t& ost & dst & occupied & Passengers\\_sum\\\\\n",
       "\t\\hline\n",
       "\t& String & String & Float64 & Int64\\\\\n",
       "\t\\hline\n",
       "\t1 & NE & AK & 1.0 & 180 \\\\\n",
       "\t2 & MD & ID & 1.0 & 150 \\\\\n",
       "\t3 & ID & AR & 1.0 & 124 \\\\\n",
       "\t4 & ID & MS & 1.0 & 181 \\\\\n",
       "\t5 & ND & RI & 1.0 & 50 \\\\\n",
       "\t6 & WY & NY & 0.991935 & 123 \\\\\n",
       "\t7 & OR & RI & 0.991935 & 123 \\\\\n",
       "\t8 & WV & NE & 0.984615 & 176 \\\\\n",
       "\t9 & KS & ID & 0.983871 & 122 \\\\\n",
       "\t10 & AK & TN & 0.981723 & 376 \\\\\n",
       "\t11 & NM & KY & 0.979204 & 285 \\\\\n",
       "\t12 & HI & NE & 0.977472 & 1327 \\\\\n",
       "\t13 & PA & HI & 0.974296 & 699 \\\\\n",
       "\t14 & SD & MS & 0.971098 & 168 \\\\\n",
       "\t15 & WV & NV & 0.970803 & 133 \\\\\n",
       "\t16 & MI & ID & 0.966667 & 145 \\\\\n",
       "\t17 & MS & SD & 0.965318 & 167 \\\\\n",
       "\t18 & MD & HI & 0.963899 & 267 \\\\\n",
       "\t19 & MT & OK & 0.959677 & 164 \\\\\n",
       "\t20 & OR & VA & 0.955169 & 653 \\\\\n",
       "\t$\\dots$ & $\\dots$ & $\\dots$ & $\\dots$ & $\\dots$ \\\\\n",
       "\\end{tabular}\n"
      ],
      "text/plain": [
       "\u001b[1m2369×4 DataFrame\u001b[0m\n",
       "\u001b[1m  Row \u001b[0m│\u001b[1m ost    \u001b[0m\u001b[1m dst    \u001b[0m\u001b[1m occupied \u001b[0m\u001b[1m Passengers_sum \u001b[0m\n",
       "\u001b[1m      \u001b[0m│\u001b[90m String \u001b[0m\u001b[90m String \u001b[0m\u001b[90m Float64  \u001b[0m\u001b[90m Int64          \u001b[0m\n",
       "──────┼──────────────────────────────────────────\n",
       "    1 │ NE      AK      1.0                  180\n",
       "    2 │ MD      ID      1.0                  150\n",
       "    3 │ ID      AR      1.0                  124\n",
       "    4 │ ID      MS      1.0                  181\n",
       "    5 │ ND      RI      1.0                   50\n",
       "    6 │ WY      NY      0.991935             123\n",
       "  ⋮   │   ⋮       ⋮        ⋮            ⋮\n",
       " 2365 │ AK      AR      0.0                    0\n",
       " 2366 │ DE      MN      0.0                    0\n",
       " 2367 │ AL      SD      0.0                    0\n",
       " 2368 │ SC      SD      0.0                    0\n",
       " 2369 │ AK      VA      0.0                    0\n",
       "\u001b[36m                                2358 rows omitted\u001b[0m"
      ]
     },
     "execution_count": 26,
     "metadata": {},
     "output_type": "execute_result"
    }
   ],
   "source": [
    "df3 = @chain df2 begin\n",
    "    groupby([:ost, :dst])\n",
    "    combine(:occupied => mean∘skipmissing => :occupied, :Passengers => sum)\n",
    "    filter!(:occupied => isfinite, _)\n",
    "    sort!(:occupied, rev=true)\n",
    "end"
   ]
  },
  {
   "cell_type": "markdown",
   "metadata": {},
   "source": [
    "In the above code note two things: we use `filter!` and `sort!` functions to process the data frame returned by `combine` in place (which reduces the number of allocations we make).\n",
    "\n",
    "Additionally note that when we aggregate `:occupied` column in `combine` using `mean∘skipmissing` then for some origin-destination state combinations we get zero observations, which produce `NaN`, so we filter them out using `isfinite` predicate."
   ]
  },
  {
   "cell_type": "markdown",
   "metadata": {},
   "source": [
    "Just to make sure what happens when we apply `mean∘skipmissing` to a vector containing only missing values consider the following simple example:"
   ]
  },
  {
   "cell_type": "code",
   "execution_count": 27,
   "metadata": {},
   "outputs": [
    {
     "data": {
      "text/html": [
       "<table class=\"data-frame\"><thead><tr><th></th><th>g</th><th>v_mean_skipmissing</th></tr><tr><th></th><th>Int64</th><th>Float64</th></tr></thead><tbody><p>2 rows × 2 columns</p><tr><th>1</th><td>1</td><td>1.5</td></tr><tr><th>2</th><td>2</td><td>NaN</td></tr></tbody></table>"
      ],
      "text/latex": [
       "\\begin{tabular}{r|cc}\n",
       "\t& g & v\\_mean\\_skipmissing\\\\\n",
       "\t\\hline\n",
       "\t& Int64 & Float64\\\\\n",
       "\t\\hline\n",
       "\t1 & 1 & 1.5 \\\\\n",
       "\t2 & 2 & NaN \\\\\n",
       "\\end{tabular}\n"
      ],
      "text/plain": [
       "\u001b[1m2×2 DataFrame\u001b[0m\n",
       "\u001b[1m Row \u001b[0m│\u001b[1m g     \u001b[0m\u001b[1m v_mean_skipmissing \u001b[0m\n",
       "\u001b[1m     \u001b[0m│\u001b[90m Int64 \u001b[0m\u001b[90m Float64            \u001b[0m\n",
       "─────┼───────────────────────────\n",
       "   1 │     1                 1.5\n",
       "   2 │     2               NaN"
      ]
     },
     "execution_count": 27,
     "metadata": {},
     "output_type": "execute_result"
    }
   ],
   "source": [
    "@chain DataFrame(g=[1,1,2,2], v=[1,2,missing, missing]) begin\n",
    "    groupby(:g)\n",
    "    combine(:v => mean∘skipmissing)\n",
    "end"
   ]
  },
  {
   "cell_type": "markdown",
   "metadata": {},
   "source": [
    "As a final example let us consider the following case. Assume that you want to query `df3` data frame by `:ost` and `:dst` columns very often.\n",
    "\n",
    "The simplest way to do it is to use `subset` as we have already discussed:"
   ]
  },
  {
   "cell_type": "code",
   "execution_count": 28,
   "metadata": {},
   "outputs": [
    {
     "data": {
      "text/html": [
       "<table class=\"data-frame\"><thead><tr><th></th><th>ost</th><th>dst</th><th>occupied</th><th>Passengers_sum</th></tr><tr><th></th><th>String</th><th>String</th><th>Float64</th><th>Int64</th></tr></thead><tbody><p>1 rows × 4 columns</p><tr><th>1</th><td>NE</td><td>AK</td><td>1.0</td><td>180</td></tr></tbody></table>"
      ],
      "text/latex": [
       "\\begin{tabular}{r|cccc}\n",
       "\t& ost & dst & occupied & Passengers\\_sum\\\\\n",
       "\t\\hline\n",
       "\t& String & String & Float64 & Int64\\\\\n",
       "\t\\hline\n",
       "\t1 & NE & AK & 1.0 & 180 \\\\\n",
       "\\end{tabular}\n"
      ],
      "text/plain": [
       "\u001b[1m1×4 DataFrame\u001b[0m\n",
       "\u001b[1m Row \u001b[0m│\u001b[1m ost    \u001b[0m\u001b[1m dst    \u001b[0m\u001b[1m occupied \u001b[0m\u001b[1m Passengers_sum \u001b[0m\n",
       "\u001b[1m     \u001b[0m│\u001b[90m String \u001b[0m\u001b[90m String \u001b[0m\u001b[90m Float64  \u001b[0m\u001b[90m Int64          \u001b[0m\n",
       "─────┼──────────────────────────────────────────\n",
       "   1 │ NE      AK           1.0             180"
      ]
     },
     "execution_count": 28,
     "metadata": {},
     "output_type": "execute_result"
    }
   ],
   "source": [
    "subset(df3, :ost => ByRow(==(\"NE\")), :dst => ByRow(==(\"AK\")))"
   ]
  },
  {
   "cell_type": "markdown",
   "metadata": {},
   "source": [
    "Now let us use a bit different technique. We `groupby` the `df3` data frame first:"
   ]
  },
  {
   "cell_type": "code",
   "execution_count": 29,
   "metadata": {},
   "outputs": [
    {
     "data": {
      "text/html": [
       "<p><b>GroupedDataFrame with 2369 groups based on keys: ost, dst</b></p><p><i>First Group (1 row): ost = \"NE\", dst = \"AK\"</i></p><table class=\"data-frame\"><thead><tr><th></th><th>ost</th><th>dst</th><th>occupied</th><th>Passengers_sum</th></tr><tr><th></th><th>String</th><th>String</th><th>Float64</th><th>Int64</th></tr></thead><tbody><tr><th>1</th><td>NE</td><td>AK</td><td>1.0</td><td>180</td></tr></tbody></table><p>&vellip;</p><p><i>Last Group (1 row): ost = \"AK\", dst = \"VA\"</i></p><table class=\"data-frame\"><thead><tr><th></th><th>ost</th><th>dst</th><th>occupied</th><th>Passengers_sum</th></tr><tr><th></th><th>String</th><th>String</th><th>Float64</th><th>Int64</th></tr></thead><tbody><tr><th>1</th><td>AK</td><td>VA</td><td>0.0</td><td>0</td></tr></tbody></table>"
      ],
      "text/latex": [
       "GroupedDataFrame with 2369 groups based on keys: ost, dst\n",
       "\n",
       "First Group (1 row): ost = \"NE\", dst = \"AK\"\n",
       "\n",
       "\\begin{tabular}{r|cccc}\n",
       "\t& ost & dst & occupied & Passengers\\_sum\\\\\n",
       "\t\\hline\n",
       "\t& String & String & Float64 & Int64\\\\\n",
       "\t\\hline\n",
       "\t1 & NE & AK & 1.0 & 180 \\\\\n",
       "\\end{tabular}\n",
       "\n",
       "$\\dots$\n",
       "\n",
       "Last Group (1 row): ost = \"AK\", dst = \"VA\"\n",
       "\n",
       "\\begin{tabular}{r|cccc}\n",
       "\t& ost & dst & occupied & Passengers\\_sum\\\\\n",
       "\t\\hline\n",
       "\t& String & String & Float64 & Int64\\\\\n",
       "\t\\hline\n",
       "\t1 & AK & VA & 0.0 & 0 \\\\\n",
       "\\end{tabular}\n"
      ],
      "text/plain": [
       "GroupedDataFrame with 2369 groups based on keys: ost, dst\n",
       "First Group (1 row): ost = \"NE\", dst = \"AK\"\n",
       "\u001b[1m Row \u001b[0m│\u001b[1m ost    \u001b[0m\u001b[1m dst    \u001b[0m\u001b[1m occupied \u001b[0m\u001b[1m Passengers_sum \u001b[0m\n",
       "\u001b[1m     \u001b[0m│\u001b[90m String \u001b[0m\u001b[90m String \u001b[0m\u001b[90m Float64  \u001b[0m\u001b[90m Int64          \u001b[0m\n",
       "─────┼──────────────────────────────────────────\n",
       "   1 │ NE      AK           1.0             180\n",
       "⋮\n",
       "Last Group (1 row): ost = \"AK\", dst = \"VA\"\n",
       "\u001b[1m Row \u001b[0m│\u001b[1m ost    \u001b[0m\u001b[1m dst    \u001b[0m\u001b[1m occupied \u001b[0m\u001b[1m Passengers_sum \u001b[0m\n",
       "\u001b[1m     \u001b[0m│\u001b[90m String \u001b[0m\u001b[90m String \u001b[0m\u001b[90m Float64  \u001b[0m\u001b[90m Int64          \u001b[0m\n",
       "─────┼──────────────────────────────────────────\n",
       "   1 │ AK      VA           0.0               0"
      ]
     },
     "execution_count": 29,
     "metadata": {},
     "output_type": "execute_result"
    }
   ],
   "source": [
    "gdf3 = groupby(df3, [:ost, :dst])"
   ]
  },
  {
   "cell_type": "markdown",
   "metadata": {},
   "source": [
    "Now we can easiliy query it by group values (here we show such indexing by `Tuple` or `NamedTuple`):"
   ]
  },
  {
   "cell_type": "code",
   "execution_count": 30,
   "metadata": {},
   "outputs": [
    {
     "data": {
      "text/html": [
       "<table class=\"data-frame\"><thead><tr><th></th><th>ost</th><th>dst</th><th>occupied</th><th>Passengers_sum</th></tr><tr><th></th><th>String</th><th>String</th><th>Float64</th><th>Int64</th></tr></thead><tbody><p>1 rows × 4 columns</p><tr><th>1</th><td>NE</td><td>AK</td><td>1.0</td><td>180</td></tr></tbody></table>"
      ],
      "text/latex": [
       "\\begin{tabular}{r|cccc}\n",
       "\t& ost & dst & occupied & Passengers\\_sum\\\\\n",
       "\t\\hline\n",
       "\t& String & String & Float64 & Int64\\\\\n",
       "\t\\hline\n",
       "\t1 & NE & AK & 1.0 & 180 \\\\\n",
       "\\end{tabular}\n"
      ],
      "text/plain": [
       "\u001b[1m1×4 SubDataFrame\u001b[0m\n",
       "\u001b[1m Row \u001b[0m│\u001b[1m ost    \u001b[0m\u001b[1m dst    \u001b[0m\u001b[1m occupied \u001b[0m\u001b[1m Passengers_sum \u001b[0m\n",
       "\u001b[1m     \u001b[0m│\u001b[90m String \u001b[0m\u001b[90m String \u001b[0m\u001b[90m Float64  \u001b[0m\u001b[90m Int64          \u001b[0m\n",
       "─────┼──────────────────────────────────────────\n",
       "   1 │ NE      AK           1.0             180"
      ]
     },
     "execution_count": 30,
     "metadata": {},
     "output_type": "execute_result"
    }
   ],
   "source": [
    "gdf3[(\"NE\", \"AK\")]"
   ]
  },
  {
   "cell_type": "code",
   "execution_count": 31,
   "metadata": {},
   "outputs": [
    {
     "data": {
      "text/html": [
       "<table class=\"data-frame\"><thead><tr><th></th><th>ost</th><th>dst</th><th>occupied</th><th>Passengers_sum</th></tr><tr><th></th><th>String</th><th>String</th><th>Float64</th><th>Int64</th></tr></thead><tbody><p>1 rows × 4 columns</p><tr><th>1</th><td>NE</td><td>AK</td><td>1.0</td><td>180</td></tr></tbody></table>"
      ],
      "text/latex": [
       "\\begin{tabular}{r|cccc}\n",
       "\t& ost & dst & occupied & Passengers\\_sum\\\\\n",
       "\t\\hline\n",
       "\t& String & String & Float64 & Int64\\\\\n",
       "\t\\hline\n",
       "\t1 & NE & AK & 1.0 & 180 \\\\\n",
       "\\end{tabular}\n"
      ],
      "text/plain": [
       "\u001b[1m1×4 SubDataFrame\u001b[0m\n",
       "\u001b[1m Row \u001b[0m│\u001b[1m ost    \u001b[0m\u001b[1m dst    \u001b[0m\u001b[1m occupied \u001b[0m\u001b[1m Passengers_sum \u001b[0m\n",
       "\u001b[1m     \u001b[0m│\u001b[90m String \u001b[0m\u001b[90m String \u001b[0m\u001b[90m Float64  \u001b[0m\u001b[90m Int64          \u001b[0m\n",
       "─────┼──────────────────────────────────────────\n",
       "   1 │ NE      AK           1.0             180"
      ]
     },
     "execution_count": 31,
     "metadata": {},
     "output_type": "execute_result"
    }
   ],
   "source": [
    "gdf3[(ost=\"NE\", dst=\"AK\")]"
   ]
  },
  {
   "cell_type": "markdown",
   "metadata": {},
   "source": [
    "Note that you can use `keys` on `GroupedDataFrame`:"
   ]
  },
  {
   "cell_type": "code",
   "execution_count": 32,
   "metadata": {},
   "outputs": [
    {
     "data": {
      "text/plain": [
       "2369-element DataFrames.GroupKeys{GroupedDataFrame{DataFrame}}:\n",
       " GroupKey: (ost = \"NE\", dst = \"AK\")\n",
       " GroupKey: (ost = \"MD\", dst = \"ID\")\n",
       " GroupKey: (ost = \"ID\", dst = \"AR\")\n",
       " GroupKey: (ost = \"ID\", dst = \"MS\")\n",
       " GroupKey: (ost = \"ND\", dst = \"RI\")\n",
       " GroupKey: (ost = \"WY\", dst = \"NY\")\n",
       " GroupKey: (ost = \"OR\", dst = \"RI\")\n",
       " GroupKey: (ost = \"WV\", dst = \"NE\")\n",
       " ⋮\n",
       " GroupKey: (ost = \"RI\", dst = \"RI\")\n",
       " GroupKey: (ost = \"MN\", dst = \"DE\")\n",
       " GroupKey: (ost = \"AK\", dst = \"AR\")\n",
       " GroupKey: (ost = \"DE\", dst = \"MN\")\n",
       " GroupKey: (ost = \"AL\", dst = \"SD\")\n",
       " GroupKey: (ost = \"SC\", dst = \"SD\")\n",
       " GroupKey: (ost = \"AK\", dst = \"VA\")"
      ]
     },
     "execution_count": 32,
     "metadata": {},
     "output_type": "execute_result"
    }
   ],
   "source": [
    "keys(gdf3)"
   ]
  },
  {
   "cell_type": "markdown",
   "metadata": {},
   "source": [
    "In this way we got only the origin-destination state combinations that are actually present in our `GroupedDataFrame`."
   ]
  },
  {
   "cell_type": "markdown",
   "metadata": {},
   "source": [
    "The ability to query a `GroupedDataFrame` by grouping columns fast makes it a very useful way to add an index to a data frame."
   ]
  }
 ],
 "metadata": {
  "@webio": {
   "lastCommId": null,
   "lastKernelId": null
  },
  "kernelspec": {
   "display_name": "Julia 1.6.0",
   "language": "julia",
   "name": "julia-1.6"
  },
  "language_info": {
   "file_extension": ".jl",
   "mimetype": "application/julia",
   "name": "julia",
   "version": "1.6.0"
  }
 },
 "nbformat": 4,
 "nbformat_minor": 4
}

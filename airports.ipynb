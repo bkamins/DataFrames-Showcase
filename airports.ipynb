{
 "cells": [
  {
   "cell_type": "markdown",
   "metadata": {},
   "source": [
    "# Working with DataFrames.jl v1.3.0\n",
    "\n",
    "# Part 1\n",
    "\n",
    "## Bogumił Kamiński"
   ]
  },
  {
   "cell_type": "markdown",
   "metadata": {},
   "source": [
    "In this part of the tutorial we will use the *airports2.csv* file that is available for download here: https://www.kaggle.com/flashgordon/usa-airport-dataset. Therefore before starting it please be sure to download it and and have it un-zipped in your working directory.\n",
    "\n",
    "Our objective is to show selected features of v1.3.0 release of the DataFrames.jl package.\n",
    "\n",
    "This tutorial is not meant to be a replacement of a documentation - it just shows some practical application examples. If you want to know all the details of the discussed functionalities please refer to docstrings of the functions we show."
   ]
  },
  {
   "cell_type": "markdown",
   "metadata": {},
   "source": [
    "As usual in Julia, for every project you should have *Project.toml* and *Manifest.toml* files that specify the dependencies. They are bundled with this file in a GitHub gist.\n",
    "\n",
    "If you do not have much experience with project dependencies and want to understand more about managing them I recommend you to read https://bkamins.github.io/julialang/2020/05/18/project-workflow.html.\n",
    "\n",
    "This tutorial was developed under Julia 1.7.0."
   ]
  },
  {
   "cell_type": "markdown",
   "metadata": {},
   "source": [
    "Before we start let us make sure that you have the right versions of packages installed.\n",
    "\n",
    "The output of the command below should be:\n",
    "```\n",
    "  [6e4b80f9] BenchmarkTools v1.2.0\n",
    "  [336ed68f] CSV v0.9.11\n",
    "  [8be319e6] Chain v0.4.8\n",
    "  [a93c6f00] DataFrames v1.3.0\n",
    "  [7073ff75] IJulia v1.23.2\n",
    "  [0f8b85d8] JSON3 v1.9.2\n",
    "  [91a5bcdd] Plots v1.25.0\n",
    "```"
   ]
  },
  {
   "cell_type": "code",
   "execution_count": 1,
   "metadata": {},
   "outputs": [
    {
     "name": "stdout",
     "output_type": "stream",
     "text": [
      "\u001b[32m\u001b[1m      Status\u001b[22m\u001b[39m `C:\\WORK\\dev\\DataFramesTutorials\\DataFrames-Showcase\\Project.toml`\n",
      " \u001b[90m [6e4b80f9] \u001b[39mBenchmarkTools v1.2.0\n",
      " \u001b[90m [336ed68f] \u001b[39mCSV v0.9.11\n",
      " \u001b[90m [8be319e6] \u001b[39mChain v0.4.8\n",
      " \u001b[90m [a93c6f00] \u001b[39mDataFrames v1.3.0\n",
      " \u001b[90m [7073ff75] \u001b[39mIJulia v1.23.2\n",
      " \u001b[90m [0f8b85d8] \u001b[39mJSON3 v1.9.2\n",
      " \u001b[90m [91a5bcdd] \u001b[39mPlots v1.25.0\n"
     ]
    }
   ],
   "source": [
    "] status"
   ]
  },
  {
   "cell_type": "markdown",
   "metadata": {},
   "source": [
    "We start with loading the required packages and reading in the CSV file to a `DataFrame`:"
   ]
  },
  {
   "cell_type": "code",
   "execution_count": 2,
   "metadata": {},
   "outputs": [],
   "source": [
    "using BenchmarkTools\n",
    "using CSV\n",
    "using DataFrames\n",
    "using Dates\n",
    "using Chain\n",
    "using Plots"
   ]
  },
  {
   "cell_type": "code",
   "execution_count": 3,
   "metadata": {
    "scrolled": true
   },
   "outputs": [
    {
     "data": {
      "text/html": [
       "<div class=\"data-frame\"><p>3,606,803 rows × 15 columns (omitted printing of 10 columns)</p><table class=\"data-frame\"><thead><tr><th></th><th>Origin_airport</th><th>Destination_airport</th><th>Origin_city</th><th>Destination_city</th><th>Passengers</th></tr><tr><th></th><th title=\"String3\">String3</th><th title=\"String3\">String3</th><th title=\"String31\">String31</th><th title=\"String31\">String31</th><th title=\"Int64\">Int64</th></tr></thead><tbody><tr><th>1</th><td>MHK</td><td>AMW</td><td>Manhattan, KS</td><td>Ames, IA</td><td>21</td></tr><tr><th>2</th><td>EUG</td><td>RDM</td><td>Eugene, OR</td><td>Bend, OR</td><td>41</td></tr><tr><th>3</th><td>EUG</td><td>RDM</td><td>Eugene, OR</td><td>Bend, OR</td><td>88</td></tr><tr><th>4</th><td>EUG</td><td>RDM</td><td>Eugene, OR</td><td>Bend, OR</td><td>11</td></tr><tr><th>5</th><td>MFR</td><td>RDM</td><td>Medford, OR</td><td>Bend, OR</td><td>0</td></tr><tr><th>6</th><td>MFR</td><td>RDM</td><td>Medford, OR</td><td>Bend, OR</td><td>11</td></tr><tr><th>7</th><td>MFR</td><td>RDM</td><td>Medford, OR</td><td>Bend, OR</td><td>2</td></tr><tr><th>8</th><td>MFR</td><td>RDM</td><td>Medford, OR</td><td>Bend, OR</td><td>7</td></tr><tr><th>9</th><td>MFR</td><td>RDM</td><td>Medford, OR</td><td>Bend, OR</td><td>7</td></tr><tr><th>10</th><td>SEA</td><td>RDM</td><td>Seattle, WA</td><td>Bend, OR</td><td>8</td></tr><tr><th>11</th><td>SEA</td><td>RDM</td><td>Seattle, WA</td><td>Bend, OR</td><td>453</td></tr><tr><th>12</th><td>SEA</td><td>RDM</td><td>Seattle, WA</td><td>Bend, OR</td><td>784</td></tr><tr><th>13</th><td>SEA</td><td>RDM</td><td>Seattle, WA</td><td>Bend, OR</td><td>749</td></tr><tr><th>14</th><td>SEA</td><td>RDM</td><td>Seattle, WA</td><td>Bend, OR</td><td>11</td></tr><tr><th>15</th><td>PDX</td><td>RDM</td><td>Portland, OR</td><td>Bend, OR</td><td>349</td></tr><tr><th>16</th><td>PDX</td><td>RDM</td><td>Portland, OR</td><td>Bend, OR</td><td>1376</td></tr><tr><th>17</th><td>PDX</td><td>RDM</td><td>Portland, OR</td><td>Bend, OR</td><td>444</td></tr><tr><th>18</th><td>PDX</td><td>RDM</td><td>Portland, OR</td><td>Bend, OR</td><td>1949</td></tr><tr><th>19</th><td>PDX</td><td>RDM</td><td>Portland, OR</td><td>Bend, OR</td><td>381</td></tr><tr><th>20</th><td>PDX</td><td>RDM</td><td>Portland, OR</td><td>Bend, OR</td><td>1559</td></tr><tr><th>21</th><td>PDX</td><td>RDM</td><td>Portland, OR</td><td>Bend, OR</td><td>1852</td></tr><tr><th>22</th><td>PDX</td><td>RDM</td><td>Portland, OR</td><td>Bend, OR</td><td>483</td></tr><tr><th>23</th><td>PDX</td><td>RDM</td><td>Portland, OR</td><td>Bend, OR</td><td>1965</td></tr><tr><th>24</th><td>PDX</td><td>RDM</td><td>Portland, OR</td><td>Bend, OR</td><td>494</td></tr><tr><th>25</th><td>PDX</td><td>RDM</td><td>Portland, OR</td><td>Bend, OR</td><td>459</td></tr><tr><th>26</th><td>PDX</td><td>RDM</td><td>Portland, OR</td><td>Bend, OR</td><td>553</td></tr><tr><th>27</th><td>PDX</td><td>RDM</td><td>Portland, OR</td><td>Bend, OR</td><td>1887</td></tr><tr><th>28</th><td>PDX</td><td>RDM</td><td>Portland, OR</td><td>Bend, OR</td><td>773</td></tr><tr><th>29</th><td>PDX</td><td>RDM</td><td>Portland, OR</td><td>Bend, OR</td><td>1800</td></tr><tr><th>30</th><td>PDX</td><td>RDM</td><td>Portland, OR</td><td>Bend, OR</td><td>1173</td></tr><tr><th>&vellip;</th><td>&vellip;</td><td>&vellip;</td><td>&vellip;</td><td>&vellip;</td><td>&vellip;</td></tr></tbody></table></div>"
      ],
      "text/latex": [
       "\\begin{tabular}{r|cccccc}\n",
       "\t& Origin\\_airport & Destination\\_airport & Origin\\_city & Destination\\_city & Passengers & \\\\\n",
       "\t\\hline\n",
       "\t& String3 & String3 & String31 & String31 & Int64 & \\\\\n",
       "\t\\hline\n",
       "\t1 & MHK & AMW & Manhattan, KS & Ames, IA & 21 & $\\dots$ \\\\\n",
       "\t2 & EUG & RDM & Eugene, OR & Bend, OR & 41 & $\\dots$ \\\\\n",
       "\t3 & EUG & RDM & Eugene, OR & Bend, OR & 88 & $\\dots$ \\\\\n",
       "\t4 & EUG & RDM & Eugene, OR & Bend, OR & 11 & $\\dots$ \\\\\n",
       "\t5 & MFR & RDM & Medford, OR & Bend, OR & 0 & $\\dots$ \\\\\n",
       "\t6 & MFR & RDM & Medford, OR & Bend, OR & 11 & $\\dots$ \\\\\n",
       "\t7 & MFR & RDM & Medford, OR & Bend, OR & 2 & $\\dots$ \\\\\n",
       "\t8 & MFR & RDM & Medford, OR & Bend, OR & 7 & $\\dots$ \\\\\n",
       "\t9 & MFR & RDM & Medford, OR & Bend, OR & 7 & $\\dots$ \\\\\n",
       "\t10 & SEA & RDM & Seattle, WA & Bend, OR & 8 & $\\dots$ \\\\\n",
       "\t11 & SEA & RDM & Seattle, WA & Bend, OR & 453 & $\\dots$ \\\\\n",
       "\t12 & SEA & RDM & Seattle, WA & Bend, OR & 784 & $\\dots$ \\\\\n",
       "\t13 & SEA & RDM & Seattle, WA & Bend, OR & 749 & $\\dots$ \\\\\n",
       "\t14 & SEA & RDM & Seattle, WA & Bend, OR & 11 & $\\dots$ \\\\\n",
       "\t15 & PDX & RDM & Portland, OR & Bend, OR & 349 & $\\dots$ \\\\\n",
       "\t16 & PDX & RDM & Portland, OR & Bend, OR & 1376 & $\\dots$ \\\\\n",
       "\t17 & PDX & RDM & Portland, OR & Bend, OR & 444 & $\\dots$ \\\\\n",
       "\t18 & PDX & RDM & Portland, OR & Bend, OR & 1949 & $\\dots$ \\\\\n",
       "\t19 & PDX & RDM & Portland, OR & Bend, OR & 381 & $\\dots$ \\\\\n",
       "\t20 & PDX & RDM & Portland, OR & Bend, OR & 1559 & $\\dots$ \\\\\n",
       "\t21 & PDX & RDM & Portland, OR & Bend, OR & 1852 & $\\dots$ \\\\\n",
       "\t22 & PDX & RDM & Portland, OR & Bend, OR & 483 & $\\dots$ \\\\\n",
       "\t23 & PDX & RDM & Portland, OR & Bend, OR & 1965 & $\\dots$ \\\\\n",
       "\t24 & PDX & RDM & Portland, OR & Bend, OR & 494 & $\\dots$ \\\\\n",
       "\t25 & PDX & RDM & Portland, OR & Bend, OR & 459 & $\\dots$ \\\\\n",
       "\t26 & PDX & RDM & Portland, OR & Bend, OR & 553 & $\\dots$ \\\\\n",
       "\t27 & PDX & RDM & Portland, OR & Bend, OR & 1887 & $\\dots$ \\\\\n",
       "\t28 & PDX & RDM & Portland, OR & Bend, OR & 773 & $\\dots$ \\\\\n",
       "\t29 & PDX & RDM & Portland, OR & Bend, OR & 1800 & $\\dots$ \\\\\n",
       "\t30 & PDX & RDM & Portland, OR & Bend, OR & 1173 & $\\dots$ \\\\\n",
       "\t$\\dots$ & $\\dots$ & $\\dots$ & $\\dots$ & $\\dots$ & $\\dots$ &  \\\\\n",
       "\\end{tabular}\n"
      ],
      "text/plain": [
       "\u001b[1m3606803×15 DataFrame\u001b[0m\n",
       "\u001b[1m     Row \u001b[0m│\u001b[1m Origin_airport \u001b[0m\u001b[1m Destination_airport \u001b[0m\u001b[1m Origin_city        \u001b[0m\u001b[1m Destinatio\u001b[0m ⋯\n",
       "\u001b[1m         \u001b[0m│\u001b[90m String3        \u001b[0m\u001b[90m String3             \u001b[0m\u001b[90m String31           \u001b[0m\u001b[90m String31  \u001b[0m ⋯\n",
       "─────────┼──────────────────────────────────────────────────────────────────────\n",
       "       1 │ MHK             AMW                  Manhattan, KS       Ames, IA   ⋯\n",
       "       2 │ EUG             RDM                  Eugene, OR          Bend, OR\n",
       "       3 │ EUG             RDM                  Eugene, OR          Bend, OR\n",
       "       4 │ EUG             RDM                  Eugene, OR          Bend, OR\n",
       "       5 │ MFR             RDM                  Medford, OR         Bend, OR   ⋯\n",
       "       6 │ MFR             RDM                  Medford, OR         Bend, OR\n",
       "       7 │ MFR             RDM                  Medford, OR         Bend, OR\n",
       "       8 │ MFR             RDM                  Medford, OR         Bend, OR\n",
       "       9 │ MFR             RDM                  Medford, OR         Bend, OR   ⋯\n",
       "      10 │ SEA             RDM                  Seattle, WA         Bend, OR\n",
       "      11 │ SEA             RDM                  Seattle, WA         Bend, OR\n",
       "    ⋮    │       ⋮                  ⋮                   ⋮                      ⋱\n",
       " 3606794 │ STL             TBN                  St. Louis, MO       Fort Leona\n",
       " 3606795 │ STL             TBN                  St. Louis, MO       Fort Leona ⋯\n",
       " 3606796 │ STL             TBN                  St. Louis, MO       Fort Leona\n",
       " 3606797 │ STL             TBN                  St. Louis, MO       Fort Leona\n",
       " 3606798 │ STL             TBN                  St. Louis, MO       Fort Leona\n",
       " 3606799 │ STL             TBN                  St. Louis, MO       Fort Leona ⋯\n",
       " 3606800 │ STL             TBN                  St. Louis, MO       Fort Leona\n",
       " 3606801 │ STL             TBN                  St. Louis, MO       Fort Leona\n",
       " 3606802 │ CGI             TBN                  Cape Girardeau, MO  Fort Leona\n",
       " 3606803 │ FWA             OH1                  Fort Wayne, IN      Washington ⋯\n",
       "\u001b[36m                                             12 columns and 3606782 rows omitted\u001b[0m"
      ]
     },
     "execution_count": 3,
     "metadata": {},
     "output_type": "execute_result"
    }
   ],
   "source": [
    "df = CSV.read(\"Airports2.csv\", DataFrame, missingstring=\"NA\")"
   ]
  },
  {
   "cell_type": "markdown",
   "metadata": {},
   "source": [
    "Before we move on let us change the display settings to allow for printing wider outupt and reduce the numbe of lines printed."
   ]
  },
  {
   "cell_type": "code",
   "execution_count": 4,
   "metadata": {},
   "outputs": [
    {
     "data": {
      "text/plain": [
       "20"
      ]
     },
     "execution_count": 4,
     "metadata": {},
     "output_type": "execute_result"
    }
   ],
   "source": [
    "ENV[\"LINES\"] = 20 # lines are counted in number of rows printed"
   ]
  },
  {
   "cell_type": "code",
   "execution_count": 5,
   "metadata": {},
   "outputs": [
    {
     "data": {
      "text/plain": [
       "1000"
      ]
     },
     "execution_count": 5,
     "metadata": {},
     "output_type": "execute_result"
    }
   ],
   "source": [
    "ENV[\"COLUMNS\"] = 1000 # columns are counted in characters"
   ]
  },
  {
   "cell_type": "markdown",
   "metadata": {},
   "source": [
    "After these changes Jupyter Notebook shoud show us all columns of the data frame we have just loaded. Let us check it."
   ]
  },
  {
   "cell_type": "code",
   "execution_count": 6,
   "metadata": {
    "scrolled": true
   },
   "outputs": [
    {
     "data": {
      "text/html": [
       "<div class=\"data-frame\"><p>3,606,803 rows × 15 columns</p><table class=\"data-frame\"><thead><tr><th></th><th>Origin_airport</th><th>Destination_airport</th><th>Origin_city</th><th>Destination_city</th><th>Passengers</th><th>Seats</th><th>Flights</th><th>Distance</th><th>Fly_date</th><th>Origin_population</th><th>Destination_population</th><th>Org_airport_lat</th><th>Org_airport_long</th><th>Dest_airport_lat</th><th>Dest_airport_long</th></tr><tr><th></th><th title=\"String3\">String3</th><th title=\"String3\">String3</th><th title=\"String31\">String31</th><th title=\"String31\">String31</th><th title=\"Int64\">Int64</th><th title=\"Int64\">Int64</th><th title=\"Int64\">Int64</th><th title=\"Int64\">Int64</th><th title=\"Date\">Date</th><th title=\"Int64\">Int64</th><th title=\"Int64\">Int64</th><th title=\"Union{Missing, Float64}\">Float64?</th><th title=\"Union{Missing, Float64}\">Float64?</th><th title=\"Union{Missing, Float64}\">Float64?</th><th title=\"Union{Missing, Float64}\">Float64?</th></tr></thead><tbody><tr><th>1</th><td>MHK</td><td>AMW</td><td>Manhattan, KS</td><td>Ames, IA</td><td>21</td><td>30</td><td>1</td><td>254</td><td>2008-10-01</td><td>122049</td><td>86219</td><td>39.141</td><td>-96.6708</td><td><em>missing</em></td><td><em>missing</em></td></tr><tr><th>2</th><td>EUG</td><td>RDM</td><td>Eugene, OR</td><td>Bend, OR</td><td>41</td><td>396</td><td>22</td><td>103</td><td>1990-11-01</td><td>284093</td><td>76034</td><td>44.1246</td><td>-123.212</td><td>44.2541</td><td>-121.15</td></tr><tr><th>3</th><td>EUG</td><td>RDM</td><td>Eugene, OR</td><td>Bend, OR</td><td>88</td><td>342</td><td>19</td><td>103</td><td>1990-12-01</td><td>284093</td><td>76034</td><td>44.1246</td><td>-123.212</td><td>44.2541</td><td>-121.15</td></tr><tr><th>4</th><td>EUG</td><td>RDM</td><td>Eugene, OR</td><td>Bend, OR</td><td>11</td><td>72</td><td>4</td><td>103</td><td>1990-10-01</td><td>284093</td><td>76034</td><td>44.1246</td><td>-123.212</td><td>44.2541</td><td>-121.15</td></tr><tr><th>5</th><td>MFR</td><td>RDM</td><td>Medford, OR</td><td>Bend, OR</td><td>0</td><td>18</td><td>1</td><td>156</td><td>1990-02-01</td><td>147300</td><td>76034</td><td>42.3742</td><td>-122.873</td><td>44.2541</td><td>-121.15</td></tr><tr><th>6</th><td>MFR</td><td>RDM</td><td>Medford, OR</td><td>Bend, OR</td><td>11</td><td>18</td><td>1</td><td>156</td><td>1990-03-01</td><td>147300</td><td>76034</td><td>42.3742</td><td>-122.873</td><td>44.2541</td><td>-121.15</td></tr><tr><th>7</th><td>MFR</td><td>RDM</td><td>Medford, OR</td><td>Bend, OR</td><td>2</td><td>72</td><td>4</td><td>156</td><td>1990-01-01</td><td>147300</td><td>76034</td><td>42.3742</td><td>-122.873</td><td>44.2541</td><td>-121.15</td></tr><tr><th>8</th><td>MFR</td><td>RDM</td><td>Medford, OR</td><td>Bend, OR</td><td>7</td><td>18</td><td>1</td><td>156</td><td>1990-09-01</td><td>147300</td><td>76034</td><td>42.3742</td><td>-122.873</td><td>44.2541</td><td>-121.15</td></tr><tr><th>9</th><td>MFR</td><td>RDM</td><td>Medford, OR</td><td>Bend, OR</td><td>7</td><td>36</td><td>2</td><td>156</td><td>1990-11-01</td><td>147300</td><td>76034</td><td>42.3742</td><td>-122.873</td><td>44.2541</td><td>-121.15</td></tr><tr><th>10</th><td>SEA</td><td>RDM</td><td>Seattle, WA</td><td>Bend, OR</td><td>8</td><td>18</td><td>1</td><td>228</td><td>1990-02-01</td><td>5154164</td><td>76034</td><td>47.449</td><td>-122.309</td><td>44.2541</td><td>-121.15</td></tr><tr><th>11</th><td>SEA</td><td>RDM</td><td>Seattle, WA</td><td>Bend, OR</td><td>453</td><td>3128</td><td>23</td><td>228</td><td>1990-01-01</td><td>5154164</td><td>76034</td><td>47.449</td><td>-122.309</td><td>44.2541</td><td>-121.15</td></tr><tr><th>12</th><td>SEA</td><td>RDM</td><td>Seattle, WA</td><td>Bend, OR</td><td>784</td><td>2720</td><td>20</td><td>228</td><td>1990-02-01</td><td>5154164</td><td>76034</td><td>47.449</td><td>-122.309</td><td>44.2541</td><td>-121.15</td></tr><tr><th>13</th><td>SEA</td><td>RDM</td><td>Seattle, WA</td><td>Bend, OR</td><td>749</td><td>2992</td><td>22</td><td>228</td><td>1990-03-01</td><td>5154164</td><td>76034</td><td>47.449</td><td>-122.309</td><td>44.2541</td><td>-121.15</td></tr><tr><th>14</th><td>SEA</td><td>RDM</td><td>Seattle, WA</td><td>Bend, OR</td><td>11</td><td>18</td><td>1</td><td>228</td><td>1990-04-01</td><td>5154164</td><td>76034</td><td>47.449</td><td>-122.309</td><td>44.2541</td><td>-121.15</td></tr><tr><th>15</th><td>PDX</td><td>RDM</td><td>Portland, OR</td><td>Bend, OR</td><td>349</td><td>851</td><td>23</td><td>116</td><td>1990-01-01</td><td>1534762</td><td>76034</td><td>45.5887</td><td>-122.598</td><td>44.2541</td><td>-121.15</td></tr><tr><th>16</th><td>PDX</td><td>RDM</td><td>Portland, OR</td><td>Bend, OR</td><td>1376</td><td>2898</td><td>161</td><td>116</td><td>1990-01-01</td><td>1534762</td><td>76034</td><td>45.5887</td><td>-122.598</td><td>44.2541</td><td>-121.15</td></tr><tr><th>17</th><td>PDX</td><td>RDM</td><td>Portland, OR</td><td>Bend, OR</td><td>444</td><td>1110</td><td>30</td><td>116</td><td>1990-10-01</td><td>1534762</td><td>76034</td><td>45.5887</td><td>-122.598</td><td>44.2541</td><td>-121.15</td></tr><tr><th>18</th><td>PDX</td><td>RDM</td><td>Portland, OR</td><td>Bend, OR</td><td>1949</td><td>3261</td><td>187</td><td>116</td><td>1990-06-01</td><td>1534762</td><td>76034</td><td>45.5887</td><td>-122.598</td><td>44.2541</td><td>-121.15</td></tr><tr><th>19</th><td>PDX</td><td>RDM</td><td>Portland, OR</td><td>Bend, OR</td><td>381</td><td>814</td><td>22</td><td>116</td><td>1990-02-01</td><td>1534762</td><td>76034</td><td>45.5887</td><td>-122.598</td><td>44.2541</td><td>-121.15</td></tr><tr><th>20</th><td>PDX</td><td>RDM</td><td>Portland, OR</td><td>Bend, OR</td><td>1559</td><td>2772</td><td>154</td><td>116</td><td>1990-02-01</td><td>1534762</td><td>76034</td><td>45.5887</td><td>-122.598</td><td>44.2541</td><td>-121.15</td></tr><tr><th>&vellip;</th><td>&vellip;</td><td>&vellip;</td><td>&vellip;</td><td>&vellip;</td><td>&vellip;</td><td>&vellip;</td><td>&vellip;</td><td>&vellip;</td><td>&vellip;</td><td>&vellip;</td><td>&vellip;</td><td>&vellip;</td><td>&vellip;</td><td>&vellip;</td><td>&vellip;</td></tr></tbody></table></div>"
      ],
      "text/latex": [
       "\\begin{tabular}{r|ccccccccccccccc}\n",
       "\t& Origin\\_airport & Destination\\_airport & Origin\\_city & Destination\\_city & Passengers & Seats & Flights & Distance & Fly\\_date & Origin\\_population & Destination\\_population & Org\\_airport\\_lat & Org\\_airport\\_long & Dest\\_airport\\_lat & Dest\\_airport\\_long\\\\\n",
       "\t\\hline\n",
       "\t& String3 & String3 & String31 & String31 & Int64 & Int64 & Int64 & Int64 & Date & Int64 & Int64 & Float64? & Float64? & Float64? & Float64?\\\\\n",
       "\t\\hline\n",
       "\t1 & MHK & AMW & Manhattan, KS & Ames, IA & 21 & 30 & 1 & 254 & 2008-10-01 & 122049 & 86219 & 39.141 & -96.6708 & \\emph{missing} & \\emph{missing} \\\\\n",
       "\t2 & EUG & RDM & Eugene, OR & Bend, OR & 41 & 396 & 22 & 103 & 1990-11-01 & 284093 & 76034 & 44.1246 & -123.212 & 44.2541 & -121.15 \\\\\n",
       "\t3 & EUG & RDM & Eugene, OR & Bend, OR & 88 & 342 & 19 & 103 & 1990-12-01 & 284093 & 76034 & 44.1246 & -123.212 & 44.2541 & -121.15 \\\\\n",
       "\t4 & EUG & RDM & Eugene, OR & Bend, OR & 11 & 72 & 4 & 103 & 1990-10-01 & 284093 & 76034 & 44.1246 & -123.212 & 44.2541 & -121.15 \\\\\n",
       "\t5 & MFR & RDM & Medford, OR & Bend, OR & 0 & 18 & 1 & 156 & 1990-02-01 & 147300 & 76034 & 42.3742 & -122.873 & 44.2541 & -121.15 \\\\\n",
       "\t6 & MFR & RDM & Medford, OR & Bend, OR & 11 & 18 & 1 & 156 & 1990-03-01 & 147300 & 76034 & 42.3742 & -122.873 & 44.2541 & -121.15 \\\\\n",
       "\t7 & MFR & RDM & Medford, OR & Bend, OR & 2 & 72 & 4 & 156 & 1990-01-01 & 147300 & 76034 & 42.3742 & -122.873 & 44.2541 & -121.15 \\\\\n",
       "\t8 & MFR & RDM & Medford, OR & Bend, OR & 7 & 18 & 1 & 156 & 1990-09-01 & 147300 & 76034 & 42.3742 & -122.873 & 44.2541 & -121.15 \\\\\n",
       "\t9 & MFR & RDM & Medford, OR & Bend, OR & 7 & 36 & 2 & 156 & 1990-11-01 & 147300 & 76034 & 42.3742 & -122.873 & 44.2541 & -121.15 \\\\\n",
       "\t10 & SEA & RDM & Seattle, WA & Bend, OR & 8 & 18 & 1 & 228 & 1990-02-01 & 5154164 & 76034 & 47.449 & -122.309 & 44.2541 & -121.15 \\\\\n",
       "\t11 & SEA & RDM & Seattle, WA & Bend, OR & 453 & 3128 & 23 & 228 & 1990-01-01 & 5154164 & 76034 & 47.449 & -122.309 & 44.2541 & -121.15 \\\\\n",
       "\t12 & SEA & RDM & Seattle, WA & Bend, OR & 784 & 2720 & 20 & 228 & 1990-02-01 & 5154164 & 76034 & 47.449 & -122.309 & 44.2541 & -121.15 \\\\\n",
       "\t13 & SEA & RDM & Seattle, WA & Bend, OR & 749 & 2992 & 22 & 228 & 1990-03-01 & 5154164 & 76034 & 47.449 & -122.309 & 44.2541 & -121.15 \\\\\n",
       "\t14 & SEA & RDM & Seattle, WA & Bend, OR & 11 & 18 & 1 & 228 & 1990-04-01 & 5154164 & 76034 & 47.449 & -122.309 & 44.2541 & -121.15 \\\\\n",
       "\t15 & PDX & RDM & Portland, OR & Bend, OR & 349 & 851 & 23 & 116 & 1990-01-01 & 1534762 & 76034 & 45.5887 & -122.598 & 44.2541 & -121.15 \\\\\n",
       "\t16 & PDX & RDM & Portland, OR & Bend, OR & 1376 & 2898 & 161 & 116 & 1990-01-01 & 1534762 & 76034 & 45.5887 & -122.598 & 44.2541 & -121.15 \\\\\n",
       "\t17 & PDX & RDM & Portland, OR & Bend, OR & 444 & 1110 & 30 & 116 & 1990-10-01 & 1534762 & 76034 & 45.5887 & -122.598 & 44.2541 & -121.15 \\\\\n",
       "\t18 & PDX & RDM & Portland, OR & Bend, OR & 1949 & 3261 & 187 & 116 & 1990-06-01 & 1534762 & 76034 & 45.5887 & -122.598 & 44.2541 & -121.15 \\\\\n",
       "\t19 & PDX & RDM & Portland, OR & Bend, OR & 381 & 814 & 22 & 116 & 1990-02-01 & 1534762 & 76034 & 45.5887 & -122.598 & 44.2541 & -121.15 \\\\\n",
       "\t20 & PDX & RDM & Portland, OR & Bend, OR & 1559 & 2772 & 154 & 116 & 1990-02-01 & 1534762 & 76034 & 45.5887 & -122.598 & 44.2541 & -121.15 \\\\\n",
       "\t$\\dots$ & $\\dots$ & $\\dots$ & $\\dots$ & $\\dots$ & $\\dots$ & $\\dots$ & $\\dots$ & $\\dots$ & $\\dots$ & $\\dots$ & $\\dots$ & $\\dots$ & $\\dots$ & $\\dots$ & $\\dots$ \\\\\n",
       "\\end{tabular}\n"
      ],
      "text/plain": [
       "\u001b[1m3606803×15 DataFrame\u001b[0m\n",
       "\u001b[1m     Row \u001b[0m│\u001b[1m Origin_airport \u001b[0m\u001b[1m Destination_airport \u001b[0m\u001b[1m Origin_city        \u001b[0m\u001b[1m Destination_city           \u001b[0m\u001b[1m Passengers \u001b[0m\u001b[1m Seats \u001b[0m\u001b[1m Flights \u001b[0m\u001b[1m Distance \u001b[0m\u001b[1m Fly_date   \u001b[0m\u001b[1m Origin_population \u001b[0m\u001b[1m Destination_population \u001b[0m\u001b[1m Org_airport_lat \u001b[0m\u001b[1m Org_airport_long \u001b[0m\u001b[1m Dest_airport_lat \u001b[0m\u001b[1m Dest_airport_long \u001b[0m\n",
       "\u001b[1m         \u001b[0m│\u001b[90m String3        \u001b[0m\u001b[90m String3             \u001b[0m\u001b[90m String31           \u001b[0m\u001b[90m String31                   \u001b[0m\u001b[90m Int64      \u001b[0m\u001b[90m Int64 \u001b[0m\u001b[90m Int64   \u001b[0m\u001b[90m Int64    \u001b[0m\u001b[90m Date       \u001b[0m\u001b[90m Int64             \u001b[0m\u001b[90m Int64                  \u001b[0m\u001b[90m Float64?        \u001b[0m\u001b[90m Float64?         \u001b[0m\u001b[90m Float64?         \u001b[0m\u001b[90m Float64?          \u001b[0m\n",
       "─────────┼──────────────────────────────────────────────────────────────────────────────────────────────────────────────────────────────────────────────────────────────────────────────────────────────────────────────────────────────────────────────────────────\n",
       "       1 │ MHK             AMW                  Manhattan, KS       Ames, IA                            21     30        1       254  2008-10-01             122049                   86219          39.141           -96.6708 \u001b[90m     missing      \u001b[0m\u001b[90m      missing      \u001b[0m\n",
       "       2 │ EUG             RDM                  Eugene, OR          Bend, OR                            41    396       22       103  1990-11-01             284093                   76034          44.1246         -123.212            44.2541          -121.15\n",
       "       3 │ EUG             RDM                  Eugene, OR          Bend, OR                            88    342       19       103  1990-12-01             284093                   76034          44.1246         -123.212            44.2541          -121.15\n",
       "       4 │ EUG             RDM                  Eugene, OR          Bend, OR                            11     72        4       103  1990-10-01             284093                   76034          44.1246         -123.212            44.2541          -121.15\n",
       "       5 │ MFR             RDM                  Medford, OR         Bend, OR                             0     18        1       156  1990-02-01             147300                   76034          42.3742         -122.873            44.2541          -121.15\n",
       "       6 │ MFR             RDM                  Medford, OR         Bend, OR                            11     18        1       156  1990-03-01             147300                   76034          42.3742         -122.873            44.2541          -121.15\n",
       "    ⋮    │       ⋮                  ⋮                   ⋮                       ⋮                   ⋮         ⋮       ⋮        ⋮          ⋮               ⋮                    ⋮                    ⋮                ⋮                 ⋮                  ⋮\n",
       " 3606799 │ STL             TBN                  St. Louis, MO       Fort Leonard Wood, MO              281    969       51       119  2009-02-01            2828990                   46457          38.7487          -90.37             37.7416           -92.1407\n",
       " 3606800 │ STL             TBN                  St. Louis, MO       Fort Leonard Wood, MO              245   1026       54       119  2009-11-01            2828990                   46457          38.7487          -90.37             37.7416           -92.1407\n",
       " 3606801 │ STL             TBN                  St. Louis, MO       Fort Leonard Wood, MO              363   1273       67       119  2009-08-01            2828990                   46457          38.7487          -90.37             37.7416           -92.1407\n",
       " 3606802 │ CGI             TBN                  Cape Girardeau, MO  Fort Leonard Wood, MO                2     19        1       146  2009-08-01              93712                   46457          37.2253          -89.5708           37.7416           -92.1407\n",
       " 3606803 │ FWA             OH1                  Fort Wayne, IN      Washington Court House, OH           0      0        1       135  2003-09-01             398574                   28133          40.9785          -85.1951 \u001b[90m     missing      \u001b[0m\u001b[90m      missing      \u001b[0m\n",
       "\u001b[36m                                                                                                                                                                                                                                                3606792 rows omitted\u001b[0m"
      ]
     },
     "execution_count": 6,
     "metadata": {},
     "output_type": "execute_result"
    }
   ],
   "source": [
    "df"
   ]
  },
  {
   "cell_type": "markdown",
   "metadata": {},
   "source": [
    "Our data frame contains the following columns:\n",
    "\n",
    "1. `:Origin_airport`: Three letter airport code of the origin airport\n",
    "2. `:Destination_airport`: Three letter airport code of the destination airport\n",
    "3. `:Origin_city`: Origin city name\n",
    "4. `:Destination_city`: Destination city name\n",
    "5. `:Passengers`: Number of passengers transported from origin to destination\n",
    "6. `:Seats`: Number of seats available on flights from origin to destination\n",
    "7. `:Flights`: Number of flights between origin and destination (multiple records for one month, many with flights > 1)\n",
    "8. `:Distance`: Distance (to nearest mile) flown between origin and destination\n",
    "9. `:Fly_date`: The date (yyyymm) of flight\n",
    "10. `:Origin_population`: Origin city's population as reported by US Census\n",
    "11. `:Destination_population`: Destination city's population as reported by US Census\n",
    "\n",
    "Let us first investigate its metadata"
   ]
  },
  {
   "cell_type": "code",
   "execution_count": 7,
   "metadata": {},
   "outputs": [
    {
     "data": {
      "text/plain": [
       "(3606803, 15)"
      ]
     },
     "execution_count": 7,
     "metadata": {},
     "output_type": "execute_result"
    }
   ],
   "source": [
    "size(df)"
   ]
  },
  {
   "cell_type": "code",
   "execution_count": 8,
   "metadata": {},
   "outputs": [
    {
     "data": {
      "text/plain": [
       "3606803"
      ]
     },
     "execution_count": 8,
     "metadata": {},
     "output_type": "execute_result"
    }
   ],
   "source": [
    "nrow(df)"
   ]
  },
  {
   "cell_type": "code",
   "execution_count": 9,
   "metadata": {},
   "outputs": [
    {
     "data": {
      "text/plain": [
       "15"
      ]
     },
     "execution_count": 9,
     "metadata": {},
     "output_type": "execute_result"
    }
   ],
   "source": [
    "ncol(df)"
   ]
  },
  {
   "cell_type": "code",
   "execution_count": 10,
   "metadata": {},
   "outputs": [
    {
     "data": {
      "text/plain": [
       "15-element Vector{String}:\n",
       " \"Origin_airport\"\n",
       " \"Destination_airport\"\n",
       " \"Origin_city\"\n",
       " \"Destination_city\"\n",
       " \"Passengers\"\n",
       " \"Seats\"\n",
       " \"Flights\"\n",
       " \"Distance\"\n",
       " \"Fly_date\"\n",
       " \"Origin_population\"\n",
       " \"Destination_population\"\n",
       " \"Org_airport_lat\"\n",
       " \"Org_airport_long\"\n",
       " \"Dest_airport_lat\"\n",
       " \"Dest_airport_long\""
      ]
     },
     "execution_count": 10,
     "metadata": {},
     "output_type": "execute_result"
    }
   ],
   "source": [
    "names(df)"
   ]
  },
  {
   "cell_type": "code",
   "execution_count": 11,
   "metadata": {},
   "outputs": [
    {
     "data": {
      "text/plain": [
       "15-element Vector{Symbol}:\n",
       " :Origin_airport\n",
       " :Destination_airport\n",
       " :Origin_city\n",
       " :Destination_city\n",
       " :Passengers\n",
       " :Seats\n",
       " :Flights\n",
       " :Distance\n",
       " :Fly_date\n",
       " :Origin_population\n",
       " :Destination_population\n",
       " :Org_airport_lat\n",
       " :Org_airport_long\n",
       " :Dest_airport_lat\n",
       " :Dest_airport_long"
      ]
     },
     "execution_count": 11,
     "metadata": {},
     "output_type": "execute_result"
    }
   ],
   "source": [
    "propertynames(df)"
   ]
  },
  {
   "cell_type": "markdown",
   "metadata": {},
   "source": [
    "An important thing to note is that the `names` function returns a vector of `String`s and the `propertynames` function returns a vector of `Symbol`s.\n",
    "\n",
    "In DataFrames.jl both strings and `Symbol`s can be used for column indexing."
   ]
  },
  {
   "cell_type": "markdown",
   "metadata": {},
   "source": [
    "Let us now get some summary statistics of our data set using the `describe` function:"
   ]
  },
  {
   "cell_type": "code",
   "execution_count": 12,
   "metadata": {},
   "outputs": [
    {
     "data": {
      "text/html": [
       "<div class=\"data-frame\"><p>15 rows × 7 columns</p><table class=\"data-frame\"><thead><tr><th></th><th>variable</th><th>mean</th><th>min</th><th>median</th><th>max</th><th>nmissing</th><th>eltype</th></tr><tr><th></th><th title=\"Symbol\">Symbol</th><th title=\"Union{Nothing, Float64}\">Union…</th><th title=\"Any\">Any</th><th title=\"Any\">Any</th><th title=\"Any\">Any</th><th title=\"Int64\">Int64</th><th title=\"Type\">Type</th></tr></thead><tbody><tr><th>1</th><td>Origin_airport</td><td></td><td>1B1</td><td></td><td>ZZV</td><td>0</td><td>String3</td></tr><tr><th>2</th><td>Destination_airport</td><td></td><td>1B1</td><td></td><td>ZZV</td><td>0</td><td>String3</td></tr><tr><th>3</th><td>Origin_city</td><td></td><td>Aberdeen, SD</td><td></td><td>Zanesville, OH</td><td>0</td><td>String31</td></tr><tr><th>4</th><td>Destination_city</td><td></td><td>Aberdeen, SD</td><td></td><td>Zanesville, OH</td><td>0</td><td>String31</td></tr><tr><th>5</th><td>Passengers</td><td>2688.91</td><td>0</td><td>1118.0</td><td>89597</td><td>0</td><td>Int64</td></tr><tr><th>6</th><td>Seats</td><td>4048.3</td><td>0</td><td>1998.0</td><td>147062</td><td>0</td><td>Int64</td></tr><tr><th>7</th><td>Flights</td><td>37.2289</td><td>0</td><td>25.0</td><td>1128</td><td>0</td><td>Int64</td></tr><tr><th>8</th><td>Distance</td><td>697.319</td><td>0</td><td>519.0</td><td>5095</td><td>0</td><td>Int64</td></tr><tr><th>9</th><td>Fly_date</td><td></td><td>1990-01-01</td><td>2001-11-01</td><td>2009-12-01</td><td>0</td><td>Date</td></tr><tr><th>10</th><td>Origin_population</td><td>5.8715e6</td><td>13005</td><td>2.40019e6</td><td>38139592</td><td>0</td><td>Int64</td></tr><tr><th>11</th><td>Destination_population</td><td>5.89798e6</td><td>12887</td><td>2.40019e6</td><td>38139592</td><td>0</td><td>Int64</td></tr><tr><th>12</th><td>Org_airport_lat</td><td>37.7503</td><td>19.7214</td><td>38.8521</td><td>64.8375</td><td>6954</td><td>Union{Missing, Float64}</td></tr><tr><th>13</th><td>Org_airport_long</td><td>-91.8618</td><td>-157.922</td><td>-87.7524</td><td>-68.8281</td><td>6954</td><td>Union{Missing, Float64}</td></tr><tr><th>14</th><td>Dest_airport_lat</td><td>37.7409</td><td>19.7214</td><td>38.8521</td><td>64.8375</td><td>6807</td><td>Union{Missing, Float64}</td></tr><tr><th>15</th><td>Dest_airport_long</td><td>-91.8343</td><td>-157.922</td><td>-87.7524</td><td>-68.8281</td><td>6807</td><td>Union{Missing, Float64}</td></tr></tbody></table></div>"
      ],
      "text/latex": [
       "\\begin{tabular}{r|ccccccc}\n",
       "\t& variable & mean & min & median & max & nmissing & eltype\\\\\n",
       "\t\\hline\n",
       "\t& Symbol & Union… & Any & Any & Any & Int64 & Type\\\\\n",
       "\t\\hline\n",
       "\t1 & Origin\\_airport &  & 1B1 &  & ZZV & 0 & String3 \\\\\n",
       "\t2 & Destination\\_airport &  & 1B1 &  & ZZV & 0 & String3 \\\\\n",
       "\t3 & Origin\\_city &  & Aberdeen, SD &  & Zanesville, OH & 0 & String31 \\\\\n",
       "\t4 & Destination\\_city &  & Aberdeen, SD &  & Zanesville, OH & 0 & String31 \\\\\n",
       "\t5 & Passengers & 2688.91 & 0 & 1118.0 & 89597 & 0 & Int64 \\\\\n",
       "\t6 & Seats & 4048.3 & 0 & 1998.0 & 147062 & 0 & Int64 \\\\\n",
       "\t7 & Flights & 37.2289 & 0 & 25.0 & 1128 & 0 & Int64 \\\\\n",
       "\t8 & Distance & 697.319 & 0 & 519.0 & 5095 & 0 & Int64 \\\\\n",
       "\t9 & Fly\\_date &  & 1990-01-01 & 2001-11-01 & 2009-12-01 & 0 & Date \\\\\n",
       "\t10 & Origin\\_population & 5.8715e6 & 13005 & 2.40019e6 & 38139592 & 0 & Int64 \\\\\n",
       "\t11 & Destination\\_population & 5.89798e6 & 12887 & 2.40019e6 & 38139592 & 0 & Int64 \\\\\n",
       "\t12 & Org\\_airport\\_lat & 37.7503 & 19.7214 & 38.8521 & 64.8375 & 6954 & Union\\{Missing, Float64\\} \\\\\n",
       "\t13 & Org\\_airport\\_long & -91.8618 & -157.922 & -87.7524 & -68.8281 & 6954 & Union\\{Missing, Float64\\} \\\\\n",
       "\t14 & Dest\\_airport\\_lat & 37.7409 & 19.7214 & 38.8521 & 64.8375 & 6807 & Union\\{Missing, Float64\\} \\\\\n",
       "\t15 & Dest\\_airport\\_long & -91.8343 & -157.922 & -87.7524 & -68.8281 & 6807 & Union\\{Missing, Float64\\} \\\\\n",
       "\\end{tabular}\n"
      ],
      "text/plain": [
       "\u001b[1m15×7 DataFrame\u001b[0m\n",
       "\u001b[1m Row \u001b[0m│\u001b[1m variable               \u001b[0m\u001b[1m mean      \u001b[0m\u001b[1m min          \u001b[0m\u001b[1m median     \u001b[0m\u001b[1m max            \u001b[0m\u001b[1m nmissing \u001b[0m\u001b[1m eltype                  \u001b[0m\n",
       "\u001b[1m     \u001b[0m│\u001b[90m Symbol                 \u001b[0m\u001b[90m Union…    \u001b[0m\u001b[90m Any          \u001b[0m\u001b[90m Any        \u001b[0m\u001b[90m Any            \u001b[0m\u001b[90m Int64    \u001b[0m\u001b[90m Type                    \u001b[0m\n",
       "─────┼────────────────────────────────────────────────────────────────────────────────────────────────────────────────\n",
       "   1 │ Origin_airport         \u001b[90m           \u001b[0m 1B1          \u001b[90m            \u001b[0m ZZV                    0  String3\n",
       "   2 │ Destination_airport    \u001b[90m           \u001b[0m 1B1          \u001b[90m            \u001b[0m ZZV                    0  String3\n",
       "   3 │ Origin_city            \u001b[90m           \u001b[0m Aberdeen, SD \u001b[90m            \u001b[0m Zanesville, OH         0  String31\n",
       "   4 │ Destination_city       \u001b[90m           \u001b[0m Aberdeen, SD \u001b[90m            \u001b[0m Zanesville, OH         0  String31\n",
       "   5 │ Passengers              2688.91    0             1118.0      89597                  0  Int64\n",
       "   6 │ Seats                   4048.3     0             1998.0      147062                 0  Int64\n",
       "  ⋮  │           ⋮                 ⋮           ⋮            ⋮             ⋮            ⋮                 ⋮\n",
       "  11 │ Destination_population  5.89798e6  12887         2.40019e6   38139592               0  Int64\n",
       "  12 │ Org_airport_lat         37.7503    19.7214       38.8521     64.8375             6954  Union{Missing, Float64}\n",
       "  13 │ Org_airport_long        -91.8618   -157.922      -87.7524    -68.8281            6954  Union{Missing, Float64}\n",
       "  14 │ Dest_airport_lat        37.7409    19.7214       38.8521     64.8375             6807  Union{Missing, Float64}\n",
       "  15 │ Dest_airport_long       -91.8343   -157.922      -87.7524    -68.8281            6807  Union{Missing, Float64}\n",
       "\u001b[36m                                                                                                        4 rows omitted\u001b[0m"
      ]
     },
     "execution_count": 12,
     "metadata": {},
     "output_type": "execute_result"
    }
   ],
   "source": [
    "describe(df)"
   ]
  },
  {
   "cell_type": "markdown",
   "metadata": {},
   "source": [
    "In particular note that CSV.jl correctly idenfitied `:Fly_date` column as being a `Date` type."
   ]
  },
  {
   "cell_type": "markdown",
   "metadata": {},
   "source": [
    "When we investigate the summary statistics we note that there are flights that potentially have `0` passengers, `0` seats, or `0` flights.\n",
    "\n",
    "In parctice if you get such data it is good to investigate it, as it shows some potential data quality issues.\n",
    "\n",
    "Let us investigate into it:"
   ]
  },
  {
   "cell_type": "code",
   "execution_count": 13,
   "metadata": {},
   "outputs": [
    {
     "data": {
      "text/html": [
       "<div class=\"data-frame\"><p>8 rows × 4 columns</p><table class=\"data-frame\"><thead><tr><th></th><th>Passengers</th><th>Seats</th><th>Flights</th><th>nrow</th></tr><tr><th></th><th title=\"Bool\">Bool</th><th title=\"Bool\">Bool</th><th title=\"Bool\">Bool</th><th title=\"Int64\">Int64</th></tr></thead><tbody><tr><th>1</th><td>0</td><td>0</td><td>0</td><td>11239</td></tr><tr><th>2</th><td>0</td><td>0</td><td>1</td><td>322787</td></tr><tr><th>3</th><td>0</td><td>1</td><td>0</td><td>94</td></tr><tr><th>4</th><td>0</td><td>1</td><td>1</td><td>51772</td></tr><tr><th>5</th><td>1</td><td>0</td><td>0</td><td>7</td></tr><tr><th>6</th><td>1</td><td>0</td><td>1</td><td>3</td></tr><tr><th>7</th><td>1</td><td>1</td><td>0</td><td>56</td></tr><tr><th>8</th><td>1</td><td>1</td><td>1</td><td>3220845</td></tr></tbody></table></div>"
      ],
      "text/latex": [
       "\\begin{tabular}{r|cccc}\n",
       "\t& Passengers & Seats & Flights & nrow\\\\\n",
       "\t\\hline\n",
       "\t& Bool & Bool & Bool & Int64\\\\\n",
       "\t\\hline\n",
       "\t1 & 0 & 0 & 0 & 11239 \\\\\n",
       "\t2 & 0 & 0 & 1 & 322787 \\\\\n",
       "\t3 & 0 & 1 & 0 & 94 \\\\\n",
       "\t4 & 0 & 1 & 1 & 51772 \\\\\n",
       "\t5 & 1 & 0 & 0 & 7 \\\\\n",
       "\t6 & 1 & 0 & 1 & 3 \\\\\n",
       "\t7 & 1 & 1 & 0 & 56 \\\\\n",
       "\t8 & 1 & 1 & 1 & 3220845 \\\\\n",
       "\\end{tabular}\n"
      ],
      "text/plain": [
       "\u001b[1m8×4 DataFrame\u001b[0m\n",
       "\u001b[1m Row \u001b[0m│\u001b[1m Passengers \u001b[0m\u001b[1m Seats \u001b[0m\u001b[1m Flights \u001b[0m\u001b[1m nrow    \u001b[0m\n",
       "\u001b[1m     \u001b[0m│\u001b[90m Bool       \u001b[0m\u001b[90m Bool  \u001b[0m\u001b[90m Bool    \u001b[0m\u001b[90m Int64   \u001b[0m\n",
       "─────┼─────────────────────────────────────\n",
       "   1 │      false  false    false    11239\n",
       "   2 │      false  false     true   322787\n",
       "   3 │      false   true    false       94\n",
       "   4 │      false   true     true    51772\n",
       "   5 │       true  false    false        7\n",
       "   6 │       true  false     true        3\n",
       "   7 │       true   true    false       56\n",
       "   8 │       true   true     true  3220845"
      ]
     },
     "execution_count": 13,
     "metadata": {},
     "output_type": "execute_result"
    }
   ],
   "source": [
    "@chain df begin\n",
    "    select(:Passengers, :Seats, :Flights)\n",
    "    mapcols(ByRow(>(0)), _)\n",
    "    groupby(:, sort=true)\n",
    "    combine(nrow)\n",
    "end"
   ]
  },
  {
   "cell_type": "markdown",
   "metadata": {},
   "source": [
    "Before interpreting the results let us dissect the code:\n",
    "1. `@chain` is a macro from Pipe.jl package, that makes it easy to chain function calls and makes `_` a placeholder for a value returned by a function that was earlier in the chain (you can read about the details here: https://github.com/jkrumbiegel/Chain.jl)\n",
    "2. `select` creates a new data frame that keeps only three columns that we are interested in\n",
    "3. `mapcols` transforms each column of our data frame to have `Bool` element; it will have a value `true` if an entry is greater than `0` and `false` otherwise. In this way we are able to easily idenfity rows with `0` entries, as they are most interesting for us\n",
    "4. `groupby` groups our data frame by all columns and tells DataFrames.jl that the gorups should be sorted\n",
    "5. finally `combine` just counts the number of rows in each group"
   ]
  },
  {
   "cell_type": "markdown",
   "metadata": {},
   "source": [
    "Now going to our results - some of entries can be explained, like `0` passenges, but some seats and some flights (I guess it means that just no one took some flight).\n",
    "\n",
    "However cases like some passengers, but `0` seats and `0` flights are probably a mistake in data (we have 7 rows that have this combination of values).\n",
    "\n",
    "Let us try to find these 7 rows in two ways:"
   ]
  },
  {
   "cell_type": "code",
   "execution_count": 14,
   "metadata": {},
   "outputs": [
    {
     "data": {
      "text/html": [
       "<div class=\"data-frame\"><p>7 rows × 15 columns</p><table class=\"data-frame\"><thead><tr><th></th><th>Origin_airport</th><th>Destination_airport</th><th>Origin_city</th><th>Destination_city</th><th>Passengers</th><th>Seats</th><th>Flights</th><th>Distance</th><th>Fly_date</th><th>Origin_population</th><th>Destination_population</th><th>Org_airport_lat</th><th>Org_airport_long</th><th>Dest_airport_lat</th><th>Dest_airport_long</th></tr><tr><th></th><th title=\"String3\">String3</th><th title=\"String3\">String3</th><th title=\"String31\">String31</th><th title=\"String31\">String31</th><th title=\"Int64\">Int64</th><th title=\"Int64\">Int64</th><th title=\"Int64\">Int64</th><th title=\"Int64\">Int64</th><th title=\"Date\">Date</th><th title=\"Int64\">Int64</th><th title=\"Int64\">Int64</th><th title=\"Union{Missing, Float64}\">Float64?</th><th title=\"Union{Missing, Float64}\">Float64?</th><th title=\"Union{Missing, Float64}\">Float64?</th><th title=\"Union{Missing, Float64}\">Float64?</th></tr></thead><tbody><tr><th>1</th><td>ABR</td><td>PIR</td><td>Aberdeen, SD</td><td>Pierre, SD</td><td>11</td><td>0</td><td>0</td><td>117</td><td>1997-11-01</td><td>39903</td><td>18289</td><td>45.4491</td><td>-98.4218</td><td>44.3827</td><td>-100.286</td></tr><tr><th>2</th><td>IAD</td><td>BKW</td><td>Washington, DC</td><td>Beckley, WV</td><td>2</td><td>0</td><td>0</td><td>215</td><td>2002-12-01</td><td>10029142</td><td>78851</td><td>38.9445</td><td>-77.4558</td><td>37.7873</td><td>-81.1242</td></tr><tr><th>3</th><td>IAD</td><td>BKW</td><td>Washington, DC</td><td>Beckley, WV</td><td>1</td><td>0</td><td>0</td><td>215</td><td>2003-02-01</td><td>10172752</td><td>78587</td><td>38.9445</td><td>-77.4558</td><td>37.7873</td><td>-81.1242</td></tr><tr><th>4</th><td>IAD</td><td>BKW</td><td>Washington, DC</td><td>Beckley, WV</td><td>2</td><td>0</td><td>0</td><td>215</td><td>2003-03-01</td><td>10172752</td><td>78587</td><td>38.9445</td><td>-77.4558</td><td>37.7873</td><td>-81.1242</td></tr><tr><th>5</th><td>BOS</td><td>LAS</td><td>Boston, MA</td><td>Las Vegas, NV</td><td>9</td><td>0</td><td>0</td><td>2381</td><td>1993-06-01</td><td>8260582</td><td>877917</td><td>42.3643</td><td>-71.0052</td><td>36.0801</td><td>-115.152</td></tr><tr><th>6</th><td>BKW</td><td>IAD</td><td>Beckley, WV</td><td>Washington, DC</td><td>7</td><td>0</td><td>0</td><td>215</td><td>2002-12-01</td><td>78851</td><td>10029142</td><td>37.7873</td><td>-81.1242</td><td>38.9445</td><td>-77.4558</td></tr><tr><th>7</th><td>CMI</td><td>BMI</td><td>Champaign, IL</td><td>Bloomington, IL</td><td>6</td><td>0</td><td>0</td><td>46</td><td>1997-11-01</td><td>201107</td><td>141699</td><td>40.0392</td><td>-88.2781</td><td>40.4771</td><td>-88.9159</td></tr></tbody></table></div>"
      ],
      "text/latex": [
       "\\begin{tabular}{r|ccccccccccccccc}\n",
       "\t& Origin\\_airport & Destination\\_airport & Origin\\_city & Destination\\_city & Passengers & Seats & Flights & Distance & Fly\\_date & Origin\\_population & Destination\\_population & Org\\_airport\\_lat & Org\\_airport\\_long & Dest\\_airport\\_lat & Dest\\_airport\\_long\\\\\n",
       "\t\\hline\n",
       "\t& String3 & String3 & String31 & String31 & Int64 & Int64 & Int64 & Int64 & Date & Int64 & Int64 & Float64? & Float64? & Float64? & Float64?\\\\\n",
       "\t\\hline\n",
       "\t1 & ABR & PIR & Aberdeen, SD & Pierre, SD & 11 & 0 & 0 & 117 & 1997-11-01 & 39903 & 18289 & 45.4491 & -98.4218 & 44.3827 & -100.286 \\\\\n",
       "\t2 & IAD & BKW & Washington, DC & Beckley, WV & 2 & 0 & 0 & 215 & 2002-12-01 & 10029142 & 78851 & 38.9445 & -77.4558 & 37.7873 & -81.1242 \\\\\n",
       "\t3 & IAD & BKW & Washington, DC & Beckley, WV & 1 & 0 & 0 & 215 & 2003-02-01 & 10172752 & 78587 & 38.9445 & -77.4558 & 37.7873 & -81.1242 \\\\\n",
       "\t4 & IAD & BKW & Washington, DC & Beckley, WV & 2 & 0 & 0 & 215 & 2003-03-01 & 10172752 & 78587 & 38.9445 & -77.4558 & 37.7873 & -81.1242 \\\\\n",
       "\t5 & BOS & LAS & Boston, MA & Las Vegas, NV & 9 & 0 & 0 & 2381 & 1993-06-01 & 8260582 & 877917 & 42.3643 & -71.0052 & 36.0801 & -115.152 \\\\\n",
       "\t6 & BKW & IAD & Beckley, WV & Washington, DC & 7 & 0 & 0 & 215 & 2002-12-01 & 78851 & 10029142 & 37.7873 & -81.1242 & 38.9445 & -77.4558 \\\\\n",
       "\t7 & CMI & BMI & Champaign, IL & Bloomington, IL & 6 & 0 & 0 & 46 & 1997-11-01 & 201107 & 141699 & 40.0392 & -88.2781 & 40.4771 & -88.9159 \\\\\n",
       "\\end{tabular}\n"
      ],
      "text/plain": [
       "\u001b[1m7×15 DataFrame\u001b[0m\n",
       "\u001b[1m Row \u001b[0m│\u001b[1m Origin_airport \u001b[0m\u001b[1m Destination_airport \u001b[0m\u001b[1m Origin_city    \u001b[0m\u001b[1m Destination_city \u001b[0m\u001b[1m Passengers \u001b[0m\u001b[1m Seats \u001b[0m\u001b[1m Flights \u001b[0m\u001b[1m Distance \u001b[0m\u001b[1m Fly_date   \u001b[0m\u001b[1m Origin_population \u001b[0m\u001b[1m Destination_population \u001b[0m\u001b[1m Org_airport_lat \u001b[0m\u001b[1m Org_airport_long \u001b[0m\u001b[1m Dest_airport_lat \u001b[0m\u001b[1m Dest_airport_long \u001b[0m\n",
       "\u001b[1m     \u001b[0m│\u001b[90m String3        \u001b[0m\u001b[90m String3             \u001b[0m\u001b[90m String31       \u001b[0m\u001b[90m String31         \u001b[0m\u001b[90m Int64      \u001b[0m\u001b[90m Int64 \u001b[0m\u001b[90m Int64   \u001b[0m\u001b[90m Int64    \u001b[0m\u001b[90m Date       \u001b[0m\u001b[90m Int64             \u001b[0m\u001b[90m Int64                  \u001b[0m\u001b[90m Float64?        \u001b[0m\u001b[90m Float64?         \u001b[0m\u001b[90m Float64?         \u001b[0m\u001b[90m Float64?          \u001b[0m\n",
       "─────┼────────────────────────────────────────────────────────────────────────────────────────────────────────────────────────────────────────────────────────────────────────────────────────────────────────────────────────────────────────────\n",
       "   1 │ ABR             PIR                  Aberdeen, SD    Pierre, SD                11      0        0       117  1997-11-01              39903                   18289          45.4491          -98.4218           44.3827          -100.286\n",
       "   2 │ IAD             BKW                  Washington, DC  Beckley, WV                2      0        0       215  2002-12-01           10029142                   78851          38.9445          -77.4558           37.7873           -81.1242\n",
       "   3 │ IAD             BKW                  Washington, DC  Beckley, WV                1      0        0       215  2003-02-01           10172752                   78587          38.9445          -77.4558           37.7873           -81.1242\n",
       "   4 │ IAD             BKW                  Washington, DC  Beckley, WV                2      0        0       215  2003-03-01           10172752                   78587          38.9445          -77.4558           37.7873           -81.1242\n",
       "   5 │ BOS             LAS                  Boston, MA      Las Vegas, NV              9      0        0      2381  1993-06-01            8260582                  877917          42.3643          -71.0052           36.0801          -115.152\n",
       "   6 │ BKW             IAD                  Beckley, WV     Washington, DC             7      0        0       215  2002-12-01              78851                10029142          37.7873          -81.1242           38.9445           -77.4558\n",
       "   7 │ CMI             BMI                  Champaign, IL   Bloomington, IL            6      0        0        46  1997-11-01             201107                  141699          40.0392          -88.2781           40.4771           -88.9159"
      ]
     },
     "execution_count": 14,
     "metadata": {},
     "output_type": "execute_result"
    }
   ],
   "source": [
    "filter(row -> row.Passengers > 0 && row.Seats == 0 && row.Flights == 0, df)"
   ]
  },
  {
   "cell_type": "code",
   "execution_count": 15,
   "metadata": {},
   "outputs": [
    {
     "data": {
      "text/html": [
       "<div class=\"data-frame\"><p>7 rows × 15 columns</p><table class=\"data-frame\"><thead><tr><th></th><th>Origin_airport</th><th>Destination_airport</th><th>Origin_city</th><th>Destination_city</th><th>Passengers</th><th>Seats</th><th>Flights</th><th>Distance</th><th>Fly_date</th><th>Origin_population</th><th>Destination_population</th><th>Org_airport_lat</th><th>Org_airport_long</th><th>Dest_airport_lat</th><th>Dest_airport_long</th></tr><tr><th></th><th title=\"String3\">String3</th><th title=\"String3\">String3</th><th title=\"String31\">String31</th><th title=\"String31\">String31</th><th title=\"Int64\">Int64</th><th title=\"Int64\">Int64</th><th title=\"Int64\">Int64</th><th title=\"Int64\">Int64</th><th title=\"Date\">Date</th><th title=\"Int64\">Int64</th><th title=\"Int64\">Int64</th><th title=\"Union{Missing, Float64}\">Float64?</th><th title=\"Union{Missing, Float64}\">Float64?</th><th title=\"Union{Missing, Float64}\">Float64?</th><th title=\"Union{Missing, Float64}\">Float64?</th></tr></thead><tbody><tr><th>1</th><td>ABR</td><td>PIR</td><td>Aberdeen, SD</td><td>Pierre, SD</td><td>11</td><td>0</td><td>0</td><td>117</td><td>1997-11-01</td><td>39903</td><td>18289</td><td>45.4491</td><td>-98.4218</td><td>44.3827</td><td>-100.286</td></tr><tr><th>2</th><td>IAD</td><td>BKW</td><td>Washington, DC</td><td>Beckley, WV</td><td>2</td><td>0</td><td>0</td><td>215</td><td>2002-12-01</td><td>10029142</td><td>78851</td><td>38.9445</td><td>-77.4558</td><td>37.7873</td><td>-81.1242</td></tr><tr><th>3</th><td>IAD</td><td>BKW</td><td>Washington, DC</td><td>Beckley, WV</td><td>1</td><td>0</td><td>0</td><td>215</td><td>2003-02-01</td><td>10172752</td><td>78587</td><td>38.9445</td><td>-77.4558</td><td>37.7873</td><td>-81.1242</td></tr><tr><th>4</th><td>IAD</td><td>BKW</td><td>Washington, DC</td><td>Beckley, WV</td><td>2</td><td>0</td><td>0</td><td>215</td><td>2003-03-01</td><td>10172752</td><td>78587</td><td>38.9445</td><td>-77.4558</td><td>37.7873</td><td>-81.1242</td></tr><tr><th>5</th><td>BOS</td><td>LAS</td><td>Boston, MA</td><td>Las Vegas, NV</td><td>9</td><td>0</td><td>0</td><td>2381</td><td>1993-06-01</td><td>8260582</td><td>877917</td><td>42.3643</td><td>-71.0052</td><td>36.0801</td><td>-115.152</td></tr><tr><th>6</th><td>BKW</td><td>IAD</td><td>Beckley, WV</td><td>Washington, DC</td><td>7</td><td>0</td><td>0</td><td>215</td><td>2002-12-01</td><td>78851</td><td>10029142</td><td>37.7873</td><td>-81.1242</td><td>38.9445</td><td>-77.4558</td></tr><tr><th>7</th><td>CMI</td><td>BMI</td><td>Champaign, IL</td><td>Bloomington, IL</td><td>6</td><td>0</td><td>0</td><td>46</td><td>1997-11-01</td><td>201107</td><td>141699</td><td>40.0392</td><td>-88.2781</td><td>40.4771</td><td>-88.9159</td></tr></tbody></table></div>"
      ],
      "text/latex": [
       "\\begin{tabular}{r|ccccccccccccccc}\n",
       "\t& Origin\\_airport & Destination\\_airport & Origin\\_city & Destination\\_city & Passengers & Seats & Flights & Distance & Fly\\_date & Origin\\_population & Destination\\_population & Org\\_airport\\_lat & Org\\_airport\\_long & Dest\\_airport\\_lat & Dest\\_airport\\_long\\\\\n",
       "\t\\hline\n",
       "\t& String3 & String3 & String31 & String31 & Int64 & Int64 & Int64 & Int64 & Date & Int64 & Int64 & Float64? & Float64? & Float64? & Float64?\\\\\n",
       "\t\\hline\n",
       "\t1 & ABR & PIR & Aberdeen, SD & Pierre, SD & 11 & 0 & 0 & 117 & 1997-11-01 & 39903 & 18289 & 45.4491 & -98.4218 & 44.3827 & -100.286 \\\\\n",
       "\t2 & IAD & BKW & Washington, DC & Beckley, WV & 2 & 0 & 0 & 215 & 2002-12-01 & 10029142 & 78851 & 38.9445 & -77.4558 & 37.7873 & -81.1242 \\\\\n",
       "\t3 & IAD & BKW & Washington, DC & Beckley, WV & 1 & 0 & 0 & 215 & 2003-02-01 & 10172752 & 78587 & 38.9445 & -77.4558 & 37.7873 & -81.1242 \\\\\n",
       "\t4 & IAD & BKW & Washington, DC & Beckley, WV & 2 & 0 & 0 & 215 & 2003-03-01 & 10172752 & 78587 & 38.9445 & -77.4558 & 37.7873 & -81.1242 \\\\\n",
       "\t5 & BOS & LAS & Boston, MA & Las Vegas, NV & 9 & 0 & 0 & 2381 & 1993-06-01 & 8260582 & 877917 & 42.3643 & -71.0052 & 36.0801 & -115.152 \\\\\n",
       "\t6 & BKW & IAD & Beckley, WV & Washington, DC & 7 & 0 & 0 & 215 & 2002-12-01 & 78851 & 10029142 & 37.7873 & -81.1242 & 38.9445 & -77.4558 \\\\\n",
       "\t7 & CMI & BMI & Champaign, IL & Bloomington, IL & 6 & 0 & 0 & 46 & 1997-11-01 & 201107 & 141699 & 40.0392 & -88.2781 & 40.4771 & -88.9159 \\\\\n",
       "\\end{tabular}\n"
      ],
      "text/plain": [
       "\u001b[1m7×15 DataFrame\u001b[0m\n",
       "\u001b[1m Row \u001b[0m│\u001b[1m Origin_airport \u001b[0m\u001b[1m Destination_airport \u001b[0m\u001b[1m Origin_city    \u001b[0m\u001b[1m Destination_city \u001b[0m\u001b[1m Passengers \u001b[0m\u001b[1m Seats \u001b[0m\u001b[1m Flights \u001b[0m\u001b[1m Distance \u001b[0m\u001b[1m Fly_date   \u001b[0m\u001b[1m Origin_population \u001b[0m\u001b[1m Destination_population \u001b[0m\u001b[1m Org_airport_lat \u001b[0m\u001b[1m Org_airport_long \u001b[0m\u001b[1m Dest_airport_lat \u001b[0m\u001b[1m Dest_airport_long \u001b[0m\n",
       "\u001b[1m     \u001b[0m│\u001b[90m String3        \u001b[0m\u001b[90m String3             \u001b[0m\u001b[90m String31       \u001b[0m\u001b[90m String31         \u001b[0m\u001b[90m Int64      \u001b[0m\u001b[90m Int64 \u001b[0m\u001b[90m Int64   \u001b[0m\u001b[90m Int64    \u001b[0m\u001b[90m Date       \u001b[0m\u001b[90m Int64             \u001b[0m\u001b[90m Int64                  \u001b[0m\u001b[90m Float64?        \u001b[0m\u001b[90m Float64?         \u001b[0m\u001b[90m Float64?         \u001b[0m\u001b[90m Float64?          \u001b[0m\n",
       "─────┼────────────────────────────────────────────────────────────────────────────────────────────────────────────────────────────────────────────────────────────────────────────────────────────────────────────────────────────────────────────\n",
       "   1 │ ABR             PIR                  Aberdeen, SD    Pierre, SD                11      0        0       117  1997-11-01              39903                   18289          45.4491          -98.4218           44.3827          -100.286\n",
       "   2 │ IAD             BKW                  Washington, DC  Beckley, WV                2      0        0       215  2002-12-01           10029142                   78851          38.9445          -77.4558           37.7873           -81.1242\n",
       "   3 │ IAD             BKW                  Washington, DC  Beckley, WV                1      0        0       215  2003-02-01           10172752                   78587          38.9445          -77.4558           37.7873           -81.1242\n",
       "   4 │ IAD             BKW                  Washington, DC  Beckley, WV                2      0        0       215  2003-03-01           10172752                   78587          38.9445          -77.4558           37.7873           -81.1242\n",
       "   5 │ BOS             LAS                  Boston, MA      Las Vegas, NV              9      0        0      2381  1993-06-01            8260582                  877917          42.3643          -71.0052           36.0801          -115.152\n",
       "   6 │ BKW             IAD                  Beckley, WV     Washington, DC             7      0        0       215  2002-12-01              78851                10029142          37.7873          -81.1242           38.9445           -77.4558\n",
       "   7 │ CMI             BMI                  Champaign, IL   Bloomington, IL            6      0        0        46  1997-11-01             201107                  141699          40.0392          -88.2781           40.4771           -88.9159"
      ]
     },
     "execution_count": 15,
     "metadata": {},
     "output_type": "execute_result"
    }
   ],
   "source": [
    "subset(df, :Passengers => ByRow(>(0)), :Seats => ByRow(==(0)), :Flights  => ByRow(==(0)))"
   ]
  },
  {
   "cell_type": "markdown",
   "metadata": {},
   "source": [
    "Let us compare the timing of both options:"
   ]
  },
  {
   "cell_type": "code",
   "execution_count": 16,
   "metadata": {},
   "outputs": [
    {
     "name": "stdout",
     "output_type": "stream",
     "text": [
      "  0.957556 seconds (18.57 M allocations: 302.252 MiB, 4.90% gc time, 14.05% compilation time)\n"
     ]
    }
   ],
   "source": [
    "@time filter(row -> row.Passengers > 0 && row.Seats == 0 && row.Flights == 0, df);"
   ]
  },
  {
   "cell_type": "code",
   "execution_count": 17,
   "metadata": {},
   "outputs": [
    {
     "name": "stdout",
     "output_type": "stream",
     "text": [
      "  0.011977 seconds (404 allocations: 10.774 MiB)\n"
     ]
    }
   ],
   "source": [
    "@time subset(df, :Passengers => ByRow(>(0)), :Seats => ByRow(==(0)), :Flights  => ByRow(==(0)));"
   ]
  },
  {
   "cell_type": "markdown",
   "metadata": {},
   "source": [
    "Now let us move to another analysis.\n",
    "\n",
    "We want to get an information about the occupancy of each flight. It can be calculated as ratio of the number of passengers and number of seats time number of flights. The problem is that if there are `0` seats or flights we would be dividing by `0` and get a `NaN` result. We prefer to get a `missing` value in this case. Therefore first define a helper function:"
   ]
  },
  {
   "cell_type": "code",
   "execution_count": 18,
   "metadata": {},
   "outputs": [
    {
     "data": {
      "text/plain": [
       "get_occupied (generic function with 1 method)"
      ]
     },
     "execution_count": 18,
     "metadata": {},
     "output_type": "execute_result"
    }
   ],
   "source": [
    "function get_occupied(passengers, seats, flights)\n",
    "    if seats == 0 || flights == 0\n",
    "        return missing\n",
    "    else\n",
    "        return passengers / (seats * flights)\n",
    "    end\n",
    "end"
   ]
  },
  {
   "cell_type": "markdown",
   "metadata": {},
   "source": [
    "and now we use it to add a new column to our data frame. Additionally we create three new columns:\n",
    "1. `:ost`: state of the origin city\n",
    "2. `:dst`: state of the destination city\n",
    "3. `:year`: year of flight"
   ]
  },
  {
   "cell_type": "code",
   "execution_count": 19,
   "metadata": {
    "scrolled": true
   },
   "outputs": [
    {
     "data": {
      "text/html": [
       "<div class=\"data-frame\"><p>3,606,803 rows × 19 columns</p><table class=\"data-frame\"><thead><tr><th></th><th>Origin_airport</th><th>Destination_airport</th><th>Origin_city</th><th>Destination_city</th><th>Passengers</th><th>Seats</th><th>Flights</th><th>Distance</th><th>Fly_date</th><th>Origin_population</th><th>Destination_population</th><th>Org_airport_lat</th><th>Org_airport_long</th><th>Dest_airport_lat</th><th>Dest_airport_long</th><th>occupied</th><th>ost</th><th>dst</th><th>year</th></tr><tr><th></th><th title=\"String3\">String3</th><th title=\"String3\">String3</th><th title=\"String31\">String31</th><th title=\"String31\">String31</th><th title=\"Int64\">Int64</th><th title=\"Int64\">Int64</th><th title=\"Int64\">Int64</th><th title=\"Int64\">Int64</th><th title=\"Date\">Date</th><th title=\"Int64\">Int64</th><th title=\"Int64\">Int64</th><th title=\"Union{Missing, Float64}\">Float64?</th><th title=\"Union{Missing, Float64}\">Float64?</th><th title=\"Union{Missing, Float64}\">Float64?</th><th title=\"Union{Missing, Float64}\">Float64?</th><th title=\"Union{Missing, Float64}\">Float64?</th><th title=\"SubString{String31}\">SubStrin…</th><th title=\"SubString{String31}\">SubStrin…</th><th title=\"Int64\">Int64</th></tr></thead><tbody><tr><th>1</th><td>MHK</td><td>AMW</td><td>Manhattan, KS</td><td>Ames, IA</td><td>21</td><td>30</td><td>1</td><td>254</td><td>2008-10-01</td><td>122049</td><td>86219</td><td>39.141</td><td>-96.6708</td><td><em>missing</em></td><td><em>missing</em></td><td>0.7</td><td>KS</td><td>IA</td><td>2008</td></tr><tr><th>2</th><td>EUG</td><td>RDM</td><td>Eugene, OR</td><td>Bend, OR</td><td>41</td><td>396</td><td>22</td><td>103</td><td>1990-11-01</td><td>284093</td><td>76034</td><td>44.1246</td><td>-123.212</td><td>44.2541</td><td>-121.15</td><td>0.00470615</td><td>OR</td><td>OR</td><td>1990</td></tr><tr><th>3</th><td>EUG</td><td>RDM</td><td>Eugene, OR</td><td>Bend, OR</td><td>88</td><td>342</td><td>19</td><td>103</td><td>1990-12-01</td><td>284093</td><td>76034</td><td>44.1246</td><td>-123.212</td><td>44.2541</td><td>-121.15</td><td>0.0135426</td><td>OR</td><td>OR</td><td>1990</td></tr><tr><th>4</th><td>EUG</td><td>RDM</td><td>Eugene, OR</td><td>Bend, OR</td><td>11</td><td>72</td><td>4</td><td>103</td><td>1990-10-01</td><td>284093</td><td>76034</td><td>44.1246</td><td>-123.212</td><td>44.2541</td><td>-121.15</td><td>0.0381944</td><td>OR</td><td>OR</td><td>1990</td></tr><tr><th>5</th><td>MFR</td><td>RDM</td><td>Medford, OR</td><td>Bend, OR</td><td>0</td><td>18</td><td>1</td><td>156</td><td>1990-02-01</td><td>147300</td><td>76034</td><td>42.3742</td><td>-122.873</td><td>44.2541</td><td>-121.15</td><td>0.0</td><td>OR</td><td>OR</td><td>1990</td></tr><tr><th>6</th><td>MFR</td><td>RDM</td><td>Medford, OR</td><td>Bend, OR</td><td>11</td><td>18</td><td>1</td><td>156</td><td>1990-03-01</td><td>147300</td><td>76034</td><td>42.3742</td><td>-122.873</td><td>44.2541</td><td>-121.15</td><td>0.611111</td><td>OR</td><td>OR</td><td>1990</td></tr><tr><th>7</th><td>MFR</td><td>RDM</td><td>Medford, OR</td><td>Bend, OR</td><td>2</td><td>72</td><td>4</td><td>156</td><td>1990-01-01</td><td>147300</td><td>76034</td><td>42.3742</td><td>-122.873</td><td>44.2541</td><td>-121.15</td><td>0.00694444</td><td>OR</td><td>OR</td><td>1990</td></tr><tr><th>8</th><td>MFR</td><td>RDM</td><td>Medford, OR</td><td>Bend, OR</td><td>7</td><td>18</td><td>1</td><td>156</td><td>1990-09-01</td><td>147300</td><td>76034</td><td>42.3742</td><td>-122.873</td><td>44.2541</td><td>-121.15</td><td>0.388889</td><td>OR</td><td>OR</td><td>1990</td></tr><tr><th>9</th><td>MFR</td><td>RDM</td><td>Medford, OR</td><td>Bend, OR</td><td>7</td><td>36</td><td>2</td><td>156</td><td>1990-11-01</td><td>147300</td><td>76034</td><td>42.3742</td><td>-122.873</td><td>44.2541</td><td>-121.15</td><td>0.0972222</td><td>OR</td><td>OR</td><td>1990</td></tr><tr><th>10</th><td>SEA</td><td>RDM</td><td>Seattle, WA</td><td>Bend, OR</td><td>8</td><td>18</td><td>1</td><td>228</td><td>1990-02-01</td><td>5154164</td><td>76034</td><td>47.449</td><td>-122.309</td><td>44.2541</td><td>-121.15</td><td>0.444444</td><td>WA</td><td>OR</td><td>1990</td></tr><tr><th>11</th><td>SEA</td><td>RDM</td><td>Seattle, WA</td><td>Bend, OR</td><td>453</td><td>3128</td><td>23</td><td>228</td><td>1990-01-01</td><td>5154164</td><td>76034</td><td>47.449</td><td>-122.309</td><td>44.2541</td><td>-121.15</td><td>0.00629656</td><td>WA</td><td>OR</td><td>1990</td></tr><tr><th>12</th><td>SEA</td><td>RDM</td><td>Seattle, WA</td><td>Bend, OR</td><td>784</td><td>2720</td><td>20</td><td>228</td><td>1990-02-01</td><td>5154164</td><td>76034</td><td>47.449</td><td>-122.309</td><td>44.2541</td><td>-121.15</td><td>0.0144118</td><td>WA</td><td>OR</td><td>1990</td></tr><tr><th>13</th><td>SEA</td><td>RDM</td><td>Seattle, WA</td><td>Bend, OR</td><td>749</td><td>2992</td><td>22</td><td>228</td><td>1990-03-01</td><td>5154164</td><td>76034</td><td>47.449</td><td>-122.309</td><td>44.2541</td><td>-121.15</td><td>0.0113788</td><td>WA</td><td>OR</td><td>1990</td></tr><tr><th>14</th><td>SEA</td><td>RDM</td><td>Seattle, WA</td><td>Bend, OR</td><td>11</td><td>18</td><td>1</td><td>228</td><td>1990-04-01</td><td>5154164</td><td>76034</td><td>47.449</td><td>-122.309</td><td>44.2541</td><td>-121.15</td><td>0.611111</td><td>WA</td><td>OR</td><td>1990</td></tr><tr><th>15</th><td>PDX</td><td>RDM</td><td>Portland, OR</td><td>Bend, OR</td><td>349</td><td>851</td><td>23</td><td>116</td><td>1990-01-01</td><td>1534762</td><td>76034</td><td>45.5887</td><td>-122.598</td><td>44.2541</td><td>-121.15</td><td>0.0178307</td><td>OR</td><td>OR</td><td>1990</td></tr><tr><th>16</th><td>PDX</td><td>RDM</td><td>Portland, OR</td><td>Bend, OR</td><td>1376</td><td>2898</td><td>161</td><td>116</td><td>1990-01-01</td><td>1534762</td><td>76034</td><td>45.5887</td><td>-122.598</td><td>44.2541</td><td>-121.15</td><td>0.00294913</td><td>OR</td><td>OR</td><td>1990</td></tr><tr><th>17</th><td>PDX</td><td>RDM</td><td>Portland, OR</td><td>Bend, OR</td><td>444</td><td>1110</td><td>30</td><td>116</td><td>1990-10-01</td><td>1534762</td><td>76034</td><td>45.5887</td><td>-122.598</td><td>44.2541</td><td>-121.15</td><td>0.0133333</td><td>OR</td><td>OR</td><td>1990</td></tr><tr><th>18</th><td>PDX</td><td>RDM</td><td>Portland, OR</td><td>Bend, OR</td><td>1949</td><td>3261</td><td>187</td><td>116</td><td>1990-06-01</td><td>1534762</td><td>76034</td><td>45.5887</td><td>-122.598</td><td>44.2541</td><td>-121.15</td><td>0.00319609</td><td>OR</td><td>OR</td><td>1990</td></tr><tr><th>19</th><td>PDX</td><td>RDM</td><td>Portland, OR</td><td>Bend, OR</td><td>381</td><td>814</td><td>22</td><td>116</td><td>1990-02-01</td><td>1534762</td><td>76034</td><td>45.5887</td><td>-122.598</td><td>44.2541</td><td>-121.15</td><td>0.0212754</td><td>OR</td><td>OR</td><td>1990</td></tr><tr><th>20</th><td>PDX</td><td>RDM</td><td>Portland, OR</td><td>Bend, OR</td><td>1559</td><td>2772</td><td>154</td><td>116</td><td>1990-02-01</td><td>1534762</td><td>76034</td><td>45.5887</td><td>-122.598</td><td>44.2541</td><td>-121.15</td><td>0.00365201</td><td>OR</td><td>OR</td><td>1990</td></tr><tr><th>&vellip;</th><td>&vellip;</td><td>&vellip;</td><td>&vellip;</td><td>&vellip;</td><td>&vellip;</td><td>&vellip;</td><td>&vellip;</td><td>&vellip;</td><td>&vellip;</td><td>&vellip;</td><td>&vellip;</td><td>&vellip;</td><td>&vellip;</td><td>&vellip;</td><td>&vellip;</td><td>&vellip;</td><td>&vellip;</td><td>&vellip;</td><td>&vellip;</td></tr></tbody></table></div>"
      ],
      "text/latex": [
       "\\begin{tabular}{r|ccccccccccccccccccc}\n",
       "\t& Origin\\_airport & Destination\\_airport & Origin\\_city & Destination\\_city & Passengers & Seats & Flights & Distance & Fly\\_date & Origin\\_population & Destination\\_population & Org\\_airport\\_lat & Org\\_airport\\_long & Dest\\_airport\\_lat & Dest\\_airport\\_long & occupied & ost & dst & year\\\\\n",
       "\t\\hline\n",
       "\t& String3 & String3 & String31 & String31 & Int64 & Int64 & Int64 & Int64 & Date & Int64 & Int64 & Float64? & Float64? & Float64? & Float64? & Float64? & SubStrin… & SubStrin… & Int64\\\\\n",
       "\t\\hline\n",
       "\t1 & MHK & AMW & Manhattan, KS & Ames, IA & 21 & 30 & 1 & 254 & 2008-10-01 & 122049 & 86219 & 39.141 & -96.6708 & \\emph{missing} & \\emph{missing} & 0.7 & KS & IA & 2008 \\\\\n",
       "\t2 & EUG & RDM & Eugene, OR & Bend, OR & 41 & 396 & 22 & 103 & 1990-11-01 & 284093 & 76034 & 44.1246 & -123.212 & 44.2541 & -121.15 & 0.00470615 & OR & OR & 1990 \\\\\n",
       "\t3 & EUG & RDM & Eugene, OR & Bend, OR & 88 & 342 & 19 & 103 & 1990-12-01 & 284093 & 76034 & 44.1246 & -123.212 & 44.2541 & -121.15 & 0.0135426 & OR & OR & 1990 \\\\\n",
       "\t4 & EUG & RDM & Eugene, OR & Bend, OR & 11 & 72 & 4 & 103 & 1990-10-01 & 284093 & 76034 & 44.1246 & -123.212 & 44.2541 & -121.15 & 0.0381944 & OR & OR & 1990 \\\\\n",
       "\t5 & MFR & RDM & Medford, OR & Bend, OR & 0 & 18 & 1 & 156 & 1990-02-01 & 147300 & 76034 & 42.3742 & -122.873 & 44.2541 & -121.15 & 0.0 & OR & OR & 1990 \\\\\n",
       "\t6 & MFR & RDM & Medford, OR & Bend, OR & 11 & 18 & 1 & 156 & 1990-03-01 & 147300 & 76034 & 42.3742 & -122.873 & 44.2541 & -121.15 & 0.611111 & OR & OR & 1990 \\\\\n",
       "\t7 & MFR & RDM & Medford, OR & Bend, OR & 2 & 72 & 4 & 156 & 1990-01-01 & 147300 & 76034 & 42.3742 & -122.873 & 44.2541 & -121.15 & 0.00694444 & OR & OR & 1990 \\\\\n",
       "\t8 & MFR & RDM & Medford, OR & Bend, OR & 7 & 18 & 1 & 156 & 1990-09-01 & 147300 & 76034 & 42.3742 & -122.873 & 44.2541 & -121.15 & 0.388889 & OR & OR & 1990 \\\\\n",
       "\t9 & MFR & RDM & Medford, OR & Bend, OR & 7 & 36 & 2 & 156 & 1990-11-01 & 147300 & 76034 & 42.3742 & -122.873 & 44.2541 & -121.15 & 0.0972222 & OR & OR & 1990 \\\\\n",
       "\t10 & SEA & RDM & Seattle, WA & Bend, OR & 8 & 18 & 1 & 228 & 1990-02-01 & 5154164 & 76034 & 47.449 & -122.309 & 44.2541 & -121.15 & 0.444444 & WA & OR & 1990 \\\\\n",
       "\t11 & SEA & RDM & Seattle, WA & Bend, OR & 453 & 3128 & 23 & 228 & 1990-01-01 & 5154164 & 76034 & 47.449 & -122.309 & 44.2541 & -121.15 & 0.00629656 & WA & OR & 1990 \\\\\n",
       "\t12 & SEA & RDM & Seattle, WA & Bend, OR & 784 & 2720 & 20 & 228 & 1990-02-01 & 5154164 & 76034 & 47.449 & -122.309 & 44.2541 & -121.15 & 0.0144118 & WA & OR & 1990 \\\\\n",
       "\t13 & SEA & RDM & Seattle, WA & Bend, OR & 749 & 2992 & 22 & 228 & 1990-03-01 & 5154164 & 76034 & 47.449 & -122.309 & 44.2541 & -121.15 & 0.0113788 & WA & OR & 1990 \\\\\n",
       "\t14 & SEA & RDM & Seattle, WA & Bend, OR & 11 & 18 & 1 & 228 & 1990-04-01 & 5154164 & 76034 & 47.449 & -122.309 & 44.2541 & -121.15 & 0.611111 & WA & OR & 1990 \\\\\n",
       "\t15 & PDX & RDM & Portland, OR & Bend, OR & 349 & 851 & 23 & 116 & 1990-01-01 & 1534762 & 76034 & 45.5887 & -122.598 & 44.2541 & -121.15 & 0.0178307 & OR & OR & 1990 \\\\\n",
       "\t16 & PDX & RDM & Portland, OR & Bend, OR & 1376 & 2898 & 161 & 116 & 1990-01-01 & 1534762 & 76034 & 45.5887 & -122.598 & 44.2541 & -121.15 & 0.00294913 & OR & OR & 1990 \\\\\n",
       "\t17 & PDX & RDM & Portland, OR & Bend, OR & 444 & 1110 & 30 & 116 & 1990-10-01 & 1534762 & 76034 & 45.5887 & -122.598 & 44.2541 & -121.15 & 0.0133333 & OR & OR & 1990 \\\\\n",
       "\t18 & PDX & RDM & Portland, OR & Bend, OR & 1949 & 3261 & 187 & 116 & 1990-06-01 & 1534762 & 76034 & 45.5887 & -122.598 & 44.2541 & -121.15 & 0.00319609 & OR & OR & 1990 \\\\\n",
       "\t19 & PDX & RDM & Portland, OR & Bend, OR & 381 & 814 & 22 & 116 & 1990-02-01 & 1534762 & 76034 & 45.5887 & -122.598 & 44.2541 & -121.15 & 0.0212754 & OR & OR & 1990 \\\\\n",
       "\t20 & PDX & RDM & Portland, OR & Bend, OR & 1559 & 2772 & 154 & 116 & 1990-02-01 & 1534762 & 76034 & 45.5887 & -122.598 & 44.2541 & -121.15 & 0.00365201 & OR & OR & 1990 \\\\\n",
       "\t$\\dots$ & $\\dots$ & $\\dots$ & $\\dots$ & $\\dots$ & $\\dots$ & $\\dots$ & $\\dots$ & $\\dots$ & $\\dots$ & $\\dots$ & $\\dots$ & $\\dots$ & $\\dots$ & $\\dots$ & $\\dots$ & $\\dots$ & $\\dots$ & $\\dots$ & $\\dots$ \\\\\n",
       "\\end{tabular}\n"
      ],
      "text/plain": [
       "\u001b[1m3606803×19 DataFrame\u001b[0m\n",
       "\u001b[1m     Row \u001b[0m│\u001b[1m Origin_airport \u001b[0m\u001b[1m Destination_airport \u001b[0m\u001b[1m Origin_city        \u001b[0m\u001b[1m Destination_city           \u001b[0m\u001b[1m Passengers \u001b[0m\u001b[1m Seats \u001b[0m\u001b[1m Flights \u001b[0m\u001b[1m Distance \u001b[0m\u001b[1m Fly_date   \u001b[0m\u001b[1m Origin_population \u001b[0m\u001b[1m Destination_population \u001b[0m\u001b[1m Org_airport_lat \u001b[0m\u001b[1m Org_airport_long \u001b[0m\u001b[1m Dest_airport_lat \u001b[0m\u001b[1m Dest_airport_long \u001b[0m\u001b[1m occupied         \u001b[0m\u001b[1m ost       \u001b[0m\u001b[1m dst       \u001b[0m\u001b[1m year  \u001b[0m\n",
       "\u001b[1m         \u001b[0m│\u001b[90m String3        \u001b[0m\u001b[90m String3             \u001b[0m\u001b[90m String31           \u001b[0m\u001b[90m String31                   \u001b[0m\u001b[90m Int64      \u001b[0m\u001b[90m Int64 \u001b[0m\u001b[90m Int64   \u001b[0m\u001b[90m Int64    \u001b[0m\u001b[90m Date       \u001b[0m\u001b[90m Int64             \u001b[0m\u001b[90m Int64                  \u001b[0m\u001b[90m Float64?        \u001b[0m\u001b[90m Float64?         \u001b[0m\u001b[90m Float64?         \u001b[0m\u001b[90m Float64?          \u001b[0m\u001b[90m Float64?         \u001b[0m\u001b[90m SubStrin… \u001b[0m\u001b[90m SubStrin… \u001b[0m\u001b[90m Int64 \u001b[0m\n",
       "─────────┼─────────────────────────────────────────────────────────────────────────────────────────────────────────────────────────────────────────────────────────────────────────────────────────────────────────────────────────────────────────────────────────────────────────────────────────────────────────\n",
       "       1 │ MHK             AMW                  Manhattan, KS       Ames, IA                            21     30        1       254  2008-10-01             122049                   86219          39.141           -96.6708 \u001b[90m     missing      \u001b[0m\u001b[90m      missing      \u001b[0m       0.7         KS         IA          2008\n",
       "       2 │ EUG             RDM                  Eugene, OR          Bend, OR                            41    396       22       103  1990-11-01             284093                   76034          44.1246         -123.212            44.2541          -121.15          0.00470615  OR         OR          1990\n",
       "       3 │ EUG             RDM                  Eugene, OR          Bend, OR                            88    342       19       103  1990-12-01             284093                   76034          44.1246         -123.212            44.2541          -121.15          0.0135426   OR         OR          1990\n",
       "       4 │ EUG             RDM                  Eugene, OR          Bend, OR                            11     72        4       103  1990-10-01             284093                   76034          44.1246         -123.212            44.2541          -121.15          0.0381944   OR         OR          1990\n",
       "       5 │ MFR             RDM                  Medford, OR         Bend, OR                             0     18        1       156  1990-02-01             147300                   76034          42.3742         -122.873            44.2541          -121.15          0.0         OR         OR          1990\n",
       "       6 │ MFR             RDM                  Medford, OR         Bend, OR                            11     18        1       156  1990-03-01             147300                   76034          42.3742         -122.873            44.2541          -121.15          0.611111    OR         OR          1990\n",
       "    ⋮    │       ⋮                  ⋮                   ⋮                       ⋮                   ⋮         ⋮       ⋮        ⋮          ⋮               ⋮                    ⋮                    ⋮                ⋮                 ⋮                  ⋮                 ⋮              ⋮          ⋮        ⋮\n",
       " 3606799 │ STL             TBN                  St. Louis, MO       Fort Leonard Wood, MO              281    969       51       119  2009-02-01            2828990                   46457          38.7487          -90.37             37.7416           -92.1407        0.00568607  MO         MO          2009\n",
       " 3606800 │ STL             TBN                  St. Louis, MO       Fort Leonard Wood, MO              245   1026       54       119  2009-11-01            2828990                   46457          38.7487          -90.37             37.7416           -92.1407        0.00442206  MO         MO          2009\n",
       " 3606801 │ STL             TBN                  St. Louis, MO       Fort Leonard Wood, MO              363   1273       67       119  2009-08-01            2828990                   46457          38.7487          -90.37             37.7416           -92.1407        0.00425602  MO         MO          2009\n",
       " 3606802 │ CGI             TBN                  Cape Girardeau, MO  Fort Leonard Wood, MO                2     19        1       146  2009-08-01              93712                   46457          37.2253          -89.5708           37.7416           -92.1407        0.105263    MO         MO          2009\n",
       " 3606803 │ FWA             OH1                  Fort Wayne, IN      Washington Court House, OH           0      0        1       135  2003-09-01             398574                   28133          40.9785          -85.1951 \u001b[90m     missing      \u001b[0m\u001b[90m      missing      \u001b[0m\u001b[90m missing          \u001b[0m IN         OH          2003\n",
       "\u001b[36m                                                                                                                                                                                                                                                                                               3606792 rows omitted\u001b[0m"
      ]
     },
     "execution_count": 19,
     "metadata": {},
     "output_type": "execute_result"
    }
   ],
   "source": [
    "df2 = transform(df,\n",
    "                [:Passengers, :Seats, :Flights] => ByRow(get_occupied) => :occupied,\n",
    "                [:Origin_city, :Destination_city] .=> ByRow(x -> last(x, 2)) .=> [:ost, :dst],\n",
    "                :Fly_date => ByRow(year) => :year)"
   ]
  },
  {
   "cell_type": "markdown",
   "metadata": {},
   "source": [
    "Note that in the computation we used `ByRow` wrapper that instructs DataFrames.jl to apply the function for each row of the passed data.\n",
    "\n",
    "Here is an alternative way to compute `:occupied` without using `ByRow`, but instead using standard broadcasting:"
   ]
  },
  {
   "cell_type": "code",
   "execution_count": 20,
   "metadata": {},
   "outputs": [
    {
     "data": {
      "text/plain": [
       "get_occupied2 (generic function with 1 method)"
      ]
     },
     "execution_count": 20,
     "metadata": {},
     "output_type": "execute_result"
    }
   ],
   "source": [
    "get_occupied2(passengers, seats, flights) =\n",
    "    @. ifelse((seats == 0) | (flights == 0), missing, passengers / (seats * flights))"
   ]
  },
  {
   "cell_type": "code",
   "execution_count": 21,
   "metadata": {
    "scrolled": true
   },
   "outputs": [
    {
     "data": {
      "text/html": [
       "<div class=\"data-frame\"><p>3,606,803 rows × 1 columns</p><table class=\"data-frame\"><thead><tr><th></th><th>occupied</th></tr><tr><th></th><th title=\"Union{Missing, Float64}\">Float64?</th></tr></thead><tbody><tr><th>1</th><td>0.7</td></tr><tr><th>2</th><td>0.00470615</td></tr><tr><th>3</th><td>0.0135426</td></tr><tr><th>4</th><td>0.0381944</td></tr><tr><th>5</th><td>0.0</td></tr><tr><th>6</th><td>0.611111</td></tr><tr><th>7</th><td>0.00694444</td></tr><tr><th>8</th><td>0.388889</td></tr><tr><th>9</th><td>0.0972222</td></tr><tr><th>10</th><td>0.444444</td></tr><tr><th>11</th><td>0.00629656</td></tr><tr><th>12</th><td>0.0144118</td></tr><tr><th>13</th><td>0.0113788</td></tr><tr><th>14</th><td>0.611111</td></tr><tr><th>15</th><td>0.0178307</td></tr><tr><th>16</th><td>0.00294913</td></tr><tr><th>17</th><td>0.0133333</td></tr><tr><th>18</th><td>0.00319609</td></tr><tr><th>19</th><td>0.0212754</td></tr><tr><th>20</th><td>0.00365201</td></tr><tr><th>&vellip;</th><td>&vellip;</td></tr></tbody></table></div>"
      ],
      "text/latex": [
       "\\begin{tabular}{r|c}\n",
       "\t& occupied\\\\\n",
       "\t\\hline\n",
       "\t& Float64?\\\\\n",
       "\t\\hline\n",
       "\t1 & 0.7 \\\\\n",
       "\t2 & 0.00470615 \\\\\n",
       "\t3 & 0.0135426 \\\\\n",
       "\t4 & 0.0381944 \\\\\n",
       "\t5 & 0.0 \\\\\n",
       "\t6 & 0.611111 \\\\\n",
       "\t7 & 0.00694444 \\\\\n",
       "\t8 & 0.388889 \\\\\n",
       "\t9 & 0.0972222 \\\\\n",
       "\t10 & 0.444444 \\\\\n",
       "\t11 & 0.00629656 \\\\\n",
       "\t12 & 0.0144118 \\\\\n",
       "\t13 & 0.0113788 \\\\\n",
       "\t14 & 0.611111 \\\\\n",
       "\t15 & 0.0178307 \\\\\n",
       "\t16 & 0.00294913 \\\\\n",
       "\t17 & 0.0133333 \\\\\n",
       "\t18 & 0.00319609 \\\\\n",
       "\t19 & 0.0212754 \\\\\n",
       "\t20 & 0.00365201 \\\\\n",
       "\t$\\dots$ & $\\dots$ \\\\\n",
       "\\end{tabular}\n"
      ],
      "text/plain": [
       "\u001b[1m3606803×1 DataFrame\u001b[0m\n",
       "\u001b[1m     Row \u001b[0m│\u001b[1m occupied         \u001b[0m\n",
       "\u001b[1m         \u001b[0m│\u001b[90m Float64?         \u001b[0m\n",
       "─────────┼──────────────────\n",
       "       1 │       0.7\n",
       "       2 │       0.00470615\n",
       "       3 │       0.0135426\n",
       "       4 │       0.0381944\n",
       "       5 │       0.0\n",
       "       6 │       0.611111\n",
       "    ⋮    │        ⋮\n",
       " 3606799 │       0.00568607\n",
       " 3606800 │       0.00442206\n",
       " 3606801 │       0.00425602\n",
       " 3606802 │       0.105263\n",
       " 3606803 │\u001b[90m missing          \u001b[0m\n",
       "\u001b[36m        3606792 rows omitted\u001b[0m"
      ]
     },
     "execution_count": 21,
     "metadata": {},
     "output_type": "execute_result"
    }
   ],
   "source": [
    "df2′ = select(df, [:Passengers, :Seats, :Flights] => get_occupied2 => :occupied)"
   ]
  },
  {
   "cell_type": "markdown",
   "metadata": {},
   "source": [
    "First we check if both methods produced the same result:"
   ]
  },
  {
   "cell_type": "code",
   "execution_count": 22,
   "metadata": {},
   "outputs": [
    {
     "data": {
      "text/plain": [
       "true"
      ]
     },
     "execution_count": 22,
     "metadata": {},
     "output_type": "execute_result"
    }
   ],
   "source": [
    "isequal(df2.occupied, df2′.occupied)"
   ]
  },
  {
   "cell_type": "markdown",
   "metadata": {},
   "source": [
    "The second thing we can do is compare the performance of both options:"
   ]
  },
  {
   "cell_type": "code",
   "execution_count": 23,
   "metadata": {},
   "outputs": [
    {
     "data": {
      "text/plain": [
       "BenchmarkTools.Trial: 299 samples with 1 evaluation.\n",
       " Range \u001b[90m(\u001b[39m\u001b[36m\u001b[1mmin\u001b[22m\u001b[39m … \u001b[35mmax\u001b[39m\u001b[90m):  \u001b[39m\u001b[36m\u001b[1m13.119 ms\u001b[22m\u001b[39m … \u001b[35m43.032 ms\u001b[39m  \u001b[90m┊\u001b[39m GC \u001b[90m(\u001b[39mmin … max\u001b[90m): \u001b[39m 0.00% … 63.85%\n",
       " Time  \u001b[90m(\u001b[39m\u001b[34m\u001b[1mmedian\u001b[22m\u001b[39m\u001b[90m):     \u001b[39m\u001b[34m\u001b[1m14.765 ms              \u001b[22m\u001b[39m\u001b[90m┊\u001b[39m GC \u001b[90m(\u001b[39mmedian\u001b[90m):    \u001b[39m 0.00%\n",
       " Time  \u001b[90m(\u001b[39m\u001b[32m\u001b[1mmean\u001b[22m\u001b[39m ± \u001b[32mσ\u001b[39m\u001b[90m):   \u001b[39m\u001b[32m\u001b[1m16.689 ms\u001b[22m\u001b[39m ± \u001b[32m 6.898 ms\u001b[39m  \u001b[90m┊\u001b[39m GC \u001b[90m(\u001b[39mmean ± σ\u001b[90m):  \u001b[39m13.67% ± 18.48%\n",
       "\n",
       "  \u001b[39m█\u001b[39m \u001b[39m \u001b[39m \u001b[34m▄\u001b[39m\u001b[39m \u001b[39m \u001b[39m \u001b[32m \u001b[39m\u001b[39m \u001b[39m \u001b[39m \u001b[39m \u001b[39m \u001b[39m \u001b[39m \u001b[39m \u001b[39m \u001b[39m \u001b[39m \u001b[39m \u001b[39m \u001b[39m \u001b[39m \u001b[39m \u001b[39m \u001b[39m \u001b[39m \u001b[39m \u001b[39m \u001b[39m \u001b[39m \u001b[39m \u001b[39m \u001b[39m \u001b[39m \u001b[39m \u001b[39m \u001b[39m \u001b[39m \u001b[39m \u001b[39m \u001b[39m \u001b[39m \u001b[39m \u001b[39m \u001b[39m \u001b[39m \u001b[39m \u001b[39m \u001b[39m \u001b[39m \u001b[39m \u001b[39m \u001b[39m \u001b[39m \u001b[39m \u001b[39m \u001b[39m \u001b[39m \u001b[39m \n",
       "  \u001b[39m█\u001b[39m█\u001b[39m▄\u001b[39m▄\u001b[34m█\u001b[39m\u001b[39m▆\u001b[39m▄\u001b[39m▃\u001b[32m▃\u001b[39m\u001b[39m▃\u001b[39m▂\u001b[39m▁\u001b[39m▁\u001b[39m▁\u001b[39m▁\u001b[39m▁\u001b[39m▁\u001b[39m▁\u001b[39m▁\u001b[39m▁\u001b[39m▁\u001b[39m▁\u001b[39m▁\u001b[39m▁\u001b[39m▁\u001b[39m▁\u001b[39m▁\u001b[39m▁\u001b[39m▁\u001b[39m▁\u001b[39m▁\u001b[39m▁\u001b[39m▁\u001b[39m▁\u001b[39m▁\u001b[39m▁\u001b[39m▁\u001b[39m▁\u001b[39m▁\u001b[39m▁\u001b[39m▁\u001b[39m▁\u001b[39m▁\u001b[39m▁\u001b[39m▂\u001b[39m▁\u001b[39m▁\u001b[39m▁\u001b[39m▁\u001b[39m▂\u001b[39m▁\u001b[39m▁\u001b[39m▁\u001b[39m▁\u001b[39m▃\u001b[39m▃\u001b[39m▁\u001b[39m▂\u001b[39m▃\u001b[39m \u001b[39m▂\n",
       "  13.1 ms\u001b[90m         Histogram: frequency by time\u001b[39m          38 ms \u001b[0m\u001b[1m<\u001b[22m\n",
       "\n",
       " Memory estimate\u001b[90m: \u001b[39m\u001b[33m58.48 MiB\u001b[39m, allocs estimate\u001b[90m: \u001b[39m\u001b[33m131\u001b[39m."
      ]
     },
     "execution_count": 23,
     "metadata": {},
     "output_type": "execute_result"
    }
   ],
   "source": [
    "@benchmark select($df, [:Passengers, :Seats, :Flights] => ByRow(get_occupied) => :occupied)"
   ]
  },
  {
   "cell_type": "code",
   "execution_count": 24,
   "metadata": {},
   "outputs": [
    {
     "data": {
      "text/plain": [
       "BenchmarkTools.Trial: 269 samples with 1 evaluation.\n",
       " Range \u001b[90m(\u001b[39m\u001b[36m\u001b[1mmin\u001b[22m\u001b[39m … \u001b[35mmax\u001b[39m\u001b[90m):  \u001b[39m\u001b[36m\u001b[1m15.075 ms\u001b[22m\u001b[39m … \u001b[35m45.717 ms\u001b[39m  \u001b[90m┊\u001b[39m GC \u001b[90m(\u001b[39mmin … max\u001b[90m): \u001b[39m 0.00% … 62.19%\n",
       " Time  \u001b[90m(\u001b[39m\u001b[34m\u001b[1mmedian\u001b[22m\u001b[39m\u001b[90m):     \u001b[39m\u001b[34m\u001b[1m16.775 ms              \u001b[22m\u001b[39m\u001b[90m┊\u001b[39m GC \u001b[90m(\u001b[39mmedian\u001b[90m):    \u001b[39m 0.00%\n",
       " Time  \u001b[90m(\u001b[39m\u001b[32m\u001b[1mmean\u001b[22m\u001b[39m ± \u001b[32mσ\u001b[39m\u001b[90m):   \u001b[39m\u001b[32m\u001b[1m18.594 ms\u001b[22m\u001b[39m ± \u001b[32m 6.994 ms\u001b[39m  \u001b[90m┊\u001b[39m GC \u001b[90m(\u001b[39mmean ± σ\u001b[90m):  \u001b[39m12.21% ± 17.36%\n",
       "\n",
       "  \u001b[39m█\u001b[39m▄\u001b[39m▂\u001b[39m▅\u001b[34m▇\u001b[39m\u001b[39m▂\u001b[39m \u001b[39m \u001b[32m \u001b[39m\u001b[39m \u001b[39m \u001b[39m \u001b[39m \u001b[39m \u001b[39m \u001b[39m \u001b[39m \u001b[39m \u001b[39m \u001b[39m \u001b[39m \u001b[39m \u001b[39m \u001b[39m \u001b[39m \u001b[39m \u001b[39m \u001b[39m \u001b[39m \u001b[39m \u001b[39m \u001b[39m \u001b[39m \u001b[39m \u001b[39m \u001b[39m \u001b[39m \u001b[39m \u001b[39m \u001b[39m \u001b[39m \u001b[39m \u001b[39m \u001b[39m \u001b[39m \u001b[39m \u001b[39m \u001b[39m \u001b[39m \u001b[39m \u001b[39m \u001b[39m \u001b[39m▁\u001b[39m \u001b[39m \u001b[39m \u001b[39m \u001b[39m \u001b[39m \u001b[39m \u001b[39m \n",
       "  \u001b[39m█\u001b[39m█\u001b[39m█\u001b[39m█\u001b[34m█\u001b[39m\u001b[39m█\u001b[39m▇\u001b[39m▇\u001b[32m▇\u001b[39m\u001b[39m▄\u001b[39m▁\u001b[39m▁\u001b[39m▁\u001b[39m▁\u001b[39m▁\u001b[39m▁\u001b[39m▁\u001b[39m▁\u001b[39m▁\u001b[39m▁\u001b[39m▁\u001b[39m▁\u001b[39m▁\u001b[39m▁\u001b[39m▁\u001b[39m▁\u001b[39m▁\u001b[39m▁\u001b[39m▁\u001b[39m▁\u001b[39m▁\u001b[39m▁\u001b[39m▁\u001b[39m▁\u001b[39m▁\u001b[39m▁\u001b[39m▁\u001b[39m▁\u001b[39m▁\u001b[39m▁\u001b[39m▁\u001b[39m▁\u001b[39m▄\u001b[39m▁\u001b[39m▁\u001b[39m▁\u001b[39m▄\u001b[39m▁\u001b[39m▁\u001b[39m▁\u001b[39m▁\u001b[39m▄\u001b[39m█\u001b[39m▇\u001b[39m▄\u001b[39m█\u001b[39m▆\u001b[39m▁\u001b[39m▄\u001b[39m \u001b[39m▅\n",
       "  15.1 ms\u001b[90m      \u001b[39m\u001b[90mHistogram: \u001b[39m\u001b[90m\u001b[1mlog(\u001b[22m\u001b[39m\u001b[90mfrequency\u001b[39m\u001b[90m\u001b[1m)\u001b[22m\u001b[39m\u001b[90m by time\u001b[39m      41.2 ms \u001b[0m\u001b[1m<\u001b[22m\n",
       "\n",
       " Memory estimate\u001b[90m: \u001b[39m\u001b[33m58.48 MiB\u001b[39m, allocs estimate\u001b[90m: \u001b[39m\u001b[33m129\u001b[39m."
      ]
     },
     "execution_count": 24,
     "metadata": {},
     "output_type": "execute_result"
    }
   ],
   "source": [
    "@benchmark select($df, [:Passengers, :Seats, :Flights] => get_occupied2 => :occupied)"
   ]
  },
  {
   "cell_type": "markdown",
   "metadata": {},
   "source": [
    "As you can see DataFrames.jl does a decent job in this case - the option with `ByRow` is a tad faster than the broadcasting approach."
   ]
  },
  {
   "cell_type": "markdown",
   "metadata": {},
   "source": [
    "A crucial value of piping with `@chain` is that it composes also with functions outside of DataFrames.jl package.\n",
    "\n",
    "Here is a simple example in which we will plot the total number of passengers that flew by year:"
   ]
  },
  {
   "cell_type": "code",
   "execution_count": 25,
   "metadata": {
    "scrolled": false
   },
   "outputs": [
    {
     "data": {
      "image/svg+xml": [
       "<?xml version=\"1.0\" encoding=\"utf-8\"?>\n",
       "<svg xmlns=\"http://www.w3.org/2000/svg\" xmlns:xlink=\"http://www.w3.org/1999/xlink\" width=\"600\" height=\"400\" viewBox=\"0 0 2400 1600\">\n",
       "<defs>\n",
       "  <clipPath id=\"clip300\">\n",
       "    <rect x=\"0\" y=\"0\" width=\"2400\" height=\"1600\"/>\n",
       "  </clipPath>\n",
       "</defs>\n",
       "<path clip-path=\"url(#clip300)\" d=\"\n",
       "M0 1600 L2400 1600 L2400 0 L0 0  Z\n",
       "  \" fill=\"#ffffff\" fill-rule=\"evenodd\" fill-opacity=\"1\"/>\n",
       "<defs>\n",
       "  <clipPath id=\"clip301\">\n",
       "    <rect x=\"480\" y=\"0\" width=\"1681\" height=\"1600\"/>\n",
       "  </clipPath>\n",
       "</defs>\n",
       "<path clip-path=\"url(#clip300)\" d=\"\n",
       "M235.283 1423.18 L2352.76 1423.18 L2352.76 47.2441 L235.283 47.2441  Z\n",
       "  \" fill=\"#ffffff\" fill-rule=\"evenodd\" fill-opacity=\"1\"/>\n",
       "<defs>\n",
       "  <clipPath id=\"clip302\">\n",
       "    <rect x=\"235\" y=\"47\" width=\"2118\" height=\"1377\"/>\n",
       "  </clipPath>\n",
       "</defs>\n",
       "<polyline clip-path=\"url(#clip302)\" style=\"stroke:#000000; stroke-linecap:butt; stroke-linejoin:round; stroke-width:2; stroke-opacity:0.1; fill:none\" points=\"\n",
       "  295.211,1423.18 295.211,47.2441 \n",
       "  \"/>\n",
       "<polyline clip-path=\"url(#clip302)\" style=\"stroke:#000000; stroke-linecap:butt; stroke-linejoin:round; stroke-width:2; stroke-opacity:0.1; fill:none\" points=\"\n",
       "  820.9,1423.18 820.9,47.2441 \n",
       "  \"/>\n",
       "<polyline clip-path=\"url(#clip302)\" style=\"stroke:#000000; stroke-linecap:butt; stroke-linejoin:round; stroke-width:2; stroke-opacity:0.1; fill:none\" points=\"\n",
       "  1346.59,1423.18 1346.59,47.2441 \n",
       "  \"/>\n",
       "<polyline clip-path=\"url(#clip302)\" style=\"stroke:#000000; stroke-linecap:butt; stroke-linejoin:round; stroke-width:2; stroke-opacity:0.1; fill:none\" points=\"\n",
       "  1872.28,1423.18 1872.28,47.2441 \n",
       "  \"/>\n",
       "<polyline clip-path=\"url(#clip300)\" style=\"stroke:#000000; stroke-linecap:butt; stroke-linejoin:round; stroke-width:4; stroke-opacity:1; fill:none\" points=\"\n",
       "  235.283,1423.18 2352.76,1423.18 \n",
       "  \"/>\n",
       "<polyline clip-path=\"url(#clip300)\" style=\"stroke:#000000; stroke-linecap:butt; stroke-linejoin:round; stroke-width:4; stroke-opacity:1; fill:none\" points=\"\n",
       "  295.211,1423.18 295.211,1404.28 \n",
       "  \"/>\n",
       "<polyline clip-path=\"url(#clip300)\" style=\"stroke:#000000; stroke-linecap:butt; stroke-linejoin:round; stroke-width:4; stroke-opacity:1; fill:none\" points=\"\n",
       "  820.9,1423.18 820.9,1404.28 \n",
       "  \"/>\n",
       "<polyline clip-path=\"url(#clip300)\" style=\"stroke:#000000; stroke-linecap:butt; stroke-linejoin:round; stroke-width:4; stroke-opacity:1; fill:none\" points=\"\n",
       "  1346.59,1423.18 1346.59,1404.28 \n",
       "  \"/>\n",
       "<polyline clip-path=\"url(#clip300)\" style=\"stroke:#000000; stroke-linecap:butt; stroke-linejoin:round; stroke-width:4; stroke-opacity:1; fill:none\" points=\"\n",
       "  1872.28,1423.18 1872.28,1404.28 \n",
       "  \"/>\n",
       "<path clip-path=\"url(#clip300)\" d=\"M239.737 1481.64 L247.376 1481.64 L247.376 1455.28 L239.066 1456.95 L239.066 1452.69 L247.33 1451.02 L252.006 1451.02 L252.006 1481.64 L259.644 1481.64 L259.644 1485.58 L239.737 1485.58 L239.737 1481.64 Z\" fill=\"#000000\" fill-rule=\"evenodd\" fill-opacity=\"1\" /><path clip-path=\"url(#clip300)\" d=\"M269.228 1484.86 L269.228 1480.6 Q270.987 1481.44 272.792 1481.88 Q274.598 1482.32 276.334 1482.32 Q280.964 1482.32 283.394 1479.21 Q285.848 1476.09 286.195 1469.75 Q284.853 1471.74 282.792 1472.8 Q280.732 1473.87 278.232 1473.87 Q273.047 1473.87 270.015 1470.74 Q267.005 1467.59 267.005 1462.15 Q267.005 1456.83 270.154 1453.61 Q273.302 1450.39 278.533 1450.39 Q284.529 1450.39 287.677 1455 Q290.848 1459.58 290.848 1468.33 Q290.848 1476.51 286.959 1481.39 Q283.093 1486.25 276.542 1486.25 Q274.783 1486.25 272.978 1485.9 Q271.172 1485.56 269.228 1484.86 M278.533 1470.21 Q281.681 1470.21 283.51 1468.06 Q285.362 1465.9 285.362 1462.15 Q285.362 1458.43 283.51 1456.27 Q281.681 1454.1 278.533 1454.1 Q275.385 1454.1 273.533 1456.27 Q271.705 1458.43 271.705 1462.15 Q271.705 1465.9 273.533 1468.06 Q275.385 1470.21 278.533 1470.21 Z\" fill=\"#000000\" fill-rule=\"evenodd\" fill-opacity=\"1\" /><path clip-path=\"url(#clip300)\" d=\"M299.39 1484.86 L299.39 1480.6 Q301.149 1481.44 302.954 1481.88 Q304.76 1482.32 306.496 1482.32 Q311.126 1482.32 313.556 1479.21 Q316.01 1476.09 316.357 1469.75 Q315.014 1471.74 312.954 1472.8 Q310.894 1473.87 308.394 1473.87 Q303.209 1473.87 300.177 1470.74 Q297.167 1467.59 297.167 1462.15 Q297.167 1456.83 300.315 1453.61 Q303.464 1450.39 308.695 1450.39 Q314.69 1450.39 317.839 1455 Q321.01 1459.58 321.01 1468.33 Q321.01 1476.51 317.121 1481.39 Q313.255 1486.25 306.704 1486.25 Q304.945 1486.25 303.14 1485.9 Q301.334 1485.56 299.39 1484.86 M308.695 1470.21 Q311.843 1470.21 313.672 1468.06 Q315.524 1465.9 315.524 1462.15 Q315.524 1458.43 313.672 1456.27 Q311.843 1454.1 308.695 1454.1 Q305.547 1454.1 303.695 1456.27 Q301.866 1458.43 301.866 1462.15 Q301.866 1465.9 303.695 1468.06 Q305.547 1470.21 308.695 1470.21 Z\" fill=\"#000000\" fill-rule=\"evenodd\" fill-opacity=\"1\" /><path clip-path=\"url(#clip300)\" d=\"M339.412 1454.1 Q335.801 1454.1 333.973 1457.66 Q332.167 1461.2 332.167 1468.33 Q332.167 1475.44 333.973 1479.01 Q335.801 1482.55 339.412 1482.55 Q343.047 1482.55 344.852 1479.01 Q346.681 1475.44 346.681 1468.33 Q346.681 1461.2 344.852 1457.66 Q343.047 1454.1 339.412 1454.1 M339.412 1450.39 Q345.223 1450.39 348.278 1455 Q351.357 1459.58 351.357 1468.33 Q351.357 1477.06 348.278 1481.67 Q345.223 1486.25 339.412 1486.25 Q333.602 1486.25 330.524 1481.67 Q327.468 1477.06 327.468 1468.33 Q327.468 1459.58 330.524 1455 Q333.602 1450.39 339.412 1450.39 Z\" fill=\"#000000\" fill-rule=\"evenodd\" fill-opacity=\"1\" /><path clip-path=\"url(#clip300)\" d=\"M765.923 1481.64 L773.562 1481.64 L773.562 1455.28 L765.252 1456.95 L765.252 1452.69 L773.516 1451.02 L778.192 1451.02 L778.192 1481.64 L785.831 1481.64 L785.831 1485.58 L765.923 1485.58 L765.923 1481.64 Z\" fill=\"#000000\" fill-rule=\"evenodd\" fill-opacity=\"1\" /><path clip-path=\"url(#clip300)\" d=\"M795.414 1484.86 L795.414 1480.6 Q797.173 1481.44 798.979 1481.88 Q800.784 1482.32 802.52 1482.32 Q807.15 1482.32 809.58 1479.21 Q812.034 1476.09 812.381 1469.75 Q811.039 1471.74 808.979 1472.8 Q806.918 1473.87 804.418 1473.87 Q799.233 1473.87 796.201 1470.74 Q793.192 1467.59 793.192 1462.15 Q793.192 1456.83 796.34 1453.61 Q799.488 1450.39 804.719 1450.39 Q810.715 1450.39 813.863 1455 Q817.034 1459.58 817.034 1468.33 Q817.034 1476.51 813.145 1481.39 Q809.279 1486.25 802.729 1486.25 Q800.969 1486.25 799.164 1485.9 Q797.358 1485.56 795.414 1484.86 M804.719 1470.21 Q807.867 1470.21 809.696 1468.06 Q811.548 1465.9 811.548 1462.15 Q811.548 1458.43 809.696 1456.27 Q807.867 1454.1 804.719 1454.1 Q801.571 1454.1 799.719 1456.27 Q797.891 1458.43 797.891 1462.15 Q797.891 1465.9 799.719 1468.06 Q801.571 1470.21 804.719 1470.21 Z\" fill=\"#000000\" fill-rule=\"evenodd\" fill-opacity=\"1\" /><path clip-path=\"url(#clip300)\" d=\"M825.576 1484.86 L825.576 1480.6 Q827.335 1481.44 829.14 1481.88 Q830.946 1482.32 832.682 1482.32 Q837.312 1482.32 839.742 1479.21 Q842.196 1476.09 842.543 1469.75 Q841.201 1471.74 839.14 1472.8 Q837.08 1473.87 834.58 1473.87 Q829.395 1473.87 826.363 1470.74 Q823.353 1467.59 823.353 1462.15 Q823.353 1456.83 826.502 1453.61 Q829.65 1450.39 834.881 1450.39 Q840.877 1450.39 844.025 1455 Q847.196 1459.58 847.196 1468.33 Q847.196 1476.51 843.307 1481.39 Q839.441 1486.25 832.89 1486.25 Q831.131 1486.25 829.326 1485.9 Q827.52 1485.56 825.576 1484.86 M834.881 1470.21 Q838.029 1470.21 839.858 1468.06 Q841.71 1465.9 841.71 1462.15 Q841.71 1458.43 839.858 1456.27 Q838.029 1454.1 834.881 1454.1 Q831.733 1454.1 829.881 1456.27 Q828.053 1458.43 828.053 1462.15 Q828.053 1465.9 829.881 1468.06 Q831.733 1470.21 834.881 1470.21 Z\" fill=\"#000000\" fill-rule=\"evenodd\" fill-opacity=\"1\" /><path clip-path=\"url(#clip300)\" d=\"M855.645 1451.02 L874.001 1451.02 L874.001 1454.96 L859.927 1454.96 L859.927 1463.43 Q860.946 1463.08 861.964 1462.92 Q862.983 1462.73 864.001 1462.73 Q869.788 1462.73 873.168 1465.9 Q876.548 1469.08 876.548 1474.49 Q876.548 1480.07 873.075 1483.17 Q869.603 1486.25 863.284 1486.25 Q861.108 1486.25 858.839 1485.88 Q856.594 1485.51 854.187 1484.77 L854.187 1480.07 Q856.27 1481.2 858.492 1481.76 Q860.714 1482.32 863.191 1482.32 Q867.196 1482.32 869.534 1480.21 Q871.872 1478.1 871.872 1474.49 Q871.872 1470.88 869.534 1468.77 Q867.196 1466.67 863.191 1466.67 Q861.316 1466.67 859.441 1467.08 Q857.589 1467.5 855.645 1468.38 L855.645 1451.02 Z\" fill=\"#000000\" fill-rule=\"evenodd\" fill-opacity=\"1\" /><path clip-path=\"url(#clip300)\" d=\"M1295.2 1481.64 L1311.52 1481.64 L1311.52 1485.58 L1289.57 1485.58 L1289.57 1481.64 Q1292.24 1478.89 1296.82 1474.26 Q1301.43 1469.61 1302.61 1468.27 Q1304.85 1465.74 1305.73 1464.01 Q1306.63 1462.25 1306.63 1460.56 Q1306.63 1457.8 1304.69 1456.07 Q1302.77 1454.33 1299.67 1454.33 Q1297.47 1454.33 1295.01 1455.09 Q1292.58 1455.86 1289.81 1457.41 L1289.81 1452.69 Q1292.63 1451.55 1295.08 1450.97 Q1297.54 1450.39 1299.57 1450.39 Q1304.94 1450.39 1308.14 1453.08 Q1311.33 1455.77 1311.33 1460.26 Q1311.33 1462.39 1310.52 1464.31 Q1309.74 1466.2 1307.63 1468.8 Q1307.05 1469.47 1303.95 1472.69 Q1300.85 1475.88 1295.2 1481.64 Z\" fill=\"#000000\" fill-rule=\"evenodd\" fill-opacity=\"1\" /><path clip-path=\"url(#clip300)\" d=\"M1331.33 1454.1 Q1327.72 1454.1 1325.89 1457.66 Q1324.09 1461.2 1324.09 1468.33 Q1324.09 1475.44 1325.89 1479.01 Q1327.72 1482.55 1331.33 1482.55 Q1334.97 1482.55 1336.77 1479.01 Q1338.6 1475.44 1338.6 1468.33 Q1338.6 1461.2 1336.77 1457.66 Q1334.97 1454.1 1331.33 1454.1 M1331.33 1450.39 Q1337.14 1450.39 1340.2 1455 Q1343.28 1459.58 1343.28 1468.33 Q1343.28 1477.06 1340.2 1481.67 Q1337.14 1486.25 1331.33 1486.25 Q1325.52 1486.25 1322.44 1481.67 Q1319.39 1477.06 1319.39 1468.33 Q1319.39 1459.58 1322.44 1455 Q1325.52 1450.39 1331.33 1450.39 Z\" fill=\"#000000\" fill-rule=\"evenodd\" fill-opacity=\"1\" /><path clip-path=\"url(#clip300)\" d=\"M1361.5 1454.1 Q1357.88 1454.1 1356.06 1457.66 Q1354.25 1461.2 1354.25 1468.33 Q1354.25 1475.44 1356.06 1479.01 Q1357.88 1482.55 1361.5 1482.55 Q1365.13 1482.55 1366.94 1479.01 Q1368.76 1475.44 1368.76 1468.33 Q1368.76 1461.2 1366.94 1457.66 Q1365.13 1454.1 1361.5 1454.1 M1361.5 1450.39 Q1367.31 1450.39 1370.36 1455 Q1373.44 1459.58 1373.44 1468.33 Q1373.44 1477.06 1370.36 1481.67 Q1367.31 1486.25 1361.5 1486.25 Q1355.69 1486.25 1352.61 1481.67 Q1349.55 1477.06 1349.55 1468.33 Q1349.55 1459.58 1352.61 1455 Q1355.69 1450.39 1361.5 1450.39 Z\" fill=\"#000000\" fill-rule=\"evenodd\" fill-opacity=\"1\" /><path clip-path=\"url(#clip300)\" d=\"M1391.66 1454.1 Q1388.05 1454.1 1386.22 1457.66 Q1384.41 1461.2 1384.41 1468.33 Q1384.41 1475.44 1386.22 1479.01 Q1388.05 1482.55 1391.66 1482.55 Q1395.29 1482.55 1397.1 1479.01 Q1398.93 1475.44 1398.93 1468.33 Q1398.93 1461.2 1397.1 1457.66 Q1395.29 1454.1 1391.66 1454.1 M1391.66 1450.39 Q1397.47 1450.39 1400.52 1455 Q1403.6 1459.58 1403.6 1468.33 Q1403.6 1477.06 1400.52 1481.67 Q1397.47 1486.25 1391.66 1486.25 Q1385.85 1486.25 1382.77 1481.67 Q1379.71 1477.06 1379.71 1468.33 Q1379.71 1459.58 1382.77 1455 Q1385.85 1450.39 1391.66 1450.39 Z\" fill=\"#000000\" fill-rule=\"evenodd\" fill-opacity=\"1\" /><path clip-path=\"url(#clip300)\" d=\"M1821.39 1481.64 L1837.71 1481.64 L1837.71 1485.58 L1815.76 1485.58 L1815.76 1481.64 Q1818.42 1478.89 1823.01 1474.26 Q1827.61 1469.61 1828.79 1468.27 Q1831.04 1465.74 1831.92 1464.01 Q1832.82 1462.25 1832.82 1460.56 Q1832.82 1457.8 1830.88 1456.07 Q1828.96 1454.33 1825.85 1454.33 Q1823.65 1454.33 1821.2 1455.09 Q1818.77 1455.86 1815.99 1457.41 L1815.99 1452.69 Q1818.82 1451.55 1821.27 1450.97 Q1823.72 1450.39 1825.76 1450.39 Q1831.13 1450.39 1834.33 1453.08 Q1837.52 1455.77 1837.52 1460.26 Q1837.52 1462.39 1836.71 1464.31 Q1835.92 1466.2 1833.82 1468.8 Q1833.24 1469.47 1830.14 1472.69 Q1827.03 1475.88 1821.39 1481.64 Z\" fill=\"#000000\" fill-rule=\"evenodd\" fill-opacity=\"1\" /><path clip-path=\"url(#clip300)\" d=\"M1857.52 1454.1 Q1853.91 1454.1 1852.08 1457.66 Q1850.27 1461.2 1850.27 1468.33 Q1850.27 1475.44 1852.08 1479.01 Q1853.91 1482.55 1857.52 1482.55 Q1861.15 1482.55 1862.96 1479.01 Q1864.79 1475.44 1864.79 1468.33 Q1864.79 1461.2 1862.96 1457.66 Q1861.15 1454.1 1857.52 1454.1 M1857.52 1450.39 Q1863.33 1450.39 1866.39 1455 Q1869.46 1459.58 1869.46 1468.33 Q1869.46 1477.06 1866.39 1481.67 Q1863.33 1486.25 1857.52 1486.25 Q1851.71 1486.25 1848.63 1481.67 Q1845.58 1477.06 1845.58 1468.33 Q1845.58 1459.58 1848.63 1455 Q1851.71 1450.39 1857.52 1450.39 Z\" fill=\"#000000\" fill-rule=\"evenodd\" fill-opacity=\"1\" /><path clip-path=\"url(#clip300)\" d=\"M1887.68 1454.1 Q1884.07 1454.1 1882.24 1457.66 Q1880.44 1461.2 1880.44 1468.33 Q1880.44 1475.44 1882.24 1479.01 Q1884.07 1482.55 1887.68 1482.55 Q1891.32 1482.55 1893.12 1479.01 Q1894.95 1475.44 1894.95 1468.33 Q1894.95 1461.2 1893.12 1457.66 Q1891.32 1454.1 1887.68 1454.1 M1887.68 1450.39 Q1893.49 1450.39 1896.55 1455 Q1899.63 1459.58 1899.63 1468.33 Q1899.63 1477.06 1896.55 1481.67 Q1893.49 1486.25 1887.68 1486.25 Q1881.87 1486.25 1878.79 1481.67 Q1875.74 1477.06 1875.74 1468.33 Q1875.74 1459.58 1878.79 1455 Q1881.87 1450.39 1887.68 1450.39 Z\" fill=\"#000000\" fill-rule=\"evenodd\" fill-opacity=\"1\" /><path clip-path=\"url(#clip300)\" d=\"M1907.89 1451.02 L1926.25 1451.02 L1926.25 1454.96 L1912.17 1454.96 L1912.17 1463.43 Q1913.19 1463.08 1914.21 1462.92 Q1915.23 1462.73 1916.25 1462.73 Q1922.03 1462.73 1925.41 1465.9 Q1928.79 1469.08 1928.79 1474.49 Q1928.79 1480.07 1925.32 1483.17 Q1921.85 1486.25 1915.53 1486.25 Q1913.35 1486.25 1911.08 1485.88 Q1908.84 1485.51 1906.43 1484.77 L1906.43 1480.07 Q1908.51 1481.2 1910.74 1481.76 Q1912.96 1482.32 1915.44 1482.32 Q1919.44 1482.32 1921.78 1480.21 Q1924.12 1478.1 1924.12 1474.49 Q1924.12 1470.88 1921.78 1468.77 Q1919.44 1466.67 1915.44 1466.67 Q1913.56 1466.67 1911.69 1467.08 Q1909.83 1467.5 1907.89 1468.38 L1907.89 1451.02 Z\" fill=\"#000000\" fill-rule=\"evenodd\" fill-opacity=\"1\" /><path clip-path=\"url(#clip300)\" d=\"M1241.31 1571.35 Q1238.83 1577.72 1236.47 1579.66 Q1234.12 1581.6 1230.17 1581.6 L1225.49 1581.6 L1225.49 1576.7 L1228.93 1576.7 Q1231.35 1576.7 1232.69 1575.56 Q1234.02 1574.41 1235.65 1570.14 L1236.7 1567.47 L1222.28 1532.4 L1228.48 1532.4 L1239.62 1560.28 L1250.76 1532.4 L1256.97 1532.4 L1241.31 1571.35 Z\" fill=\"#000000\" fill-rule=\"evenodd\" fill-opacity=\"1\" /><path clip-path=\"url(#clip300)\" d=\"M1295.55 1548.76 L1295.55 1551.62 L1268.62 1551.62 Q1269 1557.67 1272.25 1560.85 Q1275.53 1564 1281.35 1564 Q1284.73 1564 1287.88 1563.17 Q1291.06 1562.35 1294.18 1560.69 L1294.18 1566.23 Q1291.03 1567.57 1287.72 1568.27 Q1284.41 1568.97 1281 1568.97 Q1272.47 1568.97 1267.47 1564 Q1262.51 1559.04 1262.51 1550.57 Q1262.51 1541.82 1267.22 1536.69 Q1271.96 1531.54 1279.98 1531.54 Q1287.18 1531.54 1291.35 1536.18 Q1295.55 1540.8 1295.55 1548.76 M1289.69 1547.04 Q1289.63 1542.23 1286.99 1539.37 Q1284.38 1536.5 1280.05 1536.5 Q1275.15 1536.5 1272.19 1539.27 Q1269.26 1542.04 1268.81 1547.07 L1289.69 1547.04 Z\" fill=\"#000000\" fill-rule=\"evenodd\" fill-opacity=\"1\" /><path clip-path=\"url(#clip300)\" d=\"M1321.36 1550.12 Q1314.26 1550.12 1311.53 1551.75 Q1308.79 1553.37 1308.79 1557.29 Q1308.79 1560.4 1310.82 1562.25 Q1312.89 1564.07 1316.43 1564.07 Q1321.3 1564.07 1324.22 1560.63 Q1327.18 1557.16 1327.18 1551.43 L1327.18 1550.12 L1321.36 1550.12 M1333.04 1547.71 L1333.04 1568.04 L1327.18 1568.04 L1327.18 1562.63 Q1325.18 1565.88 1322.19 1567.44 Q1319.2 1568.97 1314.87 1568.97 Q1309.39 1568.97 1306.15 1565.91 Q1302.93 1562.82 1302.93 1557.67 Q1302.93 1551.65 1306.94 1548.6 Q1310.98 1545.54 1318.97 1545.54 L1327.18 1545.54 L1327.18 1544.97 Q1327.18 1540.93 1324.51 1538.73 Q1321.87 1536.5 1317.06 1536.5 Q1314.01 1536.5 1311.11 1537.23 Q1308.21 1537.97 1305.54 1539.43 L1305.54 1534.02 Q1308.76 1532.78 1311.78 1532.17 Q1314.8 1531.54 1317.67 1531.54 Q1325.4 1531.54 1329.22 1535.55 Q1333.04 1539.56 1333.04 1547.71 Z\" fill=\"#000000\" fill-rule=\"evenodd\" fill-opacity=\"1\" /><path clip-path=\"url(#clip300)\" d=\"M1365.76 1537.87 Q1364.77 1537.3 1363.6 1537.04 Q1362.45 1536.76 1361.05 1536.76 Q1356.09 1536.76 1353.41 1540 Q1350.77 1543.22 1350.77 1549.27 L1350.77 1568.04 L1344.88 1568.04 L1344.88 1532.4 L1350.77 1532.4 L1350.77 1537.93 Q1352.62 1534.69 1355.58 1533.13 Q1358.54 1531.54 1362.77 1531.54 Q1363.37 1531.54 1364.11 1531.63 Q1364.84 1531.7 1365.73 1531.85 L1365.76 1537.87 Z\" fill=\"#000000\" fill-rule=\"evenodd\" fill-opacity=\"1\" /><polyline clip-path=\"url(#clip302)\" style=\"stroke:#000000; stroke-linecap:butt; stroke-linejoin:round; stroke-width:2; stroke-opacity:0.1; fill:none\" points=\"\n",
       "  235.283,1180.83 2352.76,1180.83 \n",
       "  \"/>\n",
       "<polyline clip-path=\"url(#clip302)\" style=\"stroke:#000000; stroke-linecap:butt; stroke-linejoin:round; stroke-width:2; stroke-opacity:0.1; fill:none\" points=\"\n",
       "  235.283,875.502 2352.76,875.502 \n",
       "  \"/>\n",
       "<polyline clip-path=\"url(#clip302)\" style=\"stroke:#000000; stroke-linecap:butt; stroke-linejoin:round; stroke-width:2; stroke-opacity:0.1; fill:none\" points=\"\n",
       "  235.283,570.175 2352.76,570.175 \n",
       "  \"/>\n",
       "<polyline clip-path=\"url(#clip302)\" style=\"stroke:#000000; stroke-linecap:butt; stroke-linejoin:round; stroke-width:2; stroke-opacity:0.1; fill:none\" points=\"\n",
       "  235.283,264.848 2352.76,264.848 \n",
       "  \"/>\n",
       "<polyline clip-path=\"url(#clip300)\" style=\"stroke:#000000; stroke-linecap:butt; stroke-linejoin:round; stroke-width:4; stroke-opacity:1; fill:none\" points=\"\n",
       "  235.283,1423.18 235.283,47.2441 \n",
       "  \"/>\n",
       "<polyline clip-path=\"url(#clip300)\" style=\"stroke:#000000; stroke-linecap:butt; stroke-linejoin:round; stroke-width:4; stroke-opacity:1; fill:none\" points=\"\n",
       "  235.283,1180.83 254.18,1180.83 \n",
       "  \"/>\n",
       "<polyline clip-path=\"url(#clip300)\" style=\"stroke:#000000; stroke-linecap:butt; stroke-linejoin:round; stroke-width:4; stroke-opacity:1; fill:none\" points=\"\n",
       "  235.283,875.502 254.18,875.502 \n",
       "  \"/>\n",
       "<polyline clip-path=\"url(#clip300)\" style=\"stroke:#000000; stroke-linecap:butt; stroke-linejoin:round; stroke-width:4; stroke-opacity:1; fill:none\" points=\"\n",
       "  235.283,570.175 254.18,570.175 \n",
       "  \"/>\n",
       "<polyline clip-path=\"url(#clip300)\" style=\"stroke:#000000; stroke-linecap:butt; stroke-linejoin:round; stroke-width:4; stroke-opacity:1; fill:none\" points=\"\n",
       "  235.283,264.848 254.18,264.848 \n",
       "  \"/>\n",
       "<path clip-path=\"url(#clip300)\" d=\"M129.862 1167.62 L118.056 1186.07 L129.862 1186.07 L129.862 1167.62 M128.635 1163.55 L134.515 1163.55 L134.515 1186.07 L139.445 1186.07 L139.445 1189.96 L134.515 1189.96 L134.515 1198.11 L129.862 1198.11 L129.862 1189.96 L114.26 1189.96 L114.26 1185.45 L128.635 1163.55 Z\" fill=\"#000000\" fill-rule=\"evenodd\" fill-opacity=\"1\" /><path clip-path=\"url(#clip300)\" d=\"M157.177 1166.63 Q153.566 1166.63 151.737 1170.19 Q149.931 1173.73 149.931 1180.86 Q149.931 1187.97 151.737 1191.53 Q153.566 1195.08 157.177 1195.08 Q160.811 1195.08 162.616 1191.53 Q164.445 1187.97 164.445 1180.86 Q164.445 1173.73 162.616 1170.19 Q160.811 1166.63 157.177 1166.63 M157.177 1162.92 Q162.987 1162.92 166.042 1167.53 Q169.121 1172.11 169.121 1180.86 Q169.121 1189.59 166.042 1194.2 Q162.987 1198.78 157.177 1198.78 Q151.366 1198.78 148.288 1194.2 Q145.232 1189.59 145.232 1180.86 Q145.232 1172.11 148.288 1167.53 Q151.366 1162.92 157.177 1162.92 Z\" fill=\"#000000\" fill-rule=\"evenodd\" fill-opacity=\"1\" /><path clip-path=\"url(#clip300)\" d=\"M187.338 1166.63 Q183.727 1166.63 181.899 1170.19 Q180.093 1173.73 180.093 1180.86 Q180.093 1187.97 181.899 1191.53 Q183.727 1195.08 187.338 1195.08 Q190.973 1195.08 192.778 1191.53 Q194.607 1187.97 194.607 1180.86 Q194.607 1173.73 192.778 1170.19 Q190.973 1166.63 187.338 1166.63 M187.338 1162.92 Q193.149 1162.92 196.204 1167.53 Q199.283 1172.11 199.283 1180.86 Q199.283 1189.59 196.204 1194.2 Q193.149 1198.78 187.338 1198.78 Q181.528 1198.78 178.45 1194.2 Q175.394 1189.59 175.394 1180.86 Q175.394 1172.11 178.45 1167.53 Q181.528 1162.92 187.338 1162.92 Z\" fill=\"#000000\" fill-rule=\"evenodd\" fill-opacity=\"1\" /><path clip-path=\"url(#clip300)\" d=\"M129.862 862.296 L118.056 880.745 L129.862 880.745 L129.862 862.296 M128.635 858.222 L134.515 858.222 L134.515 880.745 L139.445 880.745 L139.445 884.634 L134.515 884.634 L134.515 892.782 L129.862 892.782 L129.862 884.634 L114.26 884.634 L114.26 880.12 L128.635 858.222 Z\" fill=\"#000000\" fill-rule=\"evenodd\" fill-opacity=\"1\" /><path clip-path=\"url(#clip300)\" d=\"M147.223 858.222 L165.579 858.222 L165.579 862.157 L151.505 862.157 L151.505 870.629 Q152.524 870.282 153.542 870.12 Q154.561 869.935 155.579 869.935 Q161.366 869.935 164.746 873.106 Q168.126 876.277 168.126 881.694 Q168.126 887.273 164.653 890.375 Q161.181 893.453 154.862 893.453 Q152.686 893.453 150.417 893.083 Q148.172 892.712 145.765 891.972 L145.765 887.273 Q147.848 888.407 150.07 888.962 Q152.292 889.518 154.769 889.518 Q158.774 889.518 161.112 887.412 Q163.45 885.305 163.45 881.694 Q163.45 878.083 161.112 875.976 Q158.774 873.87 154.769 873.87 Q152.894 873.87 151.019 874.287 Q149.167 874.703 147.223 875.583 L147.223 858.222 Z\" fill=\"#000000\" fill-rule=\"evenodd\" fill-opacity=\"1\" /><path clip-path=\"url(#clip300)\" d=\"M187.338 861.301 Q183.727 861.301 181.899 864.865 Q180.093 868.407 180.093 875.537 Q180.093 882.643 181.899 886.208 Q183.727 889.75 187.338 889.75 Q190.973 889.75 192.778 886.208 Q194.607 882.643 194.607 875.537 Q194.607 868.407 192.778 864.865 Q190.973 861.301 187.338 861.301 M187.338 857.597 Q193.149 857.597 196.204 862.203 Q199.283 866.787 199.283 875.537 Q199.283 884.263 196.204 888.87 Q193.149 893.453 187.338 893.453 Q181.528 893.453 178.45 888.87 Q175.394 884.263 175.394 875.537 Q175.394 866.787 178.45 862.203 Q181.528 857.597 187.338 857.597 Z\" fill=\"#000000\" fill-rule=\"evenodd\" fill-opacity=\"1\" /><path clip-path=\"url(#clip300)\" d=\"M117.061 552.895 L135.417 552.895 L135.417 556.83 L121.343 556.83 L121.343 565.302 Q122.362 564.955 123.38 564.793 Q124.399 564.608 125.418 564.608 Q131.205 564.608 134.584 567.779 Q137.964 570.95 137.964 576.367 Q137.964 581.946 134.492 585.047 Q131.019 588.126 124.7 588.126 Q122.524 588.126 120.255 587.756 Q118.01 587.385 115.603 586.645 L115.603 581.946 Q117.686 583.08 119.908 583.635 Q122.13 584.191 124.607 584.191 Q128.612 584.191 130.95 582.084 Q133.288 579.978 133.288 576.367 Q133.288 572.756 130.95 570.649 Q128.612 568.543 124.607 568.543 Q122.732 568.543 120.857 568.96 Q119.006 569.376 117.061 570.256 L117.061 552.895 Z\" fill=\"#000000\" fill-rule=\"evenodd\" fill-opacity=\"1\" /><path clip-path=\"url(#clip300)\" d=\"M157.177 555.974 Q153.566 555.974 151.737 559.538 Q149.931 563.08 149.931 570.21 Q149.931 577.316 151.737 580.881 Q153.566 584.422 157.177 584.422 Q160.811 584.422 162.616 580.881 Q164.445 577.316 164.445 570.21 Q164.445 563.08 162.616 559.538 Q160.811 555.974 157.177 555.974 M157.177 552.27 Q162.987 552.27 166.042 556.876 Q169.121 561.46 169.121 570.21 Q169.121 578.936 166.042 583.543 Q162.987 588.126 157.177 588.126 Q151.366 588.126 148.288 583.543 Q145.232 578.936 145.232 570.21 Q145.232 561.46 148.288 556.876 Q151.366 552.27 157.177 552.27 Z\" fill=\"#000000\" fill-rule=\"evenodd\" fill-opacity=\"1\" /><path clip-path=\"url(#clip300)\" d=\"M187.338 555.974 Q183.727 555.974 181.899 559.538 Q180.093 563.08 180.093 570.21 Q180.093 577.316 181.899 580.881 Q183.727 584.422 187.338 584.422 Q190.973 584.422 192.778 580.881 Q194.607 577.316 194.607 570.21 Q194.607 563.08 192.778 559.538 Q190.973 555.974 187.338 555.974 M187.338 552.27 Q193.149 552.27 196.204 556.876 Q199.283 561.46 199.283 570.21 Q199.283 578.936 196.204 583.543 Q193.149 588.126 187.338 588.126 Q181.528 588.126 178.45 583.543 Q175.394 578.936 175.394 570.21 Q175.394 561.46 178.45 556.876 Q181.528 552.27 187.338 552.27 Z\" fill=\"#000000\" fill-rule=\"evenodd\" fill-opacity=\"1\" /><path clip-path=\"url(#clip300)\" d=\"M117.061 247.568 L135.417 247.568 L135.417 251.503 L121.343 251.503 L121.343 259.975 Q122.362 259.628 123.38 259.466 Q124.399 259.281 125.418 259.281 Q131.205 259.281 134.584 262.452 Q137.964 265.623 137.964 271.04 Q137.964 276.618 134.492 279.72 Q131.019 282.799 124.7 282.799 Q122.524 282.799 120.255 282.429 Q118.01 282.058 115.603 281.318 L115.603 276.618 Q117.686 277.753 119.908 278.308 Q122.13 278.864 124.607 278.864 Q128.612 278.864 130.95 276.757 Q133.288 274.651 133.288 271.04 Q133.288 267.429 130.95 265.322 Q128.612 263.216 124.607 263.216 Q122.732 263.216 120.857 263.632 Q119.006 264.049 117.061 264.929 L117.061 247.568 Z\" fill=\"#000000\" fill-rule=\"evenodd\" fill-opacity=\"1\" /><path clip-path=\"url(#clip300)\" d=\"M147.223 247.568 L165.579 247.568 L165.579 251.503 L151.505 251.503 L151.505 259.975 Q152.524 259.628 153.542 259.466 Q154.561 259.281 155.579 259.281 Q161.366 259.281 164.746 262.452 Q168.126 265.623 168.126 271.04 Q168.126 276.618 164.653 279.72 Q161.181 282.799 154.862 282.799 Q152.686 282.799 150.417 282.429 Q148.172 282.058 145.765 281.318 L145.765 276.618 Q147.848 277.753 150.07 278.308 Q152.292 278.864 154.769 278.864 Q158.774 278.864 161.112 276.757 Q163.45 274.651 163.45 271.04 Q163.45 267.429 161.112 265.322 Q158.774 263.216 154.769 263.216 Q152.894 263.216 151.019 263.632 Q149.167 264.049 147.223 264.929 L147.223 247.568 Z\" fill=\"#000000\" fill-rule=\"evenodd\" fill-opacity=\"1\" /><path clip-path=\"url(#clip300)\" d=\"M187.338 250.646 Q183.727 250.646 181.899 254.211 Q180.093 257.753 180.093 264.882 Q180.093 271.989 181.899 275.554 Q183.727 279.095 187.338 279.095 Q190.973 279.095 192.778 275.554 Q194.607 271.989 194.607 264.882 Q194.607 257.753 192.778 254.211 Q190.973 250.646 187.338 250.646 M187.338 246.943 Q193.149 246.943 196.204 251.549 Q199.283 256.132 199.283 264.882 Q199.283 273.609 196.204 278.216 Q193.149 282.799 187.338 282.799 Q181.528 282.799 178.45 278.216 Q175.394 273.609 175.394 264.882 Q175.394 256.132 178.45 251.549 Q181.528 246.943 187.338 246.943 Z\" fill=\"#000000\" fill-rule=\"evenodd\" fill-opacity=\"1\" /><path clip-path=\"url(#clip300)\" d=\"M58.657 1111.43 L77.5631 1111.43 L77.5631 1117.31 L28.3562 1117.31 L28.3562 1111.43 L33.7671 1111.43 Q30.5842 1109.58 29.0564 1106.78 Q27.4968 1103.95 27.4968 1100.03 Q27.4968 1093.54 32.6531 1089.5 Q37.8093 1085.42 46.212 1085.42 Q54.6147 1085.42 59.771 1089.5 Q64.9272 1093.54 64.9272 1100.03 Q64.9272 1103.95 63.3994 1106.78 Q61.8398 1109.58 58.657 1111.43 M46.212 1091.5 Q39.7508 1091.5 36.0905 1094.17 Q32.3984 1096.82 32.3984 1101.46 Q32.3984 1106.11 36.0905 1108.78 Q39.7508 1111.43 46.212 1111.43 Q52.6732 1111.43 56.3653 1108.78 Q60.0256 1106.11 60.0256 1101.46 Q60.0256 1096.82 56.3653 1094.17 Q52.6732 1091.5 46.212 1091.5 Z\" fill=\"#000000\" fill-rule=\"evenodd\" fill-opacity=\"1\" /><path clip-path=\"url(#clip300)\" d=\"M46.0847 1059.51 Q46.0847 1066.61 47.7079 1069.35 Q49.3312 1072.09 53.2461 1072.09 Q56.3653 1072.09 58.2114 1070.05 Q60.0256 1067.98 60.0256 1064.45 Q60.0256 1059.58 56.5881 1056.65 Q53.1188 1053.69 47.3897 1053.69 L46.0847 1053.69 L46.0847 1059.51 M43.6657 1047.83 L64.0042 1047.83 L64.0042 1053.69 L58.5933 1053.69 Q61.8398 1055.69 63.3994 1058.69 Q64.9272 1061.68 64.9272 1066.01 Q64.9272 1071.48 61.8716 1074.73 Q58.7843 1077.94 53.6281 1077.94 Q47.6125 1077.94 44.5569 1073.93 Q41.5014 1069.89 41.5014 1061.9 L41.5014 1053.69 L40.9285 1053.69 Q36.8862 1053.69 34.6901 1056.36 Q32.4621 1059 32.4621 1063.81 Q32.4621 1066.87 33.1941 1069.76 Q33.9262 1072.66 35.3903 1075.33 L29.9795 1075.33 Q28.7381 1072.12 28.1334 1069.09 Q27.4968 1066.07 27.4968 1063.21 Q27.4968 1055.47 31.5072 1051.65 Q35.5176 1047.83 43.6657 1047.83 Z\" fill=\"#000000\" fill-rule=\"evenodd\" fill-opacity=\"1\" /><path clip-path=\"url(#clip300)\" d=\"M29.4065 1013.04 L34.9447 1013.04 Q33.6716 1015.53 33.035 1018.2 Q32.3984 1020.87 32.3984 1023.74 Q32.3984 1028.1 33.7352 1030.29 Q35.072 1032.46 37.7456 1032.46 Q39.7826 1032.46 40.9603 1030.9 Q42.1061 1029.34 43.1565 1024.63 L43.6021 1022.62 Q44.9389 1016.39 47.3897 1013.78 Q49.8086 1011.13 54.1691 1011.13 Q59.1344 1011.13 62.0308 1015.08 Q64.9272 1019 64.9272 1025.87 Q64.9272 1028.73 64.3543 1031.85 Q63.8132 1034.94 62.6992 1038.38 L56.6518 1038.38 Q58.3387 1035.13 59.198 1031.98 Q60.0256 1028.83 60.0256 1025.74 Q60.0256 1021.61 58.6251 1019.38 Q57.1929 1017.15 54.6147 1017.15 Q52.2276 1017.15 50.9545 1018.77 Q49.6813 1020.36 48.5037 1025.81 L48.0262 1027.84 Q46.8804 1033.29 44.5251 1035.71 Q42.138 1038.12 38.0002 1038.12 Q32.9713 1038.12 30.2341 1034.56 Q27.4968 1030.99 27.4968 1024.44 Q27.4968 1021.19 27.9743 1018.33 Q28.4517 1015.46 29.4065 1013.04 Z\" fill=\"#000000\" fill-rule=\"evenodd\" fill-opacity=\"1\" /><path clip-path=\"url(#clip300)\" d=\"M29.4065 979.082 L34.9447 979.082 Q33.6716 981.565 33.035 984.238 Q32.3984 986.912 32.3984 989.777 Q32.3984 994.137 33.7352 996.333 Q35.072 998.498 37.7456 998.498 Q39.7826 998.498 40.9603 996.938 Q42.1061 995.378 43.1565 990.668 L43.6021 988.663 Q44.9389 982.424 47.3897 979.814 Q49.8086 977.172 54.1691 977.172 Q59.1344 977.172 62.0308 981.119 Q64.9272 985.034 64.9272 991.909 Q64.9272 994.774 64.3543 997.893 Q63.8132 1000.98 62.6992 1004.42 L56.6518 1004.42 Q58.3387 1001.17 59.198 998.02 Q60.0256 994.869 60.0256 991.782 Q60.0256 987.644 58.6251 985.416 Q57.1929 983.188 54.6147 983.188 Q52.2276 983.188 50.9545 984.811 Q49.6813 986.403 48.5037 991.845 L48.0262 993.882 Q46.8804 999.325 44.5251 1001.74 Q42.138 1004.16 38.0002 1004.16 Q32.9713 1004.16 30.2341 1000.6 Q27.4968 997.033 27.4968 990.477 Q27.4968 987.23 27.9743 984.366 Q28.4517 981.501 29.4065 979.082 Z\" fill=\"#000000\" fill-rule=\"evenodd\" fill-opacity=\"1\" /><path clip-path=\"url(#clip300)\" d=\"M44.7161 937.355 L47.5806 937.355 L47.5806 964.282 Q53.6281 963.9 56.8109 960.653 Q59.9619 957.375 59.9619 951.551 Q59.9619 948.177 59.1344 945.026 Q58.3069 941.843 56.6518 938.724 L62.1899 938.724 Q63.5267 941.875 64.227 945.185 Q64.9272 948.495 64.9272 951.901 Q64.9272 960.431 59.9619 965.428 Q54.9967 970.393 46.5303 970.393 Q37.7774 970.393 32.6531 965.682 Q27.4968 960.94 27.4968 952.919 Q27.4968 945.726 32.1438 941.556 Q36.7589 937.355 44.7161 937.355 M42.9973 943.211 Q38.1912 943.275 35.3266 945.917 Q32.4621 948.527 32.4621 952.855 Q32.4621 957.757 35.2312 960.717 Q38.0002 963.645 43.0292 964.091 L42.9973 943.211 Z\" fill=\"#000000\" fill-rule=\"evenodd\" fill-opacity=\"1\" /><path clip-path=\"url(#clip300)\" d=\"M42.4881 898.11 L64.0042 898.11 L64.0042 903.967 L42.679 903.967 Q37.6183 903.967 35.1038 905.94 Q32.5894 907.914 32.5894 911.86 Q32.5894 916.603 35.6131 919.34 Q38.6368 922.077 43.8567 922.077 L64.0042 922.077 L64.0042 927.966 L28.3562 927.966 L28.3562 922.077 L33.8944 922.077 Q30.6797 919.977 29.0883 917.144 Q27.4968 914.279 27.4968 910.555 Q27.4968 904.412 31.3163 901.261 Q35.1038 898.11 42.4881 898.11 Z\" fill=\"#000000\" fill-rule=\"evenodd\" fill-opacity=\"1\" /><path clip-path=\"url(#clip300)\" d=\"M45.7664 862.972 Q39.4007 862.972 35.8996 865.613 Q32.3984 868.223 32.3984 872.966 Q32.3984 877.676 35.8996 880.318 Q39.4007 882.928 45.7664 882.928 Q52.1003 882.928 55.6014 880.318 Q59.1026 877.676 59.1026 872.966 Q59.1026 868.223 55.6014 865.613 Q52.1003 862.972 45.7664 862.972 M59.58 857.115 Q68.683 857.115 73.1071 861.157 Q77.5631 865.2 77.5631 873.539 Q77.5631 876.626 77.0857 879.363 Q76.6401 882.101 75.6852 884.679 L69.9879 884.679 Q71.3884 882.101 72.0568 879.586 Q72.7252 877.072 72.7252 874.462 Q72.7252 868.701 69.7015 865.836 Q66.7096 862.972 60.6303 862.972 L57.7339 862.972 Q60.885 864.786 62.4446 867.619 Q64.0042 870.451 64.0042 874.398 Q64.0042 880.955 59.0071 884.965 Q54.01 888.976 45.7664 888.976 Q37.491 888.976 32.4939 884.965 Q27.4968 880.955 27.4968 874.398 Q27.4968 870.451 29.0564 867.619 Q30.616 864.786 33.7671 862.972 L28.3562 862.972 L28.3562 857.115 L59.58 857.115 Z\" fill=\"#000000\" fill-rule=\"evenodd\" fill-opacity=\"1\" /><path clip-path=\"url(#clip300)\" d=\"M44.7161 814.561 L47.5806 814.561 L47.5806 841.487 Q53.6281 841.105 56.8109 837.859 Q59.9619 834.581 59.9619 828.756 Q59.9619 825.382 59.1344 822.231 Q58.3069 819.048 56.6518 815.929 L62.1899 815.929 Q63.5267 819.08 64.227 822.39 Q64.9272 825.7 64.9272 829.106 Q64.9272 837.636 59.9619 842.633 Q54.9967 847.599 46.5303 847.599 Q37.7774 847.599 32.6531 842.888 Q27.4968 838.145 27.4968 830.125 Q27.4968 822.931 32.1438 818.762 Q36.7589 814.561 44.7161 814.561 M42.9973 820.417 Q38.1912 820.481 35.3266 823.122 Q32.4621 825.732 32.4621 830.061 Q32.4621 834.963 35.2312 837.923 Q38.0002 840.851 43.0292 841.296 L42.9973 820.417 Z\" fill=\"#000000\" fill-rule=\"evenodd\" fill-opacity=\"1\" /><path clip-path=\"url(#clip300)\" d=\"M33.8307 784.292 Q33.2578 785.278 33.0032 786.456 Q32.7167 787.602 32.7167 789.002 Q32.7167 793.967 35.9632 796.641 Q39.1779 799.283 45.2253 799.283 L64.0042 799.283 L64.0042 805.171 L28.3562 805.171 L28.3562 799.283 L33.8944 799.283 Q30.6479 797.437 29.0883 794.477 Q27.4968 791.517 27.4968 787.283 Q27.4968 786.679 27.5923 785.947 Q27.656 785.215 27.8151 784.323 L33.8307 784.292 Z\" fill=\"#000000\" fill-rule=\"evenodd\" fill-opacity=\"1\" /><path clip-path=\"url(#clip300)\" d=\"M29.4065 755.423 L34.9447 755.423 Q33.6716 757.906 33.035 760.579 Q32.3984 763.253 32.3984 766.117 Q32.3984 770.478 33.7352 772.674 Q35.072 774.838 37.7456 774.838 Q39.7826 774.838 40.9603 773.279 Q42.1061 771.719 43.1565 767.009 L43.6021 765.003 Q44.9389 758.765 47.3897 756.155 Q49.8086 753.513 54.1691 753.513 Q59.1344 753.513 62.0308 757.46 Q64.9272 761.375 64.9272 768.25 Q64.9272 771.115 64.3543 774.234 Q63.8132 777.321 62.6992 780.759 L56.6518 780.759 Q58.3387 777.512 59.198 774.361 Q60.0256 771.21 60.0256 768.123 Q60.0256 763.985 58.6251 761.757 Q57.1929 759.529 54.6147 759.529 Q52.2276 759.529 50.9545 761.152 Q49.6813 762.744 48.5037 768.186 L48.0262 770.223 Q46.8804 775.666 44.5251 778.085 Q42.138 780.504 38.0002 780.504 Q32.9713 780.504 30.2341 776.939 Q27.4968 773.374 27.4968 766.818 Q27.4968 763.571 27.9743 760.707 Q28.4517 757.842 29.4065 755.423 Z\" fill=\"#000000\" fill-rule=\"evenodd\" fill-opacity=\"1\" /><path clip-path=\"url(#clip300)\" d=\"M14.5426 709.399 Q21.8632 713.664 29.0246 715.733 Q36.186 717.802 43.5384 717.802 Q50.8908 717.802 58.1159 715.733 Q65.3091 713.632 72.5979 709.399 L72.5979 714.492 Q65.1182 719.266 57.8931 721.653 Q50.668 724.008 43.5384 724.008 Q36.4406 724.008 29.2474 721.653 Q22.0542 719.298 14.5426 714.492 L14.5426 709.399 Z\" fill=\"#000000\" fill-rule=\"evenodd\" fill-opacity=\"1\" /><path clip-path=\"url(#clip300)\" d=\"M28.3562 698.036 L28.3562 692.18 L64.0042 692.18 L64.0042 698.036 L28.3562 698.036 M14.479 698.036 L14.479 692.18 L21.895 692.18 L21.895 698.036 L14.479 698.036 Z\" fill=\"#000000\" fill-rule=\"evenodd\" fill-opacity=\"1\" /><path clip-path=\"url(#clip300)\" d=\"M42.4881 650.293 L64.0042 650.293 L64.0042 656.15 L42.679 656.15 Q37.6183 656.15 35.1038 658.123 Q32.5894 660.097 32.5894 664.043 Q32.5894 668.786 35.6131 671.523 Q38.6368 674.26 43.8567 674.26 L64.0042 674.26 L64.0042 680.149 L28.3562 680.149 L28.3562 674.26 L33.8944 674.26 Q30.6797 672.16 29.0883 669.327 Q27.4968 666.462 27.4968 662.738 Q27.4968 656.595 31.3163 653.444 Q35.1038 650.293 42.4881 650.293 Z\" fill=\"#000000\" fill-rule=\"evenodd\" fill-opacity=\"1\" /><path clip-path=\"url(#clip300)\" d=\"M35.1993 590.138 Q31.2526 587.941 29.3747 584.886 Q27.4968 581.83 27.4968 577.693 Q27.4968 572.123 31.4117 569.099 Q35.2948 566.075 42.4881 566.075 L64.0042 566.075 L64.0042 571.963 L42.679 571.963 Q37.5546 571.963 35.072 573.778 Q32.5894 575.592 32.5894 579.316 Q32.5894 583.867 35.6131 586.509 Q38.6368 589.151 43.8567 589.151 L64.0042 589.151 L64.0042 595.039 L42.679 595.039 Q37.5228 595.039 35.072 596.853 Q32.5894 598.668 32.5894 602.455 Q32.5894 606.943 35.6449 609.585 Q38.6686 612.227 43.8567 612.227 L64.0042 612.227 L64.0042 618.115 L28.3562 618.115 L28.3562 612.227 L33.8944 612.227 Q30.616 610.221 29.0564 607.42 Q27.4968 604.619 27.4968 600.768 Q27.4968 596.885 29.4702 594.18 Q31.4436 591.442 35.1993 590.138 Z\" fill=\"#000000\" fill-rule=\"evenodd\" fill-opacity=\"1\" /><path clip-path=\"url(#clip300)\" d=\"M28.3562 554.394 L28.3562 548.538 L64.0042 548.538 L64.0042 554.394 L28.3562 554.394 M14.479 554.394 L14.479 548.538 L21.895 548.538 L21.895 554.394 L14.479 554.394 Z\" fill=\"#000000\" fill-rule=\"evenodd\" fill-opacity=\"1\" /><path clip-path=\"url(#clip300)\" d=\"M14.479 536.284 L14.479 530.427 L64.0042 530.427 L64.0042 536.284 L14.479 536.284 Z\" fill=\"#000000\" fill-rule=\"evenodd\" fill-opacity=\"1\" /><path clip-path=\"url(#clip300)\" d=\"M14.479 518.173 L14.479 512.317 L64.0042 512.317 L64.0042 518.173 L14.479 518.173 Z\" fill=\"#000000\" fill-rule=\"evenodd\" fill-opacity=\"1\" /><path clip-path=\"url(#clip300)\" d=\"M28.3562 500.063 L28.3562 494.206 L64.0042 494.206 L64.0042 500.063 L28.3562 500.063 M14.479 500.063 L14.479 494.206 L21.895 494.206 L21.895 500.063 L14.479 500.063 Z\" fill=\"#000000\" fill-rule=\"evenodd\" fill-opacity=\"1\" /><path clip-path=\"url(#clip300)\" d=\"M32.4621 468.139 Q32.4621 472.849 36.1542 475.587 Q39.8145 478.324 46.212 478.324 Q52.6095 478.324 56.3017 475.618 Q59.9619 472.881 59.9619 468.139 Q59.9619 463.46 56.2698 460.723 Q52.5777 457.985 46.212 457.985 Q39.8781 457.985 36.186 460.723 Q32.4621 463.46 32.4621 468.139 M27.4968 468.139 Q27.4968 460.5 32.4621 456.139 Q37.4273 451.779 46.212 451.779 Q54.9649 451.779 59.9619 456.139 Q64.9272 460.5 64.9272 468.139 Q64.9272 475.809 59.9619 480.17 Q54.9649 484.499 46.212 484.499 Q37.4273 484.499 32.4621 480.17 Q27.4968 475.809 27.4968 468.139 Z\" fill=\"#000000\" fill-rule=\"evenodd\" fill-opacity=\"1\" /><path clip-path=\"url(#clip300)\" d=\"M42.4881 412.439 L64.0042 412.439 L64.0042 418.295 L42.679 418.295 Q37.6183 418.295 35.1038 420.269 Q32.5894 422.242 32.5894 426.189 Q32.5894 430.931 35.6131 433.668 Q38.6368 436.406 43.8567 436.406 L64.0042 436.406 L64.0042 442.294 L28.3562 442.294 L28.3562 436.406 L33.8944 436.406 Q30.6797 434.305 29.0883 431.472 Q27.4968 428.608 27.4968 424.884 Q27.4968 418.741 31.3163 415.59 Q35.1038 412.439 42.4881 412.439 Z\" fill=\"#000000\" fill-rule=\"evenodd\" fill-opacity=\"1\" /><path clip-path=\"url(#clip300)\" d=\"M29.4065 378.032 L34.9447 378.032 Q33.6716 380.515 33.035 383.188 Q32.3984 385.862 32.3984 388.727 Q32.3984 393.087 33.7352 395.283 Q35.072 397.448 37.7456 397.448 Q39.7826 397.448 40.9603 395.888 Q42.1061 394.328 43.1565 389.618 L43.6021 387.613 Q44.9389 381.374 47.3897 378.764 Q49.8086 376.122 54.1691 376.122 Q59.1344 376.122 62.0308 380.069 Q64.9272 383.984 64.9272 390.859 Q64.9272 393.724 64.3543 396.843 Q63.8132 399.93 62.6992 403.368 L56.6518 403.368 Q58.3387 400.121 59.198 396.97 Q60.0256 393.819 60.0256 390.732 Q60.0256 386.594 58.6251 384.366 Q57.1929 382.138 54.6147 382.138 Q52.2276 382.138 50.9545 383.761 Q49.6813 385.353 48.5037 390.795 L48.0262 392.832 Q46.8804 398.275 44.5251 400.694 Q42.138 403.113 38.0002 403.113 Q32.9713 403.113 30.2341 399.548 Q27.4968 395.983 27.4968 389.427 Q27.4968 386.18 27.9743 383.316 Q28.4517 380.451 29.4065 378.032 Z\" fill=\"#000000\" fill-rule=\"evenodd\" fill-opacity=\"1\" /><path clip-path=\"url(#clip300)\" d=\"M14.5426 367.72 L14.5426 362.627 Q22.0542 357.853 29.2474 355.498 Q36.4406 353.11 43.5384 353.11 Q50.668 353.11 57.8931 355.498 Q65.1182 357.853 72.5979 362.627 L72.5979 367.72 Q65.3091 363.487 58.1159 361.418 Q50.8908 359.317 43.5384 359.317 Q36.186 359.317 29.0246 361.418 Q21.8632 363.487 14.5426 367.72 Z\" fill=\"#000000\" fill-rule=\"evenodd\" fill-opacity=\"1\" /><polyline clip-path=\"url(#clip302)\" style=\"stroke:#009af9; stroke-linecap:butt; stroke-linejoin:round; stroke-width:4; stroke-opacity:1; fill:none\" points=\"\n",
       "  295.211,1361.56 400.349,1384.24 505.487,1282.67 610.624,1235.2 715.762,1021.26 820.9,926.145 926.037,766.281 1031.18,680.523 1136.31,619.531 1241.45,500.933 \n",
       "  1346.59,362.815 1451.73,588.435 1556.86,655.492 1662,515.283 1767.14,286.407 1872.28,153.664 1977.41,174.914 2082.55,86.1857 2187.69,234.323 2292.83,409.561 \n",
       "  \n",
       "  \"/>\n",
       "</svg>\n"
      ]
     },
     "execution_count": 25,
     "metadata": {},
     "output_type": "execute_result"
    }
   ],
   "source": [
    "@chain df2 begin\n",
    "    groupby(:year, sort=true)\n",
    "    combine(:Passengers => sum)\n",
    "    plot(_.year, _.Passengers_sum ./ 10^6, legend=nothing,\n",
    "         xlab=\"year\", ylab=\"passengers (in millions)\")\n",
    "end"
   ]
  },
  {
   "cell_type": "markdown",
   "metadata": {},
   "source": [
    "I particular note that `_` notation from Chain.jl package allows you to write any valid code you could use on the passed value. In our case `plot` is passed a `DataFrame`, so we e.g. write `_.year` to get a `:year` column from it."
   ]
  },
  {
   "cell_type": "markdown",
   "metadata": {},
   "source": [
    "In the following example we will want to find pairs of origin-destination states that have the highest occupancy:"
   ]
  },
  {
   "cell_type": "code",
   "execution_count": 26,
   "metadata": {
    "scrolled": true
   },
   "outputs": [
    {
     "data": {
      "text/html": [
       "<div class=\"data-frame\"><p>2,369 rows × 4 columns</p><table class=\"data-frame\"><thead><tr><th></th><th>ost</th><th>dst</th><th>occupied</th><th>Passengers_sum</th></tr><tr><th></th><th title=\"SubString{String31}\">SubStrin…</th><th title=\"SubString{String31}\">SubStrin…</th><th title=\"Float64\">Float64</th><th title=\"Int64\">Int64</th></tr></thead><tbody><tr><th>1</th><td>ID</td><td>MS</td><td>1.0</td><td>181</td></tr><tr><th>2</th><td>ID</td><td>AR</td><td>1.0</td><td>124</td></tr><tr><th>3</th><td>NE</td><td>AK</td><td>1.0</td><td>180</td></tr><tr><th>4</th><td>ND</td><td>RI</td><td>1.0</td><td>50</td></tr><tr><th>5</th><td>MD</td><td>ID</td><td>1.0</td><td>150</td></tr><tr><th>6</th><td>OR</td><td>RI</td><td>0.991935</td><td>123</td></tr><tr><th>7</th><td>WY</td><td>NY</td><td>0.991935</td><td>123</td></tr><tr><th>8</th><td>WV</td><td>NE</td><td>0.984615</td><td>176</td></tr><tr><th>9</th><td>KS</td><td>ID</td><td>0.983871</td><td>122</td></tr><tr><th>10</th><td>AK</td><td>TN</td><td>0.981723</td><td>376</td></tr><tr><th>11</th><td>NM</td><td>KY</td><td>0.979204</td><td>285</td></tr><tr><th>12</th><td>HI</td><td>NE</td><td>0.977472</td><td>1327</td></tr><tr><th>13</th><td>PA</td><td>HI</td><td>0.974296</td><td>699</td></tr><tr><th>14</th><td>SD</td><td>MS</td><td>0.971098</td><td>168</td></tr><tr><th>15</th><td>WV</td><td>NV</td><td>0.970803</td><td>133</td></tr><tr><th>16</th><td>MI</td><td>ID</td><td>0.966667</td><td>145</td></tr><tr><th>17</th><td>MS</td><td>SD</td><td>0.965318</td><td>167</td></tr><tr><th>18</th><td>MD</td><td>HI</td><td>0.963899</td><td>267</td></tr><tr><th>19</th><td>MT</td><td>OK</td><td>0.959677</td><td>164</td></tr><tr><th>20</th><td>OR</td><td>VA</td><td>0.955169</td><td>653</td></tr><tr><th>&vellip;</th><td>&vellip;</td><td>&vellip;</td><td>&vellip;</td><td>&vellip;</td></tr></tbody></table></div>"
      ],
      "text/latex": [
       "\\begin{tabular}{r|cccc}\n",
       "\t& ost & dst & occupied & Passengers\\_sum\\\\\n",
       "\t\\hline\n",
       "\t& SubStrin… & SubStrin… & Float64 & Int64\\\\\n",
       "\t\\hline\n",
       "\t1 & ID & MS & 1.0 & 181 \\\\\n",
       "\t2 & ID & AR & 1.0 & 124 \\\\\n",
       "\t3 & NE & AK & 1.0 & 180 \\\\\n",
       "\t4 & ND & RI & 1.0 & 50 \\\\\n",
       "\t5 & MD & ID & 1.0 & 150 \\\\\n",
       "\t6 & OR & RI & 0.991935 & 123 \\\\\n",
       "\t7 & WY & NY & 0.991935 & 123 \\\\\n",
       "\t8 & WV & NE & 0.984615 & 176 \\\\\n",
       "\t9 & KS & ID & 0.983871 & 122 \\\\\n",
       "\t10 & AK & TN & 0.981723 & 376 \\\\\n",
       "\t11 & NM & KY & 0.979204 & 285 \\\\\n",
       "\t12 & HI & NE & 0.977472 & 1327 \\\\\n",
       "\t13 & PA & HI & 0.974296 & 699 \\\\\n",
       "\t14 & SD & MS & 0.971098 & 168 \\\\\n",
       "\t15 & WV & NV & 0.970803 & 133 \\\\\n",
       "\t16 & MI & ID & 0.966667 & 145 \\\\\n",
       "\t17 & MS & SD & 0.965318 & 167 \\\\\n",
       "\t18 & MD & HI & 0.963899 & 267 \\\\\n",
       "\t19 & MT & OK & 0.959677 & 164 \\\\\n",
       "\t20 & OR & VA & 0.955169 & 653 \\\\\n",
       "\t$\\dots$ & $\\dots$ & $\\dots$ & $\\dots$ & $\\dots$ \\\\\n",
       "\\end{tabular}\n"
      ],
      "text/plain": [
       "\u001b[1m2369×4 DataFrame\u001b[0m\n",
       "\u001b[1m  Row \u001b[0m│\u001b[1m ost       \u001b[0m\u001b[1m dst       \u001b[0m\u001b[1m occupied \u001b[0m\u001b[1m Passengers_sum \u001b[0m\n",
       "\u001b[1m      \u001b[0m│\u001b[90m SubStrin… \u001b[0m\u001b[90m SubStrin… \u001b[0m\u001b[90m Float64  \u001b[0m\u001b[90m Int64          \u001b[0m\n",
       "──────┼────────────────────────────────────────────────\n",
       "    1 │ ID         MS         1.0                  181\n",
       "    2 │ ID         AR         1.0                  124\n",
       "    3 │ NE         AK         1.0                  180\n",
       "    4 │ ND         RI         1.0                   50\n",
       "    5 │ MD         ID         1.0                  150\n",
       "    6 │ OR         RI         0.991935             123\n",
       "  ⋮   │     ⋮          ⋮         ⋮            ⋮\n",
       " 2365 │ DE         AZ         0.0                    0\n",
       " 2366 │ DE         NE         0.0                    0\n",
       " 2367 │ DE         NY         0.0                    0\n",
       " 2368 │ DE         MN         0.0                    0\n",
       " 2369 │ DE         NJ         0.0                    0\n",
       "\u001b[36m                                      2358 rows omitted\u001b[0m"
      ]
     },
     "execution_count": 26,
     "metadata": {},
     "output_type": "execute_result"
    }
   ],
   "source": [
    "df3 = @chain df2 begin\n",
    "    groupby([:ost, :dst])\n",
    "    combine(:occupied => mean∘skipmissing => :occupied, :Passengers => sum)\n",
    "    filter!(:occupied => isfinite, _)\n",
    "    sort!(:occupied, rev=true)\n",
    "end"
   ]
  },
  {
   "cell_type": "markdown",
   "metadata": {},
   "source": [
    "In the above code note two things: we use `filter!` and `sort!` functions to process the data frame returned by `combine` in place (which reduces the number of allocations we make).\n",
    "\n",
    "Additionally note that when we aggregate `:occupied` column in `combine` using `mean∘skipmissing` then for some origin-destination state combinations we get zero observations, which produce `NaN`, so we filter them out using `isfinite` predicate."
   ]
  },
  {
   "cell_type": "markdown",
   "metadata": {},
   "source": [
    "Just to make sure what happens when we apply `mean∘skipmissing` to a vector containing only missing values consider the following simple example:"
   ]
  },
  {
   "cell_type": "code",
   "execution_count": 27,
   "metadata": {},
   "outputs": [
    {
     "data": {
      "text/html": [
       "<div class=\"data-frame\"><p>2 rows × 2 columns</p><table class=\"data-frame\"><thead><tr><th></th><th>g</th><th>v_mean_skipmissing</th></tr><tr><th></th><th title=\"Int64\">Int64</th><th title=\"Float64\">Float64</th></tr></thead><tbody><tr><th>1</th><td>1</td><td>1.5</td></tr><tr><th>2</th><td>2</td><td>NaN</td></tr></tbody></table></div>"
      ],
      "text/latex": [
       "\\begin{tabular}{r|cc}\n",
       "\t& g & v\\_mean\\_skipmissing\\\\\n",
       "\t\\hline\n",
       "\t& Int64 & Float64\\\\\n",
       "\t\\hline\n",
       "\t1 & 1 & 1.5 \\\\\n",
       "\t2 & 2 & NaN \\\\\n",
       "\\end{tabular}\n"
      ],
      "text/plain": [
       "\u001b[1m2×2 DataFrame\u001b[0m\n",
       "\u001b[1m Row \u001b[0m│\u001b[1m g     \u001b[0m\u001b[1m v_mean_skipmissing \u001b[0m\n",
       "\u001b[1m     \u001b[0m│\u001b[90m Int64 \u001b[0m\u001b[90m Float64            \u001b[0m\n",
       "─────┼───────────────────────────\n",
       "   1 │     1                 1.5\n",
       "   2 │     2               NaN"
      ]
     },
     "execution_count": 27,
     "metadata": {},
     "output_type": "execute_result"
    }
   ],
   "source": [
    "@chain DataFrame(g=[1,1,2,2], v=[1,2,missing, missing]) begin\n",
    "    groupby(:g)\n",
    "    combine(:v => mean∘skipmissing)\n",
    "end"
   ]
  },
  {
   "cell_type": "markdown",
   "metadata": {},
   "source": [
    "As a final example let us consider the following case. Assume that you want to query `df3` data frame by `:ost` and `:dst` columns very often.\n",
    "\n",
    "The simplest way to do it is to use `subset` as we have already discussed:"
   ]
  },
  {
   "cell_type": "code",
   "execution_count": 28,
   "metadata": {},
   "outputs": [
    {
     "data": {
      "text/html": [
       "<div class=\"data-frame\"><p>1 rows × 4 columns</p><table class=\"data-frame\"><thead><tr><th></th><th>ost</th><th>dst</th><th>occupied</th><th>Passengers_sum</th></tr><tr><th></th><th title=\"SubString{String31}\">SubStrin…</th><th title=\"SubString{String31}\">SubStrin…</th><th title=\"Float64\">Float64</th><th title=\"Int64\">Int64</th></tr></thead><tbody><tr><th>1</th><td>NE</td><td>AK</td><td>1.0</td><td>180</td></tr></tbody></table></div>"
      ],
      "text/latex": [
       "\\begin{tabular}{r|cccc}\n",
       "\t& ost & dst & occupied & Passengers\\_sum\\\\\n",
       "\t\\hline\n",
       "\t& SubStrin… & SubStrin… & Float64 & Int64\\\\\n",
       "\t\\hline\n",
       "\t1 & NE & AK & 1.0 & 180 \\\\\n",
       "\\end{tabular}\n"
      ],
      "text/plain": [
       "\u001b[1m1×4 DataFrame\u001b[0m\n",
       "\u001b[1m Row \u001b[0m│\u001b[1m ost       \u001b[0m\u001b[1m dst       \u001b[0m\u001b[1m occupied \u001b[0m\u001b[1m Passengers_sum \u001b[0m\n",
       "\u001b[1m     \u001b[0m│\u001b[90m SubStrin… \u001b[0m\u001b[90m SubStrin… \u001b[0m\u001b[90m Float64  \u001b[0m\u001b[90m Int64          \u001b[0m\n",
       "─────┼────────────────────────────────────────────────\n",
       "   1 │ NE         AK              1.0             180"
      ]
     },
     "execution_count": 28,
     "metadata": {},
     "output_type": "execute_result"
    }
   ],
   "source": [
    "subset(df3, :ost => ByRow(==(\"NE\")), :dst => ByRow(==(\"AK\")))"
   ]
  },
  {
   "cell_type": "markdown",
   "metadata": {},
   "source": [
    "Now let us use a bit different technique. We `groupby` the `df3` data frame first:"
   ]
  },
  {
   "cell_type": "code",
   "execution_count": 29,
   "metadata": {},
   "outputs": [
    {
     "data": {
      "text/html": [
       "<p><b>GroupedDataFrame with 2369 groups based on keys: ost, dst</b></p><p><i>First Group (1 row): ost = &quot;KS&quot;, dst = &quot;IA&quot;</i></p><div class=\"data-frame\"><table class=\"data-frame\"><thead><tr><th></th><th>ost</th><th>dst</th><th>occupied</th><th>Passengers_sum</th></tr><tr><th></th><th title=\"SubString{String31}\">SubStrin…</th><th title=\"SubString{String31}\">SubStrin…</th><th title=\"Float64\">Float64</th><th title=\"Int64\">Int64</th></tr></thead><tbody><tr><th>1</th><td>KS</td><td>IA</td><td>0.611298</td><td>3853</td></tr></tbody></table></div><p>&vellip;</p><p><i>Last Group (1 row): ost = &quot;DE&quot;, dst = &quot;DC&quot;</i></p><div class=\"data-frame\"><table class=\"data-frame\"><thead><tr><th></th><th>ost</th><th>dst</th><th>occupied</th><th>Passengers_sum</th></tr><tr><th></th><th title=\"SubString{String31}\">SubStrin…</th><th title=\"SubString{String31}\">SubStrin…</th><th title=\"Float64\">Float64</th><th title=\"Int64\">Int64</th></tr></thead><tbody><tr><th>1</th><td>DE</td><td>DC</td><td>0.233025</td><td>53</td></tr></tbody></table></div>"
      ],
      "text/latex": [
       "GroupedDataFrame with 2369 groups based on keys: ost, dst\n",
       "\n",
       "First Group (1 row): ost = \"KS\", dst = \"IA\"\n",
       "\n",
       "\\begin{tabular}{r|cccc}\n",
       "\t& ost & dst & occupied & Passengers\\_sum\\\\\n",
       "\t\\hline\n",
       "\t& SubStrin… & SubStrin… & Float64 & Int64\\\\\n",
       "\t\\hline\n",
       "\t1 & KS & IA & 0.611298 & 3853 \\\\\n",
       "\\end{tabular}\n",
       "\n",
       "$\\dots$\n",
       "\n",
       "Last Group (1 row): ost = \"DE\", dst = \"DC\"\n",
       "\n",
       "\\begin{tabular}{r|cccc}\n",
       "\t& ost & dst & occupied & Passengers\\_sum\\\\\n",
       "\t\\hline\n",
       "\t& SubStrin… & SubStrin… & Float64 & Int64\\\\\n",
       "\t\\hline\n",
       "\t1 & DE & DC & 0.233025 & 53 \\\\\n",
       "\\end{tabular}\n"
      ],
      "text/plain": [
       "GroupedDataFrame with 2369 groups based on keys: ost, dst\n",
       "First Group (1 row): ost = \"KS\", dst = \"IA\"\n",
       "\u001b[1m Row \u001b[0m│\u001b[1m ost       \u001b[0m\u001b[1m dst       \u001b[0m\u001b[1m occupied \u001b[0m\u001b[1m Passengers_sum \u001b[0m\n",
       "\u001b[1m     \u001b[0m│\u001b[90m SubStrin… \u001b[0m\u001b[90m SubStrin… \u001b[0m\u001b[90m Float64  \u001b[0m\u001b[90m Int64          \u001b[0m\n",
       "─────┼────────────────────────────────────────────────\n",
       "   1 │ KS         IA         0.611298            3853\n",
       "⋮\n",
       "Last Group (1 row): ost = \"DE\", dst = \"DC\"\n",
       "\u001b[1m Row \u001b[0m│\u001b[1m ost       \u001b[0m\u001b[1m dst       \u001b[0m\u001b[1m occupied \u001b[0m\u001b[1m Passengers_sum \u001b[0m\n",
       "\u001b[1m     \u001b[0m│\u001b[90m SubStrin… \u001b[0m\u001b[90m SubStrin… \u001b[0m\u001b[90m Float64  \u001b[0m\u001b[90m Int64          \u001b[0m\n",
       "─────┼────────────────────────────────────────────────\n",
       "   1 │ DE         DC         0.233025              53"
      ]
     },
     "execution_count": 29,
     "metadata": {},
     "output_type": "execute_result"
    }
   ],
   "source": [
    "gdf3 = groupby(df3, [:ost, :dst])"
   ]
  },
  {
   "cell_type": "markdown",
   "metadata": {},
   "source": [
    "Now we can easiliy query it by group values (here we show such indexing by `Tuple` or `NamedTuple`):"
   ]
  },
  {
   "cell_type": "code",
   "execution_count": 30,
   "metadata": {},
   "outputs": [
    {
     "data": {
      "text/html": [
       "<div class=\"data-frame\"><p>1 rows × 4 columns</p><table class=\"data-frame\"><thead><tr><th></th><th>ost</th><th>dst</th><th>occupied</th><th>Passengers_sum</th></tr><tr><th></th><th title=\"SubString{String31}\">SubStrin…</th><th title=\"SubString{String31}\">SubStrin…</th><th title=\"Float64\">Float64</th><th title=\"Int64\">Int64</th></tr></thead><tbody><tr><th>1</th><td>NE</td><td>AK</td><td>1.0</td><td>180</td></tr></tbody></table></div>"
      ],
      "text/latex": [
       "\\begin{tabular}{r|cccc}\n",
       "\t& ost & dst & occupied & Passengers\\_sum\\\\\n",
       "\t\\hline\n",
       "\t& SubStrin… & SubStrin… & Float64 & Int64\\\\\n",
       "\t\\hline\n",
       "\t1 & NE & AK & 1.0 & 180 \\\\\n",
       "\\end{tabular}\n"
      ],
      "text/plain": [
       "\u001b[1m1×4 SubDataFrame\u001b[0m\n",
       "\u001b[1m Row \u001b[0m│\u001b[1m ost       \u001b[0m\u001b[1m dst       \u001b[0m\u001b[1m occupied \u001b[0m\u001b[1m Passengers_sum \u001b[0m\n",
       "\u001b[1m     \u001b[0m│\u001b[90m SubStrin… \u001b[0m\u001b[90m SubStrin… \u001b[0m\u001b[90m Float64  \u001b[0m\u001b[90m Int64          \u001b[0m\n",
       "─────┼────────────────────────────────────────────────\n",
       "   1 │ NE         AK              1.0             180"
      ]
     },
     "execution_count": 30,
     "metadata": {},
     "output_type": "execute_result"
    }
   ],
   "source": [
    "gdf3[(\"NE\", \"AK\")]"
   ]
  },
  {
   "cell_type": "code",
   "execution_count": 31,
   "metadata": {},
   "outputs": [
    {
     "data": {
      "text/html": [
       "<div class=\"data-frame\"><p>1 rows × 4 columns</p><table class=\"data-frame\"><thead><tr><th></th><th>ost</th><th>dst</th><th>occupied</th><th>Passengers_sum</th></tr><tr><th></th><th title=\"SubString{String31}\">SubStrin…</th><th title=\"SubString{String31}\">SubStrin…</th><th title=\"Float64\">Float64</th><th title=\"Int64\">Int64</th></tr></thead><tbody><tr><th>1</th><td>NE</td><td>AK</td><td>1.0</td><td>180</td></tr></tbody></table></div>"
      ],
      "text/latex": [
       "\\begin{tabular}{r|cccc}\n",
       "\t& ost & dst & occupied & Passengers\\_sum\\\\\n",
       "\t\\hline\n",
       "\t& SubStrin… & SubStrin… & Float64 & Int64\\\\\n",
       "\t\\hline\n",
       "\t1 & NE & AK & 1.0 & 180 \\\\\n",
       "\\end{tabular}\n"
      ],
      "text/plain": [
       "\u001b[1m1×4 SubDataFrame\u001b[0m\n",
       "\u001b[1m Row \u001b[0m│\u001b[1m ost       \u001b[0m\u001b[1m dst       \u001b[0m\u001b[1m occupied \u001b[0m\u001b[1m Passengers_sum \u001b[0m\n",
       "\u001b[1m     \u001b[0m│\u001b[90m SubStrin… \u001b[0m\u001b[90m SubStrin… \u001b[0m\u001b[90m Float64  \u001b[0m\u001b[90m Int64          \u001b[0m\n",
       "─────┼────────────────────────────────────────────────\n",
       "   1 │ NE         AK              1.0             180"
      ]
     },
     "execution_count": 31,
     "metadata": {},
     "output_type": "execute_result"
    }
   ],
   "source": [
    "gdf3[(ost=\"NE\", dst=\"AK\")]"
   ]
  },
  {
   "cell_type": "markdown",
   "metadata": {},
   "source": [
    "Note that you can use `keys` on `GroupedDataFrame`:"
   ]
  },
  {
   "cell_type": "code",
   "execution_count": 32,
   "metadata": {},
   "outputs": [
    {
     "data": {
      "text/plain": [
       "2369-element DataFrames.GroupKeys{GroupedDataFrame{DataFrame}}:\n",
       " GroupKey: (ost = \"KS\", dst = \"IA\")\n",
       " GroupKey: (ost = \"KS\", dst = \"OR\")\n",
       " GroupKey: (ost = \"KS\", dst = \"NV\")\n",
       " GroupKey: (ost = \"KS\", dst = \"OK\")\n",
       " GroupKey: (ost = \"KS\", dst = \"PA\")\n",
       " GroupKey: (ost = \"KS\", dst = \"IN\")\n",
       " GroupKey: (ost = \"KS\", dst = \"KS\")\n",
       " GroupKey: (ost = \"KS\", dst = \"OH\")\n",
       " ⋮\n",
       " GroupKey: (ost = \"DE\", dst = \"IL\")\n",
       " GroupKey: (ost = \"DE\", dst = \"NJ\")\n",
       " GroupKey: (ost = \"DE\", dst = \"WI\")\n",
       " GroupKey: (ost = \"DE\", dst = \"NC\")\n",
       " GroupKey: (ost = \"DE\", dst = \"SC\")\n",
       " GroupKey: (ost = \"DE\", dst = \"VA\")\n",
       " GroupKey: (ost = \"DE\", dst = \"DC\")"
      ]
     },
     "execution_count": 32,
     "metadata": {},
     "output_type": "execute_result"
    }
   ],
   "source": [
    "keys(gdf3)"
   ]
  },
  {
   "cell_type": "markdown",
   "metadata": {},
   "source": [
    "In this way we got only the origin-destination state combinations that are actually present in our `GroupedDataFrame`."
   ]
  },
  {
   "cell_type": "markdown",
   "metadata": {},
   "source": [
    "The ability to query a `GroupedDataFrame` by grouping columns fast makes it a very useful way to add an index to a data frame."
   ]
  }
 ],
 "metadata": {
  "@webio": {
   "lastCommId": null,
   "lastKernelId": null
  },
  "kernelspec": {
   "display_name": "Julia 1.7.0",
   "language": "julia",
   "name": "julia-1.7"
  },
  "language_info": {
   "file_extension": ".jl",
   "mimetype": "application/julia",
   "name": "julia",
   "version": "1.7.0"
  }
 },
 "nbformat": 4,
 "nbformat_minor": 4
}
